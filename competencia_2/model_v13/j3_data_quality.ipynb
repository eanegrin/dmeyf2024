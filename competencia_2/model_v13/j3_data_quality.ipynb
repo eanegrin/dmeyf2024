{
 "cells": [
  {
   "cell_type": "code",
   "execution_count": 66,
   "metadata": {},
   "outputs": [],
   "source": [
    "import pandas as pd\n",
    "import polars as pl\n",
    "import numpy as np\n",
    "import seaborn as sns\n",
    "import matplotlib.pyplot as plt\n",
    "from matplotlib.backends.backend_pdf import PdfPages"
   ]
  },
  {
   "cell_type": "code",
   "execution_count": 67,
   "metadata": {},
   "outputs": [
    {
     "name": "stdout",
     "output_type": "stream",
     "text": [
      "Copying file:///home/eanegrin/buckets/b1/datasets/competencia_02_inflacion_adj_ipc.parquet...\n",
      "- [1 files][830.7 MiB/830.7 MiB]                                                \n",
      "Operation completed over 1 objects/830.7 MiB.                                    \n"
     ]
    }
   ],
   "source": [
    "!gsutil cp /home/eanegrin/buckets/b1/datasets/competencia_02_inflacion_adj_ipc.parquet /home/eanegrin/datasets/"
   ]
  },
  {
   "cell_type": "code",
   "execution_count": 68,
   "metadata": {},
   "outputs": [],
   "source": [
    "base_path = 'C:/Eugenio/Maestria/DMEyF/'\n",
    "# base_path = '/home/eanegrin/buckets/b1/'\n",
    "\n",
    "dataset_path = base_path + 'datasets/'\n",
    "dataset_file = 'competencia_02_inflacion_adj_ipc.parquet'\n",
    "\n",
    "data = pd.read_parquet('/home/eanegrin/datasets/' + dataset_file)\n",
    "# data = pd.read_parquet(dataset_path + dataset_file)"
   ]
  },
  {
   "cell_type": "code",
   "execution_count": 69,
   "metadata": {},
   "outputs": [
    {
     "data": {
      "text/plain": [
       "(4735593, 155)"
      ]
     },
     "execution_count": 69,
     "metadata": {},
     "output_type": "execute_result"
    }
   ],
   "source": [
    "data.shape"
   ]
  },
  {
   "cell_type": "code",
   "execution_count": 70,
   "metadata": {},
   "outputs": [],
   "source": [
    "data['foto_mes'] = data['foto_mes'].astype('string')\n",
    "\n",
    "data[['tmobile_app', 'cmobile_app_trx']] = data[['tmobile_app', 'cmobile_app_trx']].astype('float')\n",
    "\n",
    "data.drop(columns = ['clase_ternaria'], inplace = True)"
   ]
  },
  {
   "cell_type": "code",
   "execution_count": 71,
   "metadata": {},
   "outputs": [],
   "source": [
    "nulos = data.groupby('foto_mes').agg(lambda x: x.isna().mean() * 100)\n",
    "\n",
    "nulos = nulos.reset_index()"
   ]
  },
  {
   "cell_type": "code",
   "execution_count": 72,
   "metadata": {},
   "outputs": [],
   "source": [
    "with PdfPages('nulos_charts.pdf') as pdf:\n",
    "\n",
    "    for variable in nulos.columns[2:]: # to skip index and foto_mes\n",
    "        plt.figure(figsize=(10, 5))\n",
    "        plt.plot(nulos['foto_mes'], nulos[variable], marker='o', label=variable)\n",
    "        plt.title(f\"Porcentaje de valores nulos: {variable}\")\n",
    "        plt.xlabel(\"foto_mes\")\n",
    "        plt.ylabel(\"% de valores nulos\")\n",
    "\n",
    "        plt.ylim(bottom=0)\n",
    "        \n",
    "        plt.xticks(rotation=45)\n",
    "        \n",
    "        plt.legend()\n",
    "        plt.grid(True, linestyle='--', alpha=0.5)\n",
    "        plt.tight_layout()\n",
    "        \n",
    "        pdf.savefig()\n",
    "        plt.close() \n"
   ]
  },
  {
   "cell_type": "code",
   "execution_count": 73,
   "metadata": {},
   "outputs": [],
   "source": [
    "zeros = data.groupby('foto_mes').agg(lambda x: (x == 0).mean() * 100)\n",
    "\n",
    "zeros = zeros.reset_index()"
   ]
  },
  {
   "cell_type": "code",
   "execution_count": 74,
   "metadata": {},
   "outputs": [],
   "source": [
    "with PdfPages('zeros_charts.pdf') as pdf:\n",
    "\n",
    "    for variable in zeros.columns[2:]: # to skip index and foto_mes\n",
    "        plt.figure(figsize=(10, 5))\n",
    "        plt.plot(zeros['foto_mes'], zeros[variable], marker='o', label=variable)\n",
    "        plt.title(f\"Porcentaje de valores == 0: {variable}\")\n",
    "        plt.xlabel(\"foto_mes\")\n",
    "        plt.ylabel(\"% de valores == 0\")\n",
    "\n",
    "        plt.ylim(bottom=0)\n",
    "        \n",
    "        plt.xticks(rotation=45)\n",
    "        \n",
    "        plt.legend()\n",
    "        plt.grid(True, linestyle='--', alpha=0.5)\n",
    "        plt.tight_layout()\n",
    "        \n",
    "        pdf.savefig()\n",
    "        plt.close()"
   ]
  },
  {
   "cell_type": "code",
   "execution_count": 75,
   "metadata": {},
   "outputs": [],
   "source": [
    "medias = data.groupby('foto_mes').mean()\n",
    "\n",
    "medias = means.reset_index()"
   ]
  },
  {
   "cell_type": "code",
   "execution_count": 76,
   "metadata": {},
   "outputs": [],
   "source": [
    "with PdfPages('medias_charts.pdf') as pdf:\n",
    "\n",
    "    for variable in medias.columns[2:]: # to skip index and foto_mes\n",
    "        plt.figure(figsize=(10, 5))\n",
    "        plt.plot(medias['foto_mes'], medias[variable], marker='o', label=variable)\n",
    "        plt.title(f\"Promedio: {variable}\")\n",
    "        plt.xlabel(\"foto_mes\")\n",
    "        plt.ylabel(\"Promedio\")\n",
    "\n",
    "        plt.ylim(bottom=0)\n",
    "        \n",
    "        plt.xticks(rotation=45)\n",
    "        \n",
    "        plt.legend()\n",
    "        plt.grid(True, linestyle='--', alpha=0.5)\n",
    "        plt.tight_layout()\n",
    "        \n",
    "        pdf.savefig()\n",
    "        plt.close()"
   ]
  },
  {
   "cell_type": "code",
   "execution_count": null,
   "metadata": {},
   "outputs": [],
   "source": []
  },
  {
   "cell_type": "code",
   "execution_count": null,
   "metadata": {},
   "outputs": [],
   "source": []
  },
  {
   "cell_type": "code",
   "execution_count": null,
   "metadata": {},
   "outputs": [],
   "source": []
  }
 ],
 "metadata": {
  "kernelspec": {
   "display_name": "Python 3 (ipykernel)",
   "language": "python",
   "name": "python3"
  },
  "language_info": {
   "codemirror_mode": {
    "name": "ipython",
    "version": 3
   },
   "file_extension": ".py",
   "mimetype": "text/x-python",
   "name": "python",
   "nbconvert_exporter": "python",
   "pygments_lexer": "ipython3",
   "version": "3.12.3"
  }
 },
 "nbformat": 4,
 "nbformat_minor": 4
}

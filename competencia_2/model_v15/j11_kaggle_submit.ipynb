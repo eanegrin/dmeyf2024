{
 "cells": [
  {
   "cell_type": "code",
   "execution_count": 1,
   "metadata": {},
   "outputs": [],
   "source": [
    "import pandas as pd\n",
    "import numpy as np\n",
    "\n",
    "import os\n",
    "from kaggle.api.kaggle_api_extended import KaggleApi\n",
    "import time"
   ]
  },
  {
   "cell_type": "code",
   "execution_count": 2,
   "metadata": {},
   "outputs": [],
   "source": [
    "version = 'v015' # UPDATE"
   ]
  },
  {
   "cell_type": "code",
   "execution_count": 3,
   "metadata": {},
   "outputs": [],
   "source": [
    "competition = 'dm-ey-f-2024-segunda'\n",
    "files_path = f'C:/Eugenio/Maestria/DMEyF/exp/competencia_2/{version}/'"
   ]
  },
  {
   "cell_type": "code",
   "execution_count": 4,
   "metadata": {},
   "outputs": [
    {
     "data": {
      "text/plain": [
       "array([ 9000,  9040,  9080,  9121,  9161,  9202,  9242,  9282,  9323,\n",
       "        9363,  9404,  9444,  9484,  9525,  9565,  9606,  9646,  9686,\n",
       "        9727,  9767,  9808,  9848,  9888,  9929,  9969, 10010, 10050,\n",
       "       10090, 10131, 10171, 10212, 10252, 10292, 10333, 10373, 10414,\n",
       "       10454, 10494, 10535, 10575, 10616, 10656, 10696, 10737, 10777,\n",
       "       10818, 10858, 10898, 10939, 10979, 11020, 11060, 11101, 11141,\n",
       "       11181, 11222, 11262, 11303, 11343, 11383, 11424, 11464, 11505,\n",
       "       11545, 11585, 11626, 11666, 11707, 11747, 11787, 11828, 11868,\n",
       "       11909, 11949, 11989, 12030, 12070, 12111, 12151, 12191, 12232,\n",
       "       12272, 12313, 12353, 12393, 12434, 12474, 12515, 12555, 12595,\n",
       "       12636, 12676, 12717, 12757, 12797, 12838, 12878, 12919, 12959,\n",
       "       13000])"
      ]
     },
     "execution_count": 4,
     "metadata": {},
     "output_type": "execute_result"
    }
   ],
   "source": [
    "puntos_corte = np.linspace(9000, 13000, 100).astype(int)\n",
    "puntos_corte"
   ]
  },
  {
   "cell_type": "code",
   "execution_count": 5,
   "metadata": {},
   "outputs": [],
   "source": [
    "# diccionario con la semilla y el corte de cada version\n",
    "combinations = {}\n",
    "\n",
    "counter = 1\n",
    "for corte in puntos_corte:\n",
    "    combinations[counter] = {'seed':'semillero 100','corte':int(corte)}\n",
    "    counter += 1\n",
    "\n",
    "# path de cada version        \n",
    "files = [f'{files_path}results_{version}_{i}.csv' for i in range(1,51)]\n",
    "\n",
    "# descripcion de cada edicion\n",
    "descriptions= [\n",
    "    f\"seed = {combinations[i]['seed']}, corte = {combinations[i]['corte']}\"\n",
    "    for i in range(1, len(combinations)+1)\n",
    "]"
   ]
  },
  {
   "cell_type": "code",
   "execution_count": 6,
   "metadata": {},
   "outputs": [],
   "source": [
    "api = KaggleApi()\n",
    "api.authenticate()"
   ]
  },
  {
   "cell_type": "code",
   "execution_count": 7,
   "metadata": {},
   "outputs": [
    {
     "name": "stderr",
     "output_type": "stream",
     "text": [
      "100%|██████████| 2.09M/2.09M [00:01<00:00, 1.38MB/s]\n"
     ]
    },
    {
     "name": "stdout",
     "output_type": "stream",
     "text": [
      "results_v015_1.csv subido con exito, public score:118.768\n"
     ]
    },
    {
     "name": "stderr",
     "output_type": "stream",
     "text": [
      "100%|██████████| 2.09M/2.09M [00:01<00:00, 1.23MB/s]\n"
     ]
    },
    {
     "name": "stdout",
     "output_type": "stream",
     "text": [
      "results_v015_2.csv subido con exito, public score:118.488\n"
     ]
    },
    {
     "name": "stderr",
     "output_type": "stream",
     "text": [
      "100%|██████████| 2.09M/2.09M [00:01<00:00, 1.34MB/s]\n"
     ]
    },
    {
     "name": "stdout",
     "output_type": "stream",
     "text": [
      "results_v015_3.csv subido con exito, public score:118.138\n"
     ]
    },
    {
     "name": "stderr",
     "output_type": "stream",
     "text": [
      "100%|██████████| 2.09M/2.09M [00:01<00:00, 1.37MB/s]\n"
     ]
    },
    {
     "name": "stdout",
     "output_type": "stream",
     "text": [
      "results_v015_4.csv subido con exito, public score:117.858\n"
     ]
    },
    {
     "name": "stderr",
     "output_type": "stream",
     "text": [
      "100%|██████████| 2.09M/2.09M [00:01<00:00, 1.36MB/s]\n"
     ]
    },
    {
     "name": "stdout",
     "output_type": "stream",
     "text": [
      "results_v015_5.csv subido con exito, public score:117.578\n"
     ]
    },
    {
     "name": "stderr",
     "output_type": "stream",
     "text": [
      "100%|██████████| 2.09M/2.09M [00:01<00:00, 1.32MB/s]\n"
     ]
    },
    {
     "name": "stdout",
     "output_type": "stream",
     "text": [
      "results_v015_6.csv subido con exito, public score:117.414\n"
     ]
    },
    {
     "name": "stderr",
     "output_type": "stream",
     "text": [
      "100%|██████████| 2.09M/2.09M [00:01<00:00, 1.32MB/s]\n"
     ]
    },
    {
     "name": "stdout",
     "output_type": "stream",
     "text": [
      "results_v015_7.csv subido con exito, public score:117.251\n"
     ]
    },
    {
     "name": "stderr",
     "output_type": "stream",
     "text": [
      "100%|██████████| 2.09M/2.09M [00:01<00:00, 1.24MB/s]\n"
     ]
    },
    {
     "name": "stdout",
     "output_type": "stream",
     "text": [
      "results_v015_8.csv subido con exito, public score:117.998\n"
     ]
    },
    {
     "name": "stderr",
     "output_type": "stream",
     "text": [
      "100%|██████████| 2.09M/2.09M [00:01<00:00, 1.31MB/s]\n"
     ]
    },
    {
     "name": "stdout",
     "output_type": "stream",
     "text": [
      "results_v015_9.csv subido con exito, public score:118.558\n"
     ]
    },
    {
     "name": "stderr",
     "output_type": "stream",
     "text": [
      "100%|██████████| 2.09M/2.09M [00:01<00:00, 1.30MB/s]\n"
     ]
    },
    {
     "name": "stdout",
     "output_type": "stream",
     "text": [
      "results_v015_10.csv subido con exito, public score:118.348\n"
     ]
    },
    {
     "name": "stderr",
     "output_type": "stream",
     "text": [
      "100%|██████████| 2.09M/2.09M [00:01<00:00, 1.34MB/s]\n"
     ]
    },
    {
     "name": "stdout",
     "output_type": "stream",
     "text": [
      "results_v015_11.csv subido con exito, public score:118.021\n"
     ]
    },
    {
     "name": "stderr",
     "output_type": "stream",
     "text": [
      "100%|██████████| 2.09M/2.09M [00:01<00:00, 1.33MB/s]\n"
     ]
    },
    {
     "name": "stdout",
     "output_type": "stream",
     "text": [
      "results_v015_12.csv subido con exito, public score:118.721\n"
     ]
    },
    {
     "name": "stderr",
     "output_type": "stream",
     "text": [
      "100%|██████████| 2.09M/2.09M [00:01<00:00, 1.36MB/s]\n"
     ]
    },
    {
     "name": "stdout",
     "output_type": "stream",
     "text": [
      "results_v015_13.csv subido con exito, public score:119.304\n"
     ]
    },
    {
     "name": "stderr",
     "output_type": "stream",
     "text": [
      "100%|██████████| 2.09M/2.09M [00:01<00:00, 1.34MB/s]\n"
     ]
    },
    {
     "name": "stdout",
     "output_type": "stream",
     "text": [
      "results_v015_14.csv subido con exito, public score:118.908\n"
     ]
    },
    {
     "name": "stderr",
     "output_type": "stream",
     "text": [
      "100%|██████████| 2.09M/2.09M [00:01<00:00, 1.34MB/s]\n"
     ]
    },
    {
     "name": "stdout",
     "output_type": "stream",
     "text": [
      "results_v015_15.csv subido con exito, public score:118.488\n"
     ]
    },
    {
     "name": "stderr",
     "output_type": "stream",
     "text": [
      "100%|██████████| 2.09M/2.09M [00:01<00:00, 1.34MB/s]\n"
     ]
    },
    {
     "name": "stdout",
     "output_type": "stream",
     "text": [
      "results_v015_16.csv subido con exito, public score:118.068\n"
     ]
    },
    {
     "name": "stderr",
     "output_type": "stream",
     "text": [
      "100%|██████████| 2.09M/2.09M [00:01<00:00, 1.37MB/s]\n"
     ]
    },
    {
     "ename": "KeyboardInterrupt",
     "evalue": "",
     "output_type": "error",
     "traceback": [
      "\u001b[1;31m---------------------------------------------------------------------------\u001b[0m",
      "\u001b[1;31mKeyboardInterrupt\u001b[0m                         Traceback (most recent call last)",
      "Cell \u001b[1;32mIn[7], line 20\u001b[0m\n\u001b[0;32m     17\u001b[0m submitted \u001b[38;5;241m=\u001b[39m \u001b[38;5;28;01mTrue\u001b[39;00m \n\u001b[0;32m     19\u001b[0m \u001b[38;5;66;03m# Esperamos un poco para que kaggle no tire error\u001b[39;00m\n\u001b[1;32m---> 20\u001b[0m \u001b[43mtime\u001b[49m\u001b[38;5;241;43m.\u001b[39;49m\u001b[43msleep\u001b[49m\u001b[43m(\u001b[49m\u001b[38;5;241;43m60\u001b[39;49m\u001b[43m)\u001b[49m\n\u001b[0;32m     22\u001b[0m submissions \u001b[38;5;241m=\u001b[39m api\u001b[38;5;241m.\u001b[39mcompetition_submissions(competition, page_size\u001b[38;5;241m=\u001b[39m\u001b[38;5;241m1\u001b[39m) \u001b[38;5;66;03m# traigo solo la ultima\u001b[39;00m\n\u001b[0;32m     23\u001b[0m ultima \u001b[38;5;241m=\u001b[39m submissions[\u001b[38;5;241m0\u001b[39m]\n",
      "\u001b[1;31mKeyboardInterrupt\u001b[0m: "
     ]
    }
   ],
   "source": [
    "archivos = []\n",
    "scores = []\n",
    "descripciones = []\n",
    "\n",
    "for i in range(len(files)): # UPDATE!\n",
    "\n",
    "    submitted = False\n",
    "    while submitted == False:\n",
    "        try:\n",
    "            api.competition_submit(file_name=files[i],\n",
    "                                   message=descriptions[i],\n",
    "                                   competition=competition)\n",
    "        except Exception as e:\n",
    "            print(f'Error al subir {files[i]}: {e}')\n",
    "            time.sleep(1000)\n",
    "        else:\n",
    "            submitted = True \n",
    "\n",
    "            # Esperamos un poco para que kaggle no tire error\n",
    "            time.sleep(60)\n",
    "\n",
    "            submissions = api.competition_submissions(competition, page_size=1) # traigo solo la ultima\n",
    "            ultima = submissions[0]\n",
    "            \n",
    "            archivo = ultima.fileName\n",
    "            public_score = ultima.publicScore\n",
    "            descripcion = ultima.description\n",
    "            \n",
    "            archivos.append(archivo)\n",
    "            scores.append(public_score)\n",
    "            descripciones.append(descripcion)\n",
    "            \n",
    "            print(f'{archivo} subido con exito, public score:{public_score}')"
   ]
  },
  {
   "cell_type": "code",
   "execution_count": 8,
   "metadata": {},
   "outputs": [],
   "source": [
    "# si falla y precisamos exportar resultados intermedios\n",
    "\n",
    "# resultados = pd.DataFrame({\n",
    "#     'Archivo': archivos,\n",
    "#     'Public score': scores,\n",
    "#     'Description':descripciones\n",
    "# })\n",
    "\n",
    "# resultados.to_excel(f'C:/Users/eaneg/OneDrive/Desktop/scores_{version}.xlsx', index=False)\n",
    "\n",
    "# resultados = pd.read_excel(f'C:/Users/eaneg/OneDrive/Desktop/scores_{version}_2.xlsx')"
   ]
  },
  {
   "cell_type": "code",
   "execution_count": 11,
   "metadata": {},
   "outputs": [],
   "source": [
    "resultados = pd.DataFrame({\n",
    "    'Archivo': archivos,\n",
    "    'Public score': scores,\n",
    "    'Description':descripciones\n",
    "})\n",
    "\n",
    "df = pd.DataFrame({\n",
    "    'seed': np.repeat('semillero', len(puntos_corte)),\n",
    "    'corte': np.tile(puntos_corte, 1)\n",
    "})\n",
    "\n",
    "resultados = pd.concat([resultados, df], axis=1)"
   ]
  },
  {
   "cell_type": "code",
   "execution_count": 12,
   "metadata": {},
   "outputs": [],
   "source": [
    "resultados.to_excel(f'{files_path}scores_{version}.xlsx', index=False)"
   ]
  },
  {
   "cell_type": "code",
   "execution_count": null,
   "metadata": {},
   "outputs": [],
   "source": []
  }
 ],
 "metadata": {
  "kernelspec": {
   "display_name": "Python 3",
   "language": "python",
   "name": "python3"
  },
  "language_info": {
   "codemirror_mode": {
    "name": "ipython",
    "version": 3
   },
   "file_extension": ".py",
   "mimetype": "text/x-python",
   "name": "python",
   "nbconvert_exporter": "python",
   "pygments_lexer": "ipython3",
   "version": "3.12.5"
  }
 },
 "nbformat": 4,
 "nbformat_minor": 2
}

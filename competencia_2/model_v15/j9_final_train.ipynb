{
 "cells": [
  {
   "cell_type": "code",
   "execution_count": 1,
   "metadata": {},
   "outputs": [],
   "source": [
    "import pandas as pd\n",
    "import polars as pl\n",
    "import numpy as np\n",
    "import matplotlib.pyplot as plt\n",
    "\n",
    "import optuna\n",
    "import lightgbm as lgb\n",
    "\n",
    "import pickle"
   ]
  },
  {
   "cell_type": "code",
   "execution_count": 2,
   "metadata": {},
   "outputs": [],
   "source": [
    "# !gsutil cp /home/eanegrin/buckets/b1/datasets/competencia_02_fe_v01.parquet /home/eanegrin/datasets/"
   ]
  },
  {
   "cell_type": "code",
   "execution_count": 2,
   "metadata": {},
   "outputs": [],
   "source": [
    "# base_path = '/content/drive/MyDrive/DMEyF/2024/'\n",
    "base_path = 'C:/Eugenio/Maestria/DMEyF/'\n",
    "# base_path = '/home/eanegrin/buckets/b1/'\n",
    "\n",
    "dataset_path = base_path + 'datasets/'\n",
    "modelos_path = base_path + 'modelos/'\n",
    "db_path = base_path + 'db/'\n",
    "dataset_file = 'competencia_02_fe_v02_undersampled_10_24M_altbinaria.parquet'\n",
    "\n",
    "ganancia_acierto = 273000\n",
    "costo_estimulo = 7000\n",
    "\n",
    "# data = pd.read_parquet('/home/eanegrin/datasets/' + dataset_file)\n",
    "data = pd.read_parquet(dataset_path + dataset_file)"
   ]
  },
  {
   "cell_type": "code",
   "execution_count": 3,
   "metadata": {},
   "outputs": [],
   "source": [
    "semillas = [1149, 4836, 9443, 7483, 3492, 6287,  830, 3294, 5932,  815, 7070,\n",
    "       1529, 3454, 6073, 7831, 1069, 3632,  953,  368, 3999, 9981,  906,\n",
    "       6792, 1439, 8439, 9240, 8162,   32, 5785, 1013, 2747, 2702, 4807,\n",
    "       831, 3985, 4003, 4758, 7955, 3976, 5436, 8634, 2511, 8627, 6888,\n",
    "       4179, 1565, 9181, 6389, 5879, 1216, 8749, 8996,   99, 1481, 4120,\n",
    "       8561, 7008, 5624,  271, 5204, 9169, 2537, 4070, 5458, 7383,  137,\n",
    "       8414, 6327, 3119, 5659, 2907, 9390, 7055, 9770, 9614, 6769,  694,\n",
    "       7854, 9925, 7895, 5259, 9598, 6352, 7884, 5592, 7017, 7374, 2208,\n",
    "       7364, 1995, 7264, 2520, 3922, 7704, 2333, 1601, 2534, 6556, 9072,\n",
    "       3046]"
   ]
  },
  {
   "cell_type": "code",
   "execution_count": 4,
   "metadata": {},
   "outputs": [
    {
     "data": {
      "text/plain": [
       "(393861, 964)"
      ]
     },
     "execution_count": 4,
     "metadata": {},
     "output_type": "execute_result"
    }
   ],
   "source": [
    "meses_train = [201906, 201907, 201908, 201909, 201910, 201911, 201912,\n",
    "               202001, 202002, 202003, 202004, 202005, 202006,\n",
    "               202007, 202008, 202009, 202010, 202011, 202012,\n",
    "               202101, 202102, 202103, 202104, 202105, 202106]  # entreno con todos los meses\n",
    "\n",
    "data = data[data['foto_mes'].isin(meses_train)]\n",
    "data.shape"
   ]
  },
  {
   "cell_type": "code",
   "execution_count": 5,
   "metadata": {},
   "outputs": [],
   "source": [
    "# Asignamos pesos a las clases\n",
    "\n",
    "data['clase_peso'] = 1.0\n",
    "\n",
    "data.loc[data['clase_ternaria'] == 'BAJA+2', 'clase_peso'] = 1.00002\n",
    "data.loc[data['clase_ternaria'] == 'BAJA+1', 'clase_peso'] = 1.00001"
   ]
  },
  {
   "cell_type": "code",
   "execution_count": 6,
   "metadata": {},
   "outputs": [],
   "source": [
    "data['clase_binaria'] = 0\n",
    "data['clase_binaria'] = np.where(data['clase_ternaria'] == 'BAJA+2', 1, 0)"
   ]
  },
  {
   "cell_type": "code",
   "execution_count": 7,
   "metadata": {},
   "outputs": [],
   "source": [
    "X_train = data.drop(['clase_ternaria', 'clase_peso', 'clase_binaria'], axis=1)\n",
    "y_train_binaria = data['clase_binaria'] # Junta a los 2 baja\n",
    "w_train = data['clase_peso']"
   ]
  },
  {
   "cell_type": "code",
   "execution_count": 8,
   "metadata": {},
   "outputs": [],
   "source": [
    "def lgb_gan_eval(y_pred, data):\n",
    "    weight = data.get_weight()\n",
    "    ganancia = np.where(weight == 1.00002, ganancia_acierto, 0) - np.where(weight < 1.00002, costo_estimulo, 0)\n",
    "    ganancia = ganancia[np.argsort(y_pred)[::-1]]\n",
    "    ganancia = np.cumsum(ganancia)\n",
    "\n",
    "    return 'gan_eval', np.max(ganancia) , True"
   ]
  },
  {
   "cell_type": "markdown",
   "metadata": {},
   "source": [
    "# Entrenamiento"
   ]
  },
  {
   "cell_type": "markdown",
   "metadata": {},
   "source": [
    "Cargamos el study de optuna que optimizamos en el script anterior"
   ]
  },
  {
   "cell_type": "code",
   "execution_count": 9,
   "metadata": {},
   "outputs": [
    {
     "name": "stderr",
     "output_type": "stream",
     "text": [
      "[I 2024-11-23 07:46:11,904] Using an existing study with name 'competencia2_lgbm_v15' instead of creating a new one.\n"
     ]
    }
   ],
   "source": [
    "storage_name = \"sqlite:///\" + db_path + \"optimization_lgbm.db\"\n",
    "study_name = \"competencia2_lgbm_v15\" # UPDATE\n",
    "\n",
    "study = optuna.create_study(\n",
    "    direction=\"maximize\",\n",
    "    study_name=study_name,\n",
    "    storage=storage_name,\n",
    "    load_if_exists=True,\n",
    ")"
   ]
  },
  {
   "cell_type": "code",
   "execution_count": 10,
   "metadata": {},
   "outputs": [
    {
     "data": {
      "text/plain": [
       "(100, 12)"
      ]
     },
     "execution_count": 10,
     "metadata": {},
     "output_type": "execute_result"
    }
   ],
   "source": [
    "resultados = study.trials_dataframe()\n",
    "resultados.shape"
   ]
  },
  {
   "cell_type": "code",
   "execution_count": 11,
   "metadata": {},
   "outputs": [
    {
     "data": {
      "text/plain": [
       "{'num_leaves': 71,\n",
       " 'learning_rate': 0.020985267305321752,\n",
       " 'min_data_in_leaf': 1116,\n",
       " 'feature_fraction': 0.25030963234641773,\n",
       " 'bagging_fraction': 0.5181205454680142}"
      ]
     },
     "execution_count": 11,
     "metadata": {},
     "output_type": "execute_result"
    }
   ],
   "source": [
    "study.best_trial.params"
   ]
  },
  {
   "cell_type": "markdown",
   "metadata": {},
   "source": [
    "Y finalmente tomamos el mejor modelo y lo entrenamos con la totalidad de los datos.\n",
    "\n",
    "Generamos 100 modelos, uno para cada semilla."
   ]
  },
  {
   "cell_type": "code",
   "execution_count": 12,
   "metadata": {},
   "outputs": [
    {
     "name": "stdout",
     "output_type": "stream",
     "text": [
      "Mejor cantidad de árboles para el mejor modelo 659\n",
      "Modelo generado con semilla 1149: DONE\n",
      "Modelo generado con semilla 4836: DONE\n",
      "Modelo generado con semilla 9443: DONE\n",
      "Modelo generado con semilla 7483: DONE\n",
      "Modelo generado con semilla 3492: DONE\n",
      "Modelo generado con semilla 6287: DONE\n",
      "Modelo generado con semilla 830: DONE\n",
      "Modelo generado con semilla 3294: DONE\n",
      "Modelo generado con semilla 5932: DONE\n",
      "Modelo generado con semilla 815: DONE\n",
      "Modelo generado con semilla 7070: DONE\n",
      "Modelo generado con semilla 1529: DONE\n",
      "Modelo generado con semilla 3454: DONE\n",
      "Modelo generado con semilla 6073: DONE\n",
      "Modelo generado con semilla 7831: DONE\n",
      "Modelo generado con semilla 1069: DONE\n",
      "Modelo generado con semilla 3632: DONE\n",
      "Modelo generado con semilla 953: DONE\n",
      "Modelo generado con semilla 368: DONE\n",
      "Modelo generado con semilla 3999: DONE\n",
      "Modelo generado con semilla 9981: DONE\n",
      "Modelo generado con semilla 906: DONE\n",
      "Modelo generado con semilla 6792: DONE\n",
      "Modelo generado con semilla 1439: DONE\n",
      "Modelo generado con semilla 8439: DONE\n",
      "Modelo generado con semilla 9240: DONE\n",
      "Modelo generado con semilla 8162: DONE\n",
      "Modelo generado con semilla 32: DONE\n",
      "Modelo generado con semilla 5785: DONE\n",
      "Modelo generado con semilla 1013: DONE\n",
      "Modelo generado con semilla 2747: DONE\n",
      "Modelo generado con semilla 2702: DONE\n",
      "Modelo generado con semilla 4807: DONE\n",
      "Modelo generado con semilla 831: DONE\n",
      "Modelo generado con semilla 3985: DONE\n",
      "Modelo generado con semilla 4003: DONE\n",
      "Modelo generado con semilla 4758: DONE\n",
      "Modelo generado con semilla 7955: DONE\n",
      "Modelo generado con semilla 3976: DONE\n",
      "Modelo generado con semilla 5436: DONE\n",
      "Modelo generado con semilla 8634: DONE\n",
      "Modelo generado con semilla 2511: DONE\n",
      "Modelo generado con semilla 8627: DONE\n",
      "Modelo generado con semilla 6888: DONE\n",
      "Modelo generado con semilla 4179: DONE\n",
      "Modelo generado con semilla 1565: DONE\n",
      "Modelo generado con semilla 9181: DONE\n",
      "Modelo generado con semilla 6389: DONE\n",
      "Modelo generado con semilla 5879: DONE\n",
      "Modelo generado con semilla 1216: DONE\n",
      "Modelo generado con semilla 8749: DONE\n",
      "Modelo generado con semilla 8996: DONE\n",
      "Modelo generado con semilla 99: DONE\n",
      "Modelo generado con semilla 1481: DONE\n",
      "Modelo generado con semilla 4120: DONE\n",
      "Modelo generado con semilla 8561: DONE\n",
      "Modelo generado con semilla 7008: DONE\n",
      "Modelo generado con semilla 5624: DONE\n",
      "Modelo generado con semilla 271: DONE\n",
      "Modelo generado con semilla 5204: DONE\n",
      "Modelo generado con semilla 9169: DONE\n",
      "Modelo generado con semilla 2537: DONE\n",
      "Modelo generado con semilla 4070: DONE\n",
      "Modelo generado con semilla 5458: DONE\n",
      "Modelo generado con semilla 7383: DONE\n",
      "Modelo generado con semilla 137: DONE\n",
      "Modelo generado con semilla 8414: DONE\n",
      "Modelo generado con semilla 6327: DONE\n",
      "Modelo generado con semilla 3119: DONE\n",
      "Modelo generado con semilla 5659: DONE\n",
      "Modelo generado con semilla 2907: DONE\n",
      "Modelo generado con semilla 9390: DONE\n",
      "Modelo generado con semilla 7055: DONE\n",
      "Modelo generado con semilla 9770: DONE\n",
      "Modelo generado con semilla 9614: DONE\n",
      "Modelo generado con semilla 6769: DONE\n",
      "Modelo generado con semilla 694: DONE\n",
      "Modelo generado con semilla 7854: DONE\n",
      "Modelo generado con semilla 9925: DONE\n",
      "Modelo generado con semilla 7895: DONE\n",
      "Modelo generado con semilla 5259: DONE\n",
      "Modelo generado con semilla 9598: DONE\n",
      "Modelo generado con semilla 6352: DONE\n",
      "Modelo generado con semilla 7884: DONE\n",
      "Modelo generado con semilla 5592: DONE\n",
      "Modelo generado con semilla 7017: DONE\n",
      "Modelo generado con semilla 7374: DONE\n",
      "Modelo generado con semilla 2208: DONE\n",
      "Modelo generado con semilla 7364: DONE\n",
      "Modelo generado con semilla 1995: DONE\n",
      "Modelo generado con semilla 7264: DONE\n",
      "Modelo generado con semilla 2520: DONE\n",
      "Modelo generado con semilla 3922: DONE\n",
      "Modelo generado con semilla 7704: DONE\n",
      "Modelo generado con semilla 2333: DONE\n",
      "Modelo generado con semilla 1601: DONE\n",
      "Modelo generado con semilla 2534: DONE\n",
      "Modelo generado con semilla 6556: DONE\n",
      "Modelo generado con semilla 9072: DONE\n",
      "Modelo generado con semilla 3046: DONE\n"
     ]
    }
   ],
   "source": [
    "version = 'v015' # UPDATE\n",
    "\n",
    "best_iter = study.best_trial.user_attrs[\"best_iter\"]\n",
    "print(f\"Mejor cantidad de árboles para el mejor modelo {best_iter}\")\n",
    "\n",
    "for semilla in semillas:\n",
    "    \n",
    "    params = {\n",
    "        'objective': 'binary',\n",
    "        'boosting_type': 'gbdt',\n",
    "        'first_metric_only': True,\n",
    "        'boost_from_average': True,\n",
    "        'feature_pre_filter': False,\n",
    "        'max_bin': 31,\n",
    "        'num_leaves': study.best_trial.params['num_leaves'],\n",
    "        'learning_rate': study.best_trial.params['learning_rate'],\n",
    "        'min_data_in_leaf': study.best_trial.params['min_data_in_leaf'],\n",
    "        'feature_fraction': study.best_trial.params['feature_fraction'],\n",
    "        'bagging_fraction': study.best_trial.params['bagging_fraction'],\n",
    "        'seed': semilla,\n",
    "        'verbose': 0\n",
    "    }\n",
    "\n",
    "    train_data = lgb.Dataset(X_train,\n",
    "                            label=y_train_binaria,\n",
    "                            weight=w_train)\n",
    "\n",
    "    model = lgb.train(params,\n",
    "                    train_data,\n",
    "                    num_boost_round=best_iter)\n",
    "    \n",
    "    model.save_model(modelos_path + f'{version}/lgb_competencia2_{version}_s{semilla}_final.txt') # _final para indicar que es la version entrenada con todo el conjunto disponible.\n",
    "    \n",
    "    print(f'Modelo generado con semilla {semilla}: DONE')"
   ]
  },
  {
   "cell_type": "code",
   "execution_count": null,
   "metadata": {},
   "outputs": [],
   "source": []
  }
 ],
 "metadata": {
  "kernelspec": {
   "display_name": "Python 3",
   "language": "python",
   "name": "python3"
  },
  "language_info": {
   "codemirror_mode": {
    "name": "ipython",
    "version": 3
   },
   "file_extension": ".py",
   "mimetype": "text/x-python",
   "name": "python",
   "nbconvert_exporter": "python",
   "pygments_lexer": "ipython3",
   "version": "3.12.5"
  }
 },
 "nbformat": 4,
 "nbformat_minor": 4
}

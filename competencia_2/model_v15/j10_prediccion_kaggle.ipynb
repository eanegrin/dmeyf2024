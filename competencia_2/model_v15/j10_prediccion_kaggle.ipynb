{
 "cells": [
  {
   "cell_type": "code",
   "execution_count": 1,
   "metadata": {},
   "outputs": [],
   "source": [
    "import pandas as pd\n",
    "import polars as pl\n",
    "import numpy as np\n",
    "import lightgbm as lgb\n",
    "import optuna"
   ]
  },
  {
   "cell_type": "code",
   "execution_count": 2,
   "metadata": {},
   "outputs": [],
   "source": [
    "# base_path = '/content/drive/MyDrive/DMEyF/2024/'\n",
    "base_path = 'C:/Eugenio/Maestria/DMEyF/'\n",
    "# base_path = '/home/eanegrin/buckets/b1/'\n",
    "\n",
    "dataset_path = base_path + 'datasets/'\n",
    "modelos_path = base_path + 'modelos/'\n",
    "db_path = base_path + 'db/'\n",
    "dataset_file = 'competencia_02_fe_v02.parquet'\n",
    "\n",
    "ganancia_acierto = 273000\n",
    "costo_estimulo = 7000\n",
    "\n",
    "# agregue sus semillas\n",
    "semillas = [1149, 4836, 9443, 7483, 3492, 6287,  830, 3294, 5932,  815, 7070,\n",
    "       1529, 3454, 6073, 7831, 1069, 3632,  953,  368, 3999, 9981,  906,\n",
    "       6792, 1439, 8439, 9240, 8162,   32, 5785, 1013, 2747, 2702, 4807,\n",
    "       831, 3985, 4003, 4758, 7955, 3976, 5436, 8634, 2511, 8627, 6888,\n",
    "       4179, 1565, 9181, 6389, 5879, 1216, 8749, 8996,   99, 1481, 4120,\n",
    "       8561, 7008, 5624,  271, 5204, 9169, 2537, 4070, 5458, 7383,  137,\n",
    "       8414, 6327, 3119, 5659, 2907, 9390, 7055, 9770, 9614, 6769,  694,\n",
    "       7854, 9925, 7895, 5259, 9598, 6352, 7884, 5592, 7017, 7374, 2208,\n",
    "       7364, 1995, 7264, 2520, 3922, 7704, 2333, 1601, 2534, 6556, 9072,\n",
    "       3046]"
   ]
  },
  {
   "cell_type": "code",
   "execution_count": 3,
   "metadata": {},
   "outputs": [],
   "source": [
    "data = pl.scan_parquet(dataset_path + dataset_file).filter(pl.col(\"foto_mes\") == 202108).collect()"
   ]
  },
  {
   "cell_type": "code",
   "execution_count": 4,
   "metadata": {},
   "outputs": [],
   "source": [
    "# convirto a pandas dataframe\n",
    "data = data.to_pandas()"
   ]
  },
  {
   "cell_type": "code",
   "execution_count": 5,
   "metadata": {},
   "outputs": [],
   "source": [
    "# Asignamos pesos a las clases\n",
    "\n",
    "data['clase_peso'] = 1.0\n",
    "\n",
    "data.loc[data['clase_ternaria'] == 'BAJA+2', 'clase_peso'] = 1.00002\n",
    "data.loc[data['clase_ternaria'] == 'BAJA+1', 'clase_peso'] = 1.00001"
   ]
  },
  {
   "cell_type": "code",
   "execution_count": 6,
   "metadata": {},
   "outputs": [],
   "source": [
    "data['clase_binaria'] = 0\n",
    "data['clase_binaria'] = np.where(data['clase_ternaria'] == 'BAJA+2', 1, 0)"
   ]
  },
  {
   "cell_type": "code",
   "execution_count": 7,
   "metadata": {},
   "outputs": [],
   "source": [
    "X_test = data.drop(['clase_ternaria', 'clase_peso', 'clase_binaria'], axis=1)"
   ]
  },
  {
   "cell_type": "markdown",
   "metadata": {},
   "source": [
    "### Predicciones para Kaggle"
   ]
  },
  {
   "cell_type": "code",
   "execution_count": 8,
   "metadata": {},
   "outputs": [],
   "source": [
    "# Voy a probar 20 puntos de corte para cada semilla (total 100 envios)\n",
    "\n",
    "version = 'v015' # UPADTE\n",
    "\n",
    "modelos = [f'lgb_competencia2_{version}_s{semilla}_final.txt' for semilla in semillas]"
   ]
  },
  {
   "cell_type": "code",
   "execution_count": 9,
   "metadata": {},
   "outputs": [
    {
     "data": {
      "text/plain": [
       "100"
      ]
     },
     "execution_count": 9,
     "metadata": {},
     "output_type": "execute_result"
    }
   ],
   "source": [
    "len(modelos)"
   ]
  },
  {
   "cell_type": "code",
   "execution_count": 10,
   "metadata": {},
   "outputs": [
    {
     "data": {
      "text/plain": [
       "'C:/Eugenio/Maestria/DMEyF/modelos/'"
      ]
     },
     "execution_count": 10,
     "metadata": {},
     "output_type": "execute_result"
    }
   ],
   "source": [
    "modelos_path"
   ]
  },
  {
   "cell_type": "code",
   "execution_count": 10,
   "metadata": {},
   "outputs": [],
   "source": [
    "X_test_with_predictions = data.drop(['clase_ternaria', 'clase_peso', 'clase_binaria'], axis=1).copy()"
   ]
  },
  {
   "cell_type": "code",
   "execution_count": 11,
   "metadata": {},
   "outputs": [
    {
     "name": "stdout",
     "output_type": "stream",
     "text": [
      "Predicciones del modelo: lgb_competencia2_v015_s1149_final.txt DONE\n",
      "Predicciones del modelo: lgb_competencia2_v015_s4836_final.txt DONE\n",
      "Predicciones del modelo: lgb_competencia2_v015_s9443_final.txt DONE\n",
      "Predicciones del modelo: lgb_competencia2_v015_s7483_final.txt DONE\n",
      "Predicciones del modelo: lgb_competencia2_v015_s3492_final.txt DONE\n",
      "Predicciones del modelo: lgb_competencia2_v015_s6287_final.txt DONE\n",
      "Predicciones del modelo: lgb_competencia2_v015_s830_final.txt DONE\n",
      "Predicciones del modelo: lgb_competencia2_v015_s3294_final.txt DONE\n",
      "Predicciones del modelo: lgb_competencia2_v015_s5932_final.txt DONE\n",
      "Predicciones del modelo: lgb_competencia2_v015_s815_final.txt DONE\n",
      "Predicciones del modelo: lgb_competencia2_v015_s7070_final.txt DONE\n",
      "Predicciones del modelo: lgb_competencia2_v015_s1529_final.txt DONE\n",
      "Predicciones del modelo: lgb_competencia2_v015_s3454_final.txt DONE\n",
      "Predicciones del modelo: lgb_competencia2_v015_s6073_final.txt DONE\n",
      "Predicciones del modelo: lgb_competencia2_v015_s7831_final.txt DONE\n",
      "Predicciones del modelo: lgb_competencia2_v015_s1069_final.txt DONE\n",
      "Predicciones del modelo: lgb_competencia2_v015_s3632_final.txt DONE\n",
      "Predicciones del modelo: lgb_competencia2_v015_s953_final.txt DONE\n",
      "Predicciones del modelo: lgb_competencia2_v015_s368_final.txt DONE\n",
      "Predicciones del modelo: lgb_competencia2_v015_s3999_final.txt DONE\n",
      "Predicciones del modelo: lgb_competencia2_v015_s9981_final.txt DONE\n",
      "Predicciones del modelo: lgb_competencia2_v015_s906_final.txt DONE\n",
      "Predicciones del modelo: lgb_competencia2_v015_s6792_final.txt DONE\n",
      "Predicciones del modelo: lgb_competencia2_v015_s1439_final.txt DONE\n",
      "Predicciones del modelo: lgb_competencia2_v015_s8439_final.txt DONE\n",
      "Predicciones del modelo: lgb_competencia2_v015_s9240_final.txt DONE\n",
      "Predicciones del modelo: lgb_competencia2_v015_s8162_final.txt DONE\n",
      "Predicciones del modelo: lgb_competencia2_v015_s32_final.txt DONE\n",
      "Predicciones del modelo: lgb_competencia2_v015_s5785_final.txt DONE\n",
      "Predicciones del modelo: lgb_competencia2_v015_s1013_final.txt DONE\n",
      "Predicciones del modelo: lgb_competencia2_v015_s2747_final.txt DONE\n",
      "Predicciones del modelo: lgb_competencia2_v015_s2702_final.txt DONE\n",
      "Predicciones del modelo: lgb_competencia2_v015_s4807_final.txt DONE\n",
      "Predicciones del modelo: lgb_competencia2_v015_s831_final.txt DONE\n",
      "Predicciones del modelo: lgb_competencia2_v015_s3985_final.txt DONE\n",
      "Predicciones del modelo: lgb_competencia2_v015_s4003_final.txt DONE\n",
      "Predicciones del modelo: lgb_competencia2_v015_s4758_final.txt DONE\n",
      "Predicciones del modelo: lgb_competencia2_v015_s7955_final.txt DONE\n",
      "Predicciones del modelo: lgb_competencia2_v015_s3976_final.txt DONE\n",
      "Predicciones del modelo: lgb_competencia2_v015_s5436_final.txt DONE\n",
      "Predicciones del modelo: lgb_competencia2_v015_s8634_final.txt DONE\n",
      "Predicciones del modelo: lgb_competencia2_v015_s2511_final.txt DONE\n",
      "Predicciones del modelo: lgb_competencia2_v015_s8627_final.txt DONE\n",
      "Predicciones del modelo: lgb_competencia2_v015_s6888_final.txt DONE\n",
      "Predicciones del modelo: lgb_competencia2_v015_s4179_final.txt DONE\n",
      "Predicciones del modelo: lgb_competencia2_v015_s1565_final.txt DONE\n",
      "Predicciones del modelo: lgb_competencia2_v015_s9181_final.txt DONE\n",
      "Predicciones del modelo: lgb_competencia2_v015_s6389_final.txt DONE\n",
      "Predicciones del modelo: lgb_competencia2_v015_s5879_final.txt DONE\n",
      "Predicciones del modelo: lgb_competencia2_v015_s1216_final.txt DONE\n",
      "Predicciones del modelo: lgb_competencia2_v015_s8749_final.txt DONE\n",
      "Predicciones del modelo: lgb_competencia2_v015_s8996_final.txt DONE\n",
      "Predicciones del modelo: lgb_competencia2_v015_s99_final.txt DONE\n",
      "Predicciones del modelo: lgb_competencia2_v015_s1481_final.txt DONE\n",
      "Predicciones del modelo: lgb_competencia2_v015_s4120_final.txt DONE\n",
      "Predicciones del modelo: lgb_competencia2_v015_s8561_final.txt DONE\n",
      "Predicciones del modelo: lgb_competencia2_v015_s7008_final.txt DONE\n",
      "Predicciones del modelo: lgb_competencia2_v015_s5624_final.txt DONE\n",
      "Predicciones del modelo: lgb_competencia2_v015_s271_final.txt DONE\n",
      "Predicciones del modelo: lgb_competencia2_v015_s5204_final.txt DONE\n",
      "Predicciones del modelo: lgb_competencia2_v015_s9169_final.txt DONE\n",
      "Predicciones del modelo: lgb_competencia2_v015_s2537_final.txt DONE\n",
      "Predicciones del modelo: lgb_competencia2_v015_s4070_final.txt DONE\n",
      "Predicciones del modelo: lgb_competencia2_v015_s5458_final.txt DONE\n",
      "Predicciones del modelo: lgb_competencia2_v015_s7383_final.txt DONE\n",
      "Predicciones del modelo: lgb_competencia2_v015_s137_final.txt DONE\n",
      "Predicciones del modelo: lgb_competencia2_v015_s8414_final.txt DONE\n",
      "Predicciones del modelo: lgb_competencia2_v015_s6327_final.txt DONE\n",
      "Predicciones del modelo: lgb_competencia2_v015_s3119_final.txt DONE\n",
      "Predicciones del modelo: lgb_competencia2_v015_s5659_final.txt DONE\n",
      "Predicciones del modelo: lgb_competencia2_v015_s2907_final.txt DONE\n",
      "Predicciones del modelo: lgb_competencia2_v015_s9390_final.txt DONE\n",
      "Predicciones del modelo: lgb_competencia2_v015_s7055_final.txt DONE\n",
      "Predicciones del modelo: lgb_competencia2_v015_s9770_final.txt DONE\n",
      "Predicciones del modelo: lgb_competencia2_v015_s9614_final.txt DONE\n",
      "Predicciones del modelo: lgb_competencia2_v015_s6769_final.txt DONE\n",
      "Predicciones del modelo: lgb_competencia2_v015_s694_final.txt DONE\n",
      "Predicciones del modelo: lgb_competencia2_v015_s7854_final.txt DONE\n",
      "Predicciones del modelo: lgb_competencia2_v015_s9925_final.txt DONE\n",
      "Predicciones del modelo: lgb_competencia2_v015_s7895_final.txt DONE\n",
      "Predicciones del modelo: lgb_competencia2_v015_s5259_final.txt DONE\n",
      "Predicciones del modelo: lgb_competencia2_v015_s9598_final.txt DONE\n",
      "Predicciones del modelo: lgb_competencia2_v015_s6352_final.txt DONE\n",
      "Predicciones del modelo: lgb_competencia2_v015_s7884_final.txt DONE\n",
      "Predicciones del modelo: lgb_competencia2_v015_s5592_final.txt DONE\n",
      "Predicciones del modelo: lgb_competencia2_v015_s7017_final.txt DONE\n",
      "Predicciones del modelo: lgb_competencia2_v015_s7374_final.txt DONE\n",
      "Predicciones del modelo: lgb_competencia2_v015_s2208_final.txt DONE\n",
      "Predicciones del modelo: lgb_competencia2_v015_s7364_final.txt DONE\n",
      "Predicciones del modelo: lgb_competencia2_v015_s1995_final.txt DONE\n",
      "Predicciones del modelo: lgb_competencia2_v015_s7264_final.txt DONE\n",
      "Predicciones del modelo: lgb_competencia2_v015_s2520_final.txt DONE\n",
      "Predicciones del modelo: lgb_competencia2_v015_s3922_final.txt DONE\n",
      "Predicciones del modelo: lgb_competencia2_v015_s7704_final.txt DONE\n",
      "Predicciones del modelo: lgb_competencia2_v015_s2333_final.txt DONE\n",
      "Predicciones del modelo: lgb_competencia2_v015_s1601_final.txt DONE\n",
      "Predicciones del modelo: lgb_competencia2_v015_s2534_final.txt DONE\n",
      "Predicciones del modelo: lgb_competencia2_v015_s6556_final.txt DONE\n"
     ]
    },
    {
     "name": "stderr",
     "output_type": "stream",
     "text": [
      "C:\\Users\\eaneg\\AppData\\Local\\Temp\\ipykernel_2500\\3572328474.py:11: PerformanceWarning: DataFrame is highly fragmented.  This is usually the result of calling `frame.insert` many times, which has poor performance.  Consider joining all columns at once using pd.concat(axis=1) instead. To get a de-fragmented frame, use `newframe = frame.copy()`\n",
      "  X_test_with_predictions[f'pred_lgm_{semillas[counter]}'] = y_pred_lgm\n"
     ]
    },
    {
     "name": "stdout",
     "output_type": "stream",
     "text": [
      "Predicciones del modelo: lgb_competencia2_v015_s9072_final.txt DONE\n",
      "Predicciones del modelo: lgb_competencia2_v015_s3046_final.txt DONE\n"
     ]
    },
    {
     "name": "stderr",
     "output_type": "stream",
     "text": [
      "C:\\Users\\eaneg\\AppData\\Local\\Temp\\ipykernel_2500\\3572328474.py:11: PerformanceWarning: DataFrame is highly fragmented.  This is usually the result of calling `frame.insert` many times, which has poor performance.  Consider joining all columns at once using pd.concat(axis=1) instead. To get a de-fragmented frame, use `newframe = frame.copy()`\n",
      "  X_test_with_predictions[f'pred_lgm_{semillas[counter]}'] = y_pred_lgm\n"
     ]
    }
   ],
   "source": [
    "counter = 0\n",
    "\n",
    "for modelo in modelos:\n",
    "    \n",
    "    # cargamos el modelo\n",
    "    model = lgb.Booster(model_file=f'{modelos_path}{version}/{modelo}')\n",
    "    \n",
    "    # predecimos para agosto\n",
    "    X_test = data.drop(['clase_ternaria', 'clase_peso', 'clase_binaria'], axis=1).copy()\n",
    "    y_pred_lgm = model.predict(X_test)\n",
    "    X_test_with_predictions[f'pred_lgm_{semillas[counter]}'] = y_pred_lgm\n",
    "    \n",
    "    print(f'Predicciones del modelo: {modelo} DONE')\n",
    "    \n",
    "    counter += 1"
   ]
  },
  {
   "cell_type": "code",
   "execution_count": 12,
   "metadata": {},
   "outputs": [],
   "source": [
    "X_test_with_predictions = X_test_with_predictions.copy()"
   ]
  },
  {
   "cell_type": "code",
   "execution_count": 13,
   "metadata": {},
   "outputs": [],
   "source": [
    "X_test_with_predictions['predicted_avg'] = X_test_with_predictions.iloc[:, -100:].mean(axis=1)"
   ]
  },
  {
   "cell_type": "code",
   "execution_count": 14,
   "metadata": {},
   "outputs": [],
   "source": [
    "# ordeno de mayor probabilidad de baja a menor\n",
    "idx = np.argsort(X_test_with_predictions['predicted_avg'])[::-1]\n",
    "X_test_with_predictions.reset_index(drop=True, inplace=True)\n",
    "X_test_with_predictions = X_test_with_predictions.iloc[idx]"
   ]
  },
  {
   "cell_type": "code",
   "execution_count": 20,
   "metadata": {},
   "outputs": [],
   "source": [
    "# aux = X_test_with_predictions.head(100)\n",
    "# aux"
   ]
  },
  {
   "cell_type": "code",
   "execution_count": 15,
   "metadata": {},
   "outputs": [
    {
     "data": {
      "text/plain": [
       "array([ 9000,  9040,  9080,  9121,  9161,  9202,  9242,  9282,  9323,\n",
       "        9363,  9404,  9444,  9484,  9525,  9565,  9606,  9646,  9686,\n",
       "        9727,  9767,  9808,  9848,  9888,  9929,  9969, 10010, 10050,\n",
       "       10090, 10131, 10171, 10212, 10252, 10292, 10333, 10373, 10414,\n",
       "       10454, 10494, 10535, 10575, 10616, 10656, 10696, 10737, 10777,\n",
       "       10818, 10858, 10898, 10939, 10979, 11020, 11060, 11101, 11141,\n",
       "       11181, 11222, 11262, 11303, 11343, 11383, 11424, 11464, 11505,\n",
       "       11545, 11585, 11626, 11666, 11707, 11747, 11787, 11828, 11868,\n",
       "       11909, 11949, 11989, 12030, 12070, 12111, 12151, 12191, 12232,\n",
       "       12272, 12313, 12353, 12393, 12434, 12474, 12515, 12555, 12595,\n",
       "       12636, 12676, 12717, 12757, 12797, 12838, 12878, 12919, 12959,\n",
       "       13000])"
      ]
     },
     "execution_count": 15,
     "metadata": {},
     "output_type": "execute_result"
    }
   ],
   "source": [
    "puntos_corte = np.linspace(9000, 13000, 100).astype(int)\n",
    "puntos_corte"
   ]
  },
  {
   "cell_type": "code",
   "execution_count": 17,
   "metadata": {},
   "outputs": [
    {
     "data": {
      "text/plain": [
       "'v015'"
      ]
     },
     "execution_count": 17,
     "metadata": {},
     "output_type": "execute_result"
    }
   ],
   "source": [
    "version"
   ]
  },
  {
   "cell_type": "code",
   "execution_count": 16,
   "metadata": {},
   "outputs": [
    {
     "name": "stdout",
     "output_type": "stream",
     "text": [
      "1. corte: 9000\n",
      "2. corte: 9040\n",
      "3. corte: 9080\n",
      "4. corte: 9121\n",
      "5. corte: 9161\n",
      "6. corte: 9202\n",
      "7. corte: 9242\n",
      "8. corte: 9282\n",
      "9. corte: 9323\n",
      "10. corte: 9363\n",
      "11. corte: 9404\n",
      "12. corte: 9444\n",
      "13. corte: 9484\n",
      "14. corte: 9525\n",
      "15. corte: 9565\n",
      "16. corte: 9606\n",
      "17. corte: 9646\n",
      "18. corte: 9686\n",
      "19. corte: 9727\n",
      "20. corte: 9767\n",
      "21. corte: 9808\n",
      "22. corte: 9848\n",
      "23. corte: 9888\n",
      "24. corte: 9929\n",
      "25. corte: 9969\n",
      "26. corte: 10010\n",
      "27. corte: 10050\n",
      "28. corte: 10090\n",
      "29. corte: 10131\n",
      "30. corte: 10171\n",
      "31. corte: 10212\n",
      "32. corte: 10252\n",
      "33. corte: 10292\n",
      "34. corte: 10333\n",
      "35. corte: 10373\n",
      "36. corte: 10414\n",
      "37. corte: 10454\n",
      "38. corte: 10494\n",
      "39. corte: 10535\n",
      "40. corte: 10575\n",
      "41. corte: 10616\n",
      "42. corte: 10656\n",
      "43. corte: 10696\n",
      "44. corte: 10737\n",
      "45. corte: 10777\n",
      "46. corte: 10818\n",
      "47. corte: 10858\n",
      "48. corte: 10898\n",
      "49. corte: 10939\n",
      "50. corte: 10979\n",
      "51. corte: 11020\n",
      "52. corte: 11060\n",
      "53. corte: 11101\n",
      "54. corte: 11141\n",
      "55. corte: 11181\n",
      "56. corte: 11222\n",
      "57. corte: 11262\n",
      "58. corte: 11303\n",
      "59. corte: 11343\n",
      "60. corte: 11383\n",
      "61. corte: 11424\n",
      "62. corte: 11464\n",
      "63. corte: 11505\n",
      "64. corte: 11545\n",
      "65. corte: 11585\n",
      "66. corte: 11626\n",
      "67. corte: 11666\n",
      "68. corte: 11707\n",
      "69. corte: 11747\n",
      "70. corte: 11787\n",
      "71. corte: 11828\n",
      "72. corte: 11868\n",
      "73. corte: 11909\n",
      "74. corte: 11949\n",
      "75. corte: 11989\n",
      "76. corte: 12030\n",
      "77. corte: 12070\n",
      "78. corte: 12111\n",
      "79. corte: 12151\n",
      "80. corte: 12191\n",
      "81. corte: 12232\n",
      "82. corte: 12272\n",
      "83. corte: 12313\n",
      "84. corte: 12353\n",
      "85. corte: 12393\n",
      "86. corte: 12434\n",
      "87. corte: 12474\n",
      "88. corte: 12515\n",
      "89. corte: 12555\n",
      "90. corte: 12595\n",
      "91. corte: 12636\n",
      "92. corte: 12676\n",
      "93. corte: 12717\n",
      "94. corte: 12757\n",
      "95. corte: 12797\n",
      "96. corte: 12838\n",
      "97. corte: 12878\n",
      "98. corte: 12919\n",
      "99. corte: 12959\n",
      "100. corte: 13000\n"
     ]
    }
   ],
   "source": [
    "counter = 0\n",
    "\n",
    "for corte in puntos_corte:\n",
    "    \n",
    "    envios = np.zeros(len(X_test_with_predictions), dtype=int)\n",
    "    envios[:corte] = 1\n",
    "    X_test_with_predictions['Predicted'] = envios\n",
    "    \n",
    "    output = X_test_with_predictions[['numero_de_cliente', 'Predicted']]\n",
    "        \n",
    "    counter += 1\n",
    "    \n",
    "    file_name = f'results_{version}_{counter}.csv'\n",
    "    output_path = base_path + f'exp/competencia_2/{version}/' + file_name\n",
    "    \n",
    "    output.to_csv(output_path, index=False)\n",
    "            \n",
    "    print(f'{counter}. corte: {corte}')"
   ]
  },
  {
   "cell_type": "code",
   "execution_count": null,
   "metadata": {},
   "outputs": [],
   "source": []
  }
 ],
 "metadata": {
  "kernelspec": {
   "display_name": "Python 3",
   "language": "python",
   "name": "python3"
  },
  "language_info": {
   "codemirror_mode": {
    "name": "ipython",
    "version": 3
   },
   "file_extension": ".py",
   "mimetype": "text/x-python",
   "name": "python",
   "nbconvert_exporter": "python",
   "pygments_lexer": "ipython3",
   "version": "3.12.5"
  }
 },
 "nbformat": 4,
 "nbformat_minor": 2
}

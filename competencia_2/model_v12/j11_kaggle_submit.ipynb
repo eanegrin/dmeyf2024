{
 "cells": [
  {
   "cell_type": "code",
   "execution_count": 1,
   "metadata": {},
   "outputs": [],
   "source": [
    "import pandas as pd\n",
    "import numpy as np\n",
    "\n",
    "import os\n",
    "from kaggle.api.kaggle_api_extended import KaggleApi\n",
    "import time"
   ]
  },
  {
   "cell_type": "code",
   "execution_count": 2,
   "metadata": {},
   "outputs": [],
   "source": [
    "version = 'v012' # UPDATE"
   ]
  },
  {
   "cell_type": "code",
   "execution_count": 3,
   "metadata": {},
   "outputs": [],
   "source": [
    "competition = 'dm-ey-f-2024-segunda'\n",
    "files_path = f'C:/Eugenio/Maestria/DMEyF/exp/competencia_2/{version}/'"
   ]
  },
  {
   "cell_type": "code",
   "execution_count": 4,
   "metadata": {},
   "outputs": [
    {
     "data": {
      "text/plain": [
       "array([ 9000,  9081,  9163,  9244,  9326,  9408,  9489,  9571,  9653,\n",
       "        9734,  9816,  9897,  9979, 10061, 10142, 10224, 10306, 10387,\n",
       "       10469, 10551, 10632, 10714, 10795, 10877, 10959, 11040, 11122,\n",
       "       11204, 11285, 11367, 11448, 11530, 11612, 11693, 11775, 11857,\n",
       "       11938, 12020, 12102, 12183, 12265, 12346, 12428, 12510, 12591,\n",
       "       12673, 12755, 12836, 12918, 13000])"
      ]
     },
     "execution_count": 4,
     "metadata": {},
     "output_type": "execute_result"
    }
   ],
   "source": [
    "puntos_corte = np.linspace(9000, 13000, 50).astype(int)\n",
    "puntos_corte"
   ]
  },
  {
   "cell_type": "code",
   "execution_count": 5,
   "metadata": {},
   "outputs": [],
   "source": [
    "# diccionario con la semilla y el corte de cada version\n",
    "combinations = {}\n",
    "\n",
    "counter = 1\n",
    "for corte in puntos_corte:\n",
    "    combinations[counter] = {'seed':'semillero 100','corte':int(corte)}\n",
    "    counter += 1\n",
    "\n",
    "# path de cada version        \n",
    "files = [f'{files_path}results_{version}_{i}.csv' for i in range(1,51)]\n",
    "\n",
    "# descripcion de cada edicion\n",
    "descriptions= [\n",
    "    f\"seed = {combinations[i]['seed']}, corte = {combinations[i]['corte']}\"\n",
    "    for i in range(1, len(combinations)+1)\n",
    "]"
   ]
  },
  {
   "cell_type": "code",
   "execution_count": 8,
   "metadata": {},
   "outputs": [],
   "source": [
    "api = KaggleApi()\n",
    "api.authenticate()"
   ]
  },
  {
   "cell_type": "code",
   "execution_count": 9,
   "metadata": {},
   "outputs": [
    {
     "name": "stderr",
     "output_type": "stream",
     "text": [
      "100%|██████████| 2.09M/2.09M [00:01<00:00, 1.36MB/s]\n"
     ]
    },
    {
     "name": "stdout",
     "output_type": "stream",
     "text": [
      "results_v012_1.csv subido con exito, public score:120.868\n"
     ]
    },
    {
     "name": "stderr",
     "output_type": "stream",
     "text": [
      "100%|██████████| 2.09M/2.09M [00:01<00:00, 1.33MB/s]\n"
     ]
    },
    {
     "name": "stdout",
     "output_type": "stream",
     "text": [
      "results_v012_2.csv subido con exito, public score:120.424\n"
     ]
    },
    {
     "name": "stderr",
     "output_type": "stream",
     "text": [
      "100%|██████████| 2.09M/2.09M [00:01<00:00, 1.33MB/s]\n"
     ]
    },
    {
     "name": "stdout",
     "output_type": "stream",
     "text": [
      "results_v012_3.csv subido con exito, public score:119.841\n"
     ]
    },
    {
     "name": "stderr",
     "output_type": "stream",
     "text": [
      "100%|██████████| 2.09M/2.09M [00:01<00:00, 1.33MB/s]\n"
     ]
    },
    {
     "name": "stdout",
     "output_type": "stream",
     "text": [
      "results_v012_4.csv subido con exito, public score:119.304\n"
     ]
    },
    {
     "name": "stderr",
     "output_type": "stream",
     "text": [
      "100%|██████████| 2.09M/2.09M [00:01<00:00, 1.36MB/s]\n"
     ]
    },
    {
     "name": "stdout",
     "output_type": "stream",
     "text": [
      "results_v012_5.csv subido con exito, public score:118.861\n"
     ]
    },
    {
     "name": "stderr",
     "output_type": "stream",
     "text": [
      "100%|██████████| 2.09M/2.09M [00:01<00:00, 1.33MB/s]\n"
     ]
    },
    {
     "name": "stdout",
     "output_type": "stream",
     "text": [
      "results_v012_6.csv subido con exito, public score:119.421\n"
     ]
    },
    {
     "name": "stderr",
     "output_type": "stream",
     "text": [
      "100%|██████████| 2.09M/2.09M [00:01<00:00, 1.26MB/s]\n"
     ]
    },
    {
     "name": "stdout",
     "output_type": "stream",
     "text": [
      "results_v012_7.csv subido con exito, public score:118.978\n"
     ]
    },
    {
     "name": "stderr",
     "output_type": "stream",
     "text": [
      "100%|██████████| 2.09M/2.09M [00:01<00:00, 1.33MB/s]\n"
     ]
    },
    {
     "name": "stdout",
     "output_type": "stream",
     "text": [
      "results_v012_8.csv subido con exito, public score:118.254\n"
     ]
    },
    {
     "name": "stderr",
     "output_type": "stream",
     "text": [
      "100%|██████████| 2.09M/2.09M [00:01<00:00, 1.32MB/s]\n"
     ]
    },
    {
     "name": "stdout",
     "output_type": "stream",
     "text": [
      "results_v012_9.csv subido con exito, public score:119.584\n"
     ]
    },
    {
     "name": "stderr",
     "output_type": "stream",
     "text": [
      "100%|██████████| 2.09M/2.09M [00:01<00:00, 1.33MB/s]\n"
     ]
    },
    {
     "name": "stdout",
     "output_type": "stream",
     "text": [
      "results_v012_10.csv subido con exito, public score:121.754\n"
     ]
    },
    {
     "name": "stderr",
     "output_type": "stream",
     "text": [
      "100%|██████████| 2.09M/2.09M [00:01<00:00, 1.36MB/s]\n"
     ]
    },
    {
     "name": "stdout",
     "output_type": "stream",
     "text": [
      "results_v012_11.csv subido con exito, public score:122.244\n"
     ]
    },
    {
     "name": "stderr",
     "output_type": "stream",
     "text": [
      "100%|██████████| 2.09M/2.09M [00:01<00:00, 1.39MB/s]\n"
     ]
    },
    {
     "name": "stdout",
     "output_type": "stream",
     "text": [
      "results_v012_12.csv subido con exito, public score:121.591\n"
     ]
    },
    {
     "name": "stderr",
     "output_type": "stream",
     "text": [
      "100%|██████████| 2.09M/2.09M [00:01<00:00, 1.32MB/s]\n"
     ]
    },
    {
     "name": "stdout",
     "output_type": "stream",
     "text": [
      "results_v012_13.csv subido con exito, public score:121.894\n"
     ]
    },
    {
     "name": "stderr",
     "output_type": "stream",
     "text": [
      "100%|██████████| 2.09M/2.09M [00:01<00:00, 1.41MB/s]\n"
     ]
    },
    {
     "name": "stdout",
     "output_type": "stream",
     "text": [
      "results_v012_14.csv subido con exito, public score:122.268\n"
     ]
    },
    {
     "name": "stderr",
     "output_type": "stream",
     "text": [
      "100%|██████████| 2.09M/2.09M [00:01<00:00, 1.51MB/s]\n"
     ]
    },
    {
     "name": "stdout",
     "output_type": "stream",
     "text": [
      "results_v012_15.csv subido con exito, public score:121.638\n"
     ]
    },
    {
     "name": "stderr",
     "output_type": "stream",
     "text": [
      "100%|██████████| 2.09M/2.09M [00:01<00:00, 1.38MB/s]\n"
     ]
    },
    {
     "name": "stdout",
     "output_type": "stream",
     "text": [
      "results_v012_16.csv subido con exito, public score:121.171\n"
     ]
    },
    {
     "name": "stderr",
     "output_type": "stream",
     "text": [
      "100%|██████████| 2.09M/2.09M [00:01<00:00, 1.36MB/s]\n"
     ]
    },
    {
     "name": "stdout",
     "output_type": "stream",
     "text": [
      "results_v012_17.csv subido con exito, public score:121.544\n"
     ]
    },
    {
     "name": "stderr",
     "output_type": "stream",
     "text": [
      "100%|██████████| 2.09M/2.09M [00:01<00:00, 1.32MB/s]\n"
     ]
    },
    {
     "name": "stdout",
     "output_type": "stream",
     "text": [
      "results_v012_18.csv subido con exito, public score:121.008\n"
     ]
    },
    {
     "name": "stderr",
     "output_type": "stream",
     "text": [
      "100%|██████████| 2.09M/2.09M [00:01<00:00, 1.32MB/s]\n"
     ]
    },
    {
     "name": "stdout",
     "output_type": "stream",
     "text": [
      "results_v012_19.csv subido con exito, public score:120.401\n"
     ]
    },
    {
     "name": "stderr",
     "output_type": "stream",
     "text": [
      "100%|██████████| 2.09M/2.09M [00:01<00:00, 1.20MB/s]\n"
     ]
    },
    {
     "name": "stdout",
     "output_type": "stream",
     "text": [
      "results_v012_20.csv subido con exito, public score:119.864\n"
     ]
    },
    {
     "name": "stderr",
     "output_type": "stream",
     "text": [
      "100%|██████████| 2.09M/2.09M [00:01<00:00, 1.33MB/s]\n"
     ]
    },
    {
     "name": "stdout",
     "output_type": "stream",
     "text": [
      "results_v012_21.csv subido con exito, public score:119.351\n"
     ]
    },
    {
     "name": "stderr",
     "output_type": "stream",
     "text": [
      "100%|██████████| 2.09M/2.09M [00:01<00:00, 1.34MB/s]\n"
     ]
    },
    {
     "name": "stdout",
     "output_type": "stream",
     "text": [
      "results_v012_22.csv subido con exito, public score:118.674\n"
     ]
    },
    {
     "name": "stderr",
     "output_type": "stream",
     "text": [
      "100%|██████████| 2.09M/2.09M [00:01<00:00, 1.35MB/s]\n"
     ]
    },
    {
     "name": "stdout",
     "output_type": "stream",
     "text": [
      "results_v012_23.csv subido con exito, public score:118.138\n"
     ]
    },
    {
     "name": "stderr",
     "output_type": "stream",
     "text": [
      "100%|██████████| 2.09M/2.09M [00:01<00:00, 1.34MB/s]\n"
     ]
    },
    {
     "name": "stdout",
     "output_type": "stream",
     "text": [
      "results_v012_24.csv subido con exito, public score:117.554\n"
     ]
    },
    {
     "name": "stderr",
     "output_type": "stream",
     "text": [
      "100%|██████████| 2.09M/2.09M [00:01<00:00, 1.37MB/s]\n"
     ]
    },
    {
     "name": "stdout",
     "output_type": "stream",
     "text": [
      "results_v012_25.csv subido con exito, public score:116.878\n"
     ]
    },
    {
     "name": "stderr",
     "output_type": "stream",
     "text": [
      "100%|██████████| 2.09M/2.09M [00:01<00:00, 1.31MB/s]\n"
     ]
    },
    {
     "name": "stdout",
     "output_type": "stream",
     "text": [
      "results_v012_26.csv subido con exito, public score:117.321\n"
     ]
    },
    {
     "name": "stderr",
     "output_type": "stream",
     "text": [
      "100%|██████████| 2.09M/2.09M [00:01<00:00, 1.32MB/s]\n"
     ]
    },
    {
     "name": "stdout",
     "output_type": "stream",
     "text": [
      "results_v012_27.csv subido con exito, public score:118.604\n"
     ]
    },
    {
     "name": "stderr",
     "output_type": "stream",
     "text": [
      "100%|██████████| 2.09M/2.09M [00:01<00:00, 1.29MB/s]\n"
     ]
    },
    {
     "name": "stdout",
     "output_type": "stream",
     "text": [
      "results_v012_28.csv subido con exito, public score:118.838\n"
     ]
    },
    {
     "name": "stderr",
     "output_type": "stream",
     "text": [
      "100%|██████████| 2.09M/2.09M [00:01<00:00, 1.35MB/s]\n"
     ]
    },
    {
     "name": "stdout",
     "output_type": "stream",
     "text": [
      "results_v012_29.csv subido con exito, public score:120.191\n"
     ]
    },
    {
     "name": "stderr",
     "output_type": "stream",
     "text": [
      "100%|██████████| 2.09M/2.09M [00:01<00:00, 1.33MB/s]\n"
     ]
    },
    {
     "name": "stdout",
     "output_type": "stream",
     "text": [
      "results_v012_30.csv subido con exito, public score:119.701\n"
     ]
    },
    {
     "name": "stderr",
     "output_type": "stream",
     "text": [
      "100%|██████████| 2.09M/2.09M [00:01<00:00, 1.27MB/s]\n"
     ]
    },
    {
     "name": "stdout",
     "output_type": "stream",
     "text": [
      "results_v012_31.csv subido con exito, public score:120.004\n"
     ]
    },
    {
     "name": "stderr",
     "output_type": "stream",
     "text": [
      "100%|██████████| 2.09M/2.09M [00:01<00:00, 1.24MB/s]\n"
     ]
    },
    {
     "name": "stdout",
     "output_type": "stream",
     "text": [
      "results_v012_32.csv subido con exito, public score:120.378\n"
     ]
    },
    {
     "name": "stderr",
     "output_type": "stream",
     "text": [
      "100%|██████████| 2.09M/2.09M [00:01<00:00, 1.38MB/s]\n"
     ]
    },
    {
     "name": "stdout",
     "output_type": "stream",
     "text": [
      "results_v012_33.csv subido con exito, public score:119.934\n"
     ]
    },
    {
     "name": "stderr",
     "output_type": "stream",
     "text": [
      "100%|██████████| 2.09M/2.09M [00:01<00:00, 1.47MB/s]\n"
     ]
    },
    {
     "name": "stdout",
     "output_type": "stream",
     "text": [
      "results_v012_34.csv subido con exito, public score:120.284\n"
     ]
    },
    {
     "name": "stderr",
     "output_type": "stream",
     "text": [
      "100%|██████████| 2.09M/2.09M [00:01<00:00, 1.33MB/s]\n"
     ]
    },
    {
     "name": "stdout",
     "output_type": "stream",
     "text": [
      "results_v012_35.csv subido con exito, public score:119.654\n"
     ]
    },
    {
     "name": "stderr",
     "output_type": "stream",
     "text": [
      "100%|██████████| 2.09M/2.09M [00:01<00:00, 1.39MB/s]\n"
     ]
    },
    {
     "name": "stdout",
     "output_type": "stream",
     "text": [
      "results_v012_36.csv subido con exito, public score:120.051\n"
     ]
    },
    {
     "name": "stderr",
     "output_type": "stream",
     "text": [
      "100%|██████████| 2.09M/2.09M [00:01<00:00, 1.36MB/s]\n"
     ]
    },
    {
     "name": "stdout",
     "output_type": "stream",
     "text": [
      "results_v012_37.csv subido con exito, public score:119.351\n"
     ]
    },
    {
     "name": "stderr",
     "output_type": "stream",
     "text": [
      "100%|██████████| 2.09M/2.09M [00:01<00:00, 1.39MB/s]\n"
     ]
    },
    {
     "name": "stdout",
     "output_type": "stream",
     "text": [
      "results_v012_38.csv subido con exito, public score:119.748\n"
     ]
    },
    {
     "name": "stderr",
     "output_type": "stream",
     "text": [
      "100%|██████████| 2.09M/2.09M [00:01<00:00, 1.36MB/s]\n"
     ]
    },
    {
     "name": "stdout",
     "output_type": "stream",
     "text": [
      "results_v012_39.csv subido con exito, public score:119.094\n"
     ]
    },
    {
     "name": "stderr",
     "output_type": "stream",
     "text": [
      "100%|██████████| 2.09M/2.09M [00:01<00:00, 1.35MB/s]\n"
     ]
    },
    {
     "name": "stdout",
     "output_type": "stream",
     "text": [
      "results_v012_40.csv subido con exito, public score:118.511\n"
     ]
    },
    {
     "name": "stderr",
     "output_type": "stream",
     "text": [
      "100%|██████████| 2.09M/2.09M [00:01<00:00, 1.37MB/s]\n"
     ]
    },
    {
     "name": "stdout",
     "output_type": "stream",
     "text": [
      "results_v012_41.csv subido con exito, public score:118.114\n"
     ]
    },
    {
     "name": "stderr",
     "output_type": "stream",
     "text": [
      "100%|██████████| 2.09M/2.09M [00:01<00:00, 1.36MB/s]\n"
     ]
    },
    {
     "name": "stdout",
     "output_type": "stream",
     "text": [
      "results_v012_42.csv subido con exito, public score:117.578\n"
     ]
    },
    {
     "name": "stderr",
     "output_type": "stream",
     "text": [
      "100%|██████████| 2.09M/2.09M [00:01<00:00, 1.36MB/s]\n"
     ]
    },
    {
     "name": "stdout",
     "output_type": "stream",
     "text": [
      "results_v012_43.csv subido con exito, public score:117.834\n"
     ]
    },
    {
     "name": "stderr",
     "output_type": "stream",
     "text": [
      "100%|██████████| 2.09M/2.09M [00:01<00:00, 1.32MB/s]\n"
     ]
    },
    {
     "name": "stdout",
     "output_type": "stream",
     "text": [
      "results_v012_44.csv subido con exito, public score:118.184\n"
     ]
    },
    {
     "name": "stderr",
     "output_type": "stream",
     "text": [
      "100%|██████████| 2.09M/2.09M [00:01<00:00, 1.36MB/s]\n"
     ]
    },
    {
     "name": "stdout",
     "output_type": "stream",
     "text": [
      "results_v012_45.csv subido con exito, public score:118.604\n"
     ]
    },
    {
     "name": "stderr",
     "output_type": "stream",
     "text": [
      "100%|██████████| 2.09M/2.09M [00:01<00:00, 1.37MB/s]\n"
     ]
    },
    {
     "name": "stdout",
     "output_type": "stream",
     "text": [
      "results_v012_46.csv subido con exito, public score:118.044\n"
     ]
    },
    {
     "name": "stderr",
     "output_type": "stream",
     "text": [
      "100%|██████████| 2.09M/2.09M [00:01<00:00, 1.40MB/s]\n"
     ]
    },
    {
     "name": "stdout",
     "output_type": "stream",
     "text": [
      "results_v012_47.csv subido con exito, public score:118.371\n"
     ]
    },
    {
     "name": "stderr",
     "output_type": "stream",
     "text": [
      "100%|██████████| 2.09M/2.09M [00:01<00:00, 1.31MB/s]\n"
     ]
    },
    {
     "name": "stdout",
     "output_type": "stream",
     "text": [
      "results_v012_48.csv subido con exito, public score:118.721\n"
     ]
    },
    {
     "name": "stderr",
     "output_type": "stream",
     "text": [
      "100%|██████████| 2.09M/2.09M [00:02<00:00, 1.05MB/s]\n"
     ]
    },
    {
     "name": "stdout",
     "output_type": "stream",
     "text": [
      "results_v012_49.csv subido con exito, public score:118.231\n"
     ]
    },
    {
     "name": "stderr",
     "output_type": "stream",
     "text": [
      "100%|██████████| 2.09M/2.09M [00:01<00:00, 1.32MB/s]\n"
     ]
    },
    {
     "name": "stdout",
     "output_type": "stream",
     "text": [
      "results_v012_50.csv subido con exito, public score:118.604\n"
     ]
    }
   ],
   "source": [
    "archivos = []\n",
    "scores = []\n",
    "descripciones = []\n",
    "\n",
    "for i in range(len(files)): # UPDATE!\n",
    "\n",
    "    submitted = False\n",
    "    while submitted == False:\n",
    "        try:\n",
    "            api.competition_submit(file_name=files[i],\n",
    "                                   message=descriptions[i],\n",
    "                                   competition=competition)\n",
    "        except Exception as e:\n",
    "            print(f'Error al subir {files[i]}: {e}')\n",
    "            time.sleep(1000)\n",
    "        else:\n",
    "            submitted = True \n",
    "\n",
    "            # Esperamos un poco para que kaggle no tire error\n",
    "            time.sleep(60)\n",
    "\n",
    "            submissions = api.competition_submissions(competition, page_size=1) # traigo solo la ultima\n",
    "            ultima = submissions[0]\n",
    "            \n",
    "            archivo = ultima.fileName\n",
    "            public_score = ultima.publicScore\n",
    "            descripcion = ultima.description\n",
    "            \n",
    "            archivos.append(archivo)\n",
    "            scores.append(public_score)\n",
    "            descripciones.append(descripcion)\n",
    "            \n",
    "            print(f'{archivo} subido con exito, public score:{public_score}')"
   ]
  },
  {
   "cell_type": "code",
   "execution_count": 8,
   "metadata": {},
   "outputs": [],
   "source": [
    "# si falla y precisamos exportar resultados intermedios\n",
    "\n",
    "# resultados = pd.DataFrame({\n",
    "#     'Archivo': archivos,\n",
    "#     'Public score': scores,\n",
    "#     'Description':descripciones\n",
    "# })\n",
    "\n",
    "# resultados.to_excel(f'C:/Users/eaneg/OneDrive/Desktop/scores_{version}.xlsx', index=False)\n",
    "\n",
    "# resultados = pd.read_excel(f'C:/Users/eaneg/OneDrive/Desktop/scores_{version}_2.xlsx')"
   ]
  },
  {
   "cell_type": "code",
   "execution_count": 11,
   "metadata": {},
   "outputs": [],
   "source": [
    "resultados = pd.DataFrame({\n",
    "    'Archivo': archivos,\n",
    "    'Public score': scores,\n",
    "    'Description':descripciones\n",
    "})\n",
    "\n",
    "df = pd.DataFrame({\n",
    "    'seed': np.repeat('semillero', len(puntos_corte)),\n",
    "    'corte': np.tile(puntos_corte, 1)\n",
    "})\n",
    "\n",
    "resultados = pd.concat([resultados, df], axis=1)"
   ]
  },
  {
   "cell_type": "code",
   "execution_count": 12,
   "metadata": {},
   "outputs": [],
   "source": [
    "resultados.to_excel(f'{files_path}scores_{version}.xlsx', index=False)"
   ]
  },
  {
   "cell_type": "code",
   "execution_count": null,
   "metadata": {},
   "outputs": [],
   "source": []
  }
 ],
 "metadata": {
  "kernelspec": {
   "display_name": "Python 3",
   "language": "python",
   "name": "python3"
  },
  "language_info": {
   "codemirror_mode": {
    "name": "ipython",
    "version": 3
   },
   "file_extension": ".py",
   "mimetype": "text/x-python",
   "name": "python",
   "nbconvert_exporter": "python",
   "pygments_lexer": "ipython3",
   "version": "3.12.5"
  }
 },
 "nbformat": 4,
 "nbformat_minor": 2
}

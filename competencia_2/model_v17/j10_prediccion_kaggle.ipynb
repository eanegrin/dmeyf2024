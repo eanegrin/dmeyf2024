{
 "cells": [
  {
   "cell_type": "code",
   "execution_count": 1,
   "metadata": {},
   "outputs": [],
   "source": [
    "import pandas as pd\n",
    "import polars as pl\n",
    "import numpy as np\n",
    "import lightgbm as lgb\n",
    "import optuna"
   ]
  },
  {
   "cell_type": "code",
   "execution_count": 2,
   "metadata": {},
   "outputs": [],
   "source": [
    "# base_path = '/content/drive/MyDrive/DMEyF/2024/'\n",
    "base_path = 'C:/Eugenio/Maestria/DMEyF/'\n",
    "# base_path = '/home/eanegrin/buckets/b1/'\n",
    "\n",
    "dataset_path = base_path + 'datasets/'\n",
    "modelos_path = base_path + 'modelos/'\n",
    "db_path = base_path + 'db/'\n",
    "dataset_file = 'competencia_02_fe_v01.parquet'\n",
    "\n",
    "ganancia_acierto = 273000\n",
    "costo_estimulo = 7000\n",
    "\n",
    "# agregue sus semillas\n",
    "semillas = [1149, 4836, 9443, 7483, 3492, 6287,  830, 3294, 5932,  815, 7070,\n",
    "       1529, 3454, 6073, 7831, 1069, 3632,  953,  368, 3999, 9981,  906,\n",
    "       6792, 1439, 8439, 9240, 8162,   32, 5785, 1013, 2747, 2702, 4807,\n",
    "       831, 3985, 4003, 4758, 7955, 3976, 5436, 8634, 2511, 8627, 6888,\n",
    "       4179, 1565, 9181, 6389, 5879, 1216, 8749, 8996,   99, 1481, 4120,\n",
    "       8561, 7008, 5624,  271, 5204, 9169, 2537, 4070, 5458, 7383,  137,\n",
    "       8414, 6327, 3119, 5659, 2907, 9390, 7055, 9770, 9614, 6769,  694,\n",
    "       7854, 9925, 7895, 5259, 9598, 6352, 7884, 5592, 7017, 7374, 2208,\n",
    "       7364, 1995, 7264, 2520, 3922, 7704, 2333, 1601, 2534, 6556, 9072,\n",
    "       3046]"
   ]
  },
  {
   "cell_type": "code",
   "execution_count": 3,
   "metadata": {},
   "outputs": [],
   "source": [
    "data = pl.scan_parquet(dataset_path + dataset_file).filter(pl.col(\"foto_mes\") == 202108).collect()"
   ]
  },
  {
   "cell_type": "code",
   "execution_count": 4,
   "metadata": {},
   "outputs": [],
   "source": [
    "# convirto a pandas dataframe\n",
    "data = data.to_pandas()"
   ]
  },
  {
   "cell_type": "code",
   "execution_count": 5,
   "metadata": {},
   "outputs": [],
   "source": [
    "# Asignamos pesos a las clases\n",
    "\n",
    "data['clase_peso'] = 1.0\n",
    "\n",
    "data.loc[data['clase_ternaria'] == 'BAJA+2', 'clase_peso'] = 1.00002\n",
    "data.loc[data['clase_ternaria'] == 'BAJA+1', 'clase_peso'] = 1.00001"
   ]
  },
  {
   "cell_type": "code",
   "execution_count": 6,
   "metadata": {},
   "outputs": [],
   "source": [
    "data['clase_binaria'] = 0\n",
    "data['clase_binaria'] = np.where(data['clase_ternaria'] == 'BAJA+2', 1, 0)"
   ]
  },
  {
   "cell_type": "code",
   "execution_count": 7,
   "metadata": {},
   "outputs": [],
   "source": [
    "X_test = data.drop(['clase_ternaria', 'clase_peso', 'clase_binaria'], axis=1)"
   ]
  },
  {
   "cell_type": "markdown",
   "metadata": {},
   "source": [
    "### Predicciones para Kaggle"
   ]
  },
  {
   "cell_type": "code",
   "execution_count": 8,
   "metadata": {},
   "outputs": [],
   "source": [
    "# Voy a probar 20 puntos de corte para cada semilla (total 100 envios)\n",
    "\n",
    "version = 'v016' # UPADTE\n",
    "\n",
    "modelos = [f'lgb_competencia2_{version}_s{semilla}_final.txt' for semilla in semillas]"
   ]
  },
  {
   "cell_type": "code",
   "execution_count": 9,
   "metadata": {},
   "outputs": [
    {
     "data": {
      "text/plain": [
       "100"
      ]
     },
     "execution_count": 9,
     "metadata": {},
     "output_type": "execute_result"
    }
   ],
   "source": [
    "len(modelos)"
   ]
  },
  {
   "cell_type": "code",
   "execution_count": 10,
   "metadata": {},
   "outputs": [
    {
     "data": {
      "text/plain": [
       "'C:/Eugenio/Maestria/DMEyF/modelos/'"
      ]
     },
     "execution_count": 10,
     "metadata": {},
     "output_type": "execute_result"
    }
   ],
   "source": [
    "modelos_path"
   ]
  },
  {
   "cell_type": "code",
   "execution_count": 11,
   "metadata": {},
   "outputs": [],
   "source": [
    "X_test_with_predictions = data.drop(['clase_ternaria', 'clase_peso', 'clase_binaria'], axis=1).copy()"
   ]
  },
  {
   "cell_type": "code",
   "execution_count": 12,
   "metadata": {},
   "outputs": [
    {
     "name": "stdout",
     "output_type": "stream",
     "text": [
      "Predicciones del modelo: lgb_competencia2_v016_s1149_final.txt DONE\n",
      "Predicciones del modelo: lgb_competencia2_v016_s4836_final.txt DONE\n",
      "Predicciones del modelo: lgb_competencia2_v016_s9443_final.txt DONE\n",
      "Predicciones del modelo: lgb_competencia2_v016_s7483_final.txt DONE\n",
      "Predicciones del modelo: lgb_competencia2_v016_s3492_final.txt DONE\n",
      "Predicciones del modelo: lgb_competencia2_v016_s6287_final.txt DONE\n",
      "Predicciones del modelo: lgb_competencia2_v016_s830_final.txt DONE\n",
      "Predicciones del modelo: lgb_competencia2_v016_s3294_final.txt DONE\n",
      "Predicciones del modelo: lgb_competencia2_v016_s5932_final.txt DONE\n",
      "Predicciones del modelo: lgb_competencia2_v016_s815_final.txt DONE\n",
      "Predicciones del modelo: lgb_competencia2_v016_s7070_final.txt DONE\n",
      "Predicciones del modelo: lgb_competencia2_v016_s1529_final.txt DONE\n",
      "Predicciones del modelo: lgb_competencia2_v016_s3454_final.txt DONE\n",
      "Predicciones del modelo: lgb_competencia2_v016_s6073_final.txt DONE\n",
      "Predicciones del modelo: lgb_competencia2_v016_s7831_final.txt DONE\n",
      "Predicciones del modelo: lgb_competencia2_v016_s1069_final.txt DONE\n",
      "Predicciones del modelo: lgb_competencia2_v016_s3632_final.txt DONE\n",
      "Predicciones del modelo: lgb_competencia2_v016_s953_final.txt DONE\n",
      "Predicciones del modelo: lgb_competencia2_v016_s368_final.txt DONE\n",
      "Predicciones del modelo: lgb_competencia2_v016_s3999_final.txt DONE\n",
      "Predicciones del modelo: lgb_competencia2_v016_s9981_final.txt DONE\n",
      "Predicciones del modelo: lgb_competencia2_v016_s906_final.txt DONE\n",
      "Predicciones del modelo: lgb_competencia2_v016_s6792_final.txt DONE\n",
      "Predicciones del modelo: lgb_competencia2_v016_s1439_final.txt DONE\n",
      "Predicciones del modelo: lgb_competencia2_v016_s8439_final.txt DONE\n",
      "Predicciones del modelo: lgb_competencia2_v016_s9240_final.txt DONE\n",
      "Predicciones del modelo: lgb_competencia2_v016_s8162_final.txt DONE\n",
      "Predicciones del modelo: lgb_competencia2_v016_s32_final.txt DONE\n",
      "Predicciones del modelo: lgb_competencia2_v016_s5785_final.txt DONE\n",
      "Predicciones del modelo: lgb_competencia2_v016_s1013_final.txt DONE\n",
      "Predicciones del modelo: lgb_competencia2_v016_s2747_final.txt DONE\n",
      "Predicciones del modelo: lgb_competencia2_v016_s2702_final.txt DONE\n",
      "Predicciones del modelo: lgb_competencia2_v016_s4807_final.txt DONE\n",
      "Predicciones del modelo: lgb_competencia2_v016_s831_final.txt DONE\n",
      "Predicciones del modelo: lgb_competencia2_v016_s3985_final.txt DONE\n",
      "Predicciones del modelo: lgb_competencia2_v016_s4003_final.txt DONE\n",
      "Predicciones del modelo: lgb_competencia2_v016_s4758_final.txt DONE\n",
      "Predicciones del modelo: lgb_competencia2_v016_s7955_final.txt DONE\n",
      "Predicciones del modelo: lgb_competencia2_v016_s3976_final.txt DONE\n",
      "Predicciones del modelo: lgb_competencia2_v016_s5436_final.txt DONE\n",
      "Predicciones del modelo: lgb_competencia2_v016_s8634_final.txt DONE\n",
      "Predicciones del modelo: lgb_competencia2_v016_s2511_final.txt DONE\n",
      "Predicciones del modelo: lgb_competencia2_v016_s8627_final.txt DONE\n",
      "Predicciones del modelo: lgb_competencia2_v016_s6888_final.txt DONE\n",
      "Predicciones del modelo: lgb_competencia2_v016_s4179_final.txt DONE\n",
      "Predicciones del modelo: lgb_competencia2_v016_s1565_final.txt DONE\n",
      "Predicciones del modelo: lgb_competencia2_v016_s9181_final.txt DONE\n",
      "Predicciones del modelo: lgb_competencia2_v016_s6389_final.txt DONE\n",
      "Predicciones del modelo: lgb_competencia2_v016_s5879_final.txt DONE\n",
      "Predicciones del modelo: lgb_competencia2_v016_s1216_final.txt DONE\n",
      "Predicciones del modelo: lgb_competencia2_v016_s8749_final.txt DONE\n",
      "Predicciones del modelo: lgb_competencia2_v016_s8996_final.txt DONE\n",
      "Predicciones del modelo: lgb_competencia2_v016_s99_final.txt DONE\n",
      "Predicciones del modelo: lgb_competencia2_v016_s1481_final.txt DONE\n",
      "Predicciones del modelo: lgb_competencia2_v016_s4120_final.txt DONE\n",
      "Predicciones del modelo: lgb_competencia2_v016_s8561_final.txt DONE\n",
      "Predicciones del modelo: lgb_competencia2_v016_s7008_final.txt DONE\n",
      "Predicciones del modelo: lgb_competencia2_v016_s5624_final.txt DONE\n",
      "Predicciones del modelo: lgb_competencia2_v016_s271_final.txt DONE\n",
      "Predicciones del modelo: lgb_competencia2_v016_s5204_final.txt DONE\n",
      "Predicciones del modelo: lgb_competencia2_v016_s9169_final.txt DONE\n",
      "Predicciones del modelo: lgb_competencia2_v016_s2537_final.txt DONE\n",
      "Predicciones del modelo: lgb_competencia2_v016_s4070_final.txt DONE\n",
      "Predicciones del modelo: lgb_competencia2_v016_s5458_final.txt DONE\n",
      "Predicciones del modelo: lgb_competencia2_v016_s7383_final.txt DONE\n",
      "Predicciones del modelo: lgb_competencia2_v016_s137_final.txt DONE\n",
      "Predicciones del modelo: lgb_competencia2_v016_s8414_final.txt DONE\n",
      "Predicciones del modelo: lgb_competencia2_v016_s6327_final.txt DONE\n",
      "Predicciones del modelo: lgb_competencia2_v016_s3119_final.txt DONE\n",
      "Predicciones del modelo: lgb_competencia2_v016_s5659_final.txt DONE\n",
      "Predicciones del modelo: lgb_competencia2_v016_s2907_final.txt DONE\n",
      "Predicciones del modelo: lgb_competencia2_v016_s9390_final.txt DONE\n",
      "Predicciones del modelo: lgb_competencia2_v016_s7055_final.txt DONE\n",
      "Predicciones del modelo: lgb_competencia2_v016_s9770_final.txt DONE\n",
      "Predicciones del modelo: lgb_competencia2_v016_s9614_final.txt DONE\n",
      "Predicciones del modelo: lgb_competencia2_v016_s6769_final.txt DONE\n",
      "Predicciones del modelo: lgb_competencia2_v016_s694_final.txt DONE\n",
      "Predicciones del modelo: lgb_competencia2_v016_s7854_final.txt DONE\n",
      "Predicciones del modelo: lgb_competencia2_v016_s9925_final.txt DONE\n",
      "Predicciones del modelo: lgb_competencia2_v016_s7895_final.txt DONE\n",
      "Predicciones del modelo: lgb_competencia2_v016_s5259_final.txt DONE\n",
      "Predicciones del modelo: lgb_competencia2_v016_s9598_final.txt DONE\n",
      "Predicciones del modelo: lgb_competencia2_v016_s6352_final.txt DONE\n",
      "Predicciones del modelo: lgb_competencia2_v016_s7884_final.txt DONE\n",
      "Predicciones del modelo: lgb_competencia2_v016_s5592_final.txt DONE\n",
      "Predicciones del modelo: lgb_competencia2_v016_s7017_final.txt DONE\n",
      "Predicciones del modelo: lgb_competencia2_v016_s7374_final.txt DONE\n",
      "Predicciones del modelo: lgb_competencia2_v016_s2208_final.txt DONE\n",
      "Predicciones del modelo: lgb_competencia2_v016_s7364_final.txt DONE\n",
      "Predicciones del modelo: lgb_competencia2_v016_s1995_final.txt DONE\n",
      "Predicciones del modelo: lgb_competencia2_v016_s7264_final.txt DONE\n",
      "Predicciones del modelo: lgb_competencia2_v016_s2520_final.txt DONE\n",
      "Predicciones del modelo: lgb_competencia2_v016_s3922_final.txt DONE\n",
      "Predicciones del modelo: lgb_competencia2_v016_s7704_final.txt DONE\n",
      "Predicciones del modelo: lgb_competencia2_v016_s2333_final.txt DONE\n",
      "Predicciones del modelo: lgb_competencia2_v016_s1601_final.txt DONE\n",
      "Predicciones del modelo: lgb_competencia2_v016_s2534_final.txt DONE\n",
      "Predicciones del modelo: lgb_competencia2_v016_s6556_final.txt DONE\n"
     ]
    },
    {
     "name": "stderr",
     "output_type": "stream",
     "text": [
      "C:\\Users\\eaneg\\AppData\\Local\\Temp\\ipykernel_20672\\3572328474.py:11: PerformanceWarning: DataFrame is highly fragmented.  This is usually the result of calling `frame.insert` many times, which has poor performance.  Consider joining all columns at once using pd.concat(axis=1) instead. To get a de-fragmented frame, use `newframe = frame.copy()`\n",
      "  X_test_with_predictions[f'pred_lgm_{semillas[counter]}'] = y_pred_lgm\n"
     ]
    },
    {
     "name": "stdout",
     "output_type": "stream",
     "text": [
      "Predicciones del modelo: lgb_competencia2_v016_s9072_final.txt DONE\n",
      "Predicciones del modelo: lgb_competencia2_v016_s3046_final.txt DONE\n"
     ]
    },
    {
     "name": "stderr",
     "output_type": "stream",
     "text": [
      "C:\\Users\\eaneg\\AppData\\Local\\Temp\\ipykernel_20672\\3572328474.py:11: PerformanceWarning: DataFrame is highly fragmented.  This is usually the result of calling `frame.insert` many times, which has poor performance.  Consider joining all columns at once using pd.concat(axis=1) instead. To get a de-fragmented frame, use `newframe = frame.copy()`\n",
      "  X_test_with_predictions[f'pred_lgm_{semillas[counter]}'] = y_pred_lgm\n"
     ]
    }
   ],
   "source": [
    "counter = 0\n",
    "\n",
    "for modelo in modelos:\n",
    "    \n",
    "    # cargamos el modelo\n",
    "    model = lgb.Booster(model_file=f'{modelos_path}{version}/{modelo}')\n",
    "    \n",
    "    # predecimos para agosto\n",
    "    X_test = data.drop(['clase_ternaria', 'clase_peso', 'clase_binaria'], axis=1).copy()\n",
    "    y_pred_lgm = model.predict(X_test)\n",
    "    X_test_with_predictions[f'pred_lgm_{semillas[counter]}'] = y_pred_lgm\n",
    "    \n",
    "    print(f'Predicciones del modelo: {modelo} DONE')\n",
    "    \n",
    "    counter += 1"
   ]
  },
  {
   "cell_type": "code",
   "execution_count": 13,
   "metadata": {},
   "outputs": [],
   "source": [
    "X_test_with_predictions = X_test_with_predictions.copy()"
   ]
  },
  {
   "cell_type": "code",
   "execution_count": 14,
   "metadata": {},
   "outputs": [],
   "source": [
    "X_test_with_predictions['predicted_avg'] = X_test_with_predictions.iloc[:, -100:].mean(axis=1)"
   ]
  },
  {
   "cell_type": "code",
   "execution_count": 15,
   "metadata": {},
   "outputs": [],
   "source": [
    "# ordeno de mayor probabilidad de baja a menor\n",
    "idx = np.argsort(X_test_with_predictions['predicted_avg'])[::-1]\n",
    "X_test_with_predictions.reset_index(drop=True, inplace=True)\n",
    "X_test_with_predictions = X_test_with_predictions.iloc[idx]"
   ]
  },
  {
   "cell_type": "code",
   "execution_count": 16,
   "metadata": {},
   "outputs": [],
   "source": [
    "# aux = X_test_with_predictions.head(100)\n",
    "# aux"
   ]
  },
  {
   "cell_type": "code",
   "execution_count": 17,
   "metadata": {},
   "outputs": [
    {
     "data": {
      "text/plain": [
       "array([ 9000,  9081,  9163,  9244,  9326,  9408,  9489,  9571,  9653,\n",
       "        9734,  9816,  9897,  9979, 10061, 10142, 10224, 10306, 10387,\n",
       "       10469, 10551, 10632, 10714, 10795, 10877, 10959, 11040, 11122,\n",
       "       11204, 11285, 11367, 11448, 11530, 11612, 11693, 11775, 11857,\n",
       "       11938, 12020, 12102, 12183, 12265, 12346, 12428, 12510, 12591,\n",
       "       12673, 12755, 12836, 12918, 13000])"
      ]
     },
     "execution_count": 17,
     "metadata": {},
     "output_type": "execute_result"
    }
   ],
   "source": [
    "puntos_corte = np.linspace(9000, 13000, 50).astype(int)\n",
    "puntos_corte"
   ]
  },
  {
   "cell_type": "code",
   "execution_count": 18,
   "metadata": {},
   "outputs": [
    {
     "name": "stdout",
     "output_type": "stream",
     "text": [
      "1. corte: 9000\n",
      "2. corte: 9081\n",
      "3. corte: 9163\n",
      "4. corte: 9244\n",
      "5. corte: 9326\n",
      "6. corte: 9408\n",
      "7. corte: 9489\n",
      "8. corte: 9571\n",
      "9. corte: 9653\n",
      "10. corte: 9734\n",
      "11. corte: 9816\n",
      "12. corte: 9897\n",
      "13. corte: 9979\n",
      "14. corte: 10061\n",
      "15. corte: 10142\n",
      "16. corte: 10224\n",
      "17. corte: 10306\n",
      "18. corte: 10387\n",
      "19. corte: 10469\n",
      "20. corte: 10551\n",
      "21. corte: 10632\n",
      "22. corte: 10714\n",
      "23. corte: 10795\n",
      "24. corte: 10877\n",
      "25. corte: 10959\n",
      "26. corte: 11040\n",
      "27. corte: 11122\n",
      "28. corte: 11204\n",
      "29. corte: 11285\n",
      "30. corte: 11367\n",
      "31. corte: 11448\n",
      "32. corte: 11530\n",
      "33. corte: 11612\n",
      "34. corte: 11693\n",
      "35. corte: 11775\n",
      "36. corte: 11857\n",
      "37. corte: 11938\n",
      "38. corte: 12020\n",
      "39. corte: 12102\n",
      "40. corte: 12183\n",
      "41. corte: 12265\n",
      "42. corte: 12346\n",
      "43. corte: 12428\n",
      "44. corte: 12510\n",
      "45. corte: 12591\n",
      "46. corte: 12673\n",
      "47. corte: 12755\n",
      "48. corte: 12836\n",
      "49. corte: 12918\n",
      "50. corte: 13000\n"
     ]
    }
   ],
   "source": [
    "counter = 0\n",
    "\n",
    "for corte in puntos_corte:\n",
    "    \n",
    "    envios = np.zeros(len(X_test_with_predictions), dtype=int)\n",
    "    envios[:corte] = 1\n",
    "    X_test_with_predictions['Predicted'] = envios\n",
    "    \n",
    "    output = X_test_with_predictions[['numero_de_cliente', 'Predicted']]\n",
    "        \n",
    "    counter += 1\n",
    "    \n",
    "    file_name = f'results_{version}_{counter}.csv'\n",
    "    output_path = base_path + f'exp/competencia_2/{version}/' + file_name\n",
    "    \n",
    "    output.to_csv(output_path, index=False)\n",
    "            \n",
    "    print(f'{counter}. corte: {corte}')"
   ]
  },
  {
   "cell_type": "code",
   "execution_count": null,
   "metadata": {},
   "outputs": [],
   "source": []
  }
 ],
 "metadata": {
  "kernelspec": {
   "display_name": "Python 3",
   "language": "python",
   "name": "python3"
  },
  "language_info": {
   "codemirror_mode": {
    "name": "ipython",
    "version": 3
   },
   "file_extension": ".py",
   "mimetype": "text/x-python",
   "name": "python",
   "nbconvert_exporter": "python",
   "pygments_lexer": "ipython3",
   "version": "3.12.5"
  }
 },
 "nbformat": 4,
 "nbformat_minor": 2
}

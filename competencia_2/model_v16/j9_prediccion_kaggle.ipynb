{
 "cells": [
  {
   "cell_type": "code",
   "execution_count": 1,
   "metadata": {},
   "outputs": [],
   "source": [
    "import pandas as pd\n",
    "import polars as pl\n",
    "import numpy as np\n",
    "import lightgbm as lgb\n",
    "import optuna"
   ]
  },
  {
   "cell_type": "code",
   "execution_count": 2,
   "metadata": {},
   "outputs": [],
   "source": [
    "# base_path = '/content/drive/MyDrive/DMEyF/2024/'\n",
    "base_path = 'C:/Eugenio/Maestria/DMEyF/'\n",
    "# base_path = '/home/eanegrin/buckets/b1/'\n",
    "\n",
    "dataset_path = base_path + 'datasets/'\n",
    "modelos_path = base_path + 'modelos/'\n",
    "db_path = base_path + 'db/'\n",
    "dataset_file = 'competencia_02_fe_v01.parquet'\n",
    "\n",
    "ganancia_acierto = 273000\n",
    "costo_estimulo = 7000"
   ]
  },
  {
   "cell_type": "code",
   "execution_count": 3,
   "metadata": {},
   "outputs": [],
   "source": [
    "semillas = [1149, 4836, 9443, 7483, 3492, 6287,  830, 3294, 5932,  815, 7070,\n",
    "       1529, 3454, 6073, 7831, 1069, 3632,  953,  368, 3999, 9981,  906,\n",
    "       6792, 1439, 8439, 9240, 8162,   32, 5785, 1013, 2747, 2702, 4807,\n",
    "       831, 3985, 4003, 4758, 7955, 3976, 5436, 8634, 2511, 8627, 6888,\n",
    "       4179, 1565, 9181, 6389, 5879, 1216, 8749, 8996,   99, 1481, 4120,\n",
    "       8561, 7008, 5624,  271, 5204, 9169, 2537, 4070, 5458, 7383,  137,\n",
    "       8414, 6327, 3119, 5659, 2907, 9390, 7055, 9770, 9614, 6769,  694,\n",
    "       7854, 9925, 7895, 5259, 9598, 6352, 7884, 5592, 7017, 7374, 2208,\n",
    "       7364, 1995, 7264, 2520, 3922, 7704, 2333, 1601, 2534, 6556, 9072,\n",
    "       3046]"
   ]
  },
  {
   "cell_type": "code",
   "execution_count": 4,
   "metadata": {},
   "outputs": [],
   "source": [
    "data = pl.scan_parquet(dataset_path + dataset_file).filter(pl.col(\"foto_mes\") == 202108).collect()"
   ]
  },
  {
   "cell_type": "code",
   "execution_count": 5,
   "metadata": {},
   "outputs": [],
   "source": [
    "# convierto a pandas dataframe\n",
    "data = data.to_pandas()"
   ]
  },
  {
   "cell_type": "code",
   "execution_count": 6,
   "metadata": {},
   "outputs": [],
   "source": [
    "# Asignamos pesos a las clases\n",
    "\n",
    "data['clase_peso'] = 1.0\n",
    "\n",
    "data.loc[data['clase_ternaria'] == 'BAJA+2', 'clase_peso'] = 1.00002\n",
    "data.loc[data['clase_ternaria'] == 'BAJA+1', 'clase_peso'] = 1.00001"
   ]
  },
  {
   "cell_type": "code",
   "execution_count": 7,
   "metadata": {},
   "outputs": [],
   "source": [
    "data['clase_binaria'] = 0\n",
    "data['clase_binaria'] = np.where(data['clase_ternaria'] == 'BAJA+2', 1, 0)"
   ]
  },
  {
   "cell_type": "code",
   "execution_count": 8,
   "metadata": {},
   "outputs": [],
   "source": [
    "X_test = data.drop(['clase_ternaria', 'clase_peso', 'clase_binaria'], axis=1)"
   ]
  },
  {
   "cell_type": "markdown",
   "metadata": {},
   "source": [
    "### Predicciones para Kaggle"
   ]
  },
  {
   "cell_type": "markdown",
   "metadata": {},
   "source": [
    "Se generan la prediccion para cada modelo individual, se promedian las predicciones y luego se ordenan de mayor a menor para determinar el numero de envios"
   ]
  },
  {
   "cell_type": "code",
   "execution_count": 9,
   "metadata": {},
   "outputs": [],
   "source": [
    "version = 'v016' # UPADTE\n",
    "\n",
    "modelos = [f'lgb_competencia2_{version}_s{semilla}_final.txt' for semilla in semillas]"
   ]
  },
  {
   "cell_type": "code",
   "execution_count": 10,
   "metadata": {},
   "outputs": [
    {
     "data": {
      "text/plain": [
       "100"
      ]
     },
     "execution_count": 10,
     "metadata": {},
     "output_type": "execute_result"
    }
   ],
   "source": [
    "len(modelos)"
   ]
  },
  {
   "cell_type": "code",
   "execution_count": 24,
   "metadata": {},
   "outputs": [],
   "source": [
    "X_test_with_predictions = data.drop(['clase_ternaria', 'clase_peso', 'clase_binaria'], axis=1).copy()"
   ]
  },
  {
   "cell_type": "code",
   "execution_count": 25,
   "metadata": {},
   "outputs": [
    {
     "name": "stdout",
     "output_type": "stream",
     "text": [
      "0. Predicciones del modelo: lgb_competencia2_v016_s1149_final.txt DONE\n",
      "1. Predicciones del modelo: lgb_competencia2_v016_s4836_final.txt DONE\n",
      "2. Predicciones del modelo: lgb_competencia2_v016_s9443_final.txt DONE\n",
      "3. Predicciones del modelo: lgb_competencia2_v016_s7483_final.txt DONE\n",
      "4. Predicciones del modelo: lgb_competencia2_v016_s3492_final.txt DONE\n",
      "5. Predicciones del modelo: lgb_competencia2_v016_s6287_final.txt DONE\n",
      "6. Predicciones del modelo: lgb_competencia2_v016_s830_final.txt DONE\n",
      "7. Predicciones del modelo: lgb_competencia2_v016_s3294_final.txt DONE\n",
      "8. Predicciones del modelo: lgb_competencia2_v016_s5932_final.txt DONE\n",
      "9. Predicciones del modelo: lgb_competencia2_v016_s815_final.txt DONE\n",
      "10. Predicciones del modelo: lgb_competencia2_v016_s7070_final.txt DONE\n",
      "11. Predicciones del modelo: lgb_competencia2_v016_s1529_final.txt DONE\n",
      "12. Predicciones del modelo: lgb_competencia2_v016_s3454_final.txt DONE\n",
      "13. Predicciones del modelo: lgb_competencia2_v016_s6073_final.txt DONE\n",
      "14. Predicciones del modelo: lgb_competencia2_v016_s7831_final.txt DONE\n",
      "15. Predicciones del modelo: lgb_competencia2_v016_s1069_final.txt DONE\n",
      "16. Predicciones del modelo: lgb_competencia2_v016_s3632_final.txt DONE\n",
      "17. Predicciones del modelo: lgb_competencia2_v016_s953_final.txt DONE\n",
      "18. Predicciones del modelo: lgb_competencia2_v016_s368_final.txt DONE\n",
      "19. Predicciones del modelo: lgb_competencia2_v016_s3999_final.txt DONE\n",
      "20. Predicciones del modelo: lgb_competencia2_v016_s9981_final.txt DONE\n",
      "21. Predicciones del modelo: lgb_competencia2_v016_s906_final.txt DONE\n",
      "22. Predicciones del modelo: lgb_competencia2_v016_s6792_final.txt DONE\n",
      "23. Predicciones del modelo: lgb_competencia2_v016_s1439_final.txt DONE\n",
      "24. Predicciones del modelo: lgb_competencia2_v016_s8439_final.txt DONE\n",
      "25. Predicciones del modelo: lgb_competencia2_v016_s9240_final.txt DONE\n",
      "26. Predicciones del modelo: lgb_competencia2_v016_s8162_final.txt DONE\n",
      "27. Predicciones del modelo: lgb_competencia2_v016_s32_final.txt DONE\n",
      "28. Predicciones del modelo: lgb_competencia2_v016_s5785_final.txt DONE\n",
      "29. Predicciones del modelo: lgb_competencia2_v016_s1013_final.txt DONE\n",
      "30. Predicciones del modelo: lgb_competencia2_v016_s2747_final.txt DONE\n",
      "31. Predicciones del modelo: lgb_competencia2_v016_s2702_final.txt DONE\n",
      "32. Predicciones del modelo: lgb_competencia2_v016_s4807_final.txt DONE\n",
      "33. Predicciones del modelo: lgb_competencia2_v016_s831_final.txt DONE\n",
      "34. Predicciones del modelo: lgb_competencia2_v016_s3985_final.txt DONE\n",
      "35. Predicciones del modelo: lgb_competencia2_v016_s4003_final.txt DONE\n",
      "36. Predicciones del modelo: lgb_competencia2_v016_s4758_final.txt DONE\n",
      "37. Predicciones del modelo: lgb_competencia2_v016_s7955_final.txt DONE\n",
      "38. Predicciones del modelo: lgb_competencia2_v016_s3976_final.txt DONE\n",
      "39. Predicciones del modelo: lgb_competencia2_v016_s5436_final.txt DONE\n",
      "40. Predicciones del modelo: lgb_competencia2_v016_s8634_final.txt DONE\n",
      "41. Predicciones del modelo: lgb_competencia2_v016_s2511_final.txt DONE\n",
      "42. Predicciones del modelo: lgb_competencia2_v016_s8627_final.txt DONE\n",
      "43. Predicciones del modelo: lgb_competencia2_v016_s6888_final.txt DONE\n",
      "44. Predicciones del modelo: lgb_competencia2_v016_s4179_final.txt DONE\n",
      "45. Predicciones del modelo: lgb_competencia2_v016_s1565_final.txt DONE\n",
      "46. Predicciones del modelo: lgb_competencia2_v016_s9181_final.txt DONE\n",
      "47. Predicciones del modelo: lgb_competencia2_v016_s6389_final.txt DONE\n",
      "48. Predicciones del modelo: lgb_competencia2_v016_s5879_final.txt DONE\n",
      "49. Predicciones del modelo: lgb_competencia2_v016_s1216_final.txt DONE\n",
      "50. Predicciones del modelo: lgb_competencia2_v016_s8749_final.txt DONE\n",
      "51. Predicciones del modelo: lgb_competencia2_v016_s8996_final.txt DONE\n",
      "52. Predicciones del modelo: lgb_competencia2_v016_s99_final.txt DONE\n",
      "53. Predicciones del modelo: lgb_competencia2_v016_s1481_final.txt DONE\n",
      "54. Predicciones del modelo: lgb_competencia2_v016_s4120_final.txt DONE\n",
      "55. Predicciones del modelo: lgb_competencia2_v016_s8561_final.txt DONE\n",
      "56. Predicciones del modelo: lgb_competencia2_v016_s7008_final.txt DONE\n",
      "57. Predicciones del modelo: lgb_competencia2_v016_s5624_final.txt DONE\n",
      "58. Predicciones del modelo: lgb_competencia2_v016_s271_final.txt DONE\n",
      "59. Predicciones del modelo: lgb_competencia2_v016_s5204_final.txt DONE\n",
      "60. Predicciones del modelo: lgb_competencia2_v016_s9169_final.txt DONE\n",
      "61. Predicciones del modelo: lgb_competencia2_v016_s2537_final.txt DONE\n",
      "62. Predicciones del modelo: lgb_competencia2_v016_s4070_final.txt DONE\n",
      "63. Predicciones del modelo: lgb_competencia2_v016_s5458_final.txt DONE\n",
      "64. Predicciones del modelo: lgb_competencia2_v016_s7383_final.txt DONE\n",
      "65. Predicciones del modelo: lgb_competencia2_v016_s137_final.txt DONE\n",
      "66. Predicciones del modelo: lgb_competencia2_v016_s8414_final.txt DONE\n",
      "67. Predicciones del modelo: lgb_competencia2_v016_s6327_final.txt DONE\n",
      "68. Predicciones del modelo: lgb_competencia2_v016_s3119_final.txt DONE\n",
      "69. Predicciones del modelo: lgb_competencia2_v016_s5659_final.txt DONE\n",
      "70. Predicciones del modelo: lgb_competencia2_v016_s2907_final.txt DONE\n",
      "71. Predicciones del modelo: lgb_competencia2_v016_s9390_final.txt DONE\n",
      "72. Predicciones del modelo: lgb_competencia2_v016_s7055_final.txt DONE\n",
      "73. Predicciones del modelo: lgb_competencia2_v016_s9770_final.txt DONE\n",
      "74. Predicciones del modelo: lgb_competencia2_v016_s9614_final.txt DONE\n",
      "75. Predicciones del modelo: lgb_competencia2_v016_s6769_final.txt DONE\n",
      "76. Predicciones del modelo: lgb_competencia2_v016_s694_final.txt DONE\n",
      "77. Predicciones del modelo: lgb_competencia2_v016_s7854_final.txt DONE\n",
      "78. Predicciones del modelo: lgb_competencia2_v016_s9925_final.txt DONE\n",
      "79. Predicciones del modelo: lgb_competencia2_v016_s7895_final.txt DONE\n",
      "80. Predicciones del modelo: lgb_competencia2_v016_s5259_final.txt DONE\n",
      "81. Predicciones del modelo: lgb_competencia2_v016_s9598_final.txt DONE\n",
      "82. Predicciones del modelo: lgb_competencia2_v016_s6352_final.txt DONE\n",
      "83. Predicciones del modelo: lgb_competencia2_v016_s7884_final.txt DONE\n",
      "84. Predicciones del modelo: lgb_competencia2_v016_s5592_final.txt DONE\n",
      "85. Predicciones del modelo: lgb_competencia2_v016_s7017_final.txt DONE\n",
      "86. Predicciones del modelo: lgb_competencia2_v016_s7374_final.txt DONE\n",
      "87. Predicciones del modelo: lgb_competencia2_v016_s2208_final.txt DONE\n",
      "88. Predicciones del modelo: lgb_competencia2_v016_s7364_final.txt DONE\n",
      "89. Predicciones del modelo: lgb_competencia2_v016_s1995_final.txt DONE\n",
      "90. Predicciones del modelo: lgb_competencia2_v016_s7264_final.txt DONE\n",
      "91. Predicciones del modelo: lgb_competencia2_v016_s2520_final.txt DONE\n",
      "92. Predicciones del modelo: lgb_competencia2_v016_s3922_final.txt DONE\n",
      "93. Predicciones del modelo: lgb_competencia2_v016_s7704_final.txt DONE\n",
      "94. Predicciones del modelo: lgb_competencia2_v016_s2333_final.txt DONE\n",
      "95. Predicciones del modelo: lgb_competencia2_v016_s1601_final.txt DONE\n",
      "96. Predicciones del modelo: lgb_competencia2_v016_s2534_final.txt DONE\n",
      "97. Predicciones del modelo: lgb_competencia2_v016_s6556_final.txt DONE\n"
     ]
    },
    {
     "name": "stderr",
     "output_type": "stream",
     "text": [
      "C:\\Users\\eaneg\\AppData\\Local\\Temp\\ipykernel_25892\\3353481977.py:11: PerformanceWarning: DataFrame is highly fragmented.  This is usually the result of calling `frame.insert` many times, which has poor performance.  Consider joining all columns at once using pd.concat(axis=1) instead. To get a de-fragmented frame, use `newframe = frame.copy()`\n",
      "  X_test_with_predictions[f'pred_lgm_{semillas[counter]}'] = y_pred_lgm\n"
     ]
    },
    {
     "name": "stdout",
     "output_type": "stream",
     "text": [
      "98. Predicciones del modelo: lgb_competencia2_v016_s9072_final.txt DONE\n",
      "99. Predicciones del modelo: lgb_competencia2_v016_s3046_final.txt DONE\n"
     ]
    },
    {
     "name": "stderr",
     "output_type": "stream",
     "text": [
      "C:\\Users\\eaneg\\AppData\\Local\\Temp\\ipykernel_25892\\3353481977.py:11: PerformanceWarning: DataFrame is highly fragmented.  This is usually the result of calling `frame.insert` many times, which has poor performance.  Consider joining all columns at once using pd.concat(axis=1) instead. To get a de-fragmented frame, use `newframe = frame.copy()`\n",
      "  X_test_with_predictions[f'pred_lgm_{semillas[counter]}'] = y_pred_lgm\n"
     ]
    }
   ],
   "source": [
    "counter = 0\n",
    "\n",
    "for modelo in modelos:\n",
    "    \n",
    "    # cargamos el modelo\n",
    "    model = lgb.Booster(model_file=f'{modelos_path}{version}/{modelo}')\n",
    "    \n",
    "    # predecimos para agosto\n",
    "    X_test = data.drop(['clase_ternaria', 'clase_peso', 'clase_binaria'], axis=1).copy()\n",
    "    y_pred_lgm = model.predict(X_test)\n",
    "    X_test_with_predictions[f'pred_lgm_{semillas[counter]}'] = y_pred_lgm\n",
    "    \n",
    "    print(f'{counter}. Predicciones del modelo: {modelo} DONE')\n",
    "    \n",
    "    counter += 1"
   ]
  },
  {
   "cell_type": "code",
   "execution_count": 26,
   "metadata": {},
   "outputs": [],
   "source": [
    "X_test_with_predictions = X_test_with_predictions.copy()"
   ]
  },
  {
   "cell_type": "code",
   "execution_count": 27,
   "metadata": {},
   "outputs": [
    {
     "data": {
      "text/plain": [
       "['pred_lgm_1149',\n",
       " 'pred_lgm_4836',\n",
       " 'pred_lgm_9443',\n",
       " 'pred_lgm_7483',\n",
       " 'pred_lgm_3492',\n",
       " 'pred_lgm_6287',\n",
       " 'pred_lgm_830',\n",
       " 'pred_lgm_3294',\n",
       " 'pred_lgm_5932',\n",
       " 'pred_lgm_815',\n",
       " 'pred_lgm_7070',\n",
       " 'pred_lgm_1529',\n",
       " 'pred_lgm_3454',\n",
       " 'pred_lgm_6073',\n",
       " 'pred_lgm_7831',\n",
       " 'pred_lgm_1069',\n",
       " 'pred_lgm_3632',\n",
       " 'pred_lgm_953',\n",
       " 'pred_lgm_368',\n",
       " 'pred_lgm_3999',\n",
       " 'pred_lgm_9981',\n",
       " 'pred_lgm_906',\n",
       " 'pred_lgm_6792',\n",
       " 'pred_lgm_1439',\n",
       " 'pred_lgm_8439',\n",
       " 'pred_lgm_9240',\n",
       " 'pred_lgm_8162',\n",
       " 'pred_lgm_32',\n",
       " 'pred_lgm_5785',\n",
       " 'pred_lgm_1013',\n",
       " 'pred_lgm_2747',\n",
       " 'pred_lgm_2702',\n",
       " 'pred_lgm_4807',\n",
       " 'pred_lgm_831',\n",
       " 'pred_lgm_3985',\n",
       " 'pred_lgm_4003',\n",
       " 'pred_lgm_4758',\n",
       " 'pred_lgm_7955',\n",
       " 'pred_lgm_3976',\n",
       " 'pred_lgm_5436',\n",
       " 'pred_lgm_8634',\n",
       " 'pred_lgm_2511',\n",
       " 'pred_lgm_8627',\n",
       " 'pred_lgm_6888',\n",
       " 'pred_lgm_4179',\n",
       " 'pred_lgm_1565',\n",
       " 'pred_lgm_9181',\n",
       " 'pred_lgm_6389',\n",
       " 'pred_lgm_5879',\n",
       " 'pred_lgm_1216',\n",
       " 'pred_lgm_8749',\n",
       " 'pred_lgm_8996',\n",
       " 'pred_lgm_99',\n",
       " 'pred_lgm_1481',\n",
       " 'pred_lgm_4120',\n",
       " 'pred_lgm_8561',\n",
       " 'pred_lgm_7008',\n",
       " 'pred_lgm_5624',\n",
       " 'pred_lgm_271',\n",
       " 'pred_lgm_5204',\n",
       " 'pred_lgm_9169',\n",
       " 'pred_lgm_2537',\n",
       " 'pred_lgm_4070',\n",
       " 'pred_lgm_5458',\n",
       " 'pred_lgm_7383',\n",
       " 'pred_lgm_137',\n",
       " 'pred_lgm_8414',\n",
       " 'pred_lgm_6327',\n",
       " 'pred_lgm_3119',\n",
       " 'pred_lgm_5659',\n",
       " 'pred_lgm_2907',\n",
       " 'pred_lgm_9390',\n",
       " 'pred_lgm_7055',\n",
       " 'pred_lgm_9770',\n",
       " 'pred_lgm_9614',\n",
       " 'pred_lgm_6769',\n",
       " 'pred_lgm_694',\n",
       " 'pred_lgm_7854',\n",
       " 'pred_lgm_9925',\n",
       " 'pred_lgm_7895',\n",
       " 'pred_lgm_5259',\n",
       " 'pred_lgm_9598',\n",
       " 'pred_lgm_6352',\n",
       " 'pred_lgm_7884',\n",
       " 'pred_lgm_5592',\n",
       " 'pred_lgm_7017',\n",
       " 'pred_lgm_7374',\n",
       " 'pred_lgm_2208',\n",
       " 'pred_lgm_7364',\n",
       " 'pred_lgm_1995',\n",
       " 'pred_lgm_7264',\n",
       " 'pred_lgm_2520',\n",
       " 'pred_lgm_3922',\n",
       " 'pred_lgm_7704',\n",
       " 'pred_lgm_2333',\n",
       " 'pred_lgm_1601',\n",
       " 'pred_lgm_2534',\n",
       " 'pred_lgm_6556',\n",
       " 'pred_lgm_9072',\n",
       " 'pred_lgm_3046']"
      ]
     },
     "execution_count": 27,
     "metadata": {},
     "output_type": "execute_result"
    }
   ],
   "source": [
    "individual_predictions = X_test_with_predictions.iloc[:, -100:].columns.tolist()\n",
    "individual_predictions"
   ]
  },
  {
   "cell_type": "markdown",
   "metadata": {},
   "source": [
    "### Semillero 100"
   ]
  },
  {
   "cell_type": "code",
   "execution_count": 26,
   "metadata": {},
   "outputs": [],
   "source": [
    "X_test_with_predictions['predicted_avg'] = X_test_with_predictions.iloc[:, -100:].mean(axis=1)"
   ]
  },
  {
   "cell_type": "code",
   "execution_count": 27,
   "metadata": {},
   "outputs": [],
   "source": [
    "# ordeno de mayor probabilidad de baja a menor\n",
    "idx = np.argsort(X_test_with_predictions['predicted_avg'])[::-1]\n",
    "X_test_with_predictions.reset_index(drop=True, inplace=True)\n",
    "X_test_with_predictions = X_test_with_predictions.iloc[idx]"
   ]
  },
  {
   "cell_type": "markdown",
   "metadata": {},
   "source": [
    "Se prueban varios puntos de corte"
   ]
  },
  {
   "cell_type": "code",
   "execution_count": 28,
   "metadata": {},
   "outputs": [
    {
     "data": {
      "text/plain": [
       "array([ 9000,  9081,  9163,  9244,  9326,  9408,  9489,  9571,  9653,\n",
       "        9734,  9816,  9897,  9979, 10061, 10142, 10224, 10306, 10387,\n",
       "       10469, 10551, 10632, 10714, 10795, 10877, 10959, 11040, 11122,\n",
       "       11204, 11285, 11367, 11448, 11530, 11612, 11693, 11775, 11857,\n",
       "       11938, 12020, 12102, 12183, 12265, 12346, 12428, 12510, 12591,\n",
       "       12673, 12755, 12836, 12918, 13000])"
      ]
     },
     "execution_count": 28,
     "metadata": {},
     "output_type": "execute_result"
    }
   ],
   "source": [
    "puntos_corte = np.linspace(9000, 13000, 50).astype(int)\n",
    "puntos_corte"
   ]
  },
  {
   "cell_type": "code",
   "execution_count": 30,
   "metadata": {},
   "outputs": [
    {
     "name": "stdout",
     "output_type": "stream",
     "text": [
      "1. corte: 9000, C:/Eugenio/Maestria/DMEyF/exp/competencia_2/v016/results_v016_1.csv\n",
      "2. corte: 9081, C:/Eugenio/Maestria/DMEyF/exp/competencia_2/v016/results_v016_2.csv\n",
      "3. corte: 9163, C:/Eugenio/Maestria/DMEyF/exp/competencia_2/v016/results_v016_3.csv\n",
      "4. corte: 9244, C:/Eugenio/Maestria/DMEyF/exp/competencia_2/v016/results_v016_4.csv\n",
      "5. corte: 9326, C:/Eugenio/Maestria/DMEyF/exp/competencia_2/v016/results_v016_5.csv\n",
      "6. corte: 9408, C:/Eugenio/Maestria/DMEyF/exp/competencia_2/v016/results_v016_6.csv\n",
      "7. corte: 9489, C:/Eugenio/Maestria/DMEyF/exp/competencia_2/v016/results_v016_7.csv\n",
      "8. corte: 9571, C:/Eugenio/Maestria/DMEyF/exp/competencia_2/v016/results_v016_8.csv\n",
      "9. corte: 9653, C:/Eugenio/Maestria/DMEyF/exp/competencia_2/v016/results_v016_9.csv\n",
      "10. corte: 9734, C:/Eugenio/Maestria/DMEyF/exp/competencia_2/v016/results_v016_10.csv\n",
      "11. corte: 9816, C:/Eugenio/Maestria/DMEyF/exp/competencia_2/v016/results_v016_11.csv\n",
      "12. corte: 9897, C:/Eugenio/Maestria/DMEyF/exp/competencia_2/v016/results_v016_12.csv\n",
      "13. corte: 9979, C:/Eugenio/Maestria/DMEyF/exp/competencia_2/v016/results_v016_13.csv\n",
      "14. corte: 10061, C:/Eugenio/Maestria/DMEyF/exp/competencia_2/v016/results_v016_14.csv\n",
      "15. corte: 10142, C:/Eugenio/Maestria/DMEyF/exp/competencia_2/v016/results_v016_15.csv\n",
      "16. corte: 10224, C:/Eugenio/Maestria/DMEyF/exp/competencia_2/v016/results_v016_16.csv\n",
      "17. corte: 10306, C:/Eugenio/Maestria/DMEyF/exp/competencia_2/v016/results_v016_17.csv\n",
      "18. corte: 10387, C:/Eugenio/Maestria/DMEyF/exp/competencia_2/v016/results_v016_18.csv\n",
      "19. corte: 10469, C:/Eugenio/Maestria/DMEyF/exp/competencia_2/v016/results_v016_19.csv\n",
      "20. corte: 10551, C:/Eugenio/Maestria/DMEyF/exp/competencia_2/v016/results_v016_20.csv\n",
      "21. corte: 10632, C:/Eugenio/Maestria/DMEyF/exp/competencia_2/v016/results_v016_21.csv\n",
      "22. corte: 10714, C:/Eugenio/Maestria/DMEyF/exp/competencia_2/v016/results_v016_22.csv\n",
      "23. corte: 10795, C:/Eugenio/Maestria/DMEyF/exp/competencia_2/v016/results_v016_23.csv\n",
      "24. corte: 10877, C:/Eugenio/Maestria/DMEyF/exp/competencia_2/v016/results_v016_24.csv\n",
      "25. corte: 10959, C:/Eugenio/Maestria/DMEyF/exp/competencia_2/v016/results_v016_25.csv\n",
      "26. corte: 11040, C:/Eugenio/Maestria/DMEyF/exp/competencia_2/v016/results_v016_26.csv\n",
      "27. corte: 11122, C:/Eugenio/Maestria/DMEyF/exp/competencia_2/v016/results_v016_27.csv\n",
      "28. corte: 11204, C:/Eugenio/Maestria/DMEyF/exp/competencia_2/v016/results_v016_28.csv\n",
      "29. corte: 11285, C:/Eugenio/Maestria/DMEyF/exp/competencia_2/v016/results_v016_29.csv\n",
      "30. corte: 11367, C:/Eugenio/Maestria/DMEyF/exp/competencia_2/v016/results_v016_30.csv\n",
      "31. corte: 11448, C:/Eugenio/Maestria/DMEyF/exp/competencia_2/v016/results_v016_31.csv\n",
      "32. corte: 11530, C:/Eugenio/Maestria/DMEyF/exp/competencia_2/v016/results_v016_32.csv\n",
      "33. corte: 11612, C:/Eugenio/Maestria/DMEyF/exp/competencia_2/v016/results_v016_33.csv\n",
      "34. corte: 11693, C:/Eugenio/Maestria/DMEyF/exp/competencia_2/v016/results_v016_34.csv\n",
      "35. corte: 11775, C:/Eugenio/Maestria/DMEyF/exp/competencia_2/v016/results_v016_35.csv\n",
      "36. corte: 11857, C:/Eugenio/Maestria/DMEyF/exp/competencia_2/v016/results_v016_36.csv\n",
      "37. corte: 11938, C:/Eugenio/Maestria/DMEyF/exp/competencia_2/v016/results_v016_37.csv\n",
      "38. corte: 12020, C:/Eugenio/Maestria/DMEyF/exp/competencia_2/v016/results_v016_38.csv\n",
      "39. corte: 12102, C:/Eugenio/Maestria/DMEyF/exp/competencia_2/v016/results_v016_39.csv\n",
      "40. corte: 12183, C:/Eugenio/Maestria/DMEyF/exp/competencia_2/v016/results_v016_40.csv\n",
      "41. corte: 12265, C:/Eugenio/Maestria/DMEyF/exp/competencia_2/v016/results_v016_41.csv\n",
      "42. corte: 12346, C:/Eugenio/Maestria/DMEyF/exp/competencia_2/v016/results_v016_42.csv\n",
      "43. corte: 12428, C:/Eugenio/Maestria/DMEyF/exp/competencia_2/v016/results_v016_43.csv\n",
      "44. corte: 12510, C:/Eugenio/Maestria/DMEyF/exp/competencia_2/v016/results_v016_44.csv\n",
      "45. corte: 12591, C:/Eugenio/Maestria/DMEyF/exp/competencia_2/v016/results_v016_45.csv\n",
      "46. corte: 12673, C:/Eugenio/Maestria/DMEyF/exp/competencia_2/v016/results_v016_46.csv\n",
      "47. corte: 12755, C:/Eugenio/Maestria/DMEyF/exp/competencia_2/v016/results_v016_47.csv\n",
      "48. corte: 12836, C:/Eugenio/Maestria/DMEyF/exp/competencia_2/v016/results_v016_48.csv\n",
      "49. corte: 12918, C:/Eugenio/Maestria/DMEyF/exp/competencia_2/v016/results_v016_49.csv\n",
      "50. corte: 13000, C:/Eugenio/Maestria/DMEyF/exp/competencia_2/v016/results_v016_50.csv\n"
     ]
    }
   ],
   "source": [
    "counter = 0\n",
    "\n",
    "for corte in puntos_corte:\n",
    "    \n",
    "    envios = np.zeros(len(X_test_with_predictions), dtype=int)\n",
    "    envios[:corte] = 1\n",
    "    X_test_with_predictions['Predicted'] = envios\n",
    "    \n",
    "    output = X_test_with_predictions[['numero_de_cliente', 'Predicted']]\n",
    "        \n",
    "    counter += 1\n",
    "    \n",
    "    file_name = f'results_{version}_{counter}.csv'\n",
    "    output_path = base_path + f'exp/competencia_2/{version}/' + file_name\n",
    "    \n",
    "    output.to_csv(output_path, index=False)\n",
    "            \n",
    "    print(f'{counter}. corte: {corte}, {output_path}')"
   ]
  },
  {
   "cell_type": "markdown",
   "metadata": {},
   "source": [
    "### Semilleros 20"
   ]
  },
  {
   "cell_type": "code",
   "execution_count": 28,
   "metadata": {},
   "outputs": [],
   "source": [
    "X_test_with_predictions['predicted_avg_s1'] = X_test_with_predictions.loc[:, individual_predictions[0:20]].mean(axis=1)\n",
    "X_test_with_predictions['predicted_avg_s2'] = X_test_with_predictions.loc[:, individual_predictions[20:40]].mean(axis=1)\n",
    "X_test_with_predictions['predicted_avg_s3'] = X_test_with_predictions.loc[:, individual_predictions[40:60]].mean(axis=1)\n",
    "X_test_with_predictions['predicted_avg_s4'] = X_test_with_predictions.loc[:, individual_predictions[60:80]].mean(axis=1)\n",
    "X_test_with_predictions['predicted_avg_s5'] = X_test_with_predictions.loc[:, individual_predictions[80:100]].mean(axis=1)"
   ]
  },
  {
   "cell_type": "code",
   "execution_count": 29,
   "metadata": {},
   "outputs": [
    {
     "data": {
      "text/plain": [
       "array([10000, 10157, 10315, 10473, 10631, 10789, 10947, 11105, 11263,\n",
       "       11421, 11578, 11736, 11894, 12052, 12210, 12368, 12526, 12684,\n",
       "       12842, 13000])"
      ]
     },
     "execution_count": 29,
     "metadata": {},
     "output_type": "execute_result"
    }
   ],
   "source": [
    "puntos_corte = np.linspace(10000, 13000, 20).astype(int)\n",
    "puntos_corte"
   ]
  },
  {
   "cell_type": "code",
   "execution_count": null,
   "metadata": {},
   "outputs": [
    {
     "name": "stdout",
     "output_type": "stream",
     "text": [
      "1. corte: 10000, C:/Eugenio/Maestria/DMEyF/exp/competencia_2/v016/results_v016_s1_1.csv\n",
      "2. corte: 10157, C:/Eugenio/Maestria/DMEyF/exp/competencia_2/v016/results_v016_s1_2.csv\n",
      "3. corte: 10315, C:/Eugenio/Maestria/DMEyF/exp/competencia_2/v016/results_v016_s1_3.csv\n",
      "4. corte: 10473, C:/Eugenio/Maestria/DMEyF/exp/competencia_2/v016/results_v016_s1_4.csv\n",
      "5. corte: 10631, C:/Eugenio/Maestria/DMEyF/exp/competencia_2/v016/results_v016_s1_5.csv\n",
      "6. corte: 10789, C:/Eugenio/Maestria/DMEyF/exp/competencia_2/v016/results_v016_s1_6.csv\n",
      "7. corte: 10947, C:/Eugenio/Maestria/DMEyF/exp/competencia_2/v016/results_v016_s1_7.csv\n",
      "8. corte: 11105, C:/Eugenio/Maestria/DMEyF/exp/competencia_2/v016/results_v016_s1_8.csv\n",
      "9. corte: 11263, C:/Eugenio/Maestria/DMEyF/exp/competencia_2/v016/results_v016_s1_9.csv\n",
      "10. corte: 11421, C:/Eugenio/Maestria/DMEyF/exp/competencia_2/v016/results_v016_s1_10.csv\n",
      "11. corte: 11578, C:/Eugenio/Maestria/DMEyF/exp/competencia_2/v016/results_v016_s1_11.csv\n",
      "12. corte: 11736, C:/Eugenio/Maestria/DMEyF/exp/competencia_2/v016/results_v016_s1_12.csv\n",
      "13. corte: 11894, C:/Eugenio/Maestria/DMEyF/exp/competencia_2/v016/results_v016_s1_13.csv\n",
      "14. corte: 12052, C:/Eugenio/Maestria/DMEyF/exp/competencia_2/v016/results_v016_s1_14.csv\n",
      "15. corte: 12210, C:/Eugenio/Maestria/DMEyF/exp/competencia_2/v016/results_v016_s1_15.csv\n",
      "16. corte: 12368, C:/Eugenio/Maestria/DMEyF/exp/competencia_2/v016/results_v016_s1_16.csv\n",
      "17. corte: 12526, C:/Eugenio/Maestria/DMEyF/exp/competencia_2/v016/results_v016_s1_17.csv\n",
      "18. corte: 12684, C:/Eugenio/Maestria/DMEyF/exp/competencia_2/v016/results_v016_s1_18.csv\n",
      "19. corte: 12842, C:/Eugenio/Maestria/DMEyF/exp/competencia_2/v016/results_v016_s1_19.csv\n",
      "20. corte: 13000, C:/Eugenio/Maestria/DMEyF/exp/competencia_2/v016/results_v016_s1_20.csv\n"
     ]
    }
   ],
   "source": [
    "# ordeno de mayor probabilidad de baja a menor\n",
    "idx = np.argsort(X_test_with_predictions['predicted_avg_s1'])[::-1]\n",
    "X_test_with_predictions.reset_index(drop=True, inplace=True)\n",
    "X_test_with_predictions = X_test_with_predictions.iloc[idx]\n",
    "\n",
    "subsemillero = 's1'\n",
    "\n",
    "counter = 0\n",
    "\n",
    "for corte in puntos_corte:\n",
    "    \n",
    "    envios = np.zeros(len(X_test_with_predictions), dtype=int)\n",
    "    envios[:corte] = 1\n",
    "    X_test_with_predictions.loc[:, 'Predicted'] = envios\n",
    "    \n",
    "    output = X_test_with_predictions[['numero_de_cliente', 'Predicted']].copy()\n",
    "        \n",
    "    counter += 1\n",
    "    \n",
    "    file_name = f'results_{version}_{subsemillero}_{counter}.csv'\n",
    "    output_path = base_path + f'exp/competencia_2/{version}/' + file_name\n",
    "    \n",
    "    output.to_csv(output_path, index=False)\n",
    "            \n",
    "    print(f'{counter}. corte: {corte}, {output_path}')"
   ]
  },
  {
   "cell_type": "code",
   "execution_count": 32,
   "metadata": {},
   "outputs": [
    {
     "name": "stdout",
     "output_type": "stream",
     "text": [
      "1. corte: 10000, C:/Eugenio/Maestria/DMEyF/exp/competencia_2/v016/results_v016_s2_1.csv\n",
      "2. corte: 10157, C:/Eugenio/Maestria/DMEyF/exp/competencia_2/v016/results_v016_s2_2.csv\n",
      "3. corte: 10315, C:/Eugenio/Maestria/DMEyF/exp/competencia_2/v016/results_v016_s2_3.csv\n",
      "4. corte: 10473, C:/Eugenio/Maestria/DMEyF/exp/competencia_2/v016/results_v016_s2_4.csv\n",
      "5. corte: 10631, C:/Eugenio/Maestria/DMEyF/exp/competencia_2/v016/results_v016_s2_5.csv\n",
      "6. corte: 10789, C:/Eugenio/Maestria/DMEyF/exp/competencia_2/v016/results_v016_s2_6.csv\n",
      "7. corte: 10947, C:/Eugenio/Maestria/DMEyF/exp/competencia_2/v016/results_v016_s2_7.csv\n",
      "8. corte: 11105, C:/Eugenio/Maestria/DMEyF/exp/competencia_2/v016/results_v016_s2_8.csv\n",
      "9. corte: 11263, C:/Eugenio/Maestria/DMEyF/exp/competencia_2/v016/results_v016_s2_9.csv\n",
      "10. corte: 11421, C:/Eugenio/Maestria/DMEyF/exp/competencia_2/v016/results_v016_s2_10.csv\n",
      "11. corte: 11578, C:/Eugenio/Maestria/DMEyF/exp/competencia_2/v016/results_v016_s2_11.csv\n",
      "12. corte: 11736, C:/Eugenio/Maestria/DMEyF/exp/competencia_2/v016/results_v016_s2_12.csv\n",
      "13. corte: 11894, C:/Eugenio/Maestria/DMEyF/exp/competencia_2/v016/results_v016_s2_13.csv\n",
      "14. corte: 12052, C:/Eugenio/Maestria/DMEyF/exp/competencia_2/v016/results_v016_s2_14.csv\n",
      "15. corte: 12210, C:/Eugenio/Maestria/DMEyF/exp/competencia_2/v016/results_v016_s2_15.csv\n",
      "16. corte: 12368, C:/Eugenio/Maestria/DMEyF/exp/competencia_2/v016/results_v016_s2_16.csv\n",
      "17. corte: 12526, C:/Eugenio/Maestria/DMEyF/exp/competencia_2/v016/results_v016_s2_17.csv\n",
      "18. corte: 12684, C:/Eugenio/Maestria/DMEyF/exp/competencia_2/v016/results_v016_s2_18.csv\n",
      "19. corte: 12842, C:/Eugenio/Maestria/DMEyF/exp/competencia_2/v016/results_v016_s2_19.csv\n",
      "20. corte: 13000, C:/Eugenio/Maestria/DMEyF/exp/competencia_2/v016/results_v016_s2_20.csv\n"
     ]
    }
   ],
   "source": [
    "# ordeno de mayor probabilidad de baja a menor\n",
    "idx = np.argsort(X_test_with_predictions['predicted_avg_s2'])[::-1]\n",
    "X_test_with_predictions.reset_index(drop=True, inplace=True)\n",
    "X_test_with_predictions = X_test_with_predictions.iloc[idx]\n",
    "\n",
    "subsemillero = 's2'\n",
    "\n",
    "counter = 0\n",
    "\n",
    "for corte in puntos_corte:\n",
    "    \n",
    "    envios = np.zeros(len(X_test_with_predictions), dtype=int)\n",
    "    envios[:corte] = 1\n",
    "    X_test_with_predictions.loc[:, 'Predicted'] = envios\n",
    "    \n",
    "    output = X_test_with_predictions[['numero_de_cliente', 'Predicted']].copy()\n",
    "        \n",
    "    counter += 1\n",
    "    \n",
    "    file_name = f'results_{version}_{subsemillero}_{counter}.csv'\n",
    "    output_path = base_path + f'exp/competencia_2/{version}/' + file_name\n",
    "    \n",
    "    output.to_csv(output_path, index=False)\n",
    "            \n",
    "    print(f'{counter}. corte: {corte}, {output_path}')"
   ]
  },
  {
   "cell_type": "code",
   "execution_count": 33,
   "metadata": {},
   "outputs": [
    {
     "name": "stdout",
     "output_type": "stream",
     "text": [
      "1. corte: 10000, C:/Eugenio/Maestria/DMEyF/exp/competencia_2/v016/results_v016_s3_1.csv\n",
      "2. corte: 10157, C:/Eugenio/Maestria/DMEyF/exp/competencia_2/v016/results_v016_s3_2.csv\n",
      "3. corte: 10315, C:/Eugenio/Maestria/DMEyF/exp/competencia_2/v016/results_v016_s3_3.csv\n",
      "4. corte: 10473, C:/Eugenio/Maestria/DMEyF/exp/competencia_2/v016/results_v016_s3_4.csv\n",
      "5. corte: 10631, C:/Eugenio/Maestria/DMEyF/exp/competencia_2/v016/results_v016_s3_5.csv\n",
      "6. corte: 10789, C:/Eugenio/Maestria/DMEyF/exp/competencia_2/v016/results_v016_s3_6.csv\n",
      "7. corte: 10947, C:/Eugenio/Maestria/DMEyF/exp/competencia_2/v016/results_v016_s3_7.csv\n",
      "8. corte: 11105, C:/Eugenio/Maestria/DMEyF/exp/competencia_2/v016/results_v016_s3_8.csv\n",
      "9. corte: 11263, C:/Eugenio/Maestria/DMEyF/exp/competencia_2/v016/results_v016_s3_9.csv\n",
      "10. corte: 11421, C:/Eugenio/Maestria/DMEyF/exp/competencia_2/v016/results_v016_s3_10.csv\n",
      "11. corte: 11578, C:/Eugenio/Maestria/DMEyF/exp/competencia_2/v016/results_v016_s3_11.csv\n",
      "12. corte: 11736, C:/Eugenio/Maestria/DMEyF/exp/competencia_2/v016/results_v016_s3_12.csv\n",
      "13. corte: 11894, C:/Eugenio/Maestria/DMEyF/exp/competencia_2/v016/results_v016_s3_13.csv\n",
      "14. corte: 12052, C:/Eugenio/Maestria/DMEyF/exp/competencia_2/v016/results_v016_s3_14.csv\n",
      "15. corte: 12210, C:/Eugenio/Maestria/DMEyF/exp/competencia_2/v016/results_v016_s3_15.csv\n",
      "16. corte: 12368, C:/Eugenio/Maestria/DMEyF/exp/competencia_2/v016/results_v016_s3_16.csv\n",
      "17. corte: 12526, C:/Eugenio/Maestria/DMEyF/exp/competencia_2/v016/results_v016_s3_17.csv\n",
      "18. corte: 12684, C:/Eugenio/Maestria/DMEyF/exp/competencia_2/v016/results_v016_s3_18.csv\n",
      "19. corte: 12842, C:/Eugenio/Maestria/DMEyF/exp/competencia_2/v016/results_v016_s3_19.csv\n",
      "20. corte: 13000, C:/Eugenio/Maestria/DMEyF/exp/competencia_2/v016/results_v016_s3_20.csv\n"
     ]
    }
   ],
   "source": [
    "# ordeno de mayor probabilidad de baja a menor\n",
    "idx = np.argsort(X_test_with_predictions['predicted_avg_s3'])[::-1]\n",
    "X_test_with_predictions.reset_index(drop=True, inplace=True)\n",
    "X_test_with_predictions = X_test_with_predictions.iloc[idx]\n",
    "\n",
    "subsemillero = 's3'\n",
    "\n",
    "counter = 0\n",
    "\n",
    "for corte in puntos_corte:\n",
    "    \n",
    "    envios = np.zeros(len(X_test_with_predictions), dtype=int)\n",
    "    envios[:corte] = 1\n",
    "    X_test_with_predictions.loc[:, 'Predicted'] = envios\n",
    "    \n",
    "    output = X_test_with_predictions[['numero_de_cliente', 'Predicted']].copy()\n",
    "        \n",
    "    counter += 1\n",
    "    \n",
    "    file_name = f'results_{version}_{subsemillero}_{counter}.csv'\n",
    "    output_path = base_path + f'exp/competencia_2/{version}/' + file_name\n",
    "    \n",
    "    output.to_csv(output_path, index=False)\n",
    "            \n",
    "    print(f'{counter}. corte: {corte}, {output_path}')"
   ]
  },
  {
   "cell_type": "code",
   "execution_count": null,
   "metadata": {},
   "outputs": [
    {
     "name": "stdout",
     "output_type": "stream",
     "text": [
      "1. corte: 10000, C:/Eugenio/Maestria/DMEyF/exp/competencia_2/v016/results_v016_s1_1.csv\n",
      "2. corte: 10157, C:/Eugenio/Maestria/DMEyF/exp/competencia_2/v016/results_v016_s1_2.csv\n",
      "3. corte: 10315, C:/Eugenio/Maestria/DMEyF/exp/competencia_2/v016/results_v016_s1_3.csv\n",
      "4. corte: 10473, C:/Eugenio/Maestria/DMEyF/exp/competencia_2/v016/results_v016_s1_4.csv\n",
      "5. corte: 10631, C:/Eugenio/Maestria/DMEyF/exp/competencia_2/v016/results_v016_s1_5.csv\n",
      "6. corte: 10789, C:/Eugenio/Maestria/DMEyF/exp/competencia_2/v016/results_v016_s1_6.csv\n",
      "7. corte: 10947, C:/Eugenio/Maestria/DMEyF/exp/competencia_2/v016/results_v016_s1_7.csv\n",
      "8. corte: 11105, C:/Eugenio/Maestria/DMEyF/exp/competencia_2/v016/results_v016_s1_8.csv\n",
      "9. corte: 11263, C:/Eugenio/Maestria/DMEyF/exp/competencia_2/v016/results_v016_s1_9.csv\n",
      "10. corte: 11421, C:/Eugenio/Maestria/DMEyF/exp/competencia_2/v016/results_v016_s1_10.csv\n",
      "11. corte: 11578, C:/Eugenio/Maestria/DMEyF/exp/competencia_2/v016/results_v016_s1_11.csv\n",
      "12. corte: 11736, C:/Eugenio/Maestria/DMEyF/exp/competencia_2/v016/results_v016_s1_12.csv\n",
      "13. corte: 11894, C:/Eugenio/Maestria/DMEyF/exp/competencia_2/v016/results_v016_s1_13.csv\n",
      "14. corte: 12052, C:/Eugenio/Maestria/DMEyF/exp/competencia_2/v016/results_v016_s1_14.csv\n",
      "15. corte: 12210, C:/Eugenio/Maestria/DMEyF/exp/competencia_2/v016/results_v016_s1_15.csv\n",
      "16. corte: 12368, C:/Eugenio/Maestria/DMEyF/exp/competencia_2/v016/results_v016_s1_16.csv\n",
      "17. corte: 12526, C:/Eugenio/Maestria/DMEyF/exp/competencia_2/v016/results_v016_s1_17.csv\n",
      "18. corte: 12684, C:/Eugenio/Maestria/DMEyF/exp/competencia_2/v016/results_v016_s1_18.csv\n",
      "19. corte: 12842, C:/Eugenio/Maestria/DMEyF/exp/competencia_2/v016/results_v016_s1_19.csv\n",
      "20. corte: 13000, C:/Eugenio/Maestria/DMEyF/exp/competencia_2/v016/results_v016_s1_20.csv\n"
     ]
    }
   ],
   "source": [
    "# ordeno de mayor probabilidad de baja a menor\n",
    "idx = np.argsort(X_test_with_predictions['predicted_avg_s4'])[::-1]\n",
    "X_test_with_predictions.reset_index(drop=True, inplace=True)\n",
    "X_test_with_predictions = X_test_with_predictions.iloc[idx]\n",
    "\n",
    "subsemillero = 's4'\n",
    "\n",
    "counter = 0\n",
    "\n",
    "for corte in puntos_corte:\n",
    "    \n",
    "    envios = np.zeros(len(X_test_with_predictions), dtype=int)\n",
    "    envios[:corte] = 1\n",
    "    X_test_with_predictions.loc[:, 'Predicted'] = envios\n",
    "    \n",
    "    output = X_test_with_predictions[['numero_de_cliente', 'Predicted']].copy()\n",
    "        \n",
    "    counter += 1\n",
    "    \n",
    "    file_name = f'results_{version}_{subsemillero}_{counter}.csv'\n",
    "    output_path = base_path + f'exp/competencia_2/{version}/' + file_name\n",
    "    \n",
    "    output.to_csv(output_path, index=False)\n",
    "            \n",
    "    print(f'{counter}. corte: {corte}, {output_path}')"
   ]
  },
  {
   "cell_type": "code",
   "execution_count": 35,
   "metadata": {},
   "outputs": [
    {
     "name": "stdout",
     "output_type": "stream",
     "text": [
      "1. corte: 10000, C:/Eugenio/Maestria/DMEyF/exp/competencia_2/v016/results_v016_s5_1.csv\n",
      "2. corte: 10157, C:/Eugenio/Maestria/DMEyF/exp/competencia_2/v016/results_v016_s5_2.csv\n",
      "3. corte: 10315, C:/Eugenio/Maestria/DMEyF/exp/competencia_2/v016/results_v016_s5_3.csv\n",
      "4. corte: 10473, C:/Eugenio/Maestria/DMEyF/exp/competencia_2/v016/results_v016_s5_4.csv\n",
      "5. corte: 10631, C:/Eugenio/Maestria/DMEyF/exp/competencia_2/v016/results_v016_s5_5.csv\n",
      "6. corte: 10789, C:/Eugenio/Maestria/DMEyF/exp/competencia_2/v016/results_v016_s5_6.csv\n",
      "7. corte: 10947, C:/Eugenio/Maestria/DMEyF/exp/competencia_2/v016/results_v016_s5_7.csv\n",
      "8. corte: 11105, C:/Eugenio/Maestria/DMEyF/exp/competencia_2/v016/results_v016_s5_8.csv\n",
      "9. corte: 11263, C:/Eugenio/Maestria/DMEyF/exp/competencia_2/v016/results_v016_s5_9.csv\n",
      "10. corte: 11421, C:/Eugenio/Maestria/DMEyF/exp/competencia_2/v016/results_v016_s5_10.csv\n",
      "11. corte: 11578, C:/Eugenio/Maestria/DMEyF/exp/competencia_2/v016/results_v016_s5_11.csv\n",
      "12. corte: 11736, C:/Eugenio/Maestria/DMEyF/exp/competencia_2/v016/results_v016_s5_12.csv\n",
      "13. corte: 11894, C:/Eugenio/Maestria/DMEyF/exp/competencia_2/v016/results_v016_s5_13.csv\n",
      "14. corte: 12052, C:/Eugenio/Maestria/DMEyF/exp/competencia_2/v016/results_v016_s5_14.csv\n",
      "15. corte: 12210, C:/Eugenio/Maestria/DMEyF/exp/competencia_2/v016/results_v016_s5_15.csv\n",
      "16. corte: 12368, C:/Eugenio/Maestria/DMEyF/exp/competencia_2/v016/results_v016_s5_16.csv\n",
      "17. corte: 12526, C:/Eugenio/Maestria/DMEyF/exp/competencia_2/v016/results_v016_s5_17.csv\n",
      "18. corte: 12684, C:/Eugenio/Maestria/DMEyF/exp/competencia_2/v016/results_v016_s5_18.csv\n",
      "19. corte: 12842, C:/Eugenio/Maestria/DMEyF/exp/competencia_2/v016/results_v016_s5_19.csv\n",
      "20. corte: 13000, C:/Eugenio/Maestria/DMEyF/exp/competencia_2/v016/results_v016_s5_20.csv\n"
     ]
    }
   ],
   "source": [
    "# ordeno de mayor probabilidad de baja a menor\n",
    "idx = np.argsort(X_test_with_predictions['predicted_avg_s5'])[::-1]\n",
    "X_test_with_predictions.reset_index(drop=True, inplace=True)\n",
    "X_test_with_predictions = X_test_with_predictions.iloc[idx]\n",
    "\n",
    "subsemillero = 's5'\n",
    "\n",
    "counter = 0\n",
    "\n",
    "for corte in puntos_corte:\n",
    "    \n",
    "    envios = np.zeros(len(X_test_with_predictions), dtype=int)\n",
    "    envios[:corte] = 1\n",
    "    X_test_with_predictions.loc[:, 'Predicted'] = envios\n",
    "    \n",
    "    output = X_test_with_predictions[['numero_de_cliente', 'Predicted']].copy()\n",
    "        \n",
    "    counter += 1\n",
    "    \n",
    "    file_name = f'results_{version}_{subsemillero}_{counter}.csv'\n",
    "    output_path = base_path + f'exp/competencia_2/{version}/' + file_name\n",
    "    \n",
    "    output.to_csv(output_path, index=False)\n",
    "            \n",
    "    print(f'{counter}. corte: {corte}, {output_path}')"
   ]
  },
  {
   "cell_type": "code",
   "execution_count": null,
   "metadata": {},
   "outputs": [],
   "source": []
  }
 ],
 "metadata": {
  "kernelspec": {
   "display_name": "Python 3",
   "language": "python",
   "name": "python3"
  },
  "language_info": {
   "codemirror_mode": {
    "name": "ipython",
    "version": 3
   },
   "file_extension": ".py",
   "mimetype": "text/x-python",
   "name": "python",
   "nbconvert_exporter": "python",
   "pygments_lexer": "ipython3",
   "version": "3.12.5"
  }
 },
 "nbformat": 4,
 "nbformat_minor": 2
}

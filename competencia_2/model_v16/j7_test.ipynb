{
 "cells": [
  {
   "cell_type": "code",
   "execution_count": 1,
   "metadata": {},
   "outputs": [],
   "source": [
    "import pandas as pd\n",
    "import polars as pl\n",
    "import numpy as np\n",
    "import lightgbm as lgb\n",
    "\n",
    "import os\n",
    "import matplotlib.pyplot as plt"
   ]
  },
  {
   "cell_type": "code",
   "execution_count": null,
   "metadata": {},
   "outputs": [],
   "source": [
    "# base_path = '/content/drive/MyDrive/DMEyF/2024/'\n",
    "base_path = 'C:/Eugenio/Maestria/DMEyF/'\n",
    "# base_path = '/home/eanegrin/buckets/b1/'\n",
    "\n",
    "dataset_path = base_path + 'datasets/'\n",
    "modelos_path = base_path + 'modelos/'\n",
    "db_path = base_path + 'db/'\n",
    "dataset_file = 'competencia_02_fe_v01.parquet'\n",
    "\n",
    "ganancia_acierto = 273000\n",
    "costo_estimulo = 7000"
   ]
  },
  {
   "cell_type": "code",
   "execution_count": null,
   "metadata": {},
   "outputs": [],
   "source": [
    "semillas = [1149, 4836, 9443, 7483, 3492, 6287,  830, 3294, 5932,  815, 7070,\n",
    "       1529, 3454, 6073, 7831, 1069, 3632,  953,  368, 3999, 9981,  906,\n",
    "       6792, 1439, 8439, 9240, 8162,   32, 5785, 1013, 2747, 2702, 4807,\n",
    "       831, 3985, 4003, 4758, 7955, 3976, 5436, 8634, 2511, 8627, 6888,\n",
    "       4179, 1565, 9181, 6389, 5879, 1216, 8749, 8996,   99, 1481, 4120,\n",
    "       8561, 7008, 5624,  271, 5204, 9169, 2537, 4070, 5458, 7383,  137,\n",
    "       8414, 6327, 3119, 5659, 2907, 9390, 7055, 9770, 9614, 6769,  694,\n",
    "       7854, 9925, 7895, 5259, 9598, 6352, 7884, 5592, 7017, 7374, 2208,\n",
    "       7364, 1995, 7264, 2520, 3922, 7704, 2333, 1601, 2534, 6556, 9072,\n",
    "       3046]"
   ]
  },
  {
   "cell_type": "code",
   "execution_count": 3,
   "metadata": {},
   "outputs": [],
   "source": [
    "data = pl.scan_parquet(dataset_path + dataset_file).filter(pl.col(\"foto_mes\") == 202106).collect()"
   ]
  },
  {
   "cell_type": "code",
   "execution_count": 4,
   "metadata": {},
   "outputs": [],
   "source": [
    "# convierto a pandas dataframe\n",
    "data = data.to_pandas()"
   ]
  },
  {
   "cell_type": "code",
   "execution_count": 5,
   "metadata": {},
   "outputs": [],
   "source": [
    "# Asignamos pesos a las clases\n",
    "\n",
    "data['clase_peso'] = 1.0\n",
    "\n",
    "data.loc[data['clase_ternaria'] == 'BAJA+2', 'clase_peso'] = 1.00002\n",
    "data.loc[data['clase_ternaria'] == 'BAJA+1', 'clase_peso'] = 1.00001"
   ]
  },
  {
   "cell_type": "code",
   "execution_count": 6,
   "metadata": {},
   "outputs": [],
   "source": [
    "data['clase_binaria'] = 0\n",
    "data['clase_binaria'] = np.where(data['clase_ternaria'] == 'BAJA+2', 1, 0)"
   ]
  },
  {
   "cell_type": "code",
   "execution_count": 7,
   "metadata": {},
   "outputs": [],
   "source": [
    "X_test = data.drop(['clase_ternaria', 'clase_peso', 'clase_binaria'], axis=1)\n",
    "y_test = data['clase_binaria']\n",
    "w_test = data['clase_peso']"
   ]
  },
  {
   "cell_type": "markdown",
   "metadata": {},
   "source": [
    "Cargo los modelos pre-entrenados"
   ]
  },
  {
   "cell_type": "code",
   "execution_count": 8,
   "metadata": {},
   "outputs": [],
   "source": [
    "version = 'v016'\n",
    "\n",
    "modelos_folder = modelos_path + version\n",
    "\n",
    "modelos = [f'{modelos_folder}/{modelo}' for modelo in os.listdir(modelos_folder)]"
   ]
  },
  {
   "cell_type": "code",
   "execution_count": 9,
   "metadata": {},
   "outputs": [
    {
     "data": {
      "text/plain": [
       "100"
      ]
     },
     "execution_count": 9,
     "metadata": {},
     "output_type": "execute_result"
    }
   ],
   "source": [
    "len(modelos)"
   ]
  },
  {
   "cell_type": "code",
   "execution_count": 10,
   "metadata": {},
   "outputs": [],
   "source": [
    "X_test_with_predictions = data.drop(['clase_ternaria', 'clase_peso', 'clase_binaria'], axis=1).copy()"
   ]
  },
  {
   "cell_type": "code",
   "execution_count": 13,
   "metadata": {},
   "outputs": [
    {
     "name": "stdout",
     "output_type": "stream",
     "text": [
      "Predicciones del modelo: C:/Eugenio/Maestria/DMEyF/modelos/v016/lgb_competencia2_v016_s1013.txt DONE\n",
      "Predicciones del modelo: C:/Eugenio/Maestria/DMEyF/modelos/v016/lgb_competencia2_v016_s1069.txt DONE\n",
      "Predicciones del modelo: C:/Eugenio/Maestria/DMEyF/modelos/v016/lgb_competencia2_v016_s1149.txt DONE\n",
      "Predicciones del modelo: C:/Eugenio/Maestria/DMEyF/modelos/v016/lgb_competencia2_v016_s1216.txt DONE\n",
      "Predicciones del modelo: C:/Eugenio/Maestria/DMEyF/modelos/v016/lgb_competencia2_v016_s137.txt DONE\n",
      "Predicciones del modelo: C:/Eugenio/Maestria/DMEyF/modelos/v016/lgb_competencia2_v016_s1439.txt DONE\n",
      "Predicciones del modelo: C:/Eugenio/Maestria/DMEyF/modelos/v016/lgb_competencia2_v016_s1481.txt DONE\n",
      "Predicciones del modelo: C:/Eugenio/Maestria/DMEyF/modelos/v016/lgb_competencia2_v016_s1529.txt DONE\n",
      "Predicciones del modelo: C:/Eugenio/Maestria/DMEyF/modelos/v016/lgb_competencia2_v016_s1565.txt DONE\n",
      "Predicciones del modelo: C:/Eugenio/Maestria/DMEyF/modelos/v016/lgb_competencia2_v016_s1601.txt DONE\n",
      "Predicciones del modelo: C:/Eugenio/Maestria/DMEyF/modelos/v016/lgb_competencia2_v016_s1995.txt DONE\n",
      "Predicciones del modelo: C:/Eugenio/Maestria/DMEyF/modelos/v016/lgb_competencia2_v016_s2208.txt DONE\n",
      "Predicciones del modelo: C:/Eugenio/Maestria/DMEyF/modelos/v016/lgb_competencia2_v016_s2333.txt DONE\n",
      "Predicciones del modelo: C:/Eugenio/Maestria/DMEyF/modelos/v016/lgb_competencia2_v016_s2511.txt DONE\n",
      "Predicciones del modelo: C:/Eugenio/Maestria/DMEyF/modelos/v016/lgb_competencia2_v016_s2520.txt DONE\n",
      "Predicciones del modelo: C:/Eugenio/Maestria/DMEyF/modelos/v016/lgb_competencia2_v016_s2534.txt DONE\n",
      "Predicciones del modelo: C:/Eugenio/Maestria/DMEyF/modelos/v016/lgb_competencia2_v016_s2537.txt DONE\n",
      "Predicciones del modelo: C:/Eugenio/Maestria/DMEyF/modelos/v016/lgb_competencia2_v016_s2702.txt DONE\n",
      "Predicciones del modelo: C:/Eugenio/Maestria/DMEyF/modelos/v016/lgb_competencia2_v016_s271.txt DONE\n",
      "Predicciones del modelo: C:/Eugenio/Maestria/DMEyF/modelos/v016/lgb_competencia2_v016_s2747.txt DONE\n",
      "Predicciones del modelo: C:/Eugenio/Maestria/DMEyF/modelos/v016/lgb_competencia2_v016_s2907.txt DONE\n",
      "Predicciones del modelo: C:/Eugenio/Maestria/DMEyF/modelos/v016/lgb_competencia2_v016_s3046.txt DONE\n",
      "Predicciones del modelo: C:/Eugenio/Maestria/DMEyF/modelos/v016/lgb_competencia2_v016_s3119.txt DONE\n",
      "Predicciones del modelo: C:/Eugenio/Maestria/DMEyF/modelos/v016/lgb_competencia2_v016_s32.txt DONE\n",
      "Predicciones del modelo: C:/Eugenio/Maestria/DMEyF/modelos/v016/lgb_competencia2_v016_s3294.txt DONE\n",
      "Predicciones del modelo: C:/Eugenio/Maestria/DMEyF/modelos/v016/lgb_competencia2_v016_s3454.txt DONE\n",
      "Predicciones del modelo: C:/Eugenio/Maestria/DMEyF/modelos/v016/lgb_competencia2_v016_s3492.txt DONE\n",
      "Predicciones del modelo: C:/Eugenio/Maestria/DMEyF/modelos/v016/lgb_competencia2_v016_s3632.txt DONE\n",
      "Predicciones del modelo: C:/Eugenio/Maestria/DMEyF/modelos/v016/lgb_competencia2_v016_s368.txt DONE\n",
      "Predicciones del modelo: C:/Eugenio/Maestria/DMEyF/modelos/v016/lgb_competencia2_v016_s3922.txt DONE\n",
      "Predicciones del modelo: C:/Eugenio/Maestria/DMEyF/modelos/v016/lgb_competencia2_v016_s3976.txt DONE\n",
      "Predicciones del modelo: C:/Eugenio/Maestria/DMEyF/modelos/v016/lgb_competencia2_v016_s3985.txt DONE\n",
      "Predicciones del modelo: C:/Eugenio/Maestria/DMEyF/modelos/v016/lgb_competencia2_v016_s3999.txt DONE\n",
      "Predicciones del modelo: C:/Eugenio/Maestria/DMEyF/modelos/v016/lgb_competencia2_v016_s4003.txt DONE\n",
      "Predicciones del modelo: C:/Eugenio/Maestria/DMEyF/modelos/v016/lgb_competencia2_v016_s4070.txt DONE\n",
      "Predicciones del modelo: C:/Eugenio/Maestria/DMEyF/modelos/v016/lgb_competencia2_v016_s4120.txt DONE\n",
      "Predicciones del modelo: C:/Eugenio/Maestria/DMEyF/modelos/v016/lgb_competencia2_v016_s4179.txt DONE\n",
      "Predicciones del modelo: C:/Eugenio/Maestria/DMEyF/modelos/v016/lgb_competencia2_v016_s4758.txt DONE\n",
      "Predicciones del modelo: C:/Eugenio/Maestria/DMEyF/modelos/v016/lgb_competencia2_v016_s4807.txt DONE\n",
      "Predicciones del modelo: C:/Eugenio/Maestria/DMEyF/modelos/v016/lgb_competencia2_v016_s4836.txt DONE\n",
      "Predicciones del modelo: C:/Eugenio/Maestria/DMEyF/modelos/v016/lgb_competencia2_v016_s5204.txt DONE\n",
      "Predicciones del modelo: C:/Eugenio/Maestria/DMEyF/modelos/v016/lgb_competencia2_v016_s5259.txt DONE\n",
      "Predicciones del modelo: C:/Eugenio/Maestria/DMEyF/modelos/v016/lgb_competencia2_v016_s5436.txt DONE\n",
      "Predicciones del modelo: C:/Eugenio/Maestria/DMEyF/modelos/v016/lgb_competencia2_v016_s5458.txt DONE\n",
      "Predicciones del modelo: C:/Eugenio/Maestria/DMEyF/modelos/v016/lgb_competencia2_v016_s5592.txt DONE\n",
      "Predicciones del modelo: C:/Eugenio/Maestria/DMEyF/modelos/v016/lgb_competencia2_v016_s5624.txt DONE\n",
      "Predicciones del modelo: C:/Eugenio/Maestria/DMEyF/modelos/v016/lgb_competencia2_v016_s5659.txt DONE\n",
      "Predicciones del modelo: C:/Eugenio/Maestria/DMEyF/modelos/v016/lgb_competencia2_v016_s5785.txt DONE\n",
      "Predicciones del modelo: C:/Eugenio/Maestria/DMEyF/modelos/v016/lgb_competencia2_v016_s5879.txt DONE\n",
      "Predicciones del modelo: C:/Eugenio/Maestria/DMEyF/modelos/v016/lgb_competencia2_v016_s5932.txt DONE\n",
      "Predicciones del modelo: C:/Eugenio/Maestria/DMEyF/modelos/v016/lgb_competencia2_v016_s6073.txt DONE\n",
      "Predicciones del modelo: C:/Eugenio/Maestria/DMEyF/modelos/v016/lgb_competencia2_v016_s6287.txt DONE\n",
      "Predicciones del modelo: C:/Eugenio/Maestria/DMEyF/modelos/v016/lgb_competencia2_v016_s6327.txt DONE\n",
      "Predicciones del modelo: C:/Eugenio/Maestria/DMEyF/modelos/v016/lgb_competencia2_v016_s6352.txt DONE\n",
      "Predicciones del modelo: C:/Eugenio/Maestria/DMEyF/modelos/v016/lgb_competencia2_v016_s6389.txt DONE\n",
      "Predicciones del modelo: C:/Eugenio/Maestria/DMEyF/modelos/v016/lgb_competencia2_v016_s6556.txt DONE\n",
      "Predicciones del modelo: C:/Eugenio/Maestria/DMEyF/modelos/v016/lgb_competencia2_v016_s6769.txt DONE\n",
      "Predicciones del modelo: C:/Eugenio/Maestria/DMEyF/modelos/v016/lgb_competencia2_v016_s6792.txt DONE\n",
      "Predicciones del modelo: C:/Eugenio/Maestria/DMEyF/modelos/v016/lgb_competencia2_v016_s6888.txt DONE\n",
      "Predicciones del modelo: C:/Eugenio/Maestria/DMEyF/modelos/v016/lgb_competencia2_v016_s694.txt DONE\n",
      "Predicciones del modelo: C:/Eugenio/Maestria/DMEyF/modelos/v016/lgb_competencia2_v016_s7008.txt DONE\n",
      "Predicciones del modelo: C:/Eugenio/Maestria/DMEyF/modelos/v016/lgb_competencia2_v016_s7017.txt DONE\n",
      "Predicciones del modelo: C:/Eugenio/Maestria/DMEyF/modelos/v016/lgb_competencia2_v016_s7055.txt DONE\n",
      "Predicciones del modelo: C:/Eugenio/Maestria/DMEyF/modelos/v016/lgb_competencia2_v016_s7070.txt DONE\n",
      "Predicciones del modelo: C:/Eugenio/Maestria/DMEyF/modelos/v016/lgb_competencia2_v016_s7264.txt DONE\n",
      "Predicciones del modelo: C:/Eugenio/Maestria/DMEyF/modelos/v016/lgb_competencia2_v016_s7364.txt DONE\n",
      "Predicciones del modelo: C:/Eugenio/Maestria/DMEyF/modelos/v016/lgb_competencia2_v016_s7374.txt DONE\n",
      "Predicciones del modelo: C:/Eugenio/Maestria/DMEyF/modelos/v016/lgb_competencia2_v016_s7383.txt DONE\n",
      "Predicciones del modelo: C:/Eugenio/Maestria/DMEyF/modelos/v016/lgb_competencia2_v016_s7483.txt DONE\n",
      "Predicciones del modelo: C:/Eugenio/Maestria/DMEyF/modelos/v016/lgb_competencia2_v016_s7704.txt DONE\n",
      "Predicciones del modelo: C:/Eugenio/Maestria/DMEyF/modelos/v016/lgb_competencia2_v016_s7831.txt DONE\n",
      "Predicciones del modelo: C:/Eugenio/Maestria/DMEyF/modelos/v016/lgb_competencia2_v016_s7854.txt DONE\n",
      "Predicciones del modelo: C:/Eugenio/Maestria/DMEyF/modelos/v016/lgb_competencia2_v016_s7884.txt DONE\n",
      "Predicciones del modelo: C:/Eugenio/Maestria/DMEyF/modelos/v016/lgb_competencia2_v016_s7895.txt DONE\n",
      "Predicciones del modelo: C:/Eugenio/Maestria/DMEyF/modelos/v016/lgb_competencia2_v016_s7955.txt DONE\n",
      "Predicciones del modelo: C:/Eugenio/Maestria/DMEyF/modelos/v016/lgb_competencia2_v016_s815.txt DONE\n",
      "Predicciones del modelo: C:/Eugenio/Maestria/DMEyF/modelos/v016/lgb_competencia2_v016_s8162.txt DONE\n",
      "Predicciones del modelo: C:/Eugenio/Maestria/DMEyF/modelos/v016/lgb_competencia2_v016_s830.txt DONE\n",
      "Predicciones del modelo: C:/Eugenio/Maestria/DMEyF/modelos/v016/lgb_competencia2_v016_s831.txt DONE\n",
      "Predicciones del modelo: C:/Eugenio/Maestria/DMEyF/modelos/v016/lgb_competencia2_v016_s8414.txt DONE\n",
      "Predicciones del modelo: C:/Eugenio/Maestria/DMEyF/modelos/v016/lgb_competencia2_v016_s8439.txt DONE\n",
      "Predicciones del modelo: C:/Eugenio/Maestria/DMEyF/modelos/v016/lgb_competencia2_v016_s8561.txt DONE\n",
      "Predicciones del modelo: C:/Eugenio/Maestria/DMEyF/modelos/v016/lgb_competencia2_v016_s8627.txt DONE\n",
      "Predicciones del modelo: C:/Eugenio/Maestria/DMEyF/modelos/v016/lgb_competencia2_v016_s8634.txt DONE\n",
      "Predicciones del modelo: C:/Eugenio/Maestria/DMEyF/modelos/v016/lgb_competencia2_v016_s8749.txt DONE\n",
      "Predicciones del modelo: C:/Eugenio/Maestria/DMEyF/modelos/v016/lgb_competencia2_v016_s8996.txt DONE\n",
      "Predicciones del modelo: C:/Eugenio/Maestria/DMEyF/modelos/v016/lgb_competencia2_v016_s906.txt DONE\n",
      "Predicciones del modelo: C:/Eugenio/Maestria/DMEyF/modelos/v016/lgb_competencia2_v016_s9072.txt DONE\n",
      "Predicciones del modelo: C:/Eugenio/Maestria/DMEyF/modelos/v016/lgb_competencia2_v016_s9169.txt DONE\n",
      "Predicciones del modelo: C:/Eugenio/Maestria/DMEyF/modelos/v016/lgb_competencia2_v016_s9181.txt DONE\n",
      "Predicciones del modelo: C:/Eugenio/Maestria/DMEyF/modelos/v016/lgb_competencia2_v016_s9240.txt DONE\n",
      "Predicciones del modelo: C:/Eugenio/Maestria/DMEyF/modelos/v016/lgb_competencia2_v016_s9390.txt DONE\n",
      "Predicciones del modelo: C:/Eugenio/Maestria/DMEyF/modelos/v016/lgb_competencia2_v016_s9443.txt DONE\n",
      "Predicciones del modelo: C:/Eugenio/Maestria/DMEyF/modelos/v016/lgb_competencia2_v016_s953.txt DONE\n",
      "Predicciones del modelo: C:/Eugenio/Maestria/DMEyF/modelos/v016/lgb_competencia2_v016_s9598.txt DONE\n",
      "Predicciones del modelo: C:/Eugenio/Maestria/DMEyF/modelos/v016/lgb_competencia2_v016_s9614.txt DONE\n",
      "Predicciones del modelo: C:/Eugenio/Maestria/DMEyF/modelos/v016/lgb_competencia2_v016_s9770.txt DONE\n",
      "Predicciones del modelo: C:/Eugenio/Maestria/DMEyF/modelos/v016/lgb_competencia2_v016_s99.txt DONE\n"
     ]
    },
    {
     "name": "stderr",
     "output_type": "stream",
     "text": [
      "C:\\Users\\eaneg\\AppData\\Local\\Temp\\ipykernel_23084\\3231993701.py:11: PerformanceWarning: DataFrame is highly fragmented.  This is usually the result of calling `frame.insert` many times, which has poor performance.  Consider joining all columns at once using pd.concat(axis=1) instead. To get a de-fragmented frame, use `newframe = frame.copy()`\n",
      "  X_test_with_predictions[f'pred_lgm_{semillas[counter]}'] = y_pred_lgm\n"
     ]
    },
    {
     "name": "stdout",
     "output_type": "stream",
     "text": [
      "Predicciones del modelo: C:/Eugenio/Maestria/DMEyF/modelos/v016/lgb_competencia2_v016_s9925.txt DONE\n",
      "Predicciones del modelo: C:/Eugenio/Maestria/DMEyF/modelos/v016/lgb_competencia2_v016_s9981.txt DONE\n"
     ]
    },
    {
     "name": "stderr",
     "output_type": "stream",
     "text": [
      "C:\\Users\\eaneg\\AppData\\Local\\Temp\\ipykernel_23084\\3231993701.py:11: PerformanceWarning: DataFrame is highly fragmented.  This is usually the result of calling `frame.insert` many times, which has poor performance.  Consider joining all columns at once using pd.concat(axis=1) instead. To get a de-fragmented frame, use `newframe = frame.copy()`\n",
      "  X_test_with_predictions[f'pred_lgm_{semillas[counter]}'] = y_pred_lgm\n"
     ]
    }
   ],
   "source": [
    "counter = 0\n",
    "\n",
    "for modelo in modelos:\n",
    "    \n",
    "    # cargamos el modelo\n",
    "    model = lgb.Booster(model_file=modelo)\n",
    "    \n",
    "    # predecimos para agosto\n",
    "    X_test = data.drop(['clase_ternaria', 'clase_peso', 'clase_binaria'], axis=1).copy()\n",
    "    y_pred_lgm = model.predict(X_test)\n",
    "    X_test_with_predictions[f'pred_lgm_{semillas[counter]}'] = y_pred_lgm\n",
    "    \n",
    "    print(f'Predicciones del modelo: {modelo} DONE')\n",
    "    \n",
    "    counter += 1"
   ]
  },
  {
   "cell_type": "code",
   "execution_count": 14,
   "metadata": {},
   "outputs": [],
   "source": [
    "X_test_with_predictions = X_test_with_predictions.copy()"
   ]
  },
  {
   "cell_type": "code",
   "execution_count": null,
   "metadata": {},
   "outputs": [
    {
     "data": {
      "text/plain": [
       "np.int64(115948000)"
      ]
     },
     "execution_count": 15,
     "metadata": {},
     "output_type": "execute_result"
    }
   ],
   "source": [
    "y_pred_lgm = X_test_with_predictions.iloc[:, -100:].mean(axis=1)\n",
    "\n",
    "ganancia = np.where(w_test == 1.00002, ganancia_acierto, 0) - np.where(w_test != 1.00002, costo_estimulo, 0)\n",
    "    \n",
    "idx = np.argsort(y_pred_lgm)[::-1]\n",
    "ganancia = ganancia[idx]\n",
    "\n",
    "ganancia_cum = np.cumsum(ganancia)\n",
    "ganancia_max = ganancia_cum.max()\n",
    "ganancia_max"
   ]
  },
  {
   "cell_type": "code",
   "execution_count": 16,
   "metadata": {},
   "outputs": [
    {
     "data": {
      "text/plain": [
       "np.int64(11715)"
      ]
     },
     "execution_count": 16,
     "metadata": {},
     "output_type": "execute_result"
    }
   ],
   "source": [
    "gan_max_idx = np.where(ganancia_cum == ganancia_max)[0][0]\n",
    "gan_max_idx"
   ]
  },
  {
   "cell_type": "code",
   "execution_count": 17,
   "metadata": {},
   "outputs": [
    {
     "data": {
      "image/png": "[encoded data removed]",
      "text/plain": [
       "<Figure size 1000x600 with 1 Axes>"
      ]
     },
     "metadata": {},
     "output_type": "display_data"
    }
   ],
   "source": [
    "piso_envios = 4000\n",
    "techo_envios = 30000\n",
    "\n",
    "plt.figure(figsize=(10, 6))\n",
    "\n",
    "plt.plot(\n",
    "    range(piso_envios, len(ganancia_cum[piso_envios:techo_envios]) + piso_envios),\n",
    "    ganancia_cum[piso_envios:techo_envios],\n",
    "    color='darkblue',\n",
    "    linewidth=2,\n",
    "    label='Ganancia'\n",
    ")\n",
    "\n",
    "plt.axvline(\n",
    "    x=gan_max_idx,\n",
    "    color='g',\n",
    "    linestyle='--',\n",
    "    label=f'Punto de corte a la ganancia máxima {gan_max_idx}'\n",
    ")\n",
    "\n",
    "plt.axhline(\n",
    "    y=ganancia_max,\n",
    "    color='r',\n",
    "    linestyle='--',\n",
    "    label=f'Ganancia máxima {ganancia_max/1000000:.2f} M'\n",
    ")\n",
    "\n",
    "plt.title('Curva de Ganancia Individuales y Promedio')\n",
    "plt.xlabel('Envios')\n",
    "plt.ylabel('Ganancia')\n",
    "plt.legend()\n",
    "plt.show()"
   ]
  },
  {
   "cell_type": "code",
   "execution_count": null,
   "metadata": {},
   "outputs": [],
   "source": []
  }
 ],
 "metadata": {
  "kernelspec": {
   "display_name": "Python 3",
   "language": "python",
   "name": "python3"
  },
  "language_info": {
   "codemirror_mode": {
    "name": "ipython",
    "version": 3
   },
   "file_extension": ".py",
   "mimetype": "text/x-python",
   "name": "python",
   "nbconvert_exporter": "python",
   "pygments_lexer": "ipython3",
   "version": "3.12.5"
  }
 },
 "nbformat": 4,
 "nbformat_minor": 2
}

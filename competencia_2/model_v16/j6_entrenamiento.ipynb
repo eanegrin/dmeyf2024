{
 "cells": [
  {
   "cell_type": "code",
   "execution_count": 1,
   "metadata": {
    "id": "Cj-rL6xHlA2u"
   },
   "outputs": [],
   "source": [
    "import pandas as pd\n",
    "import polars as pl\n",
    "import numpy as np\n",
    "import seaborn as sns\n",
    "import matplotlib.pyplot as plt\n",
    "\n",
    "from sklearn.model_selection import train_test_split\n",
    "from sklearn.model_selection import ShuffleSplit, StratifiedShuffleSplit\n",
    "from sklearn.ensemble import RandomForestClassifier\n",
    "from sklearn.impute import SimpleImputer\n",
    "\n",
    "import lightgbm as lgb\n",
    "\n",
    "import optuna\n",
    "from optuna.visualization import plot_optimization_history, plot_param_importances, plot_slice, plot_contour\n",
    "\n",
    "from time import time\n",
    "\n",
    "import pickle"
   ]
  },
  {
   "cell_type": "code",
   "execution_count": 18,
   "metadata": {},
   "outputs": [],
   "source": [
    "# !gsutil cp /home/eanegrin/buckets/b1/datasets/competencia_02_fe_v01.parquet /home/eanegrin/datasets/"
   ]
  },
  {
   "cell_type": "code",
   "execution_count": 2,
   "metadata": {
    "id": "8jGKjoN1lRho"
   },
   "outputs": [],
   "source": [
    "# base_path = '/content/drive/MyDrive/DMEyF/2024/'\n",
    "base_path = 'C:/Eugenio/Maestria/DMEyF/'\n",
    "# base_path = '/home/eanegrin/buckets/b1/'\n",
    "\n",
    "dataset_path = base_path + 'datasets/'\n",
    "modelos_path = base_path + 'modelos/'\n",
    "db_path = base_path + 'db/'\n",
    "dataset_file = 'competencia_02_fe_v01_undersampled_10_24M_altbinaria.parquet'\n",
    "\n",
    "ganancia_acierto = 273000\n",
    "costo_estimulo = 7000\n",
    "\n",
    "# agregue sus semillas\n",
    "semillas = [1149, 4836, 9443, 7483, 3492, 6287,  830, 3294, 5932,  815, 7070,\n",
    "       1529, 3454, 6073, 7831, 1069, 3632,  953,  368, 3999, 9981,  906,\n",
    "       6792, 1439, 8439, 9240, 8162,   32, 5785, 1013, 2747, 2702, 4807,\n",
    "       831, 3985, 4003, 4758, 7955, 3976, 5436, 8634, 2511, 8627, 6888,\n",
    "       4179, 1565, 9181, 6389, 5879, 1216, 8749, 8996,   99, 1481, 4120,\n",
    "       8561, 7008, 5624,  271, 5204, 9169, 2537, 4070, 5458, 7383,  137,\n",
    "       8414, 6327, 3119, 5659, 2907, 9390, 7055, 9770, 9614, 6769,  694,\n",
    "       7854, 9925, 7895, 5259, 9598, 6352, 7884, 5592, 7017, 7374, 2208,\n",
    "       7364, 1995, 7264, 2520, 3922, 7704, 2333, 1601, 2534, 6556, 9072,\n",
    "       3046]\n",
    "\n",
    "# data = pd.read_parquet('/home/eanegrin/datasets/' + dataset_file)\n",
    "data = pd.read_parquet(dataset_path + dataset_file)"
   ]
  },
  {
   "cell_type": "code",
   "execution_count": 3,
   "metadata": {},
   "outputs": [
    {
     "data": {
      "text/plain": [
       "(376300, 679)"
      ]
     },
     "execution_count": 3,
     "metadata": {},
     "output_type": "execute_result"
    }
   ],
   "source": [
    "meses_train = [201906, 201907, 201908, 201909, 201910, 201911, 201912,\n",
    "               202001, 202002, 202003, 202004, 202005, 202006,\n",
    "               202007, 202008, 202009, 202010, 202011, 202012,\n",
    "               202101, 202102, 202103, 202104, 202105] # dejo afuera 202106 para test\n",
    "\n",
    "data = data[data['foto_mes'].isin(meses_train)]\n",
    "data.shape"
   ]
  },
  {
   "cell_type": "code",
   "execution_count": 4,
   "metadata": {},
   "outputs": [],
   "source": [
    "# Asignamos pesos a las clases\n",
    "\n",
    "data['clase_peso'] = 1.0\n",
    "\n",
    "data.loc[data['clase_ternaria'] == 'BAJA+2', 'clase_peso'] = 1.00002\n",
    "data.loc[data['clase_ternaria'] == 'BAJA+1', 'clase_peso'] = 1.00001"
   ]
  },
  {
   "cell_type": "code",
   "execution_count": 5,
   "metadata": {},
   "outputs": [],
   "source": [
    "data['clase_binaria'] = 0\n",
    "data['clase_binaria'] = np.where(data['clase_ternaria'] == 'BAJA+2', 1, 0)"
   ]
  },
  {
   "cell_type": "code",
   "execution_count": 6,
   "metadata": {},
   "outputs": [],
   "source": [
    "X_train = data.drop(['clase_ternaria', 'clase_peso', 'clase_binaria'], axis=1)\n",
    "y_train_binaria = data['clase_binaria'] # Junta a los 2 baja\n",
    "w_train = data['clase_peso']"
   ]
  },
  {
   "cell_type": "markdown",
   "metadata": {},
   "source": [
    "Para evaluar la calidad del modelo, crearemos nuestra propia función de evaluación que calcule la ganancia. La razón de incluir los pesos es precisamente para poder implementar esta función de evaluación de manera adecuada. Al combinar las clases *BAJA+1* y *BAJA+2* en una sola, necesitamos una forma de diferenciarlas, y es aquí donde entra en juego el *weight*. Este parámetro nos permitirá distinguir entre ambas clases al momento de evaluarlas dentro del algoritmo.\n"
   ]
  },
  {
   "cell_type": "code",
   "execution_count": 7,
   "metadata": {},
   "outputs": [],
   "source": [
    "def lgb_gan_eval(y_pred, data):\n",
    "    weight = data.get_weight()\n",
    "    ganancia = np.where(weight == 1.00002, ganancia_acierto, 0) - np.where(weight < 1.00002, costo_estimulo, 0)\n",
    "    ganancia = ganancia[np.argsort(y_pred)[::-1]]\n",
    "    ganancia = np.cumsum(ganancia)\n",
    "\n",
    "    return 'gan_eval', np.max(ganancia) , True"
   ]
  },
  {
   "cell_type": "markdown",
   "metadata": {},
   "source": [
    "# Entrenamiento"
   ]
  },
  {
   "cell_type": "markdown",
   "metadata": {},
   "source": [
    "Cargamos el study de optuna que optimizamos en el script anterior"
   ]
  },
  {
   "cell_type": "code",
   "execution_count": 8,
   "metadata": {
    "colab": {
     "base_uri": "https://localhost:8080/"
    },
    "id": "bYMEnNFbkSoQ",
    "outputId": "15d768d4-9e25-4063-984b-d79c90ea91bc"
   },
   "outputs": [
    {
     "name": "stderr",
     "output_type": "stream",
     "text": [
      "[I 2024-11-24 09:09:27,262] Using an existing study with name 'competencia2_lgbm_v16' instead of creating a new one.\n"
     ]
    }
   ],
   "source": [
    "storage_name = \"sqlite:///\" + db_path + \"optimization_lgbm.db\"\n",
    "study_name = \"competencia2_lgbm_v16\" # UPDATE\n",
    "\n",
    "study = optuna.create_study(\n",
    "    direction=\"maximize\",\n",
    "    study_name=study_name,\n",
    "    storage=storage_name,\n",
    "    load_if_exists=True,\n",
    ")"
   ]
  },
  {
   "cell_type": "code",
   "execution_count": 9,
   "metadata": {},
   "outputs": [
    {
     "data": {
      "text/plain": [
       "(100, 12)"
      ]
     },
     "execution_count": 9,
     "metadata": {},
     "output_type": "execute_result"
    }
   ],
   "source": [
    "resultados = study.trials_dataframe()\n",
    "resultados.shape"
   ]
  },
  {
   "cell_type": "code",
   "execution_count": 27,
   "metadata": {},
   "outputs": [],
   "source": [
    "# resultados"
   ]
  },
  {
   "cell_type": "markdown",
   "metadata": {
    "id": "HjgD6raVE6am"
   },
   "source": [
    "Entrenamiento:"
   ]
  },
  {
   "cell_type": "code",
   "execution_count": 10,
   "metadata": {
    "colab": {
     "base_uri": "https://localhost:8080/"
    },
    "id": "bwyUriQksZAM",
    "outputId": "c4b54b3e-75b0-4076-8a31-7096bd94382b"
   },
   "outputs": [
    {
     "name": "stdout",
     "output_type": "stream",
     "text": [
      "Mejor cantidad de árboles para el mejor model 1026\n"
     ]
    }
   ],
   "source": [
    "best_iter = study.best_trial.user_attrs[\"best_iter\"]\n",
    "print(f\"Mejor cantidad de árboles para el mejor model {best_iter}\")\n",
    "\n",
    "params = {\n",
    "    'objective': 'binary',\n",
    "    'boosting_type': 'gbdt',\n",
    "    'first_metric_only': True,\n",
    "    'boost_from_average': True,\n",
    "    'feature_pre_filter': False,\n",
    "    'max_bin': 31,\n",
    "    'num_leaves': study.best_trial.params['num_leaves'],\n",
    "    'learning_rate': study.best_trial.params['learning_rate'],\n",
    "    'min_data_in_leaf': study.best_trial.params['min_data_in_leaf'],\n",
    "    'feature_fraction': study.best_trial.params['feature_fraction'],\n",
    "    'bagging_fraction': study.best_trial.params['bagging_fraction'],\n",
    "    'seed': semillas[0],\n",
    "    'verbose': 0\n",
    "}\n",
    "\n",
    "train_data = lgb.Dataset(X_train,\n",
    "                          label=y_train_binaria,\n",
    "                          weight=w_train)\n",
    "\n",
    "model = lgb.train(params,\n",
    "                  train_data,\n",
    "                  num_boost_round=best_iter)\n"
   ]
  },
  {
   "cell_type": "code",
   "execution_count": 11,
   "metadata": {},
   "outputs": [
    {
     "data": {
      "text/plain": [
       "{'objective': 'binary',\n",
       " 'boosting_type': 'gbdt',\n",
       " 'first_metric_only': True,\n",
       " 'boost_from_average': True,\n",
       " 'feature_pre_filter': False,\n",
       " 'max_bin': 31,\n",
       " 'num_leaves': 102,\n",
       " 'learning_rate': 0.01243700594135768,\n",
       " 'min_data_in_leaf': 1647,\n",
       " 'feature_fraction': 0.26739987658099496,\n",
       " 'bagging_fraction': 0.8602545673067901,\n",
       " 'seed': 1149,\n",
       " 'verbose': 0}"
      ]
     },
     "execution_count": 11,
     "metadata": {},
     "output_type": "execute_result"
    }
   ],
   "source": [
    "params"
   ]
  },
  {
   "cell_type": "markdown",
   "metadata": {
    "id": "LkTH9daXF5tp"
   },
   "source": [
    "Variables mas importantes:"
   ]
  },
  {
   "cell_type": "code",
   "execution_count": 12,
   "metadata": {
    "colab": {
     "base_uri": "https://localhost:8080/",
     "height": 424
    },
    "id": "l7ZObpkHtnUl",
    "outputId": "eb0fe3a2-9e41-4886-ebd7-257dd1cf9829"
   },
   "outputs": [
    {
     "data": {
      "text/html": [
       "<div>\n",
       "<style scoped>\n",
       "    .dataframe tbody tr th:only-of-type {\n",
       "        vertical-align: middle;\n",
       "    }\n",
       "\n",
       "    .dataframe tbody tr th {\n",
       "        vertical-align: top;\n",
       "    }\n",
       "\n",
       "    .dataframe thead th {\n",
       "        text-align: right;\n",
       "    }\n",
       "</style>\n",
       "<table border=\"1\" class=\"dataframe\">\n",
       "  <thead>\n",
       "    <tr style=\"text-align: right;\">\n",
       "      <th></th>\n",
       "      <th>feature</th>\n",
       "      <th>importance</th>\n",
       "    </tr>\n",
       "  </thead>\n",
       "  <tbody>\n",
       "    <tr>\n",
       "      <th>1</th>\n",
       "      <td>foto_mes</td>\n",
       "      <td>2029</td>\n",
       "    </tr>\n",
       "    <tr>\n",
       "      <th>5</th>\n",
       "      <td>cliente_edad</td>\n",
       "      <td>828</td>\n",
       "    </tr>\n",
       "    <tr>\n",
       "      <th>22</th>\n",
       "      <td>mcuentas_saldo</td>\n",
       "      <td>796</td>\n",
       "    </tr>\n",
       "    <tr>\n",
       "      <th>352</th>\n",
       "      <td>slope_mrentabilidad_annual</td>\n",
       "      <td>793</td>\n",
       "    </tr>\n",
       "    <tr>\n",
       "      <th>608</th>\n",
       "      <td>slope_avg3_ctrx_quarter</td>\n",
       "      <td>764</td>\n",
       "    </tr>\n",
       "    <tr>\n",
       "      <th>...</th>\n",
       "      <td>...</td>\n",
       "      <td>...</td>\n",
       "    </tr>\n",
       "    <tr>\n",
       "      <th>142</th>\n",
       "      <td>Visa_madelantodolares</td>\n",
       "      <td>1</td>\n",
       "    </tr>\n",
       "    <tr>\n",
       "      <th>526</th>\n",
       "      <td>slope_avg3_mcaja_ahorro_adicional</td>\n",
       "      <td>1</td>\n",
       "    </tr>\n",
       "    <tr>\n",
       "      <th>634</th>\n",
       "      <td>slope_avg3_Visa_madelantodolares</td>\n",
       "      <td>1</td>\n",
       "    </tr>\n",
       "    <tr>\n",
       "      <th>376</th>\n",
       "      <td>slope_mprestamos_prendarios</td>\n",
       "      <td>1</td>\n",
       "    </tr>\n",
       "    <tr>\n",
       "      <th>220</th>\n",
       "      <td>avg3_minversion1_pesos</td>\n",
       "      <td>1</td>\n",
       "    </tr>\n",
       "  </tbody>\n",
       "</table>\n",
       "<p>597 rows × 2 columns</p>\n",
       "</div>"
      ],
      "text/plain": [
       "                               feature  importance\n",
       "1                             foto_mes        2029\n",
       "5                         cliente_edad         828\n",
       "22                      mcuentas_saldo         796\n",
       "352         slope_mrentabilidad_annual         793\n",
       "608            slope_avg3_ctrx_quarter         764\n",
       "..                                 ...         ...\n",
       "142              Visa_madelantodolares           1\n",
       "526  slope_avg3_mcaja_ahorro_adicional           1\n",
       "634   slope_avg3_Visa_madelantodolares           1\n",
       "376        slope_mprestamos_prendarios           1\n",
       "220             avg3_minversion1_pesos           1\n",
       "\n",
       "[597 rows x 2 columns]"
      ]
     },
     "execution_count": 12,
     "metadata": {},
     "output_type": "execute_result"
    }
   ],
   "source": [
    "importances = model.feature_importance()\n",
    "feature_names = X_train.columns.tolist()\n",
    "importance_df = pd.DataFrame({'feature': feature_names, 'importance': importances})\n",
    "importance_df = importance_df.sort_values('importance', ascending=False)\n",
    "importance_df[importance_df['importance'] > 0]"
   ]
  },
  {
   "cell_type": "markdown",
   "metadata": {
    "id": "pwvqxqc_GB-C"
   },
   "source": [
    "Para guardar el modelo para poder utilizarlo más adelante, no es necesario guardarlo como *pickle*, la librería nos permite guardarlo en formato texto"
   ]
  },
  {
   "cell_type": "code",
   "execution_count": 13,
   "metadata": {},
   "outputs": [
    {
     "data": {
      "text/plain": [
       "'C:/Eugenio/Maestria/DMEyF/modelos/'"
      ]
     },
     "execution_count": 13,
     "metadata": {},
     "output_type": "execute_result"
    }
   ],
   "source": [
    "modelos_path"
   ]
  },
  {
   "cell_type": "markdown",
   "metadata": {},
   "source": [
    "### Entrenamos con 5 semillas y guardamos los modelos"
   ]
  },
  {
   "cell_type": "code",
   "execution_count": 15,
   "metadata": {},
   "outputs": [
    {
     "name": "stdout",
     "output_type": "stream",
     "text": [
      "Mejor cantidad de árboles para el mejor model 1026\n",
      "Modelo generado con semilla 1149: DONE\n",
      "Modelo generado con semilla 4836: DONE\n",
      "Modelo generado con semilla 9443: DONE\n",
      "Modelo generado con semilla 7483: DONE\n",
      "Modelo generado con semilla 3492: DONE\n",
      "Modelo generado con semilla 6287: DONE\n",
      "Modelo generado con semilla 830: DONE\n",
      "Modelo generado con semilla 3294: DONE\n",
      "Modelo generado con semilla 5932: DONE\n",
      "Modelo generado con semilla 815: DONE\n",
      "Modelo generado con semilla 7070: DONE\n",
      "Modelo generado con semilla 1529: DONE\n",
      "Modelo generado con semilla 3454: DONE\n",
      "Modelo generado con semilla 6073: DONE\n",
      "Modelo generado con semilla 7831: DONE\n",
      "Modelo generado con semilla 1069: DONE\n",
      "Modelo generado con semilla 3632: DONE\n",
      "Modelo generado con semilla 953: DONE\n",
      "Modelo generado con semilla 368: DONE\n",
      "Modelo generado con semilla 3999: DONE\n",
      "Modelo generado con semilla 9981: DONE\n",
      "Modelo generado con semilla 906: DONE\n",
      "Modelo generado con semilla 6792: DONE\n",
      "Modelo generado con semilla 1439: DONE\n",
      "Modelo generado con semilla 8439: DONE\n",
      "Modelo generado con semilla 9240: DONE\n",
      "Modelo generado con semilla 8162: DONE\n",
      "Modelo generado con semilla 32: DONE\n",
      "Modelo generado con semilla 5785: DONE\n",
      "Modelo generado con semilla 1013: DONE\n",
      "Modelo generado con semilla 2747: DONE\n",
      "Modelo generado con semilla 2702: DONE\n",
      "Modelo generado con semilla 4807: DONE\n",
      "Modelo generado con semilla 831: DONE\n",
      "Modelo generado con semilla 3985: DONE\n",
      "Modelo generado con semilla 4003: DONE\n",
      "Modelo generado con semilla 4758: DONE\n",
      "Modelo generado con semilla 7955: DONE\n",
      "Modelo generado con semilla 3976: DONE\n",
      "Modelo generado con semilla 5436: DONE\n",
      "Modelo generado con semilla 8634: DONE\n",
      "Modelo generado con semilla 2511: DONE\n",
      "Modelo generado con semilla 8627: DONE\n",
      "Modelo generado con semilla 6888: DONE\n",
      "Modelo generado con semilla 4179: DONE\n",
      "Modelo generado con semilla 1565: DONE\n",
      "Modelo generado con semilla 9181: DONE\n",
      "Modelo generado con semilla 6389: DONE\n",
      "Modelo generado con semilla 5879: DONE\n",
      "Modelo generado con semilla 1216: DONE\n",
      "Modelo generado con semilla 8749: DONE\n",
      "Modelo generado con semilla 8996: DONE\n",
      "Modelo generado con semilla 99: DONE\n",
      "Modelo generado con semilla 1481: DONE\n",
      "Modelo generado con semilla 4120: DONE\n",
      "Modelo generado con semilla 8561: DONE\n",
      "Modelo generado con semilla 7008: DONE\n",
      "Modelo generado con semilla 5624: DONE\n",
      "Modelo generado con semilla 271: DONE\n",
      "Modelo generado con semilla 5204: DONE\n",
      "Modelo generado con semilla 9169: DONE\n",
      "Modelo generado con semilla 2537: DONE\n",
      "Modelo generado con semilla 4070: DONE\n",
      "Modelo generado con semilla 5458: DONE\n",
      "Modelo generado con semilla 7383: DONE\n",
      "Modelo generado con semilla 137: DONE\n",
      "Modelo generado con semilla 8414: DONE\n",
      "Modelo generado con semilla 6327: DONE\n",
      "Modelo generado con semilla 3119: DONE\n",
      "Modelo generado con semilla 5659: DONE\n",
      "Modelo generado con semilla 2907: DONE\n",
      "Modelo generado con semilla 9390: DONE\n",
      "Modelo generado con semilla 7055: DONE\n",
      "Modelo generado con semilla 9770: DONE\n",
      "Modelo generado con semilla 9614: DONE\n",
      "Modelo generado con semilla 6769: DONE\n",
      "Modelo generado con semilla 694: DONE\n",
      "Modelo generado con semilla 7854: DONE\n",
      "Modelo generado con semilla 9925: DONE\n",
      "Modelo generado con semilla 7895: DONE\n",
      "Modelo generado con semilla 5259: DONE\n",
      "Modelo generado con semilla 9598: DONE\n",
      "Modelo generado con semilla 6352: DONE\n",
      "Modelo generado con semilla 7884: DONE\n",
      "Modelo generado con semilla 5592: DONE\n",
      "Modelo generado con semilla 7017: DONE\n",
      "Modelo generado con semilla 7374: DONE\n",
      "Modelo generado con semilla 2208: DONE\n",
      "Modelo generado con semilla 7364: DONE\n",
      "Modelo generado con semilla 1995: DONE\n",
      "Modelo generado con semilla 7264: DONE\n",
      "Modelo generado con semilla 2520: DONE\n",
      "Modelo generado con semilla 3922: DONE\n",
      "Modelo generado con semilla 7704: DONE\n",
      "Modelo generado con semilla 2333: DONE\n",
      "Modelo generado con semilla 1601: DONE\n",
      "Modelo generado con semilla 2534: DONE\n",
      "Modelo generado con semilla 6556: DONE\n",
      "Modelo generado con semilla 9072: DONE\n",
      "Modelo generado con semilla 3046: DONE\n"
     ]
    }
   ],
   "source": [
    "version = 'v016' # UPDATE\n",
    "\n",
    "best_iter = study.best_trial.user_attrs[\"best_iter\"]\n",
    "print(f\"Mejor cantidad de árboles para el mejor model {best_iter}\")\n",
    "\n",
    "for semilla in semillas:\n",
    "    \n",
    "    params = {\n",
    "        'objective': 'binary',\n",
    "        'boosting_type': 'gbdt',\n",
    "        'first_metric_only': True,\n",
    "        'boost_from_average': True,\n",
    "        'feature_pre_filter': False,\n",
    "        'max_bin': 31,\n",
    "        'num_leaves': study.best_trial.params['num_leaves'],\n",
    "        'learning_rate': study.best_trial.params['learning_rate'],\n",
    "        'min_data_in_leaf': study.best_trial.params['min_data_in_leaf'],\n",
    "        'feature_fraction': study.best_trial.params['feature_fraction'],\n",
    "        'bagging_fraction': study.best_trial.params['bagging_fraction'],\n",
    "        'seed': semilla,\n",
    "        'verbose': 0\n",
    "    }\n",
    "\n",
    "    train_data = lgb.Dataset(X_train,\n",
    "                            label=y_train_binaria,\n",
    "                            weight=w_train)\n",
    "\n",
    "    model = lgb.train(params,\n",
    "                    train_data,\n",
    "                    num_boost_round=best_iter)\n",
    "    \n",
    "    model.save_model(modelos_path + f'{version}/lgb_competencia2_{version}_s{semilla}.txt')\n",
    "    \n",
    "    print(f'Modelo generado con semilla {semilla}: DONE')"
   ]
  },
  {
   "cell_type": "code",
   "execution_count": null,
   "metadata": {},
   "outputs": [],
   "source": []
  }
 ],
 "metadata": {
  "colab": {
   "provenance": []
  },
  "kernelspec": {
   "display_name": "Python 3",
   "language": "python",
   "name": "python3"
  },
  "language_info": {
   "codemirror_mode": {
    "name": "ipython",
    "version": 3
   },
   "file_extension": ".py",
   "mimetype": "text/x-python",
   "name": "python",
   "nbconvert_exporter": "python",
   "pygments_lexer": "ipython3",
   "version": "3.12.5"
  }
 },
 "nbformat": 4,
 "nbformat_minor": 4
}

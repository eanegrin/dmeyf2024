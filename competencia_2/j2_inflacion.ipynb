{
 "cells": [
  {
   "cell_type": "markdown",
   "metadata": {
    "id": "pJz8GT5QDbbR"
   },
   "source": [
    "## Instrucciones:\n",
    "\n",
    "Este archivo es una plantilla que deberás completar para la creación de un job que permita ejecutar tu experimento asignado. Es importante reemplazar el nombre genérico del archivo por un identificador único, que será el número asignado al alumno que lo creó. Cada vez que otro alumno utilice ese job, se recompensará al autor original.\n",
    "\n",
    "El job debe ser ejecutable simplemente configurando correctamente las siguientes secciones:\n",
    "- **Parámetros**\n",
    "- **Input**\n",
    "- **Output**\n",
    "\n",
    "El archivo debe ser obligatoriamente un *Jupyter Notebook*, con el fin de facilitar su uso a los alumnos menos técnicos. Sin embargo, si prefieres migrar o adaptar el código a archivos planos para tus propios pipelines, podrás hacerlo, siempre que quede claro el origen del código.\n",
    "\n",
    "El formato del nombre del job debe seguir la siguiente convención:\n",
    "- `j<id_alumno>_<ref>.ipynb`\n",
    "\n",
    "Cada alumno puede generar más de un job, y también puede modificar los jobs de otros, siempre que se respete el nombre original.\n",
    "\n",
    "Para la entrega de la segunda competencia, debes incluir dos componentes:\n",
    "1. Todos los jobs utilizados, con sus nombres originales.\n",
    "2. Un archivo explicando la secuencia en la que se ejecutaron los jobs.\n",
    "\n",
    "Los jobs se compartirán en las slides de los experimentos con el link al repo de github.\n",
    "---\n"
   ]
  },
  {
   "cell_type": "markdown",
   "metadata": {
    "id": "d_xvJXPhCkMA"
   },
   "source": [
    "# Título: Ajuste por inflacion (IPC)\n",
    "\n",
    "## Autor: Eugenio Negrin\n",
    "## Fecha de última modificación: 6/11/2024\n",
    "## Descripción:\n",
    "\n",
    "Transforma las variables monetarias de pesos corrientes a pesos constantes (en una base específica) con el objetivo de hacer comparables los valores monetarios a lo largo del tiempo. Para ello, el script brinda la opcion de utilizar 2 indices de precios alternativos:\n",
    "\n",
    "- El Índice de Precios al Consumidor (IPC) elaborado por el INDEC ([ver acá](https://www.indec.gob.ar/indec/web/Nivel4-Tema-3-5-31)), siendo este índice el más usado para el cálculo de la inflación en Argentina.\n",
    "- El Indice que elabora UCEMA ([ver acá](https://ucema.edu.ar/cea/canasta)) a partir de la Canasta del Profesional Ejecutivo (CPE), que busca estimar el gasto promedio del grupo familiar representativo de un profesional ejecutivo residente en el area metropolitana del Gran Buenos Aires. \n",
    "\n",
    "El procedimiento consiste en dividir el valor nominal o corriente de una variable por el coeficiente de deflactación, obteniendo así el valor real o en pesos constantes:\n",
    "\n",
    "`valor real = valor nominal / coeficiente de deflactación`\n",
    "\n",
    "El coeficiente de deflactación (o deflactor) para el mes t es:\n",
    "\n",
    "`coeficiente de deflactación en el mes t = IPC_t / IPC_base`\n",
    "\n",
    "El mes que tomamos como base es arbitrario y dependerá de respecto a qué mes queremos expresar nuestras variables. Por ejemplo, si deseamos que los valores monetarios estén expresados en pesos de agosto de 2020, debemos usar ese mes como base. De esta forma, todas las variables monetarias estarán expresadas en pesos equivalentes al poder de compra que tenía la moneda en agosto de 2020.\n",
    "\n",
    "Es importante notar que, luego de aplicar el proceso, las variables serán comparables independientemente del mes que se use como base, afectando esto solamente la magnitud de los valores, pero no su comparabilidad.\n",
    "\n",
    "Puede encontrar una descripción mas detallada del procedimiento de ajuste por inflación en el siguiente link: https://economipedia.com/definiciones/deflactor.html"
   ]
  },
  {
   "cell_type": "markdown",
   "metadata": {
    "id": "qRTSvXdLHkpB"
   },
   "source": [
    "## Parámetros\n",
    "\n",
    "**indice**: Indice de precios que se utilizara para realizar el ajuste por inflacion, puede tomar los valores 'ipc' o 'cpe'\n",
    "\n",
    "**periodo_base**: mes que tomamos como referencia, las variables monetarias estaran expresadas en pesos constantes equivalentes al poder adquisitivo de la moneda en ese mes. El IPC publicado por el INDEC usa como periodo base a Diciembre 2016 (IPC Dic 2016 = 100), pero se puede elegir otro periodo, en particular periodos que incluyamos en nuestra base. Si desea mantener la base original asigne -1 a este parametro\n",
    "\n",
    "**sufijo**: El script permite definir un sufijo para las variables ajustadas en el caso de que no querramos sobreescrbir las originales, si este parametro se deja vacio (\"\") el script sobreescribe las variables originales.\n",
    "\n",
    "**monetarias**: lista de variables monetarias a ajustar, por defecto tomo las 73 variables monetarias del dataset original pero se pueden sacar o agregar nuevas si asi lo desea.\n",
    "\n"
   ]
  },
  {
   "cell_type": "code",
   "execution_count": 2,
   "metadata": {
    "id": "yMU00Fl7IIfm"
   },
   "outputs": [],
   "source": [
    "indice = 'ipc' # ipc o cpe\n",
    "\n",
    "periodo_base = 202101\n",
    "# periodo_base = -1 # si desea mantener la base original (IPC Dic 2016 = 100)\n",
    "\n",
    "sufijo = \"\" # si es = a \"\" modifica las variables originales\n",
    "# sufijo = \"_adj\" # Si no quiere sobreescribir agregue un sufijo\n",
    "\n",
    "# Lista de variables monetarias a ajustar\n",
    "monetarias = [\n",
    "    \"mrentabilidad\"\n",
    "    , \"mrentabilidad_annual\"\n",
    "    , \"mcomisiones\"\n",
    "    , \"mactivos_margen\"\n",
    "    , \"mpasivos_margen\"\n",
    "    , \"mcuenta_corriente_adicional\"\n",
    "    , \"mcuenta_corriente\"\n",
    "    , \"mcaja_ahorro\"\n",
    "    , \"mcaja_ahorro_adicional\"\n",
    "    , \"mcaja_ahorro_dolares\"\n",
    "    , \"mcuentas_saldo\"\n",
    "    , \"mautoservicio\"\n",
    "    , \"mtarjeta_visa_consumo\"\n",
    "    , \"mtarjeta_master_consumo\"\n",
    "    , \"mprestamos_personales\"\n",
    "    , \"mprestamos_prendarios\"\n",
    "    , \"mprestamos_hipotecarios\"\n",
    "    , \"mplazo_fijo_dolares\"\n",
    "    , \"mplazo_fijo_pesos\"\n",
    "    , \"minversion1_pesos\"\n",
    "    , \"minversion1_dolares\"\n",
    "    , \"minversion2\"\n",
    "    , \"mpayroll\"\n",
    "    , \"mpayroll2\"\n",
    "    , \"mcuenta_debitos_automaticos\"\n",
    "    , \"mttarjeta_visa_debitos_automaticos\"\n",
    "    , \"mttarjeta_master_debitos_automaticos\"\n",
    "    , \"mpagodeservicios\"\n",
    "    , \"mpagomiscuentas\"\n",
    "    , \"mcajeros_propios_descuentos\"\n",
    "    , \"mtarjeta_visa_descuentos\"\n",
    "    , \"mtarjeta_master_descuentos\"\n",
    "    , \"mcomisiones_mantenimiento\"\n",
    "    , \"mcomisiones_otras\"\n",
    "    , \"mforex_buy\"\n",
    "    , \"mforex_sell\"\n",
    "    , \"mtransferencias_recibidas\"\n",
    "    , \"mtransferencias_emitidas\"\n",
    "    , \"mextraccion_autoservicio\"\n",
    "    , \"mcheques_depositados\"\n",
    "    , \"mcheques_emitidos\"\n",
    "    , \"mcheques_depositados_rechazados\"\n",
    "    , \"mcheques_emitidos_rechazados\"\n",
    "    , \"matm\"\n",
    "    , \"matm_other\"\n",
    "    , \"Master_mfinanciacion_limite\"\n",
    "    , \"Master_msaldototal\"\n",
    "    , \"Master_msaldopesos\"\n",
    "    , \"Master_msaldodolares\"\n",
    "    , \"Master_mconsumospesos\"\n",
    "    , \"Master_mconsumosdolares\"\n",
    "    , \"Master_mlimitecompra\"\n",
    "    , \"Master_madelantopesos\"\n",
    "    , \"Master_madelantodolares\"\n",
    "    , \"Master_mpagado\"\n",
    "    , \"Master_mpagospesos\"\n",
    "    , \"Master_mpagosdolares\"\n",
    "    , \"Master_mconsumototal\"\n",
    "    , \"Master_mpagominimo\"\n",
    "    , \"Visa_mfinanciacion_limite\"\n",
    "    , \"Visa_msaldototal\"\n",
    "    , \"Visa_msaldopesos\"\n",
    "    , \"Visa_msaldodolares\"\n",
    "    , \"Visa_mconsumospesos\"\n",
    "    , \"Visa_mconsumosdolares\"\n",
    "    , \"Visa_mlimitecompra\"\n",
    "    , \"Visa_madelantopesos\"\n",
    "    , \"Visa_madelantodolares\"\n",
    "    , \"Visa_mpagado\"\n",
    "    , \"Visa_mpagospesos\"\n",
    "    , \"Visa_mpagosdolares\"\n",
    "    , \"Visa_mconsumototal\"\n",
    "    , \"Visa_mpagominimo\" \n",
    "]"
   ]
  },
  {
   "cell_type": "markdown",
   "metadata": {
    "id": "sH5VivJSIM42"
   },
   "source": [
    "## Input\n",
    "\n",
    "< Archivos de datos (csv o csv.gz) con sus paths que van a consumirse por el job>"
   ]
  },
  {
   "cell_type": "code",
   "execution_count": 3,
   "metadata": {
    "id": "MEk4Fj7VIv7g"
   },
   "outputs": [],
   "source": [
    "# base_path = '/home/eanegrin/buckets/b1/'\n",
    "base_path = 'C:/Eugenio/Maestria/DMEyF/'\n",
    "\n",
    "dataset_path = base_path + 'datasets/'\n",
    "\n",
    "dataset_file = 'competencia_02.parquet'\n",
    "indices_file = 'inflacion_ipc_cpe.csv' # debe estar la carpeta espcificada en dataset_path"
   ]
  },
  {
   "cell_type": "markdown",
   "metadata": {
    "id": "fQ6MUhENI0Ya"
   },
   "source": [
    "## Output\n",
    "\n",
    "< Archivos que va a generar el job>"
   ]
  },
  {
   "cell_type": "code",
   "execution_count": 4,
   "metadata": {
    "id": "ZT3kxlkFIv4p"
   },
   "outputs": [],
   "source": [
    "# Por defecto le agrega _ipcadj al nombre del archivo original\n",
    "base = dataset_file[:dataset_file.find('.')] \n",
    "extension = dataset_file[dataset_file.find('.'):] \n",
    "output_file = f\"{base}_inflacion_adj{extension}\"\n",
    "\n",
    "# si se prefiere otro nombre:\n",
    "# output_file = \"output_ejemplo.csv\""
   ]
  },
  {
   "cell_type": "markdown",
   "metadata": {
    "id": "NtIT33WnJFx-"
   },
   "source": [
    "## Procesos"
   ]
  },
  {
   "cell_type": "markdown",
   "metadata": {
    "id": "iVe0GO1IJHtI"
   },
   "source": [
    "### Paquetes necesarios"
   ]
  },
  {
   "cell_type": "code",
   "execution_count": 5,
   "metadata": {
    "id": "O2VG2xS_Ivq3"
   },
   "outputs": [],
   "source": [
    "#!pip install polars"
   ]
  },
  {
   "cell_type": "markdown",
   "metadata": {
    "id": "0LM2kY_WJj15"
   },
   "source": [
    "## Código del proceso\n",
    "\n",
    "< Todo el código a partir de aquí debe poder ejecutarse sin necesidad de parametrizar nada>"
   ]
  },
  {
   "cell_type": "code",
   "execution_count": 5,
   "metadata": {
    "id": "Nr6BNGDUJkWd"
   },
   "outputs": [],
   "source": [
    "import polars as pl\n",
    "\n",
    "df = pl.read_parquet(dataset_path + dataset_file)\n",
    "df_inflacion = pl.read_csv(dataset_path + indices_file)"
   ]
  },
  {
   "cell_type": "code",
   "execution_count": null,
   "metadata": {},
   "outputs": [],
   "source": [
    "df_inflacion = df_inflacion.select([\n",
    "    pl.col(\"periodo\"),\n",
    "    pl.col(indice).alias(\"indice\")\n",
    "])"
   ]
  },
  {
   "cell_type": "code",
   "execution_count": 10,
   "metadata": {},
   "outputs": [],
   "source": [
    "# se convierte el IPC al mes base especificado\n",
    "if periodo_base == -1:\n",
    "    base = 100\n",
    "else:\n",
    "    base = df_inflacion.filter(pl.col(\"periodo\") == periodo_base)[\"indice\"][0]\n",
    "    \n",
    "df_inflacion = df_inflacion.with_columns((pl.col(\"indice\") / base).alias(\"deflactor\"))"
   ]
  },
  {
   "cell_type": "code",
   "execution_count": 11,
   "metadata": {},
   "outputs": [],
   "source": [
    "# Agregamos la columna con el IPC al dataset original\n",
    "df = df.join(df_inflacion.select(['periodo','deflactor']), left_on=\"foto_mes\", right_on=\"periodo\", how=\"left\")\n",
    "\n",
    "# Dividimos cada una por el deflactor\n",
    "df = df.with_columns([\n",
    "    (pl.col(col) / pl.col(\"deflactor\")).alias(f\"{col}{sufijo}\") \n",
    "    for col in monetarias\n",
    "])\n",
    "\n",
    "df = df.drop([\"deflactor\"])"
   ]
  },
  {
   "cell_type": "code",
   "execution_count": 13,
   "metadata": {},
   "outputs": [
    {
     "name": "stdout",
     "output_type": "stream",
     "text": [
      "Dataset ajustado exportado como C:/Eugenio/Maestria/DMEyF/datasets/competencia_02_inflacion_adj.parquet\n"
     ]
    }
   ],
   "source": [
    "df.write_parquet(dataset_path + output_file)\n",
    "print(f\"Dataset ajustado exportado como {dataset_path + output_file}\")"
   ]
  }
 ],
 "metadata": {
  "colab": {
   "provenance": []
  },
  "kernelspec": {
   "display_name": "Python 3",
   "language": "python",
   "name": "python3"
  },
  "language_info": {
   "codemirror_mode": {
    "name": "ipython",
    "version": 3
   },
   "file_extension": ".py",
   "mimetype": "text/x-python",
   "name": "python",
   "nbconvert_exporter": "python",
   "pygments_lexer": "ipython3",
   "version": "3.12.5"
  }
 },
 "nbformat": 4,
 "nbformat_minor": 4
}

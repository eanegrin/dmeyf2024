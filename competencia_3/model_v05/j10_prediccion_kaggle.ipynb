{
 "cells": [
  {
   "cell_type": "code",
   "execution_count": 1,
   "metadata": {},
   "outputs": [],
   "source": [
    "import pandas as pd\n",
    "import polars as pl\n",
    "import numpy as np\n",
    "import lightgbm as lgb\n",
    "import optuna\n",
    "import os"
   ]
  },
  {
   "cell_type": "code",
   "execution_count": 2,
   "metadata": {},
   "outputs": [],
   "source": [
    "base_path = 'C:/Eugenio/Maestria/DMEyF/'\n",
    "# base_path = '/home/eanegrin/buckets/b1/'\n",
    "\n",
    "dataset_path = base_path + 'datasets/'\n",
    "modelos_path = base_path + 'modelos/'\n",
    "db_path = base_path + 'db/'\n",
    "dataset_file = 'competencia_03_fe_v03.parquet'\n",
    "\n",
    "ganancia_acierto = 273000\n",
    "costo_estimulo = 7000\n",
    "\n",
    "semillas = [122219, 109279, 400391, 401537, 999961]"
   ]
  },
  {
   "cell_type": "code",
   "execution_count": 3,
   "metadata": {},
   "outputs": [],
   "source": [
    "data = pl.scan_parquet(dataset_path + dataset_file).filter(pl.col(\"foto_mes\") == 202109).collect()"
   ]
  },
  {
   "cell_type": "code",
   "execution_count": 4,
   "metadata": {},
   "outputs": [],
   "source": [
    "# convirto a pandas dataframe\n",
    "data = data.to_pandas()"
   ]
  },
  {
   "cell_type": "code",
   "execution_count": 5,
   "metadata": {},
   "outputs": [],
   "source": [
    "# Asignamos pesos a las clases\n",
    "\n",
    "data['clase_peso'] = 1.0\n",
    "\n",
    "data.loc[data['clase_ternaria'] == 'BAJA+2', 'clase_peso'] = 1.00002\n",
    "data.loc[data['clase_ternaria'] == 'BAJA+1', 'clase_peso'] = 1.00001"
   ]
  },
  {
   "cell_type": "code",
   "execution_count": 6,
   "metadata": {},
   "outputs": [],
   "source": [
    "data['clase_binaria'] = 0\n",
    "data['clase_binaria'] = np.where(data['clase_ternaria'] == 'BAJA+2', 1, 0)"
   ]
  },
  {
   "cell_type": "code",
   "execution_count": 7,
   "metadata": {},
   "outputs": [],
   "source": [
    "X_test = data.drop(['clase_ternaria', 'clase_peso', 'clase_binaria'], axis=1)"
   ]
  },
  {
   "cell_type": "markdown",
   "metadata": {},
   "source": [
    "### Predicciones para Kaggle"
   ]
  },
  {
   "cell_type": "code",
   "execution_count": 16,
   "metadata": {},
   "outputs": [],
   "source": [
    "version = 'v003' # UPADTE\n",
    "\n",
    "modelos = [f'lgb_competencia3_{version}_s{semilla}_final.txt' for semilla in semillas]\n",
    "\n",
    "# probamos varios puntos de corte\n",
    "puntos_corte = np.linspace(10000, 14000, 10).astype(int)\n",
    "# puntos_corte = [12500,13000]"
   ]
  },
  {
   "cell_type": "code",
   "execution_count": 17,
   "metadata": {},
   "outputs": [
    {
     "data": {
      "text/plain": [
       "array([10000, 10444, 10888, 11333, 11777, 12222, 12666, 13111, 13555,\n",
       "       14000])"
      ]
     },
     "execution_count": 17,
     "metadata": {},
     "output_type": "execute_result"
    }
   ],
   "source": [
    "puntos_corte"
   ]
  },
  {
   "cell_type": "code",
   "execution_count": 18,
   "metadata": {},
   "outputs": [
    {
     "data": {
      "text/plain": [
       "5"
      ]
     },
     "execution_count": 18,
     "metadata": {},
     "output_type": "execute_result"
    }
   ],
   "source": [
    "len(modelos)"
   ]
  },
  {
   "cell_type": "code",
   "execution_count": 19,
   "metadata": {},
   "outputs": [
    {
     "name": "stdout",
     "output_type": "stream",
     "text": [
      "C:/Eugenio/Maestria/DMEyF/exp/competencia_3/v003/results_v003_1.csv --- modelo: lgb_competencia3_v003_s122219_final.txt, corte: 10000\n",
      "C:/Eugenio/Maestria/DMEyF/exp/competencia_3/v003/results_v003_2.csv --- modelo: lgb_competencia3_v003_s122219_final.txt, corte: 10444\n",
      "C:/Eugenio/Maestria/DMEyF/exp/competencia_3/v003/results_v003_3.csv --- modelo: lgb_competencia3_v003_s122219_final.txt, corte: 10888\n",
      "C:/Eugenio/Maestria/DMEyF/exp/competencia_3/v003/results_v003_4.csv --- modelo: lgb_competencia3_v003_s122219_final.txt, corte: 11333\n",
      "C:/Eugenio/Maestria/DMEyF/exp/competencia_3/v003/results_v003_5.csv --- modelo: lgb_competencia3_v003_s122219_final.txt, corte: 11777\n",
      "C:/Eugenio/Maestria/DMEyF/exp/competencia_3/v003/results_v003_6.csv --- modelo: lgb_competencia3_v003_s122219_final.txt, corte: 12222\n",
      "C:/Eugenio/Maestria/DMEyF/exp/competencia_3/v003/results_v003_7.csv --- modelo: lgb_competencia3_v003_s122219_final.txt, corte: 12666\n",
      "C:/Eugenio/Maestria/DMEyF/exp/competencia_3/v003/results_v003_8.csv --- modelo: lgb_competencia3_v003_s122219_final.txt, corte: 13111\n",
      "C:/Eugenio/Maestria/DMEyF/exp/competencia_3/v003/results_v003_9.csv --- modelo: lgb_competencia3_v003_s122219_final.txt, corte: 13555\n",
      "C:/Eugenio/Maestria/DMEyF/exp/competencia_3/v003/results_v003_10.csv --- modelo: lgb_competencia3_v003_s122219_final.txt, corte: 14000\n",
      "C:/Eugenio/Maestria/DMEyF/exp/competencia_3/v003/results_v003_11.csv --- modelo: lgb_competencia3_v003_s109279_final.txt, corte: 10000\n",
      "C:/Eugenio/Maestria/DMEyF/exp/competencia_3/v003/results_v003_12.csv --- modelo: lgb_competencia3_v003_s109279_final.txt, corte: 10444\n",
      "C:/Eugenio/Maestria/DMEyF/exp/competencia_3/v003/results_v003_13.csv --- modelo: lgb_competencia3_v003_s109279_final.txt, corte: 10888\n",
      "C:/Eugenio/Maestria/DMEyF/exp/competencia_3/v003/results_v003_14.csv --- modelo: lgb_competencia3_v003_s109279_final.txt, corte: 11333\n",
      "C:/Eugenio/Maestria/DMEyF/exp/competencia_3/v003/results_v003_15.csv --- modelo: lgb_competencia3_v003_s109279_final.txt, corte: 11777\n",
      "C:/Eugenio/Maestria/DMEyF/exp/competencia_3/v003/results_v003_16.csv --- modelo: lgb_competencia3_v003_s109279_final.txt, corte: 12222\n",
      "C:/Eugenio/Maestria/DMEyF/exp/competencia_3/v003/results_v003_17.csv --- modelo: lgb_competencia3_v003_s109279_final.txt, corte: 12666\n",
      "C:/Eugenio/Maestria/DMEyF/exp/competencia_3/v003/results_v003_18.csv --- modelo: lgb_competencia3_v003_s109279_final.txt, corte: 13111\n",
      "C:/Eugenio/Maestria/DMEyF/exp/competencia_3/v003/results_v003_19.csv --- modelo: lgb_competencia3_v003_s109279_final.txt, corte: 13555\n",
      "C:/Eugenio/Maestria/DMEyF/exp/competencia_3/v003/results_v003_20.csv --- modelo: lgb_competencia3_v003_s109279_final.txt, corte: 14000\n",
      "C:/Eugenio/Maestria/DMEyF/exp/competencia_3/v003/results_v003_21.csv --- modelo: lgb_competencia3_v003_s400391_final.txt, corte: 10000\n",
      "C:/Eugenio/Maestria/DMEyF/exp/competencia_3/v003/results_v003_22.csv --- modelo: lgb_competencia3_v003_s400391_final.txt, corte: 10444\n",
      "C:/Eugenio/Maestria/DMEyF/exp/competencia_3/v003/results_v003_23.csv --- modelo: lgb_competencia3_v003_s400391_final.txt, corte: 10888\n",
      "C:/Eugenio/Maestria/DMEyF/exp/competencia_3/v003/results_v003_24.csv --- modelo: lgb_competencia3_v003_s400391_final.txt, corte: 11333\n",
      "C:/Eugenio/Maestria/DMEyF/exp/competencia_3/v003/results_v003_25.csv --- modelo: lgb_competencia3_v003_s400391_final.txt, corte: 11777\n",
      "C:/Eugenio/Maestria/DMEyF/exp/competencia_3/v003/results_v003_26.csv --- modelo: lgb_competencia3_v003_s400391_final.txt, corte: 12222\n",
      "C:/Eugenio/Maestria/DMEyF/exp/competencia_3/v003/results_v003_27.csv --- modelo: lgb_competencia3_v003_s400391_final.txt, corte: 12666\n",
      "C:/Eugenio/Maestria/DMEyF/exp/competencia_3/v003/results_v003_28.csv --- modelo: lgb_competencia3_v003_s400391_final.txt, corte: 13111\n",
      "C:/Eugenio/Maestria/DMEyF/exp/competencia_3/v003/results_v003_29.csv --- modelo: lgb_competencia3_v003_s400391_final.txt, corte: 13555\n",
      "C:/Eugenio/Maestria/DMEyF/exp/competencia_3/v003/results_v003_30.csv --- modelo: lgb_competencia3_v003_s400391_final.txt, corte: 14000\n",
      "C:/Eugenio/Maestria/DMEyF/exp/competencia_3/v003/results_v003_31.csv --- modelo: lgb_competencia3_v003_s401537_final.txt, corte: 10000\n",
      "C:/Eugenio/Maestria/DMEyF/exp/competencia_3/v003/results_v003_32.csv --- modelo: lgb_competencia3_v003_s401537_final.txt, corte: 10444\n",
      "C:/Eugenio/Maestria/DMEyF/exp/competencia_3/v003/results_v003_33.csv --- modelo: lgb_competencia3_v003_s401537_final.txt, corte: 10888\n",
      "C:/Eugenio/Maestria/DMEyF/exp/competencia_3/v003/results_v003_34.csv --- modelo: lgb_competencia3_v003_s401537_final.txt, corte: 11333\n",
      "C:/Eugenio/Maestria/DMEyF/exp/competencia_3/v003/results_v003_35.csv --- modelo: lgb_competencia3_v003_s401537_final.txt, corte: 11777\n",
      "C:/Eugenio/Maestria/DMEyF/exp/competencia_3/v003/results_v003_36.csv --- modelo: lgb_competencia3_v003_s401537_final.txt, corte: 12222\n",
      "C:/Eugenio/Maestria/DMEyF/exp/competencia_3/v003/results_v003_37.csv --- modelo: lgb_competencia3_v003_s401537_final.txt, corte: 12666\n",
      "C:/Eugenio/Maestria/DMEyF/exp/competencia_3/v003/results_v003_38.csv --- modelo: lgb_competencia3_v003_s401537_final.txt, corte: 13111\n",
      "C:/Eugenio/Maestria/DMEyF/exp/competencia_3/v003/results_v003_39.csv --- modelo: lgb_competencia3_v003_s401537_final.txt, corte: 13555\n",
      "C:/Eugenio/Maestria/DMEyF/exp/competencia_3/v003/results_v003_40.csv --- modelo: lgb_competencia3_v003_s401537_final.txt, corte: 14000\n",
      "C:/Eugenio/Maestria/DMEyF/exp/competencia_3/v003/results_v003_41.csv --- modelo: lgb_competencia3_v003_s999961_final.txt, corte: 10000\n",
      "C:/Eugenio/Maestria/DMEyF/exp/competencia_3/v003/results_v003_42.csv --- modelo: lgb_competencia3_v003_s999961_final.txt, corte: 10444\n",
      "C:/Eugenio/Maestria/DMEyF/exp/competencia_3/v003/results_v003_43.csv --- modelo: lgb_competencia3_v003_s999961_final.txt, corte: 10888\n",
      "C:/Eugenio/Maestria/DMEyF/exp/competencia_3/v003/results_v003_44.csv --- modelo: lgb_competencia3_v003_s999961_final.txt, corte: 11333\n",
      "C:/Eugenio/Maestria/DMEyF/exp/competencia_3/v003/results_v003_45.csv --- modelo: lgb_competencia3_v003_s999961_final.txt, corte: 11777\n",
      "C:/Eugenio/Maestria/DMEyF/exp/competencia_3/v003/results_v003_46.csv --- modelo: lgb_competencia3_v003_s999961_final.txt, corte: 12222\n",
      "C:/Eugenio/Maestria/DMEyF/exp/competencia_3/v003/results_v003_47.csv --- modelo: lgb_competencia3_v003_s999961_final.txt, corte: 12666\n",
      "C:/Eugenio/Maestria/DMEyF/exp/competencia_3/v003/results_v003_48.csv --- modelo: lgb_competencia3_v003_s999961_final.txt, corte: 13111\n",
      "C:/Eugenio/Maestria/DMEyF/exp/competencia_3/v003/results_v003_49.csv --- modelo: lgb_competencia3_v003_s999961_final.txt, corte: 13555\n",
      "C:/Eugenio/Maestria/DMEyF/exp/competencia_3/v003/results_v003_50.csv --- modelo: lgb_competencia3_v003_s999961_final.txt, corte: 14000\n"
     ]
    }
   ],
   "source": [
    "os.makedirs(base_path + f'exp/competencia_3/{version}/', exist_ok= True) \n",
    "\n",
    "counter = 0\n",
    "\n",
    "for modelo in modelos:\n",
    "    \n",
    "    # cargamos el modelo\n",
    "    model = lgb.Booster(model_file=f'{modelos_path}{version}/{modelo}')\n",
    "    \n",
    "    # predecimos para septiembre\n",
    "    X_test = data.drop(['clase_ternaria', 'clase_peso', 'clase_binaria'], axis=1).copy()\n",
    "    y_pred_lgm = model.predict(X_test)\n",
    "    X_test['pred_lgm'] = y_pred_lgm\n",
    "    \n",
    "    # ordeno de mayor probabilidad de baja a menor\n",
    "    idx = np.argsort(y_pred_lgm)[::-1]\n",
    "    X_test.reset_index(drop=True, inplace=True)\n",
    "    X_test = X_test.iloc[idx]\n",
    "    \n",
    "    for corte in puntos_corte:\n",
    "        \n",
    "        envios = np.zeros(len(X_test), dtype=int)\n",
    "        envios[:corte] = 1\n",
    "        X_test['Predicted'] = envios\n",
    "        \n",
    "        output = X_test[['numero_de_cliente', 'Predicted']]\n",
    "        \n",
    "        counter += 1\n",
    "        file_name = f'results_{version}_{counter}.csv'\n",
    "        output_path = base_path + f'exp/competencia_3/{version}/' + file_name\n",
    "        \n",
    "        output.to_csv(output_path, index=False)\n",
    "                \n",
    "        print(f'{output_path} --- modelo: {modelo}, corte: {corte}')"
   ]
  },
  {
   "cell_type": "code",
   "execution_count": null,
   "metadata": {},
   "outputs": [],
   "source": []
  }
 ],
 "metadata": {
  "kernelspec": {
   "display_name": "Python 3",
   "language": "python",
   "name": "python3"
  },
  "language_info": {
   "codemirror_mode": {
    "name": "ipython",
    "version": 3
   },
   "file_extension": ".py",
   "mimetype": "text/x-python",
   "name": "python",
   "nbconvert_exporter": "python",
   "pygments_lexer": "ipython3",
   "version": "3.12.5"
  }
 },
 "nbformat": 4,
 "nbformat_minor": 2
}

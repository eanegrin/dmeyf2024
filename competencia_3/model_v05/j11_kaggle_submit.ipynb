{
 "cells": [
  {
   "cell_type": "code",
   "execution_count": 1,
   "metadata": {},
   "outputs": [],
   "source": [
    "import pandas as pd\n",
    "import numpy as np\n",
    "import os\n",
    "\n",
    "from kaggle.api.kaggle_api_extended import KaggleApi\n",
    "import time"
   ]
  },
  {
   "cell_type": "code",
   "execution_count": 2,
   "metadata": {},
   "outputs": [],
   "source": [
    "version = 'v003' # UPDATE"
   ]
  },
  {
   "cell_type": "code",
   "execution_count": 3,
   "metadata": {},
   "outputs": [],
   "source": [
    "competition = 'dm-ey-f-2024-tercera'\n",
    "files_path = f'C:/Eugenio/Maestria/DMEyF/exp/competencia_3/{version}/'"
   ]
  },
  {
   "cell_type": "code",
   "execution_count": 4,
   "metadata": {},
   "outputs": [],
   "source": [
    "semillas = [122219, 109279, 400391, 401537, 999961]\n",
    "\n",
    "puntos_corte = np.linspace(10000, 14000, 10).astype(int) # Usar el mismo que en el script anterior"
   ]
  },
  {
   "cell_type": "code",
   "execution_count": 5,
   "metadata": {},
   "outputs": [],
   "source": [
    "# diccionario con la semilla y el corte de cada version\n",
    "combinations = {}\n",
    "\n",
    "counter = 1\n",
    "for semilla in semillas:\n",
    "    for corte in puntos_corte:\n",
    "        combinations[counter] = {'seed':semilla,'corte':int(corte)}\n",
    "        counter += 1\n",
    "\n",
    "# path de cada version        \n",
    "files = [f'{files_path}results_{version}_{i}.csv' for i in range(1,101)]\n",
    "\n",
    "# descripcion de cada edicion\n",
    "descriptions= [\n",
    "    f\"seed = {combinations[i]['seed']}, corte = {combinations[i]['corte']}\"\n",
    "    for i in range(1, len(combinations)+1)\n",
    "]"
   ]
  },
  {
   "cell_type": "code",
   "execution_count": 6,
   "metadata": {},
   "outputs": [
    {
     "data": {
      "text/plain": [
       "['seed = 122219, corte = 10000',\n",
       " 'seed = 122219, corte = 10444',\n",
       " 'seed = 122219, corte = 10888',\n",
       " 'seed = 122219, corte = 11333',\n",
       " 'seed = 122219, corte = 11777',\n",
       " 'seed = 122219, corte = 12222',\n",
       " 'seed = 122219, corte = 12666',\n",
       " 'seed = 122219, corte = 13111',\n",
       " 'seed = 122219, corte = 13555',\n",
       " 'seed = 122219, corte = 14000',\n",
       " 'seed = 109279, corte = 10000',\n",
       " 'seed = 109279, corte = 10444',\n",
       " 'seed = 109279, corte = 10888',\n",
       " 'seed = 109279, corte = 11333',\n",
       " 'seed = 109279, corte = 11777',\n",
       " 'seed = 109279, corte = 12222',\n",
       " 'seed = 109279, corte = 12666',\n",
       " 'seed = 109279, corte = 13111',\n",
       " 'seed = 109279, corte = 13555',\n",
       " 'seed = 109279, corte = 14000',\n",
       " 'seed = 400391, corte = 10000',\n",
       " 'seed = 400391, corte = 10444',\n",
       " 'seed = 400391, corte = 10888',\n",
       " 'seed = 400391, corte = 11333',\n",
       " 'seed = 400391, corte = 11777',\n",
       " 'seed = 400391, corte = 12222',\n",
       " 'seed = 400391, corte = 12666',\n",
       " 'seed = 400391, corte = 13111',\n",
       " 'seed = 400391, corte = 13555',\n",
       " 'seed = 400391, corte = 14000',\n",
       " 'seed = 401537, corte = 10000',\n",
       " 'seed = 401537, corte = 10444',\n",
       " 'seed = 401537, corte = 10888',\n",
       " 'seed = 401537, corte = 11333',\n",
       " 'seed = 401537, corte = 11777',\n",
       " 'seed = 401537, corte = 12222',\n",
       " 'seed = 401537, corte = 12666',\n",
       " 'seed = 401537, corte = 13111',\n",
       " 'seed = 401537, corte = 13555',\n",
       " 'seed = 401537, corte = 14000',\n",
       " 'seed = 999961, corte = 10000',\n",
       " 'seed = 999961, corte = 10444',\n",
       " 'seed = 999961, corte = 10888',\n",
       " 'seed = 999961, corte = 11333',\n",
       " 'seed = 999961, corte = 11777',\n",
       " 'seed = 999961, corte = 12222',\n",
       " 'seed = 999961, corte = 12666',\n",
       " 'seed = 999961, corte = 13111',\n",
       " 'seed = 999961, corte = 13555',\n",
       " 'seed = 999961, corte = 14000']"
      ]
     },
     "execution_count": 6,
     "metadata": {},
     "output_type": "execute_result"
    }
   ],
   "source": [
    "descriptions"
   ]
  },
  {
   "cell_type": "code",
   "execution_count": 7,
   "metadata": {},
   "outputs": [],
   "source": [
    "api = KaggleApi()\n",
    "api.authenticate()"
   ]
  },
  {
   "cell_type": "code",
   "execution_count": null,
   "metadata": {},
   "outputs": [
    {
     "name": "stderr",
     "output_type": "stream",
     "text": [
      "100%|██████████| 2.09M/2.09M [00:01<00:00, 1.40MB/s]\n"
     ]
    },
    {
     "name": "stdout",
     "output_type": "stream",
     "text": [
      "results_v003_1.csv subido con exito, public score:123.958\n"
     ]
    },
    {
     "name": "stderr",
     "output_type": "stream",
     "text": [
      "100%|██████████| 2.09M/2.09M [00:01<00:00, 1.32MB/s]\n"
     ]
    },
    {
     "name": "stdout",
     "output_type": "stream",
     "text": [
      "results_v003_2.csv subido con exito, public score:123.188\n"
     ]
    },
    {
     "name": "stderr",
     "output_type": "stream",
     "text": [
      "100%|██████████| 2.09M/2.09M [00:01<00:00, 1.36MB/s]\n"
     ]
    },
    {
     "name": "stdout",
     "output_type": "stream",
     "text": [
      "results_v003_3.csv subido con exito, public score:120.878\n"
     ]
    },
    {
     "name": "stderr",
     "output_type": "stream",
     "text": [
      "100%|██████████| 2.09M/2.09M [00:01<00:00, 1.33MB/s]\n"
     ]
    },
    {
     "name": "stdout",
     "output_type": "stream",
     "text": [
      "results_v003_4.csv subido con exito, public score:120.598\n"
     ]
    },
    {
     "name": "stderr",
     "output_type": "stream",
     "text": [
      "100%|██████████| 2.09M/2.09M [00:01<00:00, 1.30MB/s]\n"
     ]
    },
    {
     "name": "stdout",
     "output_type": "stream",
     "text": [
      "results_v003_5.csv subido con exito, public score:119.968\n"
     ]
    },
    {
     "name": "stderr",
     "output_type": "stream",
     "text": [
      "100%|██████████| 2.09M/2.09M [00:01<00:00, 1.38MB/s]\n"
     ]
    },
    {
     "name": "stdout",
     "output_type": "stream",
     "text": [
      "results_v003_6.csv subido con exito, public score:118.778\n"
     ]
    },
    {
     "name": "stderr",
     "output_type": "stream",
     "text": [
      "100%|██████████| 2.09M/2.09M [00:01<00:00, 1.62MB/s]\n"
     ]
    },
    {
     "name": "stdout",
     "output_type": "stream",
     "text": [
      "results_v003_7.csv subido con exito, public score:121.228\n"
     ]
    },
    {
     "name": "stderr",
     "output_type": "stream",
     "text": [
      "100%|██████████| 2.09M/2.09M [00:01<00:00, 1.34MB/s]\n"
     ]
    },
    {
     "name": "stdout",
     "output_type": "stream",
     "text": [
      "results_v003_8.csv subido con exito, public score:120.178\n"
     ]
    },
    {
     "name": "stderr",
     "output_type": "stream",
     "text": [
      "100%|██████████| 2.09M/2.09M [00:01<00:00, 1.34MB/s]\n"
     ]
    },
    {
     "name": "stdout",
     "output_type": "stream",
     "text": [
      "results_v003_9.csv subido con exito, public score:119.968\n"
     ]
    },
    {
     "name": "stderr",
     "output_type": "stream",
     "text": [
      "100%|██████████| 2.09M/2.09M [00:01<00:00, 1.31MB/s]\n"
     ]
    },
    {
     "name": "stdout",
     "output_type": "stream",
     "text": [
      "results_v003_10.csv subido con exito, public score:119.968\n"
     ]
    },
    {
     "name": "stderr",
     "output_type": "stream",
     "text": [
      "100%|██████████| 2.09M/2.09M [00:01<00:00, 1.34MB/s]\n"
     ]
    },
    {
     "name": "stdout",
     "output_type": "stream",
     "text": [
      "results_v003_11.csv subido con exito, public score:126.897\n"
     ]
    },
    {
     "name": "stderr",
     "output_type": "stream",
     "text": [
      "100%|██████████| 2.09M/2.09M [00:01<00:00, 1.35MB/s]\n"
     ]
    },
    {
     "name": "stdout",
     "output_type": "stream",
     "text": [
      "results_v003_12.csv subido con exito, public score:128.927\n"
     ]
    },
    {
     "name": "stderr",
     "output_type": "stream",
     "text": [
      "100%|██████████| 2.09M/2.09M [00:01<00:00, 1.39MB/s]\n"
     ]
    },
    {
     "name": "stdout",
     "output_type": "stream",
     "text": [
      "results_v003_13.csv subido con exito, public score:128.647\n"
     ]
    },
    {
     "name": "stderr",
     "output_type": "stream",
     "text": [
      "100%|██████████| 2.09M/2.09M [00:01<00:00, 1.36MB/s]\n"
     ]
    },
    {
     "name": "stdout",
     "output_type": "stream",
     "text": [
      "results_v003_14.csv subido con exito, public score:128.367\n"
     ]
    },
    {
     "name": "stderr",
     "output_type": "stream",
     "text": [
      "100%|██████████| 2.09M/2.09M [00:01<00:00, 1.40MB/s]\n"
     ]
    },
    {
     "name": "stdout",
     "output_type": "stream",
     "text": [
      "results_v003_15.csv subido con exito, public score:127.807\n"
     ]
    },
    {
     "name": "stderr",
     "output_type": "stream",
     "text": [
      "100%|██████████| 2.09M/2.09M [00:01<00:00, 1.36MB/s]\n"
     ]
    },
    {
     "name": "stdout",
     "output_type": "stream",
     "text": [
      "results_v003_16.csv subido con exito, public score:127.527\n"
     ]
    },
    {
     "name": "stderr",
     "output_type": "stream",
     "text": [
      "100%|██████████| 2.09M/2.09M [00:01<00:00, 1.38MB/s]\n"
     ]
    },
    {
     "name": "stdout",
     "output_type": "stream",
     "text": [
      "results_v003_17.csv subido con exito, public score:123.888\n"
     ]
    },
    {
     "name": "stderr",
     "output_type": "stream",
     "text": [
      "100%|██████████| 2.09M/2.09M [00:01<00:00, 1.32MB/s]\n"
     ]
    },
    {
     "name": "stdout",
     "output_type": "stream",
     "text": [
      "results_v003_18.csv subido con exito, public score:123.958\n"
     ]
    },
    {
     "name": "stderr",
     "output_type": "stream",
     "text": [
      "100%|██████████| 2.09M/2.09M [00:01<00:00, 1.36MB/s]\n"
     ]
    },
    {
     "name": "stdout",
     "output_type": "stream",
     "text": [
      "results_v003_19.csv subido con exito, public score:123.538\n"
     ]
    },
    {
     "name": "stderr",
     "output_type": "stream",
     "text": [
      "100%|██████████| 2.09M/2.09M [00:01<00:00, 1.40MB/s]\n"
     ]
    },
    {
     "name": "stdout",
     "output_type": "stream",
     "text": [
      "results_v003_20.csv subido con exito, public score:123.818\n"
     ]
    },
    {
     "name": "stderr",
     "output_type": "stream",
     "text": [
      "100%|██████████| 2.09M/2.09M [00:01<00:00, 1.29MB/s]\n"
     ]
    },
    {
     "name": "stdout",
     "output_type": "stream",
     "text": [
      "results_v003_21.csv subido con exito, public score:127.457\n"
     ]
    },
    {
     "name": "stderr",
     "output_type": "stream",
     "text": [
      "100%|██████████| 2.09M/2.09M [00:01<00:00, 1.37MB/s]\n"
     ]
    },
    {
     "name": "stdout",
     "output_type": "stream",
     "text": [
      "results_v003_22.csv subido con exito, public score:129.557\n"
     ]
    },
    {
     "name": "stderr",
     "output_type": "stream",
     "text": [
      "100%|██████████| 2.09M/2.09M [00:01<00:00, 1.34MB/s]\n"
     ]
    },
    {
     "name": "stdout",
     "output_type": "stream",
     "text": [
      "results_v003_23.csv subido con exito, public score:125.917\n"
     ]
    },
    {
     "name": "stderr",
     "output_type": "stream",
     "text": [
      "100%|██████████| 2.09M/2.09M [00:01<00:00, 1.38MB/s]\n"
     ]
    },
    {
     "name": "stdout",
     "output_type": "stream",
     "text": [
      "results_v003_24.csv subido con exito, public score:127.667\n"
     ]
    },
    {
     "name": "stderr",
     "output_type": "stream",
     "text": [
      "100%|██████████| 2.09M/2.09M [00:01<00:00, 1.36MB/s]\n"
     ]
    },
    {
     "name": "stdout",
     "output_type": "stream",
     "text": [
      "results_v003_25.csv subido con exito, public score:124.867\n"
     ]
    },
    {
     "name": "stderr",
     "output_type": "stream",
     "text": [
      "100%|██████████| 2.09M/2.09M [00:01<00:00, 1.38MB/s]\n"
     ]
    },
    {
     "name": "stdout",
     "output_type": "stream",
     "text": [
      "results_v003_26.csv subido con exito, public score:122.418\n"
     ]
    },
    {
     "name": "stderr",
     "output_type": "stream",
     "text": [
      "100%|██████████| 2.09M/2.09M [00:01<00:00, 1.39MB/s]\n"
     ]
    },
    {
     "name": "stdout",
     "output_type": "stream",
     "text": [
      "results_v003_27.csv subido con exito, public score:121.368\n"
     ]
    },
    {
     "name": "stderr",
     "output_type": "stream",
     "text": [
      "100%|██████████| 2.09M/2.09M [00:01<00:00, 1.31MB/s]\n"
     ]
    },
    {
     "name": "stdout",
     "output_type": "stream",
     "text": [
      "results_v003_28.csv subido con exito, public score:121.018\n"
     ]
    },
    {
     "name": "stderr",
     "output_type": "stream",
     "text": [
      "100%|██████████| 2.09M/2.09M [00:01<00:00, 1.39MB/s]\n"
     ]
    },
    {
     "name": "stdout",
     "output_type": "stream",
     "text": [
      "results_v003_29.csv subido con exito, public score:120.598\n"
     ]
    },
    {
     "name": "stderr",
     "output_type": "stream",
     "text": [
      "100%|██████████| 2.09M/2.09M [00:01<00:00, 1.39MB/s]\n"
     ]
    },
    {
     "name": "stdout",
     "output_type": "stream",
     "text": [
      "results_v003_30.csv subido con exito, public score:123.888\n"
     ]
    },
    {
     "name": "stderr",
     "output_type": "stream",
     "text": [
      "100%|██████████| 2.09M/2.09M [00:01<00:00, 1.29MB/s]\n"
     ]
    },
    {
     "name": "stdout",
     "output_type": "stream",
     "text": [
      "results_v003_31.csv subido con exito, public score:129.417\n"
     ]
    },
    {
     "name": "stderr",
     "output_type": "stream",
     "text": [
      "100%|██████████| 2.09M/2.09M [00:01<00:00, 1.30MB/s]\n"
     ]
    },
    {
     "name": "stdout",
     "output_type": "stream",
     "text": [
      "results_v003_32.csv subido con exito, public score:128.997\n"
     ]
    },
    {
     "name": "stderr",
     "output_type": "stream",
     "text": [
      "100%|██████████| 2.09M/2.09M [00:01<00:00, 1.39MB/s]\n"
     ]
    },
    {
     "name": "stdout",
     "output_type": "stream",
     "text": [
      "results_v003_33.csv subido con exito, public score:126.757\n"
     ]
    },
    {
     "name": "stderr",
     "output_type": "stream",
     "text": [
      "100%|██████████| 2.09M/2.09M [00:01<00:00, 1.30MB/s]\n"
     ]
    },
    {
     "name": "stdout",
     "output_type": "stream",
     "text": [
      "results_v003_34.csv subido con exito, public score:123.328\n"
     ]
    },
    {
     "name": "stderr",
     "output_type": "stream",
     "text": [
      "100%|██████████| 2.09M/2.09M [00:01<00:00, 1.26MB/s]\n"
     ]
    },
    {
     "name": "stdout",
     "output_type": "stream",
     "text": [
      "results_v003_35.csv subido con exito, public score:120.458\n"
     ]
    },
    {
     "name": "stderr",
     "output_type": "stream",
     "text": [
      "100%|██████████| 2.09M/2.09M [00:01<00:00, 1.32MB/s]\n"
     ]
    },
    {
     "name": "stdout",
     "output_type": "stream",
     "text": [
      "results_v003_36.csv subido con exito, public score:122.768\n"
     ]
    },
    {
     "name": "stderr",
     "output_type": "stream",
     "text": [
      "100%|██████████| 2.09M/2.09M [00:01<00:00, 1.38MB/s]\n"
     ]
    },
    {
     "name": "stdout",
     "output_type": "stream",
     "text": [
      "results_v003_37.csv subido con exito, public score:124.937\n"
     ]
    },
    {
     "name": "stderr",
     "output_type": "stream",
     "text": [
      "100%|██████████| 2.09M/2.09M [00:01<00:00, 1.34MB/s]\n"
     ]
    },
    {
     "name": "stdout",
     "output_type": "stream",
     "text": [
      "results_v003_38.csv subido con exito, public score:126.687\n"
     ]
    },
    {
     "name": "stderr",
     "output_type": "stream",
     "text": [
      "100%|██████████| 2.09M/2.09M [00:01<00:00, 1.36MB/s]\n"
     ]
    },
    {
     "name": "stdout",
     "output_type": "stream",
     "text": [
      "results_v003_39.csv subido con exito, public score:123.188\n"
     ]
    },
    {
     "name": "stderr",
     "output_type": "stream",
     "text": [
      "100%|██████████| 2.09M/2.09M [00:01<00:00, 1.29MB/s]\n"
     ]
    },
    {
     "name": "stdout",
     "output_type": "stream",
     "text": [
      "results_v003_40.csv subido con exito, public score:121.718\n"
     ]
    },
    {
     "name": "stderr",
     "output_type": "stream",
     "text": [
      "100%|██████████| 2.09M/2.09M [00:01<00:00, 1.37MB/s]\n"
     ]
    },
    {
     "name": "stdout",
     "output_type": "stream",
     "text": [
      "results_v003_41.csv subido con exito, public score:126.267\n"
     ]
    },
    {
     "name": "stderr",
     "output_type": "stream",
     "text": [
      "100%|██████████| 2.09M/2.09M [00:01<00:00, 1.35MB/s]\n"
     ]
    },
    {
     "name": "stdout",
     "output_type": "stream",
     "text": [
      "results_v003_42.csv subido con exito, public score:126.127\n"
     ]
    },
    {
     "name": "stderr",
     "output_type": "stream",
     "text": [
      "100%|██████████| 2.09M/2.09M [00:01<00:00, 1.32MB/s]\n"
     ]
    },
    {
     "name": "stdout",
     "output_type": "stream",
     "text": [
      "results_v003_43.csv subido con exito, public score:125.287\n"
     ]
    },
    {
     "name": "stderr",
     "output_type": "stream",
     "text": [
      "100%|██████████| 2.09M/2.09M [00:01<00:00, 1.33MB/s]\n"
     ]
    }
   ],
   "source": [
    "archivos = []\n",
    "scores = []\n",
    "descripciones = []\n",
    "\n",
    "for i in range(len(files)):\n",
    "\n",
    "    submitted = False\n",
    "    while submitted == False:\n",
    "        try:\n",
    "            api.competition_submit(file_name=files[i],\n",
    "                                   message=descriptions[i],\n",
    "                                   competition=competition)\n",
    "        except Exception as e:\n",
    "            print(f'Error al subir {files[i]}: {e}')\n",
    "            time.sleep(1000)\n",
    "        else:\n",
    "            submitted = True \n",
    "\n",
    "            # Esperamos un poco para que kaggle no tire error\n",
    "            time.sleep(60)\n",
    "\n",
    "            submissions = api.competition_submissions(competition, page_size=1) # traigo solo la ultima\n",
    "            ultima = submissions[0]\n",
    "            \n",
    "            archivo = ultima.fileName\n",
    "            public_score = ultima.publicScore\n",
    "            descripcion = ultima.description\n",
    "            \n",
    "            archivos.append(archivo)\n",
    "            scores.append(public_score)\n",
    "            descripciones.append(descripcion)\n",
    "            \n",
    "            print(f'{archivo} subido con exito, public score:{public_score}')"
   ]
  },
  {
   "cell_type": "code",
   "execution_count": null,
   "metadata": {},
   "outputs": [],
   "source": [
    "# si falla y precisamos exportar resultados intermedios\n",
    "\n",
    "# resultados = pd.DataFrame({\n",
    "#     'Archivo': archivos,\n",
    "#     'Public score': scores,\n",
    "#     'Description':descripciones\n",
    "# })\n",
    "\n",
    "# resultados.to_excel(f'C:/Users/eaneg/OneDrive/Desktop/scores_{version}.xlsx', index=False)\n",
    "\n",
    "# resultados = pd.read_excel(f'C:/Users/eaneg/OneDrive/Desktop/scores_{version}.xlsx')"
   ]
  },
  {
   "cell_type": "code",
   "execution_count": 9,
   "metadata": {},
   "outputs": [],
   "source": [
    "resultados = pd.DataFrame({\n",
    "    'Archivo': archivos,\n",
    "    'Public score': scores,\n",
    "    'Description':descripciones\n",
    "})\n",
    "\n",
    "df = pd.DataFrame({\n",
    "    'seed': np.repeat(semillas, len(puntos_corte)),\n",
    "    'corte': np.tile(puntos_corte, len(semillas))\n",
    "})\n",
    "\n",
    "resultados = pd.concat([resultados, df], axis=1)"
   ]
  },
  {
   "cell_type": "code",
   "execution_count": 10,
   "metadata": {},
   "outputs": [],
   "source": [
    "resultados.to_excel(f'{files_path}scores_{version}.xlsx', index=False)"
   ]
  }
 ],
 "metadata": {
  "kernelspec": {
   "display_name": "Python 3",
   "language": "python",
   "name": "python3"
  },
  "language_info": {
   "codemirror_mode": {
    "name": "ipython",
    "version": 3
   },
   "file_extension": ".py",
   "mimetype": "text/x-python",
   "name": "python",
   "nbconvert_exporter": "python",
   "pygments_lexer": "ipython3",
   "version": "3.12.5"
  }
 },
 "nbformat": 4,
 "nbformat_minor": 2
}

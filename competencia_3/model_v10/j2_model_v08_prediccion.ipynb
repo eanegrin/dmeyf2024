{
 "cells": [
  {
   "cell_type": "code",
   "execution_count": 1,
   "metadata": {},
   "outputs": [],
   "source": [
    "import pandas as pd\n",
    "import polars as pl\n",
    "import numpy as np\n",
    "import lightgbm as lgb\n",
    "import optuna\n",
    "import os"
   ]
  },
  {
   "cell_type": "code",
   "execution_count": 2,
   "metadata": {},
   "outputs": [],
   "source": [
    "base_path = 'C:/Eugenio/Maestria/DMEyF/'\n",
    "# base_path = '/home/eanegrin/buckets/b1/'\n",
    "\n",
    "dataset_path = base_path + 'datasets/'\n",
    "modelos_path = base_path + 'modelos/'\n",
    "db_path = base_path + 'db/'\n",
    "dataset_file = 'competencia_03_fe_v08_predict.parquet'\n",
    "\n",
    "ganancia_acierto = 273000\n",
    "costo_estimulo = 7000\n",
    "\n",
    "semillas = [1149, 4836, 9443, 7483, 3492, 6287, 830, 3294, 5932, 13]"
   ]
  },
  {
   "cell_type": "code",
   "execution_count": 3,
   "metadata": {},
   "outputs": [],
   "source": [
    "data = pl.scan_parquet(dataset_path + dataset_file).filter(pl.col(\"foto_mes\") == 202109).collect()"
   ]
  },
  {
   "cell_type": "code",
   "execution_count": 4,
   "metadata": {},
   "outputs": [],
   "source": [
    "# convirto a pandas dataframe\n",
    "data = data.to_pandas()"
   ]
  },
  {
   "cell_type": "code",
   "execution_count": 5,
   "metadata": {},
   "outputs": [],
   "source": [
    "data['clase_peso'] = 1.0\n",
    "\n",
    "data.loc[data['clase_ternaria'] == 'BAJA+2', 'clase_peso'] = 1.00002\n",
    "data.loc[data['clase_ternaria'] == 'BAJA+1', 'clase_peso'] = 1.00001"
   ]
  },
  {
   "cell_type": "code",
   "execution_count": 6,
   "metadata": {},
   "outputs": [],
   "source": [
    "data['clase_binaria'] = 0\n",
    "data['clase_binaria'] = np.where(data['clase_ternaria'] == 'CONTINUA', 0, 1)"
   ]
  },
  {
   "cell_type": "code",
   "execution_count": 7,
   "metadata": {},
   "outputs": [],
   "source": [
    "X_test = data.drop(['clase_ternaria', 'clase_peso', 'clase_binaria'], axis=1)"
   ]
  },
  {
   "cell_type": "markdown",
   "metadata": {},
   "source": [
    "### Predicciones"
   ]
  },
  {
   "cell_type": "code",
   "execution_count": null,
   "metadata": {},
   "outputs": [
    {
     "data": {
      "text/plain": [
       "['lgb_competencia3_v008_s1149_final.txt',\n",
       " 'lgb_competencia3_v008_s4836_final.txt',\n",
       " 'lgb_competencia3_v008_s9443_final.txt',\n",
       " 'lgb_competencia3_v008_s7483_final.txt',\n",
       " 'lgb_competencia3_v008_s3492_final.txt',\n",
       " 'lgb_competencia3_v008_s6287_final.txt',\n",
       " 'lgb_competencia3_v008_s830_final.txt',\n",
       " 'lgb_competencia3_v008_s3294_final.txt',\n",
       " 'lgb_competencia3_v008_s5932_final.txt',\n",
       " 'lgb_competencia3_v008_s13_final.txt']"
      ]
     },
     "execution_count": 8,
     "metadata": {},
     "output_type": "execute_result"
    }
   ],
   "source": [
    "version = 'v008' # UPADTE\n",
    "\n",
    "modelos = [f'lgb_competencia3_{version}_s{semilla}_final.txt' for semilla in semillas]\n",
    "modelos"
   ]
  },
  {
   "cell_type": "code",
   "execution_count": null,
   "metadata": {},
   "outputs": [
    {
     "name": "stdout",
     "output_type": "stream",
     "text": [
      "1. Predicciones del modelo: lgb_competencia3_v008_s1149_final.txt DONE\n",
      "2. Predicciones del modelo: lgb_competencia3_v008_s4836_final.txt DONE\n",
      "3. Predicciones del modelo: lgb_competencia3_v008_s9443_final.txt DONE\n",
      "4. Predicciones del modelo: lgb_competencia3_v008_s7483_final.txt DONE\n",
      "5. Predicciones del modelo: lgb_competencia3_v008_s3492_final.txt DONE\n",
      "6. Predicciones del modelo: lgb_competencia3_v008_s6287_final.txt DONE\n",
      "7. Predicciones del modelo: lgb_competencia3_v008_s830_final.txt DONE\n",
      "8. Predicciones del modelo: lgb_competencia3_v008_s3294_final.txt DONE\n",
      "9. Predicciones del modelo: lgb_competencia3_v008_s5932_final.txt DONE\n",
      "10. Predicciones del modelo: lgb_competencia3_v008_s13_final.txt DONE\n"
     ]
    }
   ],
   "source": [
    "predicciones = [] \n",
    "headers = []\n",
    "\n",
    "for counter, modelo in enumerate(modelos):\n",
    "    \n",
    "    # cargamos el modelo\n",
    "    model = lgb.Booster(model_file=f'{modelos_path}v010/{modelo}')\n",
    "    \n",
    "    # predecimos\n",
    "    y_pred_lgm = model.predict(X_test)\n",
    "    \n",
    "    # Guardamos la prediccion y un nombre de columna para asignarle despues\n",
    "    predicciones.append(y_pred_lgm)\n",
    "    headers.append(f'pred_lgm_{version}_{semillas[counter]}')\n",
    "    \n",
    "    print(f'{counter + 1}. Predicciones del modelo: {modelo} DONE')"
   ]
  },
  {
   "cell_type": "code",
   "execution_count": 10,
   "metadata": {},
   "outputs": [],
   "source": [
    "# combinamos todas las predicciones en un mismo df y mergeamos\n",
    "df_predicciones = pd.DataFrame(np.column_stack(predicciones), columns=headers)\n",
    "\n",
    "output = pd.concat([X_test['numero_de_cliente'], df_predicciones], axis=1)"
   ]
  },
  {
   "cell_type": "code",
   "execution_count": 11,
   "metadata": {},
   "outputs": [
    {
     "data": {
      "text/html": [
       "<div>\n",
       "<style scoped>\n",
       "    .dataframe tbody tr th:only-of-type {\n",
       "        vertical-align: middle;\n",
       "    }\n",
       "\n",
       "    .dataframe tbody tr th {\n",
       "        vertical-align: top;\n",
       "    }\n",
       "\n",
       "    .dataframe thead th {\n",
       "        text-align: right;\n",
       "    }\n",
       "</style>\n",
       "<table border=\"1\" class=\"dataframe\">\n",
       "  <thead>\n",
       "    <tr style=\"text-align: right;\">\n",
       "      <th></th>\n",
       "      <th>numero_de_cliente</th>\n",
       "      <th>pred_lgm_v008_1149</th>\n",
       "      <th>pred_lgm_v008_4836</th>\n",
       "      <th>pred_lgm_v008_9443</th>\n",
       "      <th>pred_lgm_v008_7483</th>\n",
       "      <th>pred_lgm_v008_3492</th>\n",
       "      <th>pred_lgm_v008_6287</th>\n",
       "      <th>pred_lgm_v008_830</th>\n",
       "      <th>pred_lgm_v008_3294</th>\n",
       "      <th>pred_lgm_v008_5932</th>\n",
       "      <th>pred_lgm_v008_13</th>\n",
       "    </tr>\n",
       "  </thead>\n",
       "  <tbody>\n",
       "    <tr>\n",
       "      <th>0</th>\n",
       "      <td>249237079</td>\n",
       "      <td>0.000001</td>\n",
       "      <td>0.000004</td>\n",
       "      <td>0.000008</td>\n",
       "      <td>0.000003</td>\n",
       "      <td>0.000002</td>\n",
       "      <td>6.331278e-07</td>\n",
       "      <td>0.000001</td>\n",
       "      <td>0.000004</td>\n",
       "      <td>0.000003</td>\n",
       "      <td>0.000003</td>\n",
       "    </tr>\n",
       "    <tr>\n",
       "      <th>1</th>\n",
       "      <td>249267267</td>\n",
       "      <td>0.046741</td>\n",
       "      <td>0.041009</td>\n",
       "      <td>0.010568</td>\n",
       "      <td>0.100386</td>\n",
       "      <td>0.013505</td>\n",
       "      <td>4.267765e-02</td>\n",
       "      <td>0.016903</td>\n",
       "      <td>0.060872</td>\n",
       "      <td>0.050984</td>\n",
       "      <td>0.017199</td>\n",
       "    </tr>\n",
       "    <tr>\n",
       "      <th>2</th>\n",
       "      <td>249318906</td>\n",
       "      <td>0.000021</td>\n",
       "      <td>0.000011</td>\n",
       "      <td>0.000014</td>\n",
       "      <td>0.000017</td>\n",
       "      <td>0.000007</td>\n",
       "      <td>1.457622e-05</td>\n",
       "      <td>0.000011</td>\n",
       "      <td>0.000008</td>\n",
       "      <td>0.000010</td>\n",
       "      <td>0.000012</td>\n",
       "    </tr>\n",
       "    <tr>\n",
       "      <th>3</th>\n",
       "      <td>249905603</td>\n",
       "      <td>0.000003</td>\n",
       "      <td>0.000001</td>\n",
       "      <td>0.000003</td>\n",
       "      <td>0.000003</td>\n",
       "      <td>0.000003</td>\n",
       "      <td>1.170099e-06</td>\n",
       "      <td>0.000004</td>\n",
       "      <td>0.000005</td>\n",
       "      <td>0.000001</td>\n",
       "      <td>0.000002</td>\n",
       "    </tr>\n",
       "    <tr>\n",
       "      <th>4</th>\n",
       "      <td>250008430</td>\n",
       "      <td>0.086113</td>\n",
       "      <td>0.107617</td>\n",
       "      <td>0.075205</td>\n",
       "      <td>0.037136</td>\n",
       "      <td>0.073272</td>\n",
       "      <td>5.051494e-02</td>\n",
       "      <td>0.043327</td>\n",
       "      <td>0.044919</td>\n",
       "      <td>0.060405</td>\n",
       "      <td>0.028684</td>\n",
       "    </tr>\n",
       "  </tbody>\n",
       "</table>\n",
       "</div>"
      ],
      "text/plain": [
       "   numero_de_cliente  pred_lgm_v008_1149  pred_lgm_v008_4836  \\\n",
       "0          249237079            0.000001            0.000004   \n",
       "1          249267267            0.046741            0.041009   \n",
       "2          249318906            0.000021            0.000011   \n",
       "3          249905603            0.000003            0.000001   \n",
       "4          250008430            0.086113            0.107617   \n",
       "\n",
       "   pred_lgm_v008_9443  pred_lgm_v008_7483  pred_lgm_v008_3492  \\\n",
       "0            0.000008            0.000003            0.000002   \n",
       "1            0.010568            0.100386            0.013505   \n",
       "2            0.000014            0.000017            0.000007   \n",
       "3            0.000003            0.000003            0.000003   \n",
       "4            0.075205            0.037136            0.073272   \n",
       "\n",
       "   pred_lgm_v008_6287  pred_lgm_v008_830  pred_lgm_v008_3294  \\\n",
       "0        6.331278e-07           0.000001            0.000004   \n",
       "1        4.267765e-02           0.016903            0.060872   \n",
       "2        1.457622e-05           0.000011            0.000008   \n",
       "3        1.170099e-06           0.000004            0.000005   \n",
       "4        5.051494e-02           0.043327            0.044919   \n",
       "\n",
       "   pred_lgm_v008_5932  pred_lgm_v008_13  \n",
       "0            0.000003          0.000003  \n",
       "1            0.050984          0.017199  \n",
       "2            0.000010          0.000012  \n",
       "3            0.000001          0.000002  \n",
       "4            0.060405          0.028684  "
      ]
     },
     "execution_count": 11,
     "metadata": {},
     "output_type": "execute_result"
    }
   ],
   "source": [
    "output.head()"
   ]
  },
  {
   "cell_type": "code",
   "execution_count": null,
   "metadata": {},
   "outputs": [],
   "source": [
    "file_name = f'predicciones_modelos_{version}.csv'\n",
    "\n",
    "os.makedirs(base_path + 'exp/competencia_3/v010/', exist_ok= True) # carpeta donde vamos a almacenar los modelos que va a usar el ensamble\n",
    "\n",
    "output_path = base_path + f'exp/competencia_3/v010/' + file_name\n",
    "output.to_csv(output_path, index=False)"
   ]
  }
 ],
 "metadata": {
  "kernelspec": {
   "display_name": "Python 3",
   "language": "python",
   "name": "python3"
  },
  "language_info": {
   "codemirror_mode": {
    "name": "ipython",
    "version": 3
   },
   "file_extension": ".py",
   "mimetype": "text/x-python",
   "name": "python",
   "nbconvert_exporter": "python",
   "pygments_lexer": "ipython3",
   "version": "3.12.5"
  }
 },
 "nbformat": 4,
 "nbformat_minor": 2
}

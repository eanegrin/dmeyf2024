{
 "cells": [
  {
   "cell_type": "code",
   "execution_count": 1,
   "metadata": {
    "id": "Cj-rL6xHlA2u"
   },
   "outputs": [],
   "source": [
    "import pandas as pd\n",
    "import polars as pl\n",
    "import numpy as np\n",
    "import seaborn as sns\n",
    "import matplotlib.pyplot as plt\n",
    "\n",
    "from sklearn.model_selection import train_test_split\n",
    "from sklearn.model_selection import ShuffleSplit, StratifiedShuffleSplit\n",
    "from sklearn.ensemble import RandomForestClassifier\n",
    "from sklearn.impute import SimpleImputer\n",
    "\n",
    "import lightgbm as lgb\n",
    "\n",
    "import optuna\n",
    "from optuna.visualization import plot_optimization_history, plot_param_importances, plot_slice, plot_contour\n",
    "\n",
    "from time import time\n",
    "\n",
    "import pickle\n",
    "import os"
   ]
  },
  {
   "cell_type": "code",
   "execution_count": 2,
   "metadata": {},
   "outputs": [],
   "source": [
    "# !gsutil cp /home/eanegrin/buckets/b1/datasets/competencia_02_fe_v01.parquet /home/eanegrin/datasets/"
   ]
  },
  {
   "cell_type": "code",
   "execution_count": 2,
   "metadata": {
    "id": "8jGKjoN1lRho"
   },
   "outputs": [],
   "source": [
    "# base_path = '/content/drive/MyDrive/DMEyF/2024/'\n",
    "base_path = 'C:/Eugenio/Maestria/DMEyF/'\n",
    "# base_path = '/home/eanegrin/buckets/b1/'\n",
    "\n",
    "dataset_path = base_path + 'datasets/'\n",
    "modelos_path = base_path + 'modelos/'\n",
    "db_path = base_path + 'db/'\n",
    "dataset_file = 'competencia_03_fe_v05_undersampled.parquet'\n",
    "\n",
    "ganancia_acierto = 273000\n",
    "costo_estimulo = 7000\n",
    "\n",
    "semillas = [122219, 109279, 400391, 401537, 999961]"
   ]
  },
  {
   "cell_type": "code",
   "execution_count": 3,
   "metadata": {},
   "outputs": [],
   "source": [
    "# data = pd.read_parquet('/home/eanegrin/datasets/' + dataset_file)\n",
    "data = pd.read_parquet(dataset_path + dataset_file)"
   ]
  },
  {
   "cell_type": "code",
   "execution_count": 4,
   "metadata": {},
   "outputs": [
    {
     "data": {
      "text/plain": [
       "array([201906, 201907, 201908, 201909, 201910, 201911, 201912, 202001,\n",
       "       202002, 202003, 202004, 202005, 202007, 202008, 202009, 202010,\n",
       "       202011, 202012, 202101, 202102, 202103, 202104, 202105, 202106])"
      ]
     },
     "execution_count": 4,
     "metadata": {},
     "output_type": "execute_result"
    }
   ],
   "source": [
    "# el dataset undersampleado ya excluye los meses \"malos\" y los que tienen la clase ternaria incompleta\n",
    "# nos queda excluir el mes de testing:\n",
    "\n",
    "data = data[data['foto_mes'] != 202107]\n",
    "\n",
    "data['foto_mes'].unique()"
   ]
  },
  {
   "cell_type": "code",
   "execution_count": 5,
   "metadata": {},
   "outputs": [],
   "source": [
    "# Asignamos pesos a las clases\n",
    "\n",
    "data['clase_peso'] = 1.0\n",
    "\n",
    "data.loc[data['clase_ternaria'] == 'BAJA+2', 'clase_peso'] = 1.00002\n",
    "data.loc[data['clase_ternaria'] == 'BAJA+1', 'clase_peso'] = 1.00001"
   ]
  },
  {
   "cell_type": "code",
   "execution_count": 6,
   "metadata": {},
   "outputs": [],
   "source": [
    "data['clase_binaria'] = 0\n",
    "data['clase_binaria'] = np.where(data['clase_ternaria'] == 'BAJA+2', 1, 0)"
   ]
  },
  {
   "cell_type": "code",
   "execution_count": 7,
   "metadata": {},
   "outputs": [],
   "source": [
    "X_train = data.drop(['clase_ternaria', 'clase_peso', 'clase_binaria'], axis=1)\n",
    "y_train_binaria = data['clase_binaria'] # Junta a los 2 baja\n",
    "w_train = data['clase_peso']"
   ]
  },
  {
   "cell_type": "code",
   "execution_count": 8,
   "metadata": {},
   "outputs": [],
   "source": [
    "def lgb_gan_eval(y_pred, data):\n",
    "    weight = data.get_weight()\n",
    "    ganancia = np.where(weight == 1.00002, ganancia_acierto, 0) - np.where(weight < 1.00002, costo_estimulo, 0)\n",
    "    ganancia = ganancia[np.argsort(y_pred)[::-1]]\n",
    "    ganancia = np.cumsum(ganancia)\n",
    "\n",
    "    return 'gan_eval', np.max(ganancia) , True"
   ]
  },
  {
   "cell_type": "markdown",
   "metadata": {},
   "source": [
    "# Entrenamiento"
   ]
  },
  {
   "cell_type": "markdown",
   "metadata": {},
   "source": [
    "Cargamos el study de optuna que optimizamos en el script anterior"
   ]
  },
  {
   "cell_type": "code",
   "execution_count": 9,
   "metadata": {
    "colab": {
     "base_uri": "https://localhost:8080/"
    },
    "id": "bYMEnNFbkSoQ",
    "outputId": "15d768d4-9e25-4063-984b-d79c90ea91bc"
   },
   "outputs": [
    {
     "name": "stderr",
     "output_type": "stream",
     "text": [
      "[I 2024-12-03 10:07:31,947] Using an existing study with name 'competencia3_lgbm_v05' instead of creating a new one.\n"
     ]
    }
   ],
   "source": [
    "storage_name = \"sqlite:///\" + db_path + \"optimization_lgbm_v05.db\"\n",
    "study_name = \"competencia3_lgbm_v05\" # UPDATE\n",
    "\n",
    "study = optuna.create_study(\n",
    "    direction=\"maximize\",\n",
    "    study_name=study_name,\n",
    "    storage=storage_name,\n",
    "    load_if_exists=True,\n",
    ")"
   ]
  },
  {
   "cell_type": "code",
   "execution_count": 13,
   "metadata": {},
   "outputs": [
    {
     "data": {
      "text/plain": [
       "(85, 12)"
      ]
     },
     "execution_count": 13,
     "metadata": {},
     "output_type": "execute_result"
    }
   ],
   "source": [
    "resultados = study.trials_dataframe()\n",
    "resultados.shape"
   ]
  },
  {
   "cell_type": "code",
   "execution_count": 13,
   "metadata": {},
   "outputs": [
    {
     "data": {
      "text/plain": [
       "FrozenTrial(number=61, state=1, values=[3737566000.0], datetime_start=datetime.datetime(2024, 12, 3, 6, 0, 27, 750410), datetime_complete=datetime.datetime(2024, 12, 3, 6, 7, 1, 272556), params={'num_leaves': 243, 'learning_rate': 0.016794504627976162, 'min_data_in_leaf': 866, 'feature_fraction': 0.7678004709395572, 'bagging_fraction': 0.5901190076375339}, user_attrs={'best_iter': 621}, system_attrs={}, intermediate_values={}, distributions={'num_leaves': IntDistribution(high=1024, log=False, low=8, step=1), 'learning_rate': FloatDistribution(high=0.05, log=False, low=0.005, step=None), 'min_data_in_leaf': IntDistribution(high=8000, log=False, low=64, step=1), 'feature_fraction': FloatDistribution(high=1.0, log=False, low=0.1, step=None), 'bagging_fraction': FloatDistribution(high=1.0, log=False, low=0.1, step=None)}, trial_id=62, value=None)"
      ]
     },
     "execution_count": 13,
     "metadata": {},
     "output_type": "execute_result"
    }
   ],
   "source": [
    "study.best_trial"
   ]
  },
  {
   "cell_type": "markdown",
   "metadata": {
    "id": "HjgD6raVE6am"
   },
   "source": [
    "Entrenamos un modelo solo para ver feature importance:"
   ]
  },
  {
   "cell_type": "code",
   "execution_count": 10,
   "metadata": {
    "colab": {
     "base_uri": "https://localhost:8080/"
    },
    "id": "bwyUriQksZAM",
    "outputId": "c4b54b3e-75b0-4076-8a31-7096bd94382b"
   },
   "outputs": [
    {
     "name": "stdout",
     "output_type": "stream",
     "text": [
      "Mejor cantidad de árboles para el mejor model 621\n"
     ]
    }
   ],
   "source": [
    "best_iter = study.best_trial.user_attrs[\"best_iter\"]\n",
    "print(f\"Mejor cantidad de árboles para el mejor model {best_iter}\")\n",
    "\n",
    "params = {\n",
    "    'objective': 'binary',\n",
    "    'boosting_type': 'gbdt',\n",
    "    'first_metric_only': True,\n",
    "    'boost_from_average': True,\n",
    "    'feature_pre_filter': False,\n",
    "    'max_bin': 31,\n",
    "    'num_leaves': study.best_trial.params['num_leaves'],\n",
    "    'learning_rate': study.best_trial.params['learning_rate'],\n",
    "    'min_data_in_leaf': study.best_trial.params['min_data_in_leaf'],\n",
    "    'feature_fraction': study.best_trial.params['feature_fraction'],\n",
    "    'bagging_fraction': study.best_trial.params['bagging_fraction'],\n",
    "    'seed': semillas[0],\n",
    "    'verbose': -1\n",
    "}\n",
    "\n",
    "train_data = lgb.Dataset(X_train,\n",
    "                          label=y_train_binaria,\n",
    "                          weight=w_train)\n",
    "\n",
    "model = lgb.train(params,\n",
    "                  train_data,\n",
    "                  num_boost_round=best_iter)\n"
   ]
  },
  {
   "cell_type": "code",
   "execution_count": 11,
   "metadata": {},
   "outputs": [
    {
     "data": {
      "text/plain": [
       "{'objective': 'binary',\n",
       " 'boosting_type': 'gbdt',\n",
       " 'first_metric_only': True,\n",
       " 'boost_from_average': True,\n",
       " 'feature_pre_filter': False,\n",
       " 'max_bin': 31,\n",
       " 'num_leaves': 243,\n",
       " 'learning_rate': 0.016794504627976162,\n",
       " 'min_data_in_leaf': 866,\n",
       " 'feature_fraction': 0.7678004709395572,\n",
       " 'bagging_fraction': 0.5901190076375339,\n",
       " 'seed': 122219,\n",
       " 'verbose': -1}"
      ]
     },
     "execution_count": 11,
     "metadata": {},
     "output_type": "execute_result"
    }
   ],
   "source": [
    "params"
   ]
  },
  {
   "cell_type": "markdown",
   "metadata": {
    "id": "LkTH9daXF5tp"
   },
   "source": [
    "Variables mas importantes:"
   ]
  },
  {
   "cell_type": "code",
   "execution_count": 12,
   "metadata": {
    "colab": {
     "base_uri": "https://localhost:8080/",
     "height": 424
    },
    "id": "l7ZObpkHtnUl",
    "outputId": "eb0fe3a2-9e41-4886-ebd7-257dd1cf9829"
   },
   "outputs": [
    {
     "data": {
      "text/html": [
       "<div>\n",
       "<style scoped>\n",
       "    .dataframe tbody tr th:only-of-type {\n",
       "        vertical-align: middle;\n",
       "    }\n",
       "\n",
       "    .dataframe tbody tr th {\n",
       "        vertical-align: top;\n",
       "    }\n",
       "\n",
       "    .dataframe thead th {\n",
       "        text-align: right;\n",
       "    }\n",
       "</style>\n",
       "<table border=\"1\" class=\"dataframe\">\n",
       "  <thead>\n",
       "    <tr style=\"text-align: right;\">\n",
       "      <th></th>\n",
       "      <th>feature</th>\n",
       "      <th>importance</th>\n",
       "    </tr>\n",
       "  </thead>\n",
       "  <tbody>\n",
       "    <tr>\n",
       "      <th>1</th>\n",
       "      <td>foto_mes</td>\n",
       "      <td>2086</td>\n",
       "    </tr>\n",
       "    <tr>\n",
       "      <th>17</th>\n",
       "      <td>mcaja_ahorro</td>\n",
       "      <td>843</td>\n",
       "    </tr>\n",
       "    <tr>\n",
       "      <th>21</th>\n",
       "      <td>mcuentas_saldo</td>\n",
       "      <td>769</td>\n",
       "    </tr>\n",
       "    <tr>\n",
       "      <th>368</th>\n",
       "      <td>cliente_edad_lag2</td>\n",
       "      <td>703</td>\n",
       "    </tr>\n",
       "    <tr>\n",
       "      <th>9</th>\n",
       "      <td>mactivos_margen</td>\n",
       "      <td>664</td>\n",
       "    </tr>\n",
       "    <tr>\n",
       "      <th>...</th>\n",
       "      <td>...</td>\n",
       "      <td>...</td>\n",
       "    </tr>\n",
       "    <tr>\n",
       "      <th>74</th>\n",
       "      <td>mforex_buy</td>\n",
       "      <td>0</td>\n",
       "    </tr>\n",
       "    <tr>\n",
       "      <th>1230</th>\n",
       "      <td>Visa_madelantopesos_delta_ma2</td>\n",
       "      <td>0</td>\n",
       "    </tr>\n",
       "    <tr>\n",
       "      <th>1231</th>\n",
       "      <td>Visa_madelantodolares_delta_ma2</td>\n",
       "      <td>0</td>\n",
       "    </tr>\n",
       "    <tr>\n",
       "      <th>1239</th>\n",
       "      <td>Visa_cadelantosefectivo_delta_ma2</td>\n",
       "      <td>0</td>\n",
       "    </tr>\n",
       "    <tr>\n",
       "      <th>586</th>\n",
       "      <td>minversion1_pesos_delta1</td>\n",
       "      <td>0</td>\n",
       "    </tr>\n",
       "  </tbody>\n",
       "</table>\n",
       "<p>1276 rows × 2 columns</p>\n",
       "</div>"
      ],
      "text/plain": [
       "                                feature  importance\n",
       "1                              foto_mes        2086\n",
       "17                         mcaja_ahorro         843\n",
       "21                       mcuentas_saldo         769\n",
       "368                   cliente_edad_lag2         703\n",
       "9                       mactivos_margen         664\n",
       "...                                 ...         ...\n",
       "74                           mforex_buy           0\n",
       "1230      Visa_madelantopesos_delta_ma2           0\n",
       "1231    Visa_madelantodolares_delta_ma2           0\n",
       "1239  Visa_cadelantosefectivo_delta_ma2           0\n",
       "586            minversion1_pesos_delta1           0\n",
       "\n",
       "[1276 rows x 2 columns]"
      ]
     },
     "execution_count": 12,
     "metadata": {},
     "output_type": "execute_result"
    }
   ],
   "source": [
    "importances = model.feature_importance()\n",
    "feature_names = X_train.columns.tolist()\n",
    "importance_df = pd.DataFrame({'feature': feature_names, 'importance': importances})\n",
    "importance_df = importance_df.sort_values('importance', ascending=False)\n",
    "# importance_df[importance_df['importance'] > 0]\n",
    "importance_df"
   ]
  },
  {
   "cell_type": "code",
   "execution_count": 13,
   "metadata": {},
   "outputs": [
    {
     "data": {
      "text/plain": [
       "['foto_mes',\n",
       " 'mcaja_ahorro',\n",
       " 'mcuentas_saldo',\n",
       " 'cliente_edad_lag2',\n",
       " 'mactivos_margen',\n",
       " 'mrentabilidad_annual_delta2',\n",
       " 'ctrx_quarter_delta_ma2',\n",
       " 'numero_de_cliente',\n",
       " 'ctrx_quarter',\n",
       " 'mrentabilidad_annual_delta1',\n",
       " 'ctrx_quarter_delta2',\n",
       " 'ctrx_quarter_delta1',\n",
       " 'mcuentas_saldo_delta1',\n",
       " 'mprestamos_personales',\n",
       " 'cliente_edad',\n",
       " 'mpasivos_margen',\n",
       " 'consumos_mas_DA',\n",
       " 'mcuenta_corriente',\n",
       " 'mrentabilidad_annual',\n",
       " 'mrentabilidad_annual_ma2_lag',\n",
       " 'Visa_mpagominimo',\n",
       " 'mrentabilidad_annual_lag2',\n",
       " 'mactivos_margen_delta1',\n",
       " 'mcuentas_saldo_delta2',\n",
       " 'mactivos_margen_delta2',\n",
       " 'suma_alt',\n",
       " 'cliente_edad_lag1',\n",
       " 'mcaja_ahorro_lag1',\n",
       " 'map_margen',\n",
       " 'mcaja_ahorro_ma2_lag',\n",
       " 'mpasivos_margen_lag2',\n",
       " 'Visa_fechaalta',\n",
       " 'mactivos_margen_delta_ma2',\n",
       " 'mrentabilidad_annual_delta_ma2',\n",
       " 'mcomisiones_suma_lag2',\n",
       " 'mcaja_ahorro_lag2',\n",
       " 'tarjetas_mpagominimo',\n",
       " 'suma_alt_delta2',\n",
       " 'Visa_fechaalta_lag2',\n",
       " 'mrentabilidad_delta2',\n",
       " 'mcomisiones_suma',\n",
       " 'cliente_edad_ma2_lag',\n",
       " 'mcuentas_saldo_delta_ma2',\n",
       " 'mrentabilidad_annual_lag1',\n",
       " 'Visa_Fvencimiento_lag2',\n",
       " 'mcuenta_corriente_ma2_lag',\n",
       " 'mautoservicio',\n",
       " 'mtransferencias_emitidas',\n",
       " 'mrentabilidad',\n",
       " 'chomebanking_transacciones',\n",
       " 'mcuentas_saldo_lag2',\n",
       " 'mpasivos_margen_ma2_lag',\n",
       " 'chomebanking_transacciones_ma2_lag',\n",
       " 'Master_Fvencimiento_lag2',\n",
       " 'map_margen_delta2',\n",
       " 'Visa_mpagospesos_delta2',\n",
       " 'Master_Fvencimiento',\n",
       " 'cliente_antiguedad',\n",
       " 'mpasivos_margen_delta2',\n",
       " 'mcuenta_corriente_lag1',\n",
       " 'mcaja_ahorro_delta2',\n",
       " 'mcomisiones_mantenimiento',\n",
       " 'map_margen_lag2',\n",
       " 'map_margen_delta1',\n",
       " 'chomebanking_transacciones_lag2',\n",
       " 'Master_fechaalta',\n",
       " 'mcomisiones_suma_delta2',\n",
       " 'Visa_Fvencimiento',\n",
       " 'Master_fechaalta_lag2',\n",
       " 'tarjetas_mpagominimo_delta2',\n",
       " 'mcuenta_corriente_delta2',\n",
       " 'Master_Fvencimiento_lag1',\n",
       " 'mrentabilidad_delta1',\n",
       " 'Visa_mconsumospesos',\n",
       " 'ctarjeta_total_transacciones',\n",
       " 'mcuenta_corriente_lag2',\n",
       " 'mtransferencias_recibidas',\n",
       " 'mpasivos_margen_delta1',\n",
       " 'Master_fultimo_cierre',\n",
       " 'mrentabilidad_delta_ma2',\n",
       " 'mrentabilidad_lag2',\n",
       " 'cproductos',\n",
       " 'Visa_fultimo_cierre_lag2',\n",
       " 'mpayroll',\n",
       " 'mtransferencias_recibidas_ma2_lag',\n",
       " 'mtransferencias_delta_ma2',\n",
       " 'mactivos_margen_ma2_lag',\n",
       " 'Visa_fultimo_cierre',\n",
       " 'mtransferencias',\n",
       " 'Visa_Fvencimiento_lag1',\n",
       " 'Visa_msaldopesos',\n",
       " 'mcomisiones_suma_delta_ma2',\n",
       " 'suma_alt_lag1',\n",
       " 'Master_Fvencimiento_ma2_lag',\n",
       " 'Master_fultimo_cierre_ma2_lag',\n",
       " 'map_margen_delta_ma2',\n",
       " 'mcuenta_corriente_delta1',\n",
       " 'mtarjeta_total_consumo',\n",
       " 'mcuenta_corriente_delta_ma2',\n",
       " 'Master_fultimo_cierre_lag2']"
      ]
     },
     "execution_count": 13,
     "metadata": {},
     "output_type": "execute_result"
    }
   ],
   "source": [
    "importance_df['feature'].head(100).tolist()"
   ]
  },
  {
   "cell_type": "markdown",
   "metadata": {},
   "source": [
    "### Entrenamos con la totalidad de las semillas y guardamos los modelos"
   ]
  },
  {
   "cell_type": "code",
   "execution_count": 14,
   "metadata": {},
   "outputs": [
    {
     "name": "stdout",
     "output_type": "stream",
     "text": [
      "Mejor cantidad de árboles para el mejor model 621\n",
      "Train del modelo v005 con semilla 122219\n",
      "Train del modelo v005 con semilla 109279\n",
      "Train del modelo v005 con semilla 400391\n",
      "Train del modelo v005 con semilla 401537\n",
      "Train del modelo v005 con semilla 999961\n"
     ]
    }
   ],
   "source": [
    "version = 'v005' # UPDATE\n",
    "\n",
    "os.makedirs(modelos_path + version, exist_ok= True) # crea la carpeta donde almacenamos las versiones del modelo.\n",
    "\n",
    "best_iter = study.best_trial.user_attrs[\"best_iter\"]\n",
    "print(f\"Mejor cantidad de árboles para el mejor model {best_iter}\")\n",
    "\n",
    "for semilla in semillas:\n",
    "    \n",
    "    print(f'Train del modelo {version} con semilla {semilla}')\n",
    "    \n",
    "    params = {\n",
    "        'objective': 'binary',\n",
    "        'boosting_type': 'gbdt',\n",
    "        'first_metric_only': True,\n",
    "        'boost_from_average': True,\n",
    "        'feature_pre_filter': False,\n",
    "        'max_bin': 31,\n",
    "        'num_leaves': study.best_trial.params['num_leaves'],\n",
    "        'learning_rate': study.best_trial.params['learning_rate'],\n",
    "        'min_data_in_leaf': study.best_trial.params['min_data_in_leaf'],\n",
    "        'feature_fraction': study.best_trial.params['feature_fraction'],\n",
    "        'bagging_fraction': study.best_trial.params['bagging_fraction'],\n",
    "        'seed': semilla,\n",
    "        'verbose': -1\n",
    "    }\n",
    "\n",
    "    train_data = lgb.Dataset(X_train,\n",
    "                            label=y_train_binaria,\n",
    "                            weight=w_train)\n",
    "\n",
    "    model = lgb.train(params,\n",
    "                    train_data,\n",
    "                    num_boost_round=best_iter)\n",
    "    \n",
    "    model.save_model(modelos_path + f'{version}/lgb_competencia3_{version}_s{semilla}.txt')"
   ]
  },
  {
   "cell_type": "code",
   "execution_count": null,
   "metadata": {},
   "outputs": [],
   "source": []
  }
 ],
 "metadata": {
  "colab": {
   "provenance": []
  },
  "kernelspec": {
   "display_name": "Python 3",
   "language": "python",
   "name": "python3"
  },
  "language_info": {
   "codemirror_mode": {
    "name": "ipython",
    "version": 3
   },
   "file_extension": ".py",
   "mimetype": "text/x-python",
   "name": "python",
   "nbconvert_exporter": "python",
   "pygments_lexer": "ipython3",
   "version": "3.12.5"
  }
 },
 "nbformat": 4,
 "nbformat_minor": 4
}

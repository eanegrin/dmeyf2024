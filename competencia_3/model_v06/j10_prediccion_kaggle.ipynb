{
 "cells": [
  {
   "cell_type": "code",
   "execution_count": 1,
   "metadata": {},
   "outputs": [],
   "source": [
    "import pandas as pd\n",
    "import polars as pl\n",
    "import numpy as np\n",
    "import lightgbm as lgb\n",
    "import optuna\n",
    "import os"
   ]
  },
  {
   "cell_type": "code",
   "execution_count": 2,
   "metadata": {},
   "outputs": [],
   "source": [
    "base_path = 'C:/Eugenio/Maestria/DMEyF/'\n",
    "# base_path = '/home/eanegrin/buckets/b1/'\n",
    "\n",
    "dataset_path = base_path + 'datasets/'\n",
    "modelos_path = base_path + 'modelos/'\n",
    "db_path = base_path + 'db/'\n",
    "dataset_file = 'competencia_03_fe_v05_predict.parquet'\n",
    "\n",
    "ganancia_acierto = 273000\n",
    "costo_estimulo = 7000\n",
    "\n",
    "semillas = [122219, 109279, 400391, 401537, 999961]"
   ]
  },
  {
   "cell_type": "code",
   "execution_count": 3,
   "metadata": {},
   "outputs": [],
   "source": [
    "data = pl.scan_parquet(dataset_path + dataset_file).filter(pl.col(\"foto_mes\") == 202109).collect()"
   ]
  },
  {
   "cell_type": "code",
   "execution_count": 4,
   "metadata": {},
   "outputs": [],
   "source": [
    "# convirto a pandas dataframe\n",
    "data = data.to_pandas()"
   ]
  },
  {
   "cell_type": "code",
   "execution_count": 5,
   "metadata": {},
   "outputs": [],
   "source": [
    "# Asignamos pesos a las clases\n",
    "\n",
    "data['clase_peso'] = 1.0\n",
    "\n",
    "data.loc[data['clase_ternaria'] == 'BAJA+2', 'clase_peso'] = 1.00002\n",
    "data.loc[data['clase_ternaria'] == 'BAJA+1', 'clase_peso'] = 1.00001"
   ]
  },
  {
   "cell_type": "code",
   "execution_count": 6,
   "metadata": {},
   "outputs": [],
   "source": [
    "data['clase_binaria'] = 0\n",
    "data['clase_binaria'] = np.where(data['clase_ternaria'] == 'BAJA+2', 1, 0)"
   ]
  },
  {
   "cell_type": "code",
   "execution_count": 7,
   "metadata": {},
   "outputs": [],
   "source": [
    "X_test = data.drop(['clase_ternaria', 'clase_peso', 'clase_binaria'], axis=1)"
   ]
  },
  {
   "cell_type": "markdown",
   "metadata": {},
   "source": [
    "### Predicciones para Kaggle"
   ]
  },
  {
   "cell_type": "code",
   "execution_count": 8,
   "metadata": {},
   "outputs": [],
   "source": [
    "version = 'v005' # UPADTE\n",
    "\n",
    "modelos = [f'lgb_competencia3_{version}_s{semilla}_final.txt' for semilla in semillas]\n",
    "\n",
    "# probamos varios puntos de corte\n",
    "puntos_corte = np.linspace(10000, 11000, 10).astype(int)\n",
    "# puntos_corte = [12500,13000]"
   ]
  },
  {
   "cell_type": "code",
   "execution_count": 9,
   "metadata": {},
   "outputs": [
    {
     "data": {
      "text/plain": [
       "array([10000, 10111, 10222, 10333, 10444, 10555, 10666, 10777, 10888,\n",
       "       11000])"
      ]
     },
     "execution_count": 9,
     "metadata": {},
     "output_type": "execute_result"
    }
   ],
   "source": [
    "puntos_corte"
   ]
  },
  {
   "cell_type": "code",
   "execution_count": 10,
   "metadata": {},
   "outputs": [
    {
     "data": {
      "text/plain": [
       "5"
      ]
     },
     "execution_count": 10,
     "metadata": {},
     "output_type": "execute_result"
    }
   ],
   "source": [
    "len(modelos)"
   ]
  },
  {
   "cell_type": "code",
   "execution_count": 11,
   "metadata": {},
   "outputs": [
    {
     "name": "stdout",
     "output_type": "stream",
     "text": [
      "C:/Eugenio/Maestria/DMEyF/exp/competencia_3/v005/results_v005_1.csv --- modelo: lgb_competencia3_v005_s122219_final.txt, corte: 10000\n",
      "C:/Eugenio/Maestria/DMEyF/exp/competencia_3/v005/results_v005_2.csv --- modelo: lgb_competencia3_v005_s122219_final.txt, corte: 10111\n",
      "C:/Eugenio/Maestria/DMEyF/exp/competencia_3/v005/results_v005_3.csv --- modelo: lgb_competencia3_v005_s122219_final.txt, corte: 10222\n",
      "C:/Eugenio/Maestria/DMEyF/exp/competencia_3/v005/results_v005_4.csv --- modelo: lgb_competencia3_v005_s122219_final.txt, corte: 10333\n",
      "C:/Eugenio/Maestria/DMEyF/exp/competencia_3/v005/results_v005_5.csv --- modelo: lgb_competencia3_v005_s122219_final.txt, corte: 10444\n",
      "C:/Eugenio/Maestria/DMEyF/exp/competencia_3/v005/results_v005_6.csv --- modelo: lgb_competencia3_v005_s122219_final.txt, corte: 10555\n",
      "C:/Eugenio/Maestria/DMEyF/exp/competencia_3/v005/results_v005_7.csv --- modelo: lgb_competencia3_v005_s122219_final.txt, corte: 10666\n",
      "C:/Eugenio/Maestria/DMEyF/exp/competencia_3/v005/results_v005_8.csv --- modelo: lgb_competencia3_v005_s122219_final.txt, corte: 10777\n",
      "C:/Eugenio/Maestria/DMEyF/exp/competencia_3/v005/results_v005_9.csv --- modelo: lgb_competencia3_v005_s122219_final.txt, corte: 10888\n",
      "C:/Eugenio/Maestria/DMEyF/exp/competencia_3/v005/results_v005_10.csv --- modelo: lgb_competencia3_v005_s122219_final.txt, corte: 11000\n",
      "C:/Eugenio/Maestria/DMEyF/exp/competencia_3/v005/results_v005_11.csv --- modelo: lgb_competencia3_v005_s109279_final.txt, corte: 10000\n",
      "C:/Eugenio/Maestria/DMEyF/exp/competencia_3/v005/results_v005_12.csv --- modelo: lgb_competencia3_v005_s109279_final.txt, corte: 10111\n",
      "C:/Eugenio/Maestria/DMEyF/exp/competencia_3/v005/results_v005_13.csv --- modelo: lgb_competencia3_v005_s109279_final.txt, corte: 10222\n",
      "C:/Eugenio/Maestria/DMEyF/exp/competencia_3/v005/results_v005_14.csv --- modelo: lgb_competencia3_v005_s109279_final.txt, corte: 10333\n",
      "C:/Eugenio/Maestria/DMEyF/exp/competencia_3/v005/results_v005_15.csv --- modelo: lgb_competencia3_v005_s109279_final.txt, corte: 10444\n",
      "C:/Eugenio/Maestria/DMEyF/exp/competencia_3/v005/results_v005_16.csv --- modelo: lgb_competencia3_v005_s109279_final.txt, corte: 10555\n",
      "C:/Eugenio/Maestria/DMEyF/exp/competencia_3/v005/results_v005_17.csv --- modelo: lgb_competencia3_v005_s109279_final.txt, corte: 10666\n",
      "C:/Eugenio/Maestria/DMEyF/exp/competencia_3/v005/results_v005_18.csv --- modelo: lgb_competencia3_v005_s109279_final.txt, corte: 10777\n",
      "C:/Eugenio/Maestria/DMEyF/exp/competencia_3/v005/results_v005_19.csv --- modelo: lgb_competencia3_v005_s109279_final.txt, corte: 10888\n",
      "C:/Eugenio/Maestria/DMEyF/exp/competencia_3/v005/results_v005_20.csv --- modelo: lgb_competencia3_v005_s109279_final.txt, corte: 11000\n",
      "C:/Eugenio/Maestria/DMEyF/exp/competencia_3/v005/results_v005_21.csv --- modelo: lgb_competencia3_v005_s400391_final.txt, corte: 10000\n",
      "C:/Eugenio/Maestria/DMEyF/exp/competencia_3/v005/results_v005_22.csv --- modelo: lgb_competencia3_v005_s400391_final.txt, corte: 10111\n",
      "C:/Eugenio/Maestria/DMEyF/exp/competencia_3/v005/results_v005_23.csv --- modelo: lgb_competencia3_v005_s400391_final.txt, corte: 10222\n",
      "C:/Eugenio/Maestria/DMEyF/exp/competencia_3/v005/results_v005_24.csv --- modelo: lgb_competencia3_v005_s400391_final.txt, corte: 10333\n",
      "C:/Eugenio/Maestria/DMEyF/exp/competencia_3/v005/results_v005_25.csv --- modelo: lgb_competencia3_v005_s400391_final.txt, corte: 10444\n",
      "C:/Eugenio/Maestria/DMEyF/exp/competencia_3/v005/results_v005_26.csv --- modelo: lgb_competencia3_v005_s400391_final.txt, corte: 10555\n",
      "C:/Eugenio/Maestria/DMEyF/exp/competencia_3/v005/results_v005_27.csv --- modelo: lgb_competencia3_v005_s400391_final.txt, corte: 10666\n",
      "C:/Eugenio/Maestria/DMEyF/exp/competencia_3/v005/results_v005_28.csv --- modelo: lgb_competencia3_v005_s400391_final.txt, corte: 10777\n",
      "C:/Eugenio/Maestria/DMEyF/exp/competencia_3/v005/results_v005_29.csv --- modelo: lgb_competencia3_v005_s400391_final.txt, corte: 10888\n",
      "C:/Eugenio/Maestria/DMEyF/exp/competencia_3/v005/results_v005_30.csv --- modelo: lgb_competencia3_v005_s400391_final.txt, corte: 11000\n",
      "C:/Eugenio/Maestria/DMEyF/exp/competencia_3/v005/results_v005_31.csv --- modelo: lgb_competencia3_v005_s401537_final.txt, corte: 10000\n",
      "C:/Eugenio/Maestria/DMEyF/exp/competencia_3/v005/results_v005_32.csv --- modelo: lgb_competencia3_v005_s401537_final.txt, corte: 10111\n",
      "C:/Eugenio/Maestria/DMEyF/exp/competencia_3/v005/results_v005_33.csv --- modelo: lgb_competencia3_v005_s401537_final.txt, corte: 10222\n",
      "C:/Eugenio/Maestria/DMEyF/exp/competencia_3/v005/results_v005_34.csv --- modelo: lgb_competencia3_v005_s401537_final.txt, corte: 10333\n",
      "C:/Eugenio/Maestria/DMEyF/exp/competencia_3/v005/results_v005_35.csv --- modelo: lgb_competencia3_v005_s401537_final.txt, corte: 10444\n",
      "C:/Eugenio/Maestria/DMEyF/exp/competencia_3/v005/results_v005_36.csv --- modelo: lgb_competencia3_v005_s401537_final.txt, corte: 10555\n",
      "C:/Eugenio/Maestria/DMEyF/exp/competencia_3/v005/results_v005_37.csv --- modelo: lgb_competencia3_v005_s401537_final.txt, corte: 10666\n",
      "C:/Eugenio/Maestria/DMEyF/exp/competencia_3/v005/results_v005_38.csv --- modelo: lgb_competencia3_v005_s401537_final.txt, corte: 10777\n",
      "C:/Eugenio/Maestria/DMEyF/exp/competencia_3/v005/results_v005_39.csv --- modelo: lgb_competencia3_v005_s401537_final.txt, corte: 10888\n",
      "C:/Eugenio/Maestria/DMEyF/exp/competencia_3/v005/results_v005_40.csv --- modelo: lgb_competencia3_v005_s401537_final.txt, corte: 11000\n",
      "C:/Eugenio/Maestria/DMEyF/exp/competencia_3/v005/results_v005_41.csv --- modelo: lgb_competencia3_v005_s999961_final.txt, corte: 10000\n",
      "C:/Eugenio/Maestria/DMEyF/exp/competencia_3/v005/results_v005_42.csv --- modelo: lgb_competencia3_v005_s999961_final.txt, corte: 10111\n",
      "C:/Eugenio/Maestria/DMEyF/exp/competencia_3/v005/results_v005_43.csv --- modelo: lgb_competencia3_v005_s999961_final.txt, corte: 10222\n",
      "C:/Eugenio/Maestria/DMEyF/exp/competencia_3/v005/results_v005_44.csv --- modelo: lgb_competencia3_v005_s999961_final.txt, corte: 10333\n",
      "C:/Eugenio/Maestria/DMEyF/exp/competencia_3/v005/results_v005_45.csv --- modelo: lgb_competencia3_v005_s999961_final.txt, corte: 10444\n",
      "C:/Eugenio/Maestria/DMEyF/exp/competencia_3/v005/results_v005_46.csv --- modelo: lgb_competencia3_v005_s999961_final.txt, corte: 10555\n",
      "C:/Eugenio/Maestria/DMEyF/exp/competencia_3/v005/results_v005_47.csv --- modelo: lgb_competencia3_v005_s999961_final.txt, corte: 10666\n",
      "C:/Eugenio/Maestria/DMEyF/exp/competencia_3/v005/results_v005_48.csv --- modelo: lgb_competencia3_v005_s999961_final.txt, corte: 10777\n",
      "C:/Eugenio/Maestria/DMEyF/exp/competencia_3/v005/results_v005_49.csv --- modelo: lgb_competencia3_v005_s999961_final.txt, corte: 10888\n",
      "C:/Eugenio/Maestria/DMEyF/exp/competencia_3/v005/results_v005_50.csv --- modelo: lgb_competencia3_v005_s999961_final.txt, corte: 11000\n"
     ]
    }
   ],
   "source": [
    "os.makedirs(base_path + f'exp/competencia_3/{version}/', exist_ok= True) \n",
    "\n",
    "counter = 0\n",
    "\n",
    "for modelo in modelos:\n",
    "    \n",
    "    # cargamos el modelo\n",
    "    model = lgb.Booster(model_file=f'{modelos_path}{version}/{modelo}')\n",
    "    \n",
    "    # predecimos para septiembre\n",
    "    X_test = data.drop(['clase_ternaria', 'clase_peso', 'clase_binaria'], axis=1).copy()\n",
    "    y_pred_lgm = model.predict(X_test)\n",
    "    X_test['pred_lgm'] = y_pred_lgm\n",
    "    \n",
    "    # ordeno de mayor probabilidad de baja a menor\n",
    "    idx = np.argsort(y_pred_lgm)[::-1]\n",
    "    X_test.reset_index(drop=True, inplace=True)\n",
    "    X_test = X_test.iloc[idx]\n",
    "    \n",
    "    for corte in puntos_corte:\n",
    "        \n",
    "        envios = np.zeros(len(X_test), dtype=int)\n",
    "        envios[:corte] = 1\n",
    "        X_test['Predicted'] = envios\n",
    "        \n",
    "        output = X_test[['numero_de_cliente', 'Predicted']]\n",
    "        \n",
    "        counter += 1\n",
    "        file_name = f'results_{version}_{counter}.csv'\n",
    "        output_path = base_path + f'exp/competencia_3/{version}/' + file_name\n",
    "        \n",
    "        output.to_csv(output_path, index=False)\n",
    "                \n",
    "        print(f'{output_path} --- modelo: {modelo}, corte: {corte}')"
   ]
  },
  {
   "cell_type": "code",
   "execution_count": null,
   "metadata": {},
   "outputs": [],
   "source": []
  }
 ],
 "metadata": {
  "kernelspec": {
   "display_name": "Python 3",
   "language": "python",
   "name": "python3"
  },
  "language_info": {
   "codemirror_mode": {
    "name": "ipython",
    "version": 3
   },
   "file_extension": ".py",
   "mimetype": "text/x-python",
   "name": "python",
   "nbconvert_exporter": "python",
   "pygments_lexer": "ipython3",
   "version": "3.12.5"
  }
 },
 "nbformat": 4,
 "nbformat_minor": 2
}

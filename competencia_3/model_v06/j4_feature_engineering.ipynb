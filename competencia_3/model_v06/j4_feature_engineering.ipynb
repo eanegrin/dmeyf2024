{
 "cells": [
  {
   "cell_type": "code",
   "execution_count": 1,
   "metadata": {},
   "outputs": [],
   "source": [
    "import polars as pl"
   ]
  },
  {
   "cell_type": "code",
   "execution_count": 2,
   "metadata": {},
   "outputs": [
    {
     "name": "stdout",
     "output_type": "stream",
     "text": [
      "Copying file:///home/eanegrin/buckets/b1/datasets/competencia_03_inflacion_adj_ipc.parquet...\n",
      "- [1 files][861.8 MiB/861.8 MiB]                                                \n",
      "Operation completed over 1 objects/861.8 MiB.                                    \n"
     ]
    }
   ],
   "source": [
    "!gsutil cp /home/eanegrin/buckets/b1/datasets/competencia_03_inflacion_adj_ipc.parquet /home/eanegrin/datasets/"
   ]
  },
  {
   "cell_type": "code",
   "execution_count": 3,
   "metadata": {},
   "outputs": [],
   "source": [
    "base_path = '/home/eanegrin/'\n",
    "# base_path = 'C:/Eugenio/Maestria/DMEyF/'\n",
    "\n",
    "dataset_path = base_path + 'datasets/'\n",
    "\n",
    "dataset_file = 'competencia_03_inflacion_adj_ipc.parquet'"
   ]
  },
  {
   "cell_type": "code",
   "execution_count": 18,
   "metadata": {},
   "outputs": [],
   "source": [
    "df = pl.read_parquet(dataset_path + dataset_file)"
   ]
  },
  {
   "cell_type": "code",
   "execution_count": 19,
   "metadata": {},
   "outputs": [],
   "source": [
    "# corrijo el tipo de estas 2:\n",
    "\n",
    "df = df.with_columns([\n",
    "    pl.col(\"tmobile_app\").cast(pl.Int64),\n",
    "    pl.col(\"cmobile_app_trx\").cast(pl.Int64)\n",
    "])"
   ]
  },
  {
   "cell_type": "code",
   "execution_count": 20,
   "metadata": {},
   "outputs": [],
   "source": [
    "# elimino columnas con data drifting\n",
    "rotas = ['cmobile_app_trx','tmobile_app','active_quarter','mplazo_fijo_pesos','minversion2']\n",
    "df = df.select(pl.exclude(rotas))"
   ]
  },
  {
   "cell_type": "code",
   "execution_count": 21,
   "metadata": {},
   "outputs": [],
   "source": [
    "# lista de columnas originales para operar despues\n",
    "originales = df.select(pl.exclude([\"numero_de_cliente\", \"foto_mes\", \"clase_ternaria\"])).columns"
   ]
  },
  {
   "cell_type": "code",
   "execution_count": 22,
   "metadata": {},
   "outputs": [],
   "source": [
    "# suma de columnas\n",
    "df = df.with_columns([\n",
    "    (pl.col(\"mcuenta_corriente_adicional\").fill_null(0) +\n",
    "     pl.col(\"mcuenta_corriente\").fill_null(0) +\n",
    "     pl.col(\"mcaja_ahorro_adicional\").fill_null(0) +\n",
    "     pl.col(\"mcaja_ahorro_dolares\").fill_null(0) +\n",
    "     pl.col(\"mcaja_ahorro\").fill_null(0)).alias(\"suma_alt\"),\n",
    "    \n",
    "    (pl.col(\"cseguro_vida\").fill_null(0) +\n",
    "     pl.col(\"cseguro_auto\").fill_null(0) +\n",
    "     pl.col(\"cseguro_vivienda\").fill_null(0) +\n",
    "     pl.col(\"cseguro_accidentes_personales\").fill_null(0)).alias(\"cseguro_todos\"),\n",
    "    \n",
    "    (pl.col(\"matm\").fill_null(0) +\n",
    "     pl.col(\"matm_other\").fill_null(0)).alias(\"matm_total\"),\n",
    "    \n",
    "    (pl.col(\"Visa_msaldototal\").fill_null(0) +\n",
    "     pl.col(\"Master_msaldototal\").fill_null(0)).alias(\"tarjeta_msaldototal\"),\n",
    "    \n",
    "    (pl.col(\"mactivos_margen\").fill_null(0) +\n",
    "     pl.col(\"mpasivos_margen\").fill_null(0)).alias(\"map_margen\"),\n",
    "    \n",
    "    (pl.col(\"ccuenta_corriente\").fill_null(0) +\n",
    "     pl.col(\"ccaja_ahorro\").fill_null(0)).alias(\"cc_ca\"),\n",
    "    \n",
    "    (pl.col(\"ctarjeta_visa\").fill_null(0) +\n",
    "     pl.col(\"ctarjeta_master\").fill_null(0)).alias(\"ctarjeta_total\"),\n",
    "    \n",
    "    (pl.col(\"ctarjeta_visa_transacciones\").fill_null(0) +\n",
    "     pl.col(\"ctarjeta_master_transacciones\").fill_null(0)).alias(\"ctarjeta_total_transacciones\"),\n",
    "    \n",
    "    (pl.col(\"mtarjeta_visa_consumo\").fill_null(0) +\n",
    "     pl.col(\"mtarjeta_master_consumo\").fill_null(0)).alias(\"mtarjeta_total_consumo\"),\n",
    "    \n",
    "    (pl.col(\"minversion1_pesos\").fill_null(0) +\n",
    "     pl.col(\"minversion1_dolares\").fill_null(0)).alias(\"minversion1\"),\n",
    "    \n",
    "    (pl.col(\"mpayroll\").fill_null(0) +\n",
    "     pl.col(\"mpayroll2\").fill_null(0)).alias(\"mpayroll_todos\"),\n",
    "    \n",
    "    (pl.col(\"ctarjeta_visa_debitos_automaticos\").fill_null(0) +\n",
    "     pl.col(\"ctarjeta_master_debitos_automaticos\").fill_null(0)).alias(\"ctarjeta_todas_debitos_automaticos\"),\n",
    "    \n",
    "    (pl.col(\"mttarjeta_visa_debitos_automaticos\").fill_null(0) +\n",
    "     pl.col(\"mttarjeta_master_debitos_automaticos\").fill_null(0)).alias(\"mtarjeta_todas_debitos_automaticos\"),\n",
    "    \n",
    "    (pl.col(\"ctarjeta_visa_descuentos\").fill_null(0) +\n",
    "     pl.col(\"ctarjeta_master_descuentos\").fill_null(0)).alias(\"ctarjeta_todas_descuentos\"),\n",
    "    \n",
    "    (pl.col(\"mtarjeta_visa_descuentos\").fill_null(0) +\n",
    "     pl.col(\"mtarjeta_master_descuentos\").fill_null(0)).alias(\"mtarjeta_todas_descuentos\"),\n",
    "    \n",
    "    (pl.col(\"ccomisiones_mantenimiento\").fill_null(0) +\n",
    "     pl.col(\"ccomisiones_otras\").fill_null(0)).alias(\"comisiones\"),\n",
    "    \n",
    "    (pl.col(\"mcomisiones_mantenimiento\").fill_null(0) +\n",
    "     pl.col(\"mcomisiones_otras\").fill_null(0)).alias(\"mcomisiones_suma\"),\n",
    "    \n",
    "    (pl.col(\"ctransferencias_recibidas\").fill_null(0) +\n",
    "     pl.col(\"ctransferencias_emitidas\").fill_null(0)).alias(\"ctransferencias\"),\n",
    "    \n",
    "    (pl.col(\"mtransferencias_recibidas\").fill_null(0) +\n",
    "     pl.col(\"mtransferencias_emitidas\").fill_null(0)).alias(\"mtransferencias\"),\n",
    "    \n",
    "    (pl.col(\"Master_msaldopesos\").fill_null(0) +\n",
    "     pl.col(\"Visa_msaldopesos\").fill_null(0)).alias(\"tarjetas_msaldopesos\"),\n",
    "    \n",
    "    (pl.col(\"Master_msaldodolares\").fill_null(0) +\n",
    "     pl.col(\"Visa_msaldodolares\").fill_null(0)).alias(\"tarjetas_msaldodolares\"),\n",
    "    \n",
    "    (pl.col(\"Master_mconsumospesos\").fill_null(0) +\n",
    "     pl.col(\"Visa_mconsumospesos\").fill_null(0)).alias(\"tarjetas_mconsumospesos\"),\n",
    "    \n",
    "    (pl.col(\"Master_mconsumosdolares\").fill_null(0) +\n",
    "     pl.col(\"Visa_mconsumosdolares\").fill_null(0)).alias(\"tarjetas_mconsumosdolares\"),\n",
    "    \n",
    "    (pl.col(\"Master_mlimitecompra\").fill_null(0) +\n",
    "     pl.col(\"Visa_mlimitecompra\").fill_null(0)).alias(\"tarjetas_mlimitecompra\"),\n",
    "    \n",
    "    (pl.col(\"Master_madelantopesos\").fill_null(0) +\n",
    "     pl.col(\"Visa_madelantopesos\").fill_null(0)).alias(\"tarjetas_madelantopesos\"),\n",
    "    \n",
    "    (pl.col(\"Master_madelantodolares\").fill_null(0) +\n",
    "     pl.col(\"Visa_madelantodolares\").fill_null(0)).alias(\"tarjetas_madelantodolares\"),\n",
    "    \n",
    "    (pl.col(\"Master_mpagado\").fill_null(0) +\n",
    "     pl.col(\"Visa_mpagado\").fill_null(0)).alias(\"tarjetas_mpagado\"),\n",
    "    \n",
    "    (pl.col(\"Master_mpagospesos\").fill_null(0) +\n",
    "     pl.col(\"Visa_mpagospesos\").fill_null(0)).alias(\"tarjetas_mpagospesos\"),\n",
    "    \n",
    "    (pl.col(\"Master_mpagosdolares\").fill_null(0) +\n",
    "     pl.col(\"Visa_mpagosdolares\").fill_null(0)).alias(\"tarjetas_mpagosdolares\"),\n",
    "    \n",
    "    (pl.col(\"Master_mconsumototal\").fill_null(0) +\n",
    "     pl.col(\"Visa_mconsumototal\").fill_null(0)).alias(\"tarjetas_mconsumototal\"),\n",
    "    \n",
    "    (pl.col(\"Master_cconsumos\").fill_null(0) +\n",
    "     pl.col(\"Visa_cconsumos\").fill_null(0)).alias(\"tarjetas_cconsumos\"),\n",
    "    \n",
    "    (pl.col(\"Master_cadelantosefectivo\").fill_null(0) +\n",
    "     pl.col(\"Visa_cadelantosefectivo\").fill_null(0)).alias(\"tarjetas_cadelantosefectivo\"),\n",
    "    \n",
    "    (pl.col(\"Master_mpagominimo\").fill_null(0) +\n",
    "     pl.col(\"Visa_mpagominimo\").fill_null(0)).alias(\"tarjetas_mpagominimo\"),\n",
    "    \n",
    "    (pl.col(\"Master_mfinanciacion_limite\").fill_null(0) +\n",
    "     pl.col(\"Visa_mfinanciacion_limite\").fill_null(0)).alias(\"tarjetas_mfinanciacion_limite\")\n",
    "])\n",
    "\n",
    "df = df.with_columns([\n",
    "    (pl.col(\"mcuenta_debitos_automaticos\").fill_null(0) +\n",
    "     pl.col(\"mtarjeta_total_consumo\").fill_null(0)).alias(\"consumos_mas_DA\")\n",
    "])\n"
   ]
  },
  {
   "cell_type": "code",
   "execution_count": 23,
   "metadata": {},
   "outputs": [],
   "source": [
    "# columnas creadas en el paso anterior\n",
    "creadas = [\n",
    "    \"suma_alt\",\"cseguro_todos\",\"matm_total\",\"tarjeta_msaldototal\",\"map_margen\",\n",
    "    \"cc_ca\",\"ctarjeta_total\",\"ctarjeta_total_transacciones\",\"mtarjeta_total_consumo\",\"minversion1\",\n",
    "    \"mpayroll_todos\",\"consumos_mas_DA\",\"ctarjeta_todas_debitos_automaticos\",\"mtarjeta_todas_debitos_automaticos\",\"ctarjeta_todas_descuentos\",\n",
    "    \"mtarjeta_todas_descuentos\",\"comisiones\",\"mcomisiones_suma\",\"ctransferencias\",\"mtransferencias\",\n",
    "    \"tarjetas_msaldopesos\",\"tarjetas_msaldodolares\",\"tarjetas_mconsumospesos\",\"tarjetas_mconsumosdolares\",\"tarjetas_mlimitecompra\",\n",
    "    \"tarjetas_madelantopesos\",\"tarjetas_madelantodolares\",\"tarjetas_mpagado\",\"tarjetas_mpagospesos\",\n",
    "    \"tarjetas_mpagosdolares\",\"tarjetas_mconsumototal\",\"tarjetas_cconsumos\",\"tarjetas_cadelantosefectivo\",\n",
    "    \"tarjetas_mpagominimo\",\"tarjetas_mfinanciacion_limite\"\n",
    "]\n",
    "\n",
    "todas = originales + creadas"
   ]
  },
  {
   "cell_type": "code",
   "execution_count": 24,
   "metadata": {},
   "outputs": [],
   "source": [
    "# lag 1\n",
    "df = df.with_columns([\n",
    "    pl.col(col)\n",
    "    .sort_by(pl.col(\"foto_mes\")) \n",
    "    .shift(1)\n",
    "    .over(\"numero_de_cliente\") \n",
    "    .alias(f\"{col}_lag1\")\n",
    "    for col in todas\n",
    "])\n",
    "\n",
    "# lag 2\n",
    "df = df.with_columns([\n",
    "    pl.col(col)\n",
    "    .sort_by(pl.col(\"foto_mes\")) \n",
    "    .shift(2)\n",
    "    .over(\"numero_de_cliente\") \n",
    "    .alias(f\"{col}_lag2\")\n",
    "    for col in todas\n",
    "])"
   ]
  },
  {
   "cell_type": "code",
   "execution_count": 25,
   "metadata": {},
   "outputs": [],
   "source": [
    "# delta 1\n",
    "df = df.with_columns([\n",
    "    (pl.col(col) - pl.col(f\"{col}_lag1\")).alias(f\"{col}_delta1\")\n",
    "    for col in todas\n",
    "])\n",
    "\n",
    "# delta 2\n",
    "df = df.with_columns([\n",
    "    (pl.col(col) - pl.col(f\"{col}_lag2\")).alias(f\"{col}_delta2\")\n",
    "    for col in todas\n",
    "])"
   ]
  },
  {
   "cell_type": "code",
   "execution_count": 26,
   "metadata": {},
   "outputs": [],
   "source": [
    "# moving average de lag-1  lag-2, para tener valor si alguno de los 2 es null\n",
    "df = df.with_columns([\n",
    "    pl.col(col)\n",
    "    .sort_by(pl.col(\"foto_mes\")) \n",
    "    .shift(1)  # para excluir el mes corriente\n",
    "    .rolling_mean(window_size=2, min_periods=1)\n",
    "    .over(\"numero_de_cliente\") \n",
    "    .alias(f\"{col}_ma2_lag\")\n",
    "    for col in todas\n",
    "])\n",
    "\n",
    "# delta\n",
    "df = df.with_columns([\n",
    "    (pl.col(col) - pl.col(f\"{col}_ma2_lag\")).alias(f\"{col}_delta_ma2\")\n",
    "    for col in todas\n",
    "])"
   ]
  },
  {
   "cell_type": "code",
   "execution_count": 27,
   "metadata": {},
   "outputs": [
    {
     "data": {
      "text/plain": [
       "'/home/eanegrin/datasets/'"
      ]
     },
     "execution_count": 27,
     "metadata": {},
     "output_type": "execute_result"
    }
   ],
   "source": [
    "dataset_path"
   ]
  },
  {
   "cell_type": "code",
   "execution_count": 28,
   "metadata": {},
   "outputs": [],
   "source": [
    "df.write_parquet(dataset_path + 'competencia_03_fe_v05.parquet')"
   ]
  },
  {
   "cell_type": "code",
   "execution_count": 29,
   "metadata": {},
   "outputs": [
    {
     "name": "stdout",
     "output_type": "stream",
     "text": [
      "Copying file:///home/eanegrin/datasets/competencia_03_fe_v05.parquet...\n",
      "- [1 files][  9.5 GiB/  9.5 GiB]                                                \n",
      "Operation completed over 1 objects/9.5 GiB.                                      \n"
     ]
    }
   ],
   "source": [
    "!gsutil cp /home/eanegrin/datasets/competencia_03_fe_v05.parquet /home/eanegrin/buckets/b1/datasets/"
   ]
  },
  {
   "cell_type": "code",
   "execution_count": null,
   "metadata": {},
   "outputs": [],
   "source": [
    "# Dataset con solo periodo de test y de prediccion para que nos de la RAM para levantarlo localmente\n",
    "df = df.filter(pl.col(\"foto_mes\").is_in([202107,202109]))\n",
    "\n",
    "df.write_parquet(dataset_path + 'competencia_03_fe_v05_predict.parquet')"
   ]
  },
  {
   "cell_type": "code",
   "execution_count": null,
   "metadata": {},
   "outputs": [],
   "source": [
    "!gsutil cp /home/eanegrin/datasets/competencia_03_fe_v05_predict.parquet /home/eanegrin/buckets/b1/datasets/"
   ]
  }
 ],
 "metadata": {
  "kernelspec": {
   "display_name": "Python 3 (ipykernel)",
   "language": "python",
   "name": "python3"
  },
  "language_info": {
   "codemirror_mode": {
    "name": "ipython",
    "version": 3
   },
   "file_extension": ".py",
   "mimetype": "text/x-python",
   "name": "python",
   "nbconvert_exporter": "python",
   "pygments_lexer": "ipython3",
   "version": "3.12.3"
  }
 },
 "nbformat": 4,
 "nbformat_minor": 4
}

{
 "cells": [
  {
   "cell_type": "code",
   "execution_count": null,
   "metadata": {},
   "outputs": [],
   "source": [
    "import polars as pl"
   ]
  },
  {
   "cell_type": "code",
   "execution_count": null,
   "metadata": {},
   "outputs": [],
   "source": [
    "!gsutil cp /home/eanegrin/buckets/b1/datasets/competencia_03.parquet /home/eanegrin/datasets/"
   ]
  },
  {
   "cell_type": "code",
   "execution_count": null,
   "metadata": {},
   "outputs": [],
   "source": [
    "base_path = '/home/eanegrin/'\n",
    "# base_path = 'C:/Eugenio/Maestria/DMEyF/'\n",
    "\n",
    "dataset_path = base_path + 'datasets/'\n",
    "\n",
    "dataset_file = 'competencia_03.parquet'"
   ]
  },
  {
   "cell_type": "code",
   "execution_count": null,
   "metadata": {},
   "outputs": [],
   "source": [
    "df = pl.read_parquet(dataset_path + dataset_file)"
   ]
  },
  {
   "cell_type": "code",
   "execution_count": null,
   "metadata": {},
   "outputs": [],
   "source": [
    "originales = df.select(pl.exclude([\"numero_de_cliente\", \"foto_mes\", \"clase_ternaria\"])).columns"
   ]
  },
  {
   "cell_type": "code",
   "execution_count": null,
   "metadata": {},
   "outputs": [],
   "source": [
    "# corrijo el tipo de estas 2:\n",
    "\n",
    "df = df.with_columns([\n",
    "    pl.col(\"tmobile_app\").cast(pl.Int64),\n",
    "    pl.col(\"cmobile_app_trx\").cast(pl.Int64)\n",
    "])"
   ]
  },
  {
   "cell_type": "code",
   "execution_count": null,
   "metadata": {},
   "outputs": [],
   "source": [
    "# lag 1\n",
    "df = df.with_columns([\n",
    "    pl.col(col)\n",
    "    .sort_by(pl.col(\"foto_mes\")) \n",
    "    .shift(1)\n",
    "    .over(\"numero_de_cliente\") \n",
    "    .alias(f\"{col}_lag1\")\n",
    "    for col in originales\n",
    "])\n",
    "\n",
    "# lag 2\n",
    "df = df.with_columns([\n",
    "    pl.col(col)\n",
    "    .sort_by(pl.col(\"foto_mes\")) \n",
    "    .shift(2)\n",
    "    .over(\"numero_de_cliente\") \n",
    "    .alias(f\"{col}_lag2\")\n",
    "    for col in originales\n",
    "])\n",
    "\n",
    "# delta 1\n",
    "df = df.with_columns([\n",
    "    (pl.col(col) - pl.col(f\"{col}_lag1\")).alias(f\"{col}_delta1\")\n",
    "    for col in originales\n",
    "])\n",
    "\n",
    "# delta 2\n",
    "df = df.with_columns([\n",
    "    (pl.col(col) - pl.col(f\"{col}_lag2\")).alias(f\"{col}_delta2\")\n",
    "    for col in originales\n",
    "])"
   ]
  }
 ],
 "metadata": {
  "kernelspec": {
   "display_name": "Python 3",
   "language": "python",
   "name": "python3"
  },
  "language_info": {
   "name": "python",
   "version": "3.12.5"
  }
 },
 "nbformat": 4,
 "nbformat_minor": 2
}

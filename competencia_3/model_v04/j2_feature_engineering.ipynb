{
 "cells": [
  {
   "cell_type": "code",
   "execution_count": null,
   "metadata": {},
   "outputs": [],
   "source": [
    "import polars as pl"
   ]
  },
  {
   "cell_type": "code",
   "execution_count": null,
   "metadata": {},
   "outputs": [],
   "source": [
    "!gsutil cp /home/eanegrin/buckets/b1/datasets/competencia_03.parquet /home/eanegrin/datasets/"
   ]
  },
  {
   "cell_type": "code",
   "execution_count": null,
   "metadata": {},
   "outputs": [],
   "source": [
    "base_path = '/home/eanegrin/'\n",
    "# base_path = 'C:/Eugenio/Maestria/DMEyF/'\n",
    "\n",
    "dataset_path = base_path + 'datasets/'\n",
    "\n",
    "dataset_file = 'competencia_03.parquet'"
   ]
  },
  {
   "cell_type": "code",
   "execution_count": null,
   "metadata": {},
   "outputs": [],
   "source": [
    "df = pl.read_parquet(dataset_path + dataset_file)"
   ]
  },
  {
   "cell_type": "code",
   "execution_count": null,
   "metadata": {},
   "outputs": [],
   "source": [
    "columnas = [\n",
    "    \"mrentabilidad\"\n",
    "    , \"mrentabilidad_annual\"\n",
    "    , \"mcomisiones\"\n",
    "    , \"mactivos_margen\"\n",
    "    , \"mpasivos_margen\"\n",
    "    , \"mcuenta_corriente_adicional\"\n",
    "    , \"mcuenta_corriente\"\n",
    "    , \"mcaja_ahorro\"\n",
    "    , \"mcaja_ahorro_adicional\"\n",
    "    , \"mcaja_ahorro_dolares\"\n",
    "    , \"mcuentas_saldo\"\n",
    "    , \"mautoservicio\"\n",
    "    , \"mtarjeta_visa_consumo\"\n",
    "    , \"mtarjeta_master_consumo\"\n",
    "    , \"mprestamos_personales\"\n",
    "    , \"mprestamos_prendarios\"\n",
    "    , \"mprestamos_hipotecarios\"\n",
    "    , \"mplazo_fijo_dolares\"\n",
    "    , \"mplazo_fijo_pesos\"\n",
    "    , \"minversion1_pesos\"\n",
    "    , \"minversion1_dolares\"\n",
    "    , \"minversion2\"\n",
    "    , \"mpayroll\"\n",
    "    , \"mpayroll2\"\n",
    "    , \"mcuenta_debitos_automaticos\"\n",
    "    , \"mttarjeta_visa_debitos_automaticos\"\n",
    "    , \"mttarjeta_master_debitos_automaticos\"\n",
    "    , \"mpagodeservicios\"\n",
    "    , \"mpagomiscuentas\"\n",
    "    , \"mcajeros_propios_descuentos\"\n",
    "    , \"mtarjeta_visa_descuentos\"\n",
    "    , \"mtarjeta_master_descuentos\"\n",
    "    , \"mcomisiones_mantenimiento\"\n",
    "    , \"mcomisiones_otras\"\n",
    "    , \"mforex_buy\"\n",
    "    , \"mforex_sell\"\n",
    "    , \"mtransferencias_recibidas\"\n",
    "    , \"mtransferencias_emitidas\"\n",
    "    , \"mextraccion_autoservicio\"\n",
    "    , \"mcheques_depositados\"\n",
    "    , \"mcheques_emitidos\"\n",
    "    , \"mcheques_depositados_rechazados\"\n",
    "    , \"mcheques_emitidos_rechazados\"\n",
    "    , \"matm\"\n",
    "    , \"matm_other\"\n",
    "    , \"Master_mfinanciacion_limite\"\n",
    "    , \"Master_msaldototal\"\n",
    "    , \"Master_msaldopesos\"\n",
    "    , \"Master_msaldodolares\"\n",
    "    , \"Master_mconsumospesos\"\n",
    "    , \"Master_mconsumosdolares\"\n",
    "    , \"Master_mlimitecompra\"\n",
    "    , \"Master_madelantopesos\"\n",
    "    , \"Master_madelantodolares\"\n",
    "    , \"Master_mpagado\"\n",
    "    , \"Master_mpagospesos\"\n",
    "    , \"Master_mpagosdolares\"\n",
    "    , \"Master_mconsumototal\"\n",
    "    , \"Master_mpagominimo\"\n",
    "    , \"Visa_mfinanciacion_limite\"\n",
    "    , \"Visa_msaldototal\"\n",
    "    , \"Visa_msaldopesos\"\n",
    "    , \"Visa_msaldodolares\"\n",
    "    , \"Visa_mconsumospesos\"\n",
    "    , \"Visa_mconsumosdolares\"\n",
    "    , \"Visa_mlimitecompra\"\n",
    "    , \"Visa_madelantopesos\"\n",
    "    , \"Visa_madelantodolares\"\n",
    "    , \"Visa_mpagado\"\n",
    "    , \"Visa_mpagospesos\"\n",
    "    , \"Visa_mpagosdolares\"\n",
    "    , \"Visa_mconsumototal\"\n",
    "    , \"Visa_mpagominimo\" \n",
    "]"
   ]
  },
  {
   "cell_type": "code",
   "execution_count": null,
   "metadata": {},
   "outputs": [],
   "source": [
    "df = df.with_columns([\n",
    "    pl.col(col)\n",
    "    .shift(1)\n",
    "    .over(\"numero_de_cliente\")\n",
    "    .sort_by(pl.col(\"foto_mes\"))  \n",
    "    .alias(f\"{col}_lag1\")\n",
    "    for col in columnas\n",
    "])"
   ]
  },
  {
   "cell_type": "code",
   "execution_count": null,
   "metadata": {},
   "outputs": [],
   "source": [
    "df.select([\n",
    "    pl.col(\"foto_mes\"),\n",
    "    pl.col(\"mrentabilidad\"),\n",
    "    pl.col(\"mrentabilidad_lag1\")\n",
    "]).head(20)"
   ]
  }
 ],
 "metadata": {
  "kernelspec": {
   "display_name": "Python 3",
   "language": "python",
   "name": "python3"
  },
  "language_info": {
   "name": "python",
   "version": "3.12.5"
  }
 },
 "nbformat": 4,
 "nbformat_minor": 2
}

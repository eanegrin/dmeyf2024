{
 "cells": [
  {
   "cell_type": "code",
   "execution_count": 1,
   "metadata": {},
   "outputs": [],
   "source": [
    "import pandas as pd\n",
    "import polars as pl\n",
    "import numpy as np\n",
    "import lightgbm as lgb\n",
    "import optuna\n",
    "import os"
   ]
  },
  {
   "cell_type": "code",
   "execution_count": 2,
   "metadata": {},
   "outputs": [],
   "source": [
    "base_path = 'C:/Eugenio/Maestria/DMEyF/'\n",
    "# base_path = '/home/eanegrin/buckets/b1/'\n",
    "\n",
    "dataset_path = base_path + 'datasets/'\n",
    "modelos_path = base_path + 'modelos/'\n",
    "db_path = base_path + 'db/'\n",
    "dataset_file = 'competencia_03_fe_v05_predict.parquet'\n",
    "\n",
    "ganancia_acierto = 273000\n",
    "costo_estimulo = 7000\n",
    "\n",
    "semillas = [1149, 4836, 9443, 7483, 3492, 6287, 830, 3294, 5932, 13]"
   ]
  },
  {
   "cell_type": "code",
   "execution_count": 3,
   "metadata": {},
   "outputs": [],
   "source": [
    "data = pl.scan_parquet(dataset_path + dataset_file).filter(pl.col(\"foto_mes\") == 202109).collect()"
   ]
  },
  {
   "cell_type": "code",
   "execution_count": 4,
   "metadata": {},
   "outputs": [],
   "source": [
    "# convirto a pandas dataframe\n",
    "data = data.to_pandas()"
   ]
  },
  {
   "cell_type": "code",
   "execution_count": 5,
   "metadata": {},
   "outputs": [],
   "source": [
    "data['clase_peso'] = 1.0\n",
    "\n",
    "data.loc[data['clase_ternaria'] == 'BAJA+2', 'clase_peso'] = 1.00002\n",
    "data.loc[data['clase_ternaria'] == 'BAJA+1', 'clase_peso'] = 1.00001"
   ]
  },
  {
   "cell_type": "code",
   "execution_count": 6,
   "metadata": {},
   "outputs": [],
   "source": [
    "data['clase_binaria'] = 0\n",
    "data['clase_binaria'] = np.where(data['clase_ternaria'] == 'BAJA+2', 1, 0)"
   ]
  },
  {
   "cell_type": "code",
   "execution_count": 7,
   "metadata": {},
   "outputs": [],
   "source": [
    "X_test = data.drop(['clase_ternaria', 'clase_peso', 'clase_binaria'], axis=1)"
   ]
  },
  {
   "cell_type": "markdown",
   "metadata": {},
   "source": [
    "### Predicciones"
   ]
  },
  {
   "cell_type": "code",
   "execution_count": 8,
   "metadata": {},
   "outputs": [
    {
     "data": {
      "text/plain": [
       "['lgb_competencia3_v005_s1149_final.txt',\n",
       " 'lgb_competencia3_v005_s4836_final.txt',\n",
       " 'lgb_competencia3_v005_s9443_final.txt',\n",
       " 'lgb_competencia3_v005_s7483_final.txt',\n",
       " 'lgb_competencia3_v005_s3492_final.txt',\n",
       " 'lgb_competencia3_v005_s6287_final.txt',\n",
       " 'lgb_competencia3_v005_s830_final.txt',\n",
       " 'lgb_competencia3_v005_s3294_final.txt',\n",
       " 'lgb_competencia3_v005_s5932_final.txt',\n",
       " 'lgb_competencia3_v005_s13_final.txt']"
      ]
     },
     "execution_count": 8,
     "metadata": {},
     "output_type": "execute_result"
    }
   ],
   "source": [
    "version = 'v005' # UPADTE\n",
    "\n",
    "modelos = [f'lgb_competencia3_{version}_s{semilla}_final.txt' for semilla in semillas]\n",
    "modelos"
   ]
  },
  {
   "cell_type": "code",
   "execution_count": 10,
   "metadata": {},
   "outputs": [
    {
     "name": "stdout",
     "output_type": "stream",
     "text": [
      "1. Predicciones del modelo: lgb_competencia3_v005_s1149_final.txt DONE\n",
      "2. Predicciones del modelo: lgb_competencia3_v005_s4836_final.txt DONE\n",
      "3. Predicciones del modelo: lgb_competencia3_v005_s9443_final.txt DONE\n",
      "4. Predicciones del modelo: lgb_competencia3_v005_s7483_final.txt DONE\n",
      "5. Predicciones del modelo: lgb_competencia3_v005_s3492_final.txt DONE\n",
      "6. Predicciones del modelo: lgb_competencia3_v005_s6287_final.txt DONE\n",
      "7. Predicciones del modelo: lgb_competencia3_v005_s830_final.txt DONE\n",
      "8. Predicciones del modelo: lgb_competencia3_v005_s3294_final.txt DONE\n",
      "9. Predicciones del modelo: lgb_competencia3_v005_s5932_final.txt DONE\n",
      "10. Predicciones del modelo: lgb_competencia3_v005_s13_final.txt DONE\n"
     ]
    }
   ],
   "source": [
    "predicciones = [] \n",
    "headers = []\n",
    "\n",
    "for counter, modelo in enumerate(modelos):\n",
    "    \n",
    "    # cargamos el modelo\n",
    "    model = lgb.Booster(model_file=f'{modelos_path}v009/{modelo}')\n",
    "    \n",
    "    # predecimos\n",
    "    y_pred_lgm = model.predict(X_test)\n",
    "    \n",
    "    # Guardamos la prediccion y un nombre de columna para asignarle despues\n",
    "    predicciones.append(y_pred_lgm)\n",
    "    headers.append(f'pred_lgm_{version}_{semillas[counter]}')\n",
    "    \n",
    "    print(f'{counter + 1}. Predicciones del modelo: {modelo} DONE')"
   ]
  },
  {
   "cell_type": "code",
   "execution_count": 11,
   "metadata": {},
   "outputs": [],
   "source": [
    "# combinamos todas las predicciones en un mismo df y mergeamos\n",
    "df_predicciones = pd.DataFrame(np.column_stack(predicciones), columns=headers)\n",
    "\n",
    "output = pd.concat([X_test['numero_de_cliente'], df_predicciones], axis=1)"
   ]
  },
  {
   "cell_type": "code",
   "execution_count": 12,
   "metadata": {},
   "outputs": [
    {
     "data": {
      "text/html": [
       "<div>\n",
       "<style scoped>\n",
       "    .dataframe tbody tr th:only-of-type {\n",
       "        vertical-align: middle;\n",
       "    }\n",
       "\n",
       "    .dataframe tbody tr th {\n",
       "        vertical-align: top;\n",
       "    }\n",
       "\n",
       "    .dataframe thead th {\n",
       "        text-align: right;\n",
       "    }\n",
       "</style>\n",
       "<table border=\"1\" class=\"dataframe\">\n",
       "  <thead>\n",
       "    <tr style=\"text-align: right;\">\n",
       "      <th></th>\n",
       "      <th>numero_de_cliente</th>\n",
       "      <th>pred_lgm_v005_1149</th>\n",
       "      <th>pred_lgm_v005_4836</th>\n",
       "      <th>pred_lgm_v005_9443</th>\n",
       "      <th>pred_lgm_v005_7483</th>\n",
       "      <th>pred_lgm_v005_3492</th>\n",
       "      <th>pred_lgm_v005_6287</th>\n",
       "      <th>pred_lgm_v005_830</th>\n",
       "      <th>pred_lgm_v005_3294</th>\n",
       "      <th>pred_lgm_v005_5932</th>\n",
       "      <th>pred_lgm_v005_13</th>\n",
       "    </tr>\n",
       "  </thead>\n",
       "  <tbody>\n",
       "    <tr>\n",
       "      <th>0</th>\n",
       "      <td>249237079</td>\n",
       "      <td>0.004417</td>\n",
       "      <td>0.003415</td>\n",
       "      <td>0.004795</td>\n",
       "      <td>0.004022</td>\n",
       "      <td>0.004498</td>\n",
       "      <td>0.005703</td>\n",
       "      <td>0.006816</td>\n",
       "      <td>0.005234</td>\n",
       "      <td>0.005087</td>\n",
       "      <td>0.003362</td>\n",
       "    </tr>\n",
       "    <tr>\n",
       "      <th>1</th>\n",
       "      <td>249267267</td>\n",
       "      <td>0.106608</td>\n",
       "      <td>0.095619</td>\n",
       "      <td>0.079132</td>\n",
       "      <td>0.102648</td>\n",
       "      <td>0.095516</td>\n",
       "      <td>0.076424</td>\n",
       "      <td>0.076872</td>\n",
       "      <td>0.118647</td>\n",
       "      <td>0.079417</td>\n",
       "      <td>0.068065</td>\n",
       "    </tr>\n",
       "    <tr>\n",
       "      <th>2</th>\n",
       "      <td>249318906</td>\n",
       "      <td>0.006937</td>\n",
       "      <td>0.006395</td>\n",
       "      <td>0.006441</td>\n",
       "      <td>0.005542</td>\n",
       "      <td>0.004629</td>\n",
       "      <td>0.005774</td>\n",
       "      <td>0.006502</td>\n",
       "      <td>0.005613</td>\n",
       "      <td>0.004826</td>\n",
       "      <td>0.005049</td>\n",
       "    </tr>\n",
       "    <tr>\n",
       "      <th>3</th>\n",
       "      <td>249905603</td>\n",
       "      <td>0.001372</td>\n",
       "      <td>0.001487</td>\n",
       "      <td>0.001893</td>\n",
       "      <td>0.001678</td>\n",
       "      <td>0.001901</td>\n",
       "      <td>0.002119</td>\n",
       "      <td>0.001846</td>\n",
       "      <td>0.001719</td>\n",
       "      <td>0.001654</td>\n",
       "      <td>0.002054</td>\n",
       "    </tr>\n",
       "    <tr>\n",
       "      <th>4</th>\n",
       "      <td>250008430</td>\n",
       "      <td>0.151576</td>\n",
       "      <td>0.176921</td>\n",
       "      <td>0.147263</td>\n",
       "      <td>0.149408</td>\n",
       "      <td>0.187239</td>\n",
       "      <td>0.149539</td>\n",
       "      <td>0.148836</td>\n",
       "      <td>0.177249</td>\n",
       "      <td>0.170504</td>\n",
       "      <td>0.127230</td>\n",
       "    </tr>\n",
       "  </tbody>\n",
       "</table>\n",
       "</div>"
      ],
      "text/plain": [
       "   numero_de_cliente  pred_lgm_v005_1149  pred_lgm_v005_4836  \\\n",
       "0          249237079            0.004417            0.003415   \n",
       "1          249267267            0.106608            0.095619   \n",
       "2          249318906            0.006937            0.006395   \n",
       "3          249905603            0.001372            0.001487   \n",
       "4          250008430            0.151576            0.176921   \n",
       "\n",
       "   pred_lgm_v005_9443  pred_lgm_v005_7483  pred_lgm_v005_3492  \\\n",
       "0            0.004795            0.004022            0.004498   \n",
       "1            0.079132            0.102648            0.095516   \n",
       "2            0.006441            0.005542            0.004629   \n",
       "3            0.001893            0.001678            0.001901   \n",
       "4            0.147263            0.149408            0.187239   \n",
       "\n",
       "   pred_lgm_v005_6287  pred_lgm_v005_830  pred_lgm_v005_3294  \\\n",
       "0            0.005703           0.006816            0.005234   \n",
       "1            0.076424           0.076872            0.118647   \n",
       "2            0.005774           0.006502            0.005613   \n",
       "3            0.002119           0.001846            0.001719   \n",
       "4            0.149539           0.148836            0.177249   \n",
       "\n",
       "   pred_lgm_v005_5932  pred_lgm_v005_13  \n",
       "0            0.005087          0.003362  \n",
       "1            0.079417          0.068065  \n",
       "2            0.004826          0.005049  \n",
       "3            0.001654          0.002054  \n",
       "4            0.170504          0.127230  "
      ]
     },
     "execution_count": 12,
     "metadata": {},
     "output_type": "execute_result"
    }
   ],
   "source": [
    "output.head()"
   ]
  },
  {
   "cell_type": "code",
   "execution_count": 16,
   "metadata": {},
   "outputs": [],
   "source": [
    "file_name = f'predicciones_modelos_{version}.csv'\n",
    "\n",
    "os.makedirs(base_path + 'exp/competencia_3/v009/', exist_ok= True) # carpeta donde vamos a almacenar los modelos que va a usar el ensamble\n",
    "\n",
    "output_path = base_path + f'exp/competencia_3/v009/' + file_name\n",
    "output.to_csv(output_path, index=False)"
   ]
  }
 ],
 "metadata": {
  "kernelspec": {
   "display_name": "Python 3",
   "language": "python",
   "name": "python3"
  },
  "language_info": {
   "codemirror_mode": {
    "name": "ipython",
    "version": 3
   },
   "file_extension": ".py",
   "mimetype": "text/x-python",
   "name": "python",
   "nbconvert_exporter": "python",
   "pygments_lexer": "ipython3",
   "version": "3.12.5"
  }
 },
 "nbformat": 4,
 "nbformat_minor": 2
}

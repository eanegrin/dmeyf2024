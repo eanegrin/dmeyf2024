{
 "cells": [
  {
   "cell_type": "code",
   "execution_count": 1,
   "metadata": {},
   "outputs": [],
   "source": [
    "import pandas as pd\n",
    "import polars as pl\n",
    "import numpy as np\n",
    "import seaborn as sns\n",
    "import matplotlib.pyplot as plt\n",
    "from matplotlib.backends.backend_pdf import PdfPages"
   ]
  },
  {
   "cell_type": "code",
   "execution_count": 2,
   "metadata": {},
   "outputs": [
    {
     "name": "stdout",
     "output_type": "stream",
     "text": [
      "Copying file:///home/eanegrin/buckets/b1/datasets/competencia_03_inflacion_adj_ipc.parquet...\n",
      "- [1 files][861.8 MiB/861.8 MiB]                                                \n",
      "Operation completed over 1 objects/861.8 MiB.                                    \n"
     ]
    }
   ],
   "source": [
    "!gsutil cp /home/eanegrin/buckets/b1/datasets/competencia_03_inflacion_adj_ipc.parquet /home/eanegrin/datasets/"
   ]
  },
  {
   "cell_type": "code",
   "execution_count": 3,
   "metadata": {},
   "outputs": [],
   "source": [
    "# base_path = 'C:/Eugenio/Maestria/DMEyF/'\n",
    "base_path = '/home/eanegrin/buckets/b1/'\n",
    "\n",
    "dataset_path = base_path + 'datasets/'\n",
    "dataset_file = 'competencia_03_inflacion_adj_ipc.parquet'\n",
    "\n",
    "data = pd.read_parquet('/home/eanegrin/datasets/' + dataset_file)\n",
    "# data = pd.read_parquet(dataset_path + dataset_file)"
   ]
  },
  {
   "cell_type": "code",
   "execution_count": 4,
   "metadata": {},
   "outputs": [
    {
     "data": {
      "text/plain": [
       "(4901237, 155)"
      ]
     },
     "execution_count": 4,
     "metadata": {},
     "output_type": "execute_result"
    }
   ],
   "source": [
    "data.shape"
   ]
  },
  {
   "cell_type": "code",
   "execution_count": 5,
   "metadata": {},
   "outputs": [],
   "source": [
    "data['foto_mes'] = data['foto_mes'].astype('string')\n",
    "\n",
    "data[['tmobile_app', 'cmobile_app_trx']] = data[['tmobile_app', 'cmobile_app_trx']].astype('float')\n",
    "\n",
    "data.drop(columns = ['clase_ternaria'], inplace = True)"
   ]
  },
  {
   "cell_type": "markdown",
   "metadata": {},
   "source": [
    "### Nulos, Ceros y medias"
   ]
  },
  {
   "cell_type": "code",
   "execution_count": 10,
   "metadata": {},
   "outputs": [],
   "source": [
    "nulos = data.groupby('foto_mes').agg(lambda x: x.isna().mean() * 100).reset_index()\n",
    "zeros = data.groupby('foto_mes').agg(lambda x: (x == 0).mean() * 100).reset_index()\n",
    "medias = data.groupby('foto_mes').mean().reset_index()\n",
    "\n",
    "foto_mes = nulos['foto_mes']\n",
    "\n",
    "with PdfPages('combined_charts.pdf') as pdf:\n",
    "    for variable in nulos.columns[2:]:  # Salteamos index y foto_mes\n",
    "        fig, ax1 = plt.subplots(figsize=(12, 6))\n",
    "        \n",
    "        # eje primario: % de nulos y de ceros\n",
    "        ax1.plot(foto_mes, nulos[variable], marker='o', label=f'% Nulls ({variable})', color='red')\n",
    "        ax1.plot(foto_mes, zeros[variable], marker='^', label=f'% Zeros ({variable})', color='blue')\n",
    "        ax1.set_xlabel(\"foto_mes\", fontsize=12)\n",
    "        ax1.set_ylabel(\"% Values\", fontsize=12, color='black')\n",
    "        ax1.tick_params(axis='y', labelcolor='black')\n",
    "        ax1.set_ylim(bottom=0)\n",
    "        ax1.grid(True, linestyle='--', alpha=0.5)\n",
    "\n",
    "        plt.xticks(rotation=45)\n",
    "        \n",
    "        # eje secundario: promedios\n",
    "        ax2 = ax1.twinx()\n",
    "        ax2.plot(foto_mes, medias[variable], marker='', label=f'Average ({variable})', color='green')\n",
    "        ax2.set_ylabel(\"Average Value\", fontsize=12, color='green')\n",
    "        ax2.tick_params(axis='y', labelcolor='green')\n",
    "        ax2.set_ylim(bottom=0)\n",
    "        \n",
    "        fig.suptitle(f\"Variable: {variable}\", fontsize=14)\n",
    "        fig.tight_layout()\n",
    "        \n",
    "        lines, labels = ax1.get_legend_handles_labels()\n",
    "        lines2, labels2 = ax2.get_legend_handles_labels()\n",
    "        ax1.legend(lines + lines2, labels + labels2, loc='upper left')\n",
    "        \n",
    "        pdf.savefig()\n",
    "        plt.close(fig)"
   ]
  },
  {
   "cell_type": "markdown",
   "metadata": {},
   "source": [
    "### Charts individuales"
   ]
  },
  {
   "cell_type": "code",
   "execution_count": 7,
   "metadata": {},
   "outputs": [],
   "source": [
    "# nulos = data.groupby('foto_mes').agg(lambda x: x.isna().mean() * 100)\n",
    "\n",
    "# nulos = nulos.reset_index()\n",
    "\n",
    "# with PdfPages('nulos_charts.pdf') as pdf:\n",
    "\n",
    "#     for variable in nulos.columns[2:]: # to skip index and foto_mes\n",
    "#         plt.figure(figsize=(10, 5))\n",
    "#         plt.plot(nulos['foto_mes'], nulos[variable], marker='o', label=variable)\n",
    "#         plt.title(f\"Porcentaje de valores nulos: {variable}\")\n",
    "#         plt.xlabel(\"foto_mes\")\n",
    "#         plt.ylabel(\"% de valores nulos\")\n",
    "\n",
    "#         plt.ylim(bottom=0)\n",
    "        \n",
    "#         plt.xticks(rotation=45)\n",
    "        \n",
    "#         plt.legend()\n",
    "#         plt.grid(True, linestyle='--', alpha=0.5)\n",
    "#         plt.tight_layout()\n",
    "        \n",
    "#         pdf.savefig()\n",
    "#         plt.close() \n"
   ]
  },
  {
   "cell_type": "code",
   "execution_count": 9,
   "metadata": {},
   "outputs": [],
   "source": [
    "# zeros = data.groupby('foto_mes').agg(lambda x: (x == 0).mean() * 100)\n",
    "\n",
    "# zeros = zeros.reset_index()\n",
    "\n",
    "# with PdfPages('zeros_charts.pdf') as pdf:\n",
    "\n",
    "#     for variable in zeros.columns[2:]: # to skip index and foto_mes\n",
    "#         plt.figure(figsize=(10, 5))\n",
    "#         plt.plot(zeros['foto_mes'], zeros[variable], marker='o', label=variable)\n",
    "#         plt.title(f\"Porcentaje de valores == 0: {variable}\")\n",
    "#         plt.xlabel(\"foto_mes\")\n",
    "#         plt.ylabel(\"% de valores == 0\")\n",
    "\n",
    "#         plt.ylim(bottom=0)\n",
    "        \n",
    "#         plt.xticks(rotation=45)\n",
    "        \n",
    "#         plt.legend()\n",
    "#         plt.grid(True, linestyle='--', alpha=0.5)\n",
    "#         plt.tight_layout()\n",
    "        \n",
    "#         pdf.savefig()\n",
    "#         plt.close()"
   ]
  },
  {
   "cell_type": "code",
   "execution_count": 11,
   "metadata": {},
   "outputs": [],
   "source": [
    "# medias = data.groupby('foto_mes').mean()\n",
    "\n",
    "# medias = medias.reset_index()\n",
    "\n",
    "# with PdfPages('medias_charts.pdf') as pdf:\n",
    "\n",
    "#     for variable in medias.columns[2:]: # to skip index and foto_mes\n",
    "#         plt.figure(figsize=(10, 5))\n",
    "#         plt.plot(medias['foto_mes'], medias[variable], marker='o', label=variable)\n",
    "#         plt.title(f\"Promedio: {variable}\")\n",
    "#         plt.xlabel(\"foto_mes\")\n",
    "#         plt.ylabel(\"Promedio\")\n",
    "\n",
    "#         plt.ylim(bottom=0)\n",
    "        \n",
    "#         plt.xticks(rotation=45)\n",
    "        \n",
    "#         plt.legend()\n",
    "#         plt.grid(True, linestyle='--', alpha=0.5)\n",
    "#         plt.tight_layout()\n",
    "        \n",
    "#         pdf.savefig()\n",
    "#         plt.close()"
   ]
  },
  {
   "cell_type": "code",
   "execution_count": null,
   "metadata": {},
   "outputs": [],
   "source": []
  }
 ],
 "metadata": {
  "kernelspec": {
   "display_name": "Python 3 (ipykernel)",
   "language": "python",
   "name": "python3"
  },
  "language_info": {
   "codemirror_mode": {
    "name": "ipython",
    "version": 3
   },
   "file_extension": ".py",
   "mimetype": "text/x-python",
   "name": "python",
   "nbconvert_exporter": "python",
   "pygments_lexer": "ipython3",
   "version": "3.12.3"
  }
 },
 "nbformat": 4,
 "nbformat_minor": 4
}

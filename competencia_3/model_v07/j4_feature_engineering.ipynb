{
 "cells": [
  {
   "cell_type": "code",
   "execution_count": 1,
   "metadata": {},
   "outputs": [],
   "source": [
    "import polars as pl"
   ]
  },
  {
   "cell_type": "code",
   "execution_count": 2,
   "metadata": {},
   "outputs": [
    {
     "name": "stdout",
     "output_type": "stream",
     "text": [
      "Copying file:///home/eanegrin/buckets/b1/datasets/competencia_03_inflacion_adj_ipc.parquet...\n",
      "- [1 files][861.8 MiB/861.8 MiB]                                                \n",
      "Operation completed over 1 objects/861.8 MiB.                                    \n"
     ]
    }
   ],
   "source": [
    "!gsutil cp /home/eanegrin/buckets/b1/datasets/competencia_03_inflacion_adj_ipc.parquet /home/eanegrin/datasets/"
   ]
  },
  {
   "cell_type": "code",
   "execution_count": 3,
   "metadata": {},
   "outputs": [],
   "source": [
    "base_path = '/home/eanegrin/'\n",
    "# base_path = 'C:/Eugenio/Maestria/DMEyF/'\n",
    "\n",
    "dataset_path = base_path + 'datasets/'\n",
    "\n",
    "dataset_file = 'competencia_03_inflacion_adj_ipc.parquet'"
   ]
  },
  {
   "cell_type": "code",
   "execution_count": 9,
   "metadata": {},
   "outputs": [],
   "source": [
    "df = pl.read_parquet(dataset_path + dataset_file)"
   ]
  },
  {
   "cell_type": "code",
   "execution_count": 10,
   "metadata": {},
   "outputs": [],
   "source": [
    "# corrijo el tipo de estas 2:\n",
    "\n",
    "df = df.with_columns([\n",
    "    pl.col(\"tmobile_app\").cast(pl.Int64),\n",
    "    pl.col(\"cmobile_app_trx\").cast(pl.Int64)\n",
    "])"
   ]
  },
  {
   "cell_type": "code",
   "execution_count": 11,
   "metadata": {},
   "outputs": [],
   "source": [
    "# elimino columnas con data drifting\n",
    "rotas = ['cmobile_app_trx','tmobile_app','active_quarter','mplazo_fijo_pesos','minversion2']\n",
    "df = df.select(pl.exclude(rotas))"
   ]
  },
  {
   "cell_type": "code",
   "execution_count": 12,
   "metadata": {},
   "outputs": [],
   "source": [
    "# lista de columnas originales para operar despues\n",
    "originales = df.select(pl.exclude([\"numero_de_cliente\", \"foto_mes\", \"clase_ternaria\"])).columns"
   ]
  },
  {
   "cell_type": "code",
   "execution_count": 13,
   "metadata": {},
   "outputs": [],
   "source": [
    "# lag 1\n",
    "df = df.with_columns([\n",
    "    pl.col(col)\n",
    "    .sort_by(pl.col(\"foto_mes\")) \n",
    "    .shift(1)\n",
    "    .over(\"numero_de_cliente\") \n",
    "    .alias(f\"{col}_lag1\")\n",
    "    for col in originales\n",
    "])\n",
    "\n",
    "# lag 2\n",
    "df = df.with_columns([\n",
    "    pl.col(col)\n",
    "    .sort_by(pl.col(\"foto_mes\")) \n",
    "    .shift(2)\n",
    "    .over(\"numero_de_cliente\") \n",
    "    .alias(f\"{col}_lag2\")\n",
    "    for col in originales\n",
    "])\n",
    "\n",
    "# lag 6\n",
    "df = df.with_columns([\n",
    "    pl.col(col)\n",
    "    .sort_by(pl.col(\"foto_mes\")) \n",
    "    .shift(6)\n",
    "    .over(\"numero_de_cliente\") \n",
    "    .alias(f\"{col}_lag6\")\n",
    "    for col in originales\n",
    "])"
   ]
  },
  {
   "cell_type": "code",
   "execution_count": 14,
   "metadata": {},
   "outputs": [],
   "source": [
    "# delta 1\n",
    "df = df.with_columns([\n",
    "    (pl.col(col) - pl.col(f\"{col}_lag1\")).alias(f\"{col}_delta1\")\n",
    "    for col in originales\n",
    "])\n",
    "\n",
    "# delta 2\n",
    "df = df.with_columns([\n",
    "    (pl.col(col) - pl.col(f\"{col}_lag2\")).alias(f\"{col}_delta2\")\n",
    "    for col in originales\n",
    "])\n",
    "\n",
    "# delta 6\n",
    "df = df.with_columns([\n",
    "    (pl.col(col) - pl.col(f\"{col}_lag6\")).alias(f\"{col}_delta6\")\n",
    "    for col in originales\n",
    "])"
   ]
  },
  {
   "cell_type": "code",
   "execution_count": 15,
   "metadata": {},
   "outputs": [
    {
     "data": {
      "text/plain": [
       "'/home/eanegrin/datasets/'"
      ]
     },
     "execution_count": 15,
     "metadata": {},
     "output_type": "execute_result"
    }
   ],
   "source": [
    "dataset_path"
   ]
  },
  {
   "cell_type": "code",
   "execution_count": 16,
   "metadata": {},
   "outputs": [],
   "source": [
    "df.write_parquet(dataset_path + 'competencia_03_fe_v07.parquet')"
   ]
  },
  {
   "cell_type": "code",
   "execution_count": 17,
   "metadata": {},
   "outputs": [
    {
     "name": "stdout",
     "output_type": "stream",
     "text": [
      "Copying file:///home/eanegrin/datasets/competencia_03_fe_v07.parquet...\n",
      "- [1 files][  5.7 GiB/  5.7 GiB]                                                \n",
      "Operation completed over 1 objects/5.7 GiB.                                      \n"
     ]
    }
   ],
   "source": [
    "!gsutil cp /home/eanegrin/datasets/competencia_03_fe_v07.parquet /home/eanegrin/buckets/b1/datasets/"
   ]
  },
  {
   "cell_type": "code",
   "execution_count": 18,
   "metadata": {},
   "outputs": [],
   "source": [
    "# Dataset con solo periodo de test y de prediccion para que nos de la RAM para levantarlo localmente\n",
    "df = df.filter(pl.col(\"foto_mes\").is_in([202107,202109]))\n",
    "\n",
    "df.write_parquet(dataset_path + 'competencia_03_fe_v07_predict.parquet')"
   ]
  },
  {
   "cell_type": "code",
   "execution_count": 19,
   "metadata": {},
   "outputs": [
    {
     "name": "stdout",
     "output_type": "stream",
     "text": [
      "Copying file:///home/eanegrin/datasets/competencia_03_fe_v07_predict.parquet...\n",
      "- [1 files][440.5 MiB/440.5 MiB]                                                \n",
      "Operation completed over 1 objects/440.5 MiB.                                    \n"
     ]
    }
   ],
   "source": [
    "!gsutil cp /home/eanegrin/datasets/competencia_03_fe_v07_predict.parquet /home/eanegrin/buckets/b1/datasets/"
   ]
  },
  {
   "cell_type": "code",
   "execution_count": null,
   "metadata": {},
   "outputs": [],
   "source": []
  }
 ],
 "metadata": {
  "kernelspec": {
   "display_name": "Python 3 (ipykernel)",
   "language": "python",
   "name": "python3"
  },
  "language_info": {
   "codemirror_mode": {
    "name": "ipython",
    "version": 3
   },
   "file_extension": ".py",
   "mimetype": "text/x-python",
   "name": "python",
   "nbconvert_exporter": "python",
   "pygments_lexer": "ipython3",
   "version": "3.12.3"
  }
 },
 "nbformat": 4,
 "nbformat_minor": 4
}

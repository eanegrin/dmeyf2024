{
 "cells": [
  {
   "cell_type": "code",
   "execution_count": 1,
   "metadata": {
    "id": "Cj-rL6xHlA2u"
   },
   "outputs": [],
   "source": [
    "import pandas as pd\n",
    "import polars as pl\n",
    "import numpy as np\n",
    "import seaborn as sns\n",
    "import matplotlib.pyplot as plt\n",
    "\n",
    "from sklearn.model_selection import train_test_split\n",
    "from sklearn.model_selection import ShuffleSplit, StratifiedShuffleSplit\n",
    "from sklearn.ensemble import RandomForestClassifier\n",
    "from sklearn.impute import SimpleImputer\n",
    "\n",
    "import lightgbm as lgb\n",
    "\n",
    "import optuna\n",
    "from optuna.visualization import plot_optimization_history, plot_param_importances, plot_slice, plot_contour\n",
    "\n",
    "from time import time\n",
    "\n",
    "import pickle\n",
    "import os"
   ]
  },
  {
   "cell_type": "code",
   "execution_count": 2,
   "metadata": {},
   "outputs": [],
   "source": [
    "# !gsutil cp /home/eanegrin/buckets/b1/datasets/competencia_02_fe_v01.parquet /home/eanegrin/datasets/"
   ]
  },
  {
   "cell_type": "code",
   "execution_count": 2,
   "metadata": {
    "id": "8jGKjoN1lRho"
   },
   "outputs": [],
   "source": [
    "# base_path = '/content/drive/MyDrive/DMEyF/2024/'\n",
    "base_path = 'C:/Eugenio/Maestria/DMEyF/'\n",
    "# base_path = '/home/eanegrin/buckets/b1/'\n",
    "\n",
    "dataset_path = base_path + 'datasets/'\n",
    "modelos_path = base_path + 'modelos/'\n",
    "db_path = base_path + 'db/'\n",
    "dataset_file = 'competencia_03_fe_v08_undersampled.parquet'\n",
    "\n",
    "ganancia_acierto = 273000\n",
    "costo_estimulo = 7000\n",
    "\n",
    "semillas = [122219, 109279, 400391, 401537, 999961]"
   ]
  },
  {
   "cell_type": "code",
   "execution_count": 3,
   "metadata": {},
   "outputs": [],
   "source": [
    "# data = pd.read_parquet('/home/eanegrin/datasets/' + dataset_file)\n",
    "data = pd.read_parquet(dataset_path + dataset_file)"
   ]
  },
  {
   "cell_type": "code",
   "execution_count": 4,
   "metadata": {},
   "outputs": [
    {
     "data": {
      "text/plain": [
       "array([201905, 201906, 201907, 201908, 201909, 201910, 201911, 201912,\n",
       "       202001, 202002, 202003, 202004, 202005, 202007, 202008, 202009,\n",
       "       202010, 202011, 202012, 202101, 202102, 202103, 202104, 202105,\n",
       "       202106])"
      ]
     },
     "execution_count": 4,
     "metadata": {},
     "output_type": "execute_result"
    }
   ],
   "source": [
    "# el dataset undersampleado ya excluye los meses \"malos\" y los que tienen la clase ternaria incompleta\n",
    "# nos queda excluir el mes de testing:\n",
    "\n",
    "data = data[data['foto_mes'] != 202107]\n",
    "\n",
    "data['foto_mes'].unique()"
   ]
  },
  {
   "cell_type": "code",
   "execution_count": 5,
   "metadata": {},
   "outputs": [],
   "source": [
    "# Asignamos pesos a las clases\n",
    "\n",
    "data['clase_peso'] = 1.0\n",
    "\n",
    "data.loc[data['clase_ternaria'] == 'BAJA+2', 'clase_peso'] = 1.00002\n",
    "data.loc[data['clase_ternaria'] == 'BAJA+1', 'clase_peso'] = 1.00001"
   ]
  },
  {
   "cell_type": "code",
   "execution_count": 6,
   "metadata": {},
   "outputs": [],
   "source": [
    "data['clase_binaria'] = 0\n",
    "data['clase_binaria'] = np.where(data['clase_ternaria'] == 'CONTINUA', 0, 1)"
   ]
  },
  {
   "cell_type": "code",
   "execution_count": 7,
   "metadata": {},
   "outputs": [],
   "source": [
    "X_train = data.drop(['clase_ternaria', 'clase_peso', 'clase_binaria'], axis=1)\n",
    "y_train_binaria = data['clase_binaria'] # Junta a los 2 baja\n",
    "w_train = data['clase_peso']"
   ]
  },
  {
   "cell_type": "code",
   "execution_count": 8,
   "metadata": {},
   "outputs": [],
   "source": [
    "def lgb_gan_eval(y_pred, data):\n",
    "    weight = data.get_weight()\n",
    "    ganancia = np.where(weight == 1.00002, ganancia_acierto, 0) - np.where(weight < 1.00002, costo_estimulo, 0)\n",
    "    ganancia = ganancia[np.argsort(y_pred)[::-1]]\n",
    "    ganancia = np.cumsum(ganancia)\n",
    "\n",
    "    return 'gan_eval', np.max(ganancia) , True"
   ]
  },
  {
   "cell_type": "markdown",
   "metadata": {},
   "source": [
    "# Entrenamiento"
   ]
  },
  {
   "cell_type": "markdown",
   "metadata": {},
   "source": [
    "Cargamos el study de optuna que optimizamos en el script anterior"
   ]
  },
  {
   "cell_type": "code",
   "execution_count": null,
   "metadata": {
    "colab": {
     "base_uri": "https://localhost:8080/"
    },
    "id": "bYMEnNFbkSoQ",
    "outputId": "15d768d4-9e25-4063-984b-d79c90ea91bc"
   },
   "outputs": [
    {
     "name": "stderr",
     "output_type": "stream",
     "text": [
      "[I 2024-12-04 17:04:07,195] Using an existing study with name 'competencia3_lgbm_v08' instead of creating a new one.\n"
     ]
    }
   ],
   "source": [
    "storage_name = \"sqlite:///\" + db_path + \"optimization_lgbm_v08.db\"\n",
    "study_name = \"competencia3_lgbm_v08\" # UPDATE\n",
    "\n",
    "study = optuna.create_study(\n",
    "    direction=\"maximize\",\n",
    "    study_name=study_name,\n",
    "    storage=storage_name,\n",
    "    load_if_exists=True,\n",
    ")"
   ]
  },
  {
   "cell_type": "code",
   "execution_count": 12,
   "metadata": {},
   "outputs": [
    {
     "data": {
      "text/plain": [
       "(14, 12)"
      ]
     },
     "execution_count": 12,
     "metadata": {},
     "output_type": "execute_result"
    }
   ],
   "source": [
    "resultados = study.trials_dataframe()\n",
    "resultados.shape"
   ]
  },
  {
   "cell_type": "code",
   "execution_count": 13,
   "metadata": {},
   "outputs": [
    {
     "data": {
      "text/plain": [
       "FrozenTrial(number=10, state=1, values=[3911985000.0], datetime_start=datetime.datetime(2024, 12, 4, 16, 9, 23, 229065), datetime_complete=datetime.datetime(2024, 12, 4, 16, 25, 46, 734614), params={'num_leaves': 248, 'learning_rate': 0.0498907204475266, 'min_data_in_leaf': 121, 'feature_fraction': 0.42739407657827894, 'bagging_fraction': 0.4653942981227891}, user_attrs={'best_iter': 1909}, system_attrs={}, intermediate_values={}, distributions={'num_leaves': IntDistribution(high=250, log=False, low=50, step=1), 'learning_rate': FloatDistribution(high=0.05, log=False, low=0.005, step=None), 'min_data_in_leaf': IntDistribution(high=3000, log=False, low=100, step=1), 'feature_fraction': FloatDistribution(high=0.6, log=False, low=0.4, step=None), 'bagging_fraction': FloatDistribution(high=1.0, log=False, low=0.1, step=None)}, trial_id=1562, value=None)"
      ]
     },
     "execution_count": 13,
     "metadata": {},
     "output_type": "execute_result"
    }
   ],
   "source": [
    "study.best_trial"
   ]
  },
  {
   "cell_type": "markdown",
   "metadata": {
    "id": "HjgD6raVE6am"
   },
   "source": [
    "Entrenamos un modelo solo para ver feature importance:"
   ]
  },
  {
   "cell_type": "code",
   "execution_count": 14,
   "metadata": {
    "colab": {
     "base_uri": "https://localhost:8080/"
    },
    "id": "bwyUriQksZAM",
    "outputId": "c4b54b3e-75b0-4076-8a31-7096bd94382b"
   },
   "outputs": [
    {
     "name": "stdout",
     "output_type": "stream",
     "text": [
      "Mejor cantidad de árboles para el mejor model 1909\n"
     ]
    }
   ],
   "source": [
    "best_iter = study.best_trial.user_attrs[\"best_iter\"]\n",
    "print(f\"Mejor cantidad de árboles para el mejor model {best_iter}\")\n",
    "\n",
    "params = {\n",
    "    'objective': 'binary',\n",
    "    'boosting_type': 'gbdt',\n",
    "    'first_metric_only': True,\n",
    "    'boost_from_average': True,\n",
    "    'feature_pre_filter': False,\n",
    "    'max_bin': 31,\n",
    "    'num_leaves': study.best_trial.params['num_leaves'],\n",
    "    'learning_rate': study.best_trial.params['learning_rate'],\n",
    "    'min_data_in_leaf': study.best_trial.params['min_data_in_leaf'],\n",
    "    'feature_fraction': study.best_trial.params['feature_fraction'],\n",
    "    'bagging_fraction': study.best_trial.params['bagging_fraction'],\n",
    "    'seed': semillas[0],\n",
    "    'verbose': -1\n",
    "}\n",
    "\n",
    "train_data = lgb.Dataset(X_train,\n",
    "                          label=y_train_binaria,\n",
    "                          weight=w_train)\n",
    "\n",
    "model = lgb.train(params,\n",
    "                  train_data,\n",
    "                  num_boost_round=best_iter)\n"
   ]
  },
  {
   "cell_type": "code",
   "execution_count": 15,
   "metadata": {},
   "outputs": [
    {
     "data": {
      "text/plain": [
       "{'objective': 'binary',\n",
       " 'boosting_type': 'gbdt',\n",
       " 'first_metric_only': True,\n",
       " 'boost_from_average': True,\n",
       " 'feature_pre_filter': False,\n",
       " 'max_bin': 31,\n",
       " 'num_leaves': 248,\n",
       " 'learning_rate': 0.0498907204475266,\n",
       " 'min_data_in_leaf': 121,\n",
       " 'feature_fraction': 0.42739407657827894,\n",
       " 'bagging_fraction': 0.4653942981227891,\n",
       " 'seed': 122219,\n",
       " 'verbose': -1}"
      ]
     },
     "execution_count": 15,
     "metadata": {},
     "output_type": "execute_result"
    }
   ],
   "source": [
    "params"
   ]
  },
  {
   "cell_type": "markdown",
   "metadata": {
    "id": "LkTH9daXF5tp"
   },
   "source": [
    "Variables mas importantes:"
   ]
  },
  {
   "cell_type": "code",
   "execution_count": 16,
   "metadata": {
    "colab": {
     "base_uri": "https://localhost:8080/",
     "height": 424
    },
    "id": "l7ZObpkHtnUl",
    "outputId": "eb0fe3a2-9e41-4886-ebd7-257dd1cf9829"
   },
   "outputs": [
    {
     "data": {
      "text/html": [
       "<div>\n",
       "<style scoped>\n",
       "    .dataframe tbody tr th:only-of-type {\n",
       "        vertical-align: middle;\n",
       "    }\n",
       "\n",
       "    .dataframe tbody tr th {\n",
       "        vertical-align: top;\n",
       "    }\n",
       "\n",
       "    .dataframe thead th {\n",
       "        text-align: right;\n",
       "    }\n",
       "</style>\n",
       "<table border=\"1\" class=\"dataframe\">\n",
       "  <thead>\n",
       "    <tr style=\"text-align: right;\">\n",
       "      <th></th>\n",
       "      <th>feature</th>\n",
       "      <th>importance</th>\n",
       "    </tr>\n",
       "  </thead>\n",
       "  <tbody>\n",
       "    <tr>\n",
       "      <th>0</th>\n",
       "      <td>numero_de_cliente</td>\n",
       "      <td>3881</td>\n",
       "    </tr>\n",
       "    <tr>\n",
       "      <th>1</th>\n",
       "      <td>foto_mes</td>\n",
       "      <td>2878</td>\n",
       "    </tr>\n",
       "    <tr>\n",
       "      <th>4</th>\n",
       "      <td>cliente_edad</td>\n",
       "      <td>2833</td>\n",
       "    </tr>\n",
       "    <tr>\n",
       "      <th>496</th>\n",
       "      <td>cliente_edad_avg_lag_234</td>\n",
       "      <td>2168</td>\n",
       "    </tr>\n",
       "    <tr>\n",
       "      <th>104</th>\n",
       "      <td>ctrx_quarter</td>\n",
       "      <td>2092</td>\n",
       "    </tr>\n",
       "    <tr>\n",
       "      <th>...</th>\n",
       "      <td>...</td>\n",
       "      <td>...</td>\n",
       "    </tr>\n",
       "    <tr>\n",
       "      <th>691</th>\n",
       "      <td>cprestamos_hipotecarios_delta_lag_234</td>\n",
       "      <td>0</td>\n",
       "    </tr>\n",
       "    <tr>\n",
       "      <th>670</th>\n",
       "      <td>mcuenta_corriente_adicional_delta_lag_234</td>\n",
       "      <td>0</td>\n",
       "    </tr>\n",
       "    <tr>\n",
       "      <th>14</th>\n",
       "      <td>mcuenta_corriente_adicional</td>\n",
       "      <td>0</td>\n",
       "    </tr>\n",
       "    <tr>\n",
       "      <th>533</th>\n",
       "      <td>minversion1_dolares_avg_lag_234</td>\n",
       "      <td>0</td>\n",
       "    </tr>\n",
       "    <tr>\n",
       "      <th>2</th>\n",
       "      <td>cliente_vip</td>\n",
       "      <td>0</td>\n",
       "    </tr>\n",
       "  </tbody>\n",
       "</table>\n",
       "<p>1190 rows × 2 columns</p>\n",
       "</div>"
      ],
      "text/plain": [
       "                                       feature  importance\n",
       "0                            numero_de_cliente        3881\n",
       "1                                     foto_mes        2878\n",
       "4                                 cliente_edad        2833\n",
       "496                   cliente_edad_avg_lag_234        2168\n",
       "104                               ctrx_quarter        2092\n",
       "..                                         ...         ...\n",
       "691      cprestamos_hipotecarios_delta_lag_234           0\n",
       "670  mcuenta_corriente_adicional_delta_lag_234           0\n",
       "14                 mcuenta_corriente_adicional           0\n",
       "533            minversion1_dolares_avg_lag_234           0\n",
       "2                                  cliente_vip           0\n",
       "\n",
       "[1190 rows x 2 columns]"
      ]
     },
     "execution_count": 16,
     "metadata": {},
     "output_type": "execute_result"
    }
   ],
   "source": [
    "importances = model.feature_importance()\n",
    "feature_names = X_train.columns.tolist()\n",
    "importance_df = pd.DataFrame({'feature': feature_names, 'importance': importances})\n",
    "importance_df = importance_df.sort_values('importance', ascending=False)\n",
    "# importance_df[importance_df['importance'] > 0]\n",
    "importance_df"
   ]
  },
  {
   "cell_type": "code",
   "execution_count": 17,
   "metadata": {},
   "outputs": [
    {
     "data": {
      "text/plain": [
       "['numero_de_cliente',\n",
       " 'foto_mes',\n",
       " 'cliente_edad',\n",
       " 'cliente_edad_avg_lag_234',\n",
       " 'ctrx_quarter',\n",
       " 'cliente_edad_avg_lag_567',\n",
       " 'mcuentas_saldo',\n",
       " 'cliente_edad_lag1',\n",
       " 'ctrx_quarter_delta_lag_567',\n",
       " 'ctrx_quarter_delta_lag_234',\n",
       " 'mcuenta_corriente_avg_lag_234',\n",
       " 'Visa_Fvencimiento',\n",
       " 'Visa_Fvencimiento_avg_lag_234',\n",
       " 'cliente_antiguedad',\n",
       " 'ctrx_quarter_avg_lag_234',\n",
       " 'mcuenta_corriente_avg_lag_567',\n",
       " 'Visa_Fvencimiento_avg_lag_101112',\n",
       " 'mcuenta_corriente',\n",
       " 'mcuenta_corriente_delta_lag_234',\n",
       " 'mrentabilidad_annual_avg_lag_234',\n",
       " 'Visa_Fvencimiento_avg_lag_567',\n",
       " 'Master_Fvencimiento',\n",
       " 'mrentabilidad_annual_delta_lag_567',\n",
       " 'mpasivos_margen',\n",
       " 'Visa_Fvencimiento_lag1',\n",
       " 'mcuenta_corriente_delta_lag_567',\n",
       " 'mrentabilidad_annual_avg_lag_567',\n",
       " 'mrentabilidad_annual_avg_lag_101112',\n",
       " 'mrentabilidad_annual_delta_lag_101112',\n",
       " 'ctrx_quarter_lag1',\n",
       " 'mcuenta_corriente_avg_lag_101112',\n",
       " 'mcaja_ahorro',\n",
       " 'mcaja_ahorro_avg_lag_234',\n",
       " 'ctrx_quarter_delta_lag_101112',\n",
       " 'ctrx_quarter_avg_lag_567',\n",
       " 'Master_Fvencimiento_avg_lag_567',\n",
       " 'Master_Fvencimiento_avg_lag_234',\n",
       " 'Visa_mfinanciacion_limite',\n",
       " 'mcomisiones_avg_lag_101112',\n",
       " 'Visa_fultimo_cierre_avg_lag_234',\n",
       " 'Visa_fechaalta',\n",
       " 'ctrx_quarter_delta1',\n",
       " 'mrentabilidad_annual_delta_lag_234',\n",
       " 'Visa_fultimo_cierre',\n",
       " 'ccomisiones_otras_avg_lag_234',\n",
       " 'Master_mfinanciacion_limite',\n",
       " 'cliente_antiguedad_lag1',\n",
       " 'mrentabilidad_annual',\n",
       " 'mcuenta_corriente_delta_lag_101112',\n",
       " 'mrentabilidad_avg_lag_234',\n",
       " 'mrentabilidad_annual_lag1',\n",
       " 'mpasivos_margen_avg_lag_234',\n",
       " 'mcuentas_saldo_delta1',\n",
       " 'mrentabilidad',\n",
       " 'mcuentas_saldo_delta_lag_234',\n",
       " 'map_margen',\n",
       " 'suma_alt',\n",
       " 'Master_fultimo_cierre',\n",
       " 'mrentabilidad_delta_lag_234',\n",
       " 'mpasivos_margen_avg_lag_567',\n",
       " 'Master_fultimo_cierre_avg_lag_234',\n",
       " 'Master_Fvencimiento_avg_lag_101112',\n",
       " 'mcuenta_corriente_lag1',\n",
       " 'cliente_antiguedad_avg_lag_567',\n",
       " 'mcaja_ahorro_avg_lag_567',\n",
       " 'mcuentas_saldo_delta_lag_567',\n",
       " 'suma_alt_delta_lag_234',\n",
       " 'mactivos_margen_delta_lag_101112',\n",
       " 'ccomisiones_otras_avg_lag_567',\n",
       " 'ctrx_quarter_avg_lag_101112',\n",
       " 'chomebanking_transacciones_avg_lag_567',\n",
       " 'Master_Fvencimiento_lag1',\n",
       " 'mcuenta_corriente_delta1',\n",
       " 'map_margen_avg_lag_234',\n",
       " 'mrentabilidad_annual_delta1',\n",
       " 'map_margen_delta_lag_234',\n",
       " 'Visa_fechaalta_lag1',\n",
       " 'mactivos_margen_delta_lag_567',\n",
       " 'Master_fechaalta',\n",
       " 'chomebanking_transacciones_avg_lag_101112',\n",
       " 'Visa_mfinanciacion_limite_delta1',\n",
       " 'mactivos_margen_avg_lag_101112',\n",
       " 'mactivos_margen_delta_lag_234',\n",
       " 'Visa_fechaalta_avg_lag_234',\n",
       " 'Visa_fechaalta_avg_lag_567',\n",
       " 'mcomisiones_delta_lag_101112',\n",
       " 'Visa_mlimitecompra_delta1',\n",
       " 'mactivos_margen',\n",
       " 'chomebanking_transacciones_avg_lag_234',\n",
       " 'map_margen_avg_lag_567',\n",
       " 'mactivos_margen_delta1',\n",
       " 'mcaja_ahorro_lag1',\n",
       " 'mrentabilidad_delta1',\n",
       " 'mcuentas_saldo_avg_lag_101112',\n",
       " 'mrentabilidad_delta_lag_101112',\n",
       " 'mrentabilidad_avg_lag_567',\n",
       " 'mpasivos_margen_lag1',\n",
       " 'mcomisiones_suma_avg_lag_234',\n",
       " 'map_margen_delta_lag_567',\n",
       " 'Master_fechaalta_avg_lag_234']"
      ]
     },
     "execution_count": 17,
     "metadata": {},
     "output_type": "execute_result"
    }
   ],
   "source": [
    "importance_df['feature'].head(100).tolist()"
   ]
  },
  {
   "cell_type": "markdown",
   "metadata": {},
   "source": [
    "### Entrenamos con la totalidad de las semillas y guardamos los modelos"
   ]
  },
  {
   "cell_type": "code",
   "execution_count": 18,
   "metadata": {},
   "outputs": [
    {
     "name": "stdout",
     "output_type": "stream",
     "text": [
      "Mejor cantidad de árboles para el mejor model 1909\n",
      "Train del modelo v008 con semilla 122219\n",
      "Train del modelo v008 con semilla 109279\n",
      "Train del modelo v008 con semilla 400391\n",
      "Train del modelo v008 con semilla 401537\n",
      "Train del modelo v008 con semilla 999961\n"
     ]
    }
   ],
   "source": [
    "version = 'v008' # UPDATE\n",
    "\n",
    "os.makedirs(modelos_path + version, exist_ok= True) # crea la carpeta donde almacenamos las versiones del modelo.\n",
    "\n",
    "best_iter = study.best_trial.user_attrs[\"best_iter\"]\n",
    "print(f\"Mejor cantidad de árboles para el mejor model {best_iter}\")\n",
    "\n",
    "for semilla in semillas:\n",
    "    \n",
    "    print(f'Train del modelo {version} con semilla {semilla}')\n",
    "    \n",
    "    params = {\n",
    "        'objective': 'binary',\n",
    "        'boosting_type': 'gbdt',\n",
    "        'first_metric_only': True,\n",
    "        'boost_from_average': True,\n",
    "        'feature_pre_filter': False,\n",
    "        'max_bin': 31,\n",
    "        'num_leaves': study.best_trial.params['num_leaves'],\n",
    "        'learning_rate': study.best_trial.params['learning_rate'],\n",
    "        'min_data_in_leaf': study.best_trial.params['min_data_in_leaf'],\n",
    "        'feature_fraction': study.best_trial.params['feature_fraction'],\n",
    "        'bagging_fraction': study.best_trial.params['bagging_fraction'],\n",
    "        'seed': semilla,\n",
    "        'verbose': -1\n",
    "    }\n",
    "\n",
    "    train_data = lgb.Dataset(X_train,\n",
    "                            label=y_train_binaria,\n",
    "                            weight=w_train)\n",
    "\n",
    "    model = lgb.train(params,\n",
    "                    train_data,\n",
    "                    num_boost_round=best_iter)\n",
    "    \n",
    "    model.save_model(modelos_path + f'{version}/lgb_competencia3_{version}_s{semilla}.txt')"
   ]
  },
  {
   "cell_type": "code",
   "execution_count": null,
   "metadata": {},
   "outputs": [],
   "source": []
  }
 ],
 "metadata": {
  "colab": {
   "provenance": []
  },
  "kernelspec": {
   "display_name": "Python 3",
   "language": "python",
   "name": "python3"
  },
  "language_info": {
   "codemirror_mode": {
    "name": "ipython",
    "version": 3
   },
   "file_extension": ".py",
   "mimetype": "text/x-python",
   "name": "python",
   "nbconvert_exporter": "python",
   "pygments_lexer": "ipython3",
   "version": "3.12.5"
  }
 },
 "nbformat": 4,
 "nbformat_minor": 4
}

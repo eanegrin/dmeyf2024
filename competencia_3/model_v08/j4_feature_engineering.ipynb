{
 "cells": [
  {
   "cell_type": "code",
   "execution_count": 1,
   "metadata": {},
   "outputs": [],
   "source": [
    "import polars as pl"
   ]
  },
  {
   "cell_type": "code",
   "execution_count": 2,
   "metadata": {},
   "outputs": [
    {
     "name": "stdout",
     "output_type": "stream",
     "text": [
      "Copying file:///home/eanegrin/buckets/b1/datasets/competencia_03_inflacion_adj_ipc.parquet...\n",
      "- [1 files][861.8 MiB/861.8 MiB]                                                \n",
      "Operation completed over 1 objects/861.8 MiB.                                    \n"
     ]
    }
   ],
   "source": [
    "!gsutil cp /home/eanegrin/buckets/b1/datasets/competencia_03_inflacion_adj_ipc.parquet /home/eanegrin/datasets/"
   ]
  },
  {
   "cell_type": "code",
   "execution_count": 3,
   "metadata": {},
   "outputs": [],
   "source": [
    "base_path = '/home/eanegrin/'\n",
    "# base_path = 'C:/Eugenio/Maestria/DMEyF/'\n",
    "\n",
    "dataset_path = base_path + 'datasets/'\n",
    "\n",
    "dataset_file = 'competencia_03_inflacion_adj_ipc.parquet'"
   ]
  },
  {
   "cell_type": "code",
   "execution_count": 9,
   "metadata": {},
   "outputs": [],
   "source": [
    "df = pl.read_parquet(dataset_path + dataset_file)"
   ]
  },
  {
   "cell_type": "code",
   "execution_count": 10,
   "metadata": {},
   "outputs": [],
   "source": [
    "# corrijo el tipo de estas 2:\n",
    "\n",
    "df = df.with_columns([\n",
    "    pl.col(\"tmobile_app\").cast(pl.Int64),\n",
    "    pl.col(\"cmobile_app_trx\").cast(pl.Int64)\n",
    "])"
   ]
  },
  {
   "cell_type": "code",
   "execution_count": 11,
   "metadata": {},
   "outputs": [],
   "source": [
    "# elimino columnas con data drifting\n",
    "rotas = ['cmobile_app_trx','tmobile_app','active_quarter','mplazo_fijo_pesos','minversion2']\n",
    "df = df.select(pl.exclude(rotas))"
   ]
  },
  {
   "cell_type": "code",
   "execution_count": null,
   "metadata": {},
   "outputs": [],
   "source": [
    "# elimino 202006 por variables rotas\n",
    "df = df.filter(~pl.col(\"foto_mes\").is_in(['202006']]))"
   ]
  },
  {
   "cell_type": "code",
   "execution_count": 12,
   "metadata": {},
   "outputs": [],
   "source": [
    "# lista de columnas originales para operar despues\n",
    "originales = df.select(pl.exclude([\"numero_de_cliente\", \"foto_mes\", \"clase_ternaria\"])).columns"
   ]
  },
  {
   "cell_type": "code",
   "execution_count": null,
   "metadata": {},
   "outputs": [],
   "source": [
    "# suma de columnas\n",
    "df = df.with_columns([\n",
    "    (pl.col(\"mcuenta_corriente_adicional\").fill_null(0) +\n",
    "     pl.col(\"mcuenta_corriente\").fill_null(0) +\n",
    "     pl.col(\"mcaja_ahorro_adicional\").fill_null(0) +\n",
    "     pl.col(\"mcaja_ahorro_dolares\").fill_null(0) +\n",
    "     pl.col(\"mcaja_ahorro\").fill_null(0)).alias(\"suma_alt\"),\n",
    "    \n",
    "    (pl.col(\"cseguro_vida\").fill_null(0) +\n",
    "     pl.col(\"cseguro_auto\").fill_null(0) +\n",
    "     pl.col(\"cseguro_vivienda\").fill_null(0) +\n",
    "     pl.col(\"cseguro_accidentes_personales\").fill_null(0)).alias(\"cseguro_todos\"),\n",
    "    \n",
    "    (pl.col(\"matm\").fill_null(0) +\n",
    "     pl.col(\"matm_other\").fill_null(0)).alias(\"matm_total\"),\n",
    "    \n",
    "    (pl.col(\"Visa_msaldototal\").fill_null(0) +\n",
    "     pl.col(\"Master_msaldototal\").fill_null(0)).alias(\"tarjeta_msaldototal\"),\n",
    "    \n",
    "    (pl.col(\"mactivos_margen\").fill_null(0) +\n",
    "     pl.col(\"mpasivos_margen\").fill_null(0)).alias(\"map_margen\"),\n",
    "    \n",
    "    (pl.col(\"ccuenta_corriente\").fill_null(0) +\n",
    "     pl.col(\"ccaja_ahorro\").fill_null(0)).alias(\"cc_ca\"),\n",
    "    \n",
    "    (pl.col(\"ctarjeta_visa\").fill_null(0) +\n",
    "     pl.col(\"ctarjeta_master\").fill_null(0)).alias(\"ctarjeta_total\"),\n",
    "    \n",
    "    (pl.col(\"ctarjeta_visa_transacciones\").fill_null(0) +\n",
    "     pl.col(\"ctarjeta_master_transacciones\").fill_null(0)).alias(\"ctarjeta_total_transacciones\"),\n",
    "    \n",
    "    (pl.col(\"mtarjeta_visa_consumo\").fill_null(0) +\n",
    "     pl.col(\"mtarjeta_master_consumo\").fill_null(0)).alias(\"mtarjeta_total_consumo\"),\n",
    "    \n",
    "    (pl.col(\"minversion1_pesos\").fill_null(0) +\n",
    "     pl.col(\"minversion1_dolares\").fill_null(0)).alias(\"minversion1\"),\n",
    "    \n",
    "    (pl.col(\"mpayroll\").fill_null(0) +\n",
    "     pl.col(\"mpayroll2\").fill_null(0)).alias(\"mpayroll_todos\"),\n",
    "    \n",
    "    (pl.col(\"ctarjeta_visa_debitos_automaticos\").fill_null(0) +\n",
    "     pl.col(\"ctarjeta_master_debitos_automaticos\").fill_null(0)).alias(\"ctarjeta_todas_debitos_automaticos\"),\n",
    "    \n",
    "    (pl.col(\"mttarjeta_visa_debitos_automaticos\").fill_null(0) +\n",
    "     pl.col(\"mttarjeta_master_debitos_automaticos\").fill_null(0)).alias(\"mtarjeta_todas_debitos_automaticos\"),\n",
    "    \n",
    "    (pl.col(\"mcomisiones_mantenimiento\").fill_null(0) +\n",
    "     pl.col(\"mcomisiones_otras\").fill_null(0)).alias(\"mcomisiones_suma\"),\n",
    "    \n",
    "    (pl.col(\"Master_cconsumos\").fill_null(0) +\n",
    "     pl.col(\"Visa_cconsumos\").fill_null(0)).alias(\"tarjetas_cconsumos\"),\n",
    "    \n",
    "    (pl.col(\"Master_mfinanciacion_limite\").fill_null(0) +\n",
    "     pl.col(\"Visa_mfinanciacion_limite\").fill_null(0)).alias(\"tarjetas_mfinanciacion_limite\")\n",
    "])\n",
    "\n",
    "df = df.with_columns([\n",
    "    (pl.col(\"mcuenta_debitos_automaticos\").fill_null(0) +\n",
    "     pl.col(\"mtarjeta_total_consumo\").fill_null(0)).alias(\"consumos_mas_DA\")\n",
    "])"
   ]
  },
  {
   "cell_type": "code",
   "execution_count": null,
   "metadata": {},
   "outputs": [],
   "source": [
    "# columnas creadas en el paso anterior\n",
    "creadas = [\n",
    "    \"suma_alt\", \"cseguro_todos\", \"matm_total\", \"tarjeta_msaldototal\",\n",
    "    \"map_margen\", \"cc_ca\", \"ctarjeta_total\", \"ctarjeta_total_transacciones\",\n",
    "    \"mtarjeta_total_consumo\", \"minversion1\", \"mpayroll_todos\", \"ctarjeta_todas_debitos_automaticos\",\n",
    "    \"mtarjeta_todas_debitos_automaticos\", \"mcomisiones_suma\", \"tarjetas_cconsumos\", \"tarjetas_mfinanciacion_limite\",\n",
    "    \"consumos_mas_DA\"\n",
    "]\n",
    "\n",
    "todas = originales + creadas"
   ]
  },
  {
   "cell_type": "code",
   "execution_count": null,
   "metadata": {},
   "outputs": [],
   "source": [
    "# lag 1\n",
    "df = df.with_columns([\n",
    "    pl.col(col)\n",
    "    .sort_by(pl.col(\"foto_mes\")) \n",
    "    .shift(1)\n",
    "    .over(\"numero_de_cliente\") \n",
    "    .alias(f\"{col}_lag1\")\n",
    "    for col in todas\n",
    "])\n",
    "\n",
    "# delta 1\n",
    "df = df.with_columns([\n",
    "    (pl.col(col) - pl.col(f\"{col}_lag1\")).alias(f\"{col}_delta1\")\n",
    "    for col in todas\n",
    "])"
   ]
  },
  {
   "cell_type": "code",
   "execution_count": null,
   "metadata": {},
   "outputs": [],
   "source": [
    "# moving average de los meses -2,-3 y -4\n",
    "df = df.with_columns([\n",
    "    pl.col(col)\n",
    "    .sort_by(pl.col(\"foto_mes\"))\n",
    "    .shift(2)\n",
    "    .rolling_mean(window_size=3, min_periods=1)\n",
    "    .over(\"numero_de_cliente\")\n",
    "    .alias(f\"{col}_avg_lag_234\")\n",
    "    for col in todas\n",
    "])\n",
    "\n",
    "# delta\n",
    "df = df.with_columns([\n",
    "    (pl.col(col) - pl.col(f\"{col}_avg_lag_234\")).alias(f\"{col}_delta_lag_234\")\n",
    "    for col in todas\n",
    "])"
   ]
  },
  {
   "cell_type": "code",
   "execution_count": null,
   "metadata": {},
   "outputs": [],
   "source": [
    "# moving average de los meses -5,-6 y -7\n",
    "df = df.with_columns([\n",
    "    pl.col(col)\n",
    "    .sort_by(pl.col(\"foto_mes\"))\n",
    "    .shift(5)\n",
    "    .rolling_mean(window_size=3, min_periods=1)\n",
    "    .over(\"numero_de_cliente\")\n",
    "    .alias(f\"{col}_avg_lag_567\")\n",
    "    for col in todas\n",
    "])\n",
    "\n",
    "# delta\n",
    "df = df.with_columns([\n",
    "    (pl.col(col) - pl.col(f\"{col}_avg_lag_567\")).alias(f\"{col}_delta_lag_567\")\n",
    "    for col in todas\n",
    "])"
   ]
  },
  {
   "cell_type": "code",
   "execution_count": null,
   "metadata": {},
   "outputs": [],
   "source": [
    "# agrego tambien el lag 10,11 y 12 y los delta para las importantes\n",
    "\n",
    "importantes = ['ctrx_quarter',\n",
    " 'mcuentas_saldo',\n",
    " 'mrentabilidad_annual',\n",
    " 'mpasivos_margen',\n",
    " 'mcaja_ahorro',\n",
    " 'mcuenta_corriente',\n",
    " 'mrentabilidad',\n",
    " 'mactivos_margen',\n",
    " 'Visa_mfinanciacion_limite',\n",
    " 'Master_mfinanciacion_limite',\n",
    " 'chomebanking_transacciones',\n",
    " 'Visa_Fvencimiento',\n",
    " 'Master_Fvencimiento',\n",
    " 'mprestamos_personales',\n",
    " 'mcomisiones',\n",
    " 'mcuentas_saldo_delta6',\n",
    " 'Visa_mconsumospesos',\n",
    " 'Master_mconsumospesos',\n",
    " 'mcomisiones_mantenimiento',\n",
    " 'Visa_msaldototal',\n",
    " 'Master_msaldototal']\n",
    "\n",
    "df = df.with_columns([\n",
    "    pl.col(col)\n",
    "    .sort_by(pl.col(\"foto_mes\"))\n",
    "    .shift(10)\n",
    "    .rolling_mean(window_size=3, min_periods=1)\n",
    "    .over(\"numero_de_cliente\")\n",
    "    .alias(f\"{col}_avg_lag_101112\")\n",
    "    for col in importantes\n",
    "])\n",
    "\n",
    "# delta\n",
    "df = df.with_columns([\n",
    "    (pl.col(col) - pl.col(f\"{col}_avg_lag_101112\")).alias(f\"{col}_delta_lag_101112\")\n",
    "    for col in importantes\n",
    "])"
   ]
  },
  {
   "cell_type": "code",
   "execution_count": 15,
   "metadata": {},
   "outputs": [
    {
     "data": {
      "text/plain": [
       "'/home/eanegrin/datasets/'"
      ]
     },
     "execution_count": 15,
     "metadata": {},
     "output_type": "execute_result"
    }
   ],
   "source": [
    "dataset_path"
   ]
  },
  {
   "cell_type": "code",
   "execution_count": 16,
   "metadata": {},
   "outputs": [],
   "source": [
    "df.write_parquet(dataset_path + 'competencia_03_fe_v07.parquet')"
   ]
  },
  {
   "cell_type": "code",
   "execution_count": 17,
   "metadata": {},
   "outputs": [
    {
     "name": "stdout",
     "output_type": "stream",
     "text": [
      "Copying file:///home/eanegrin/datasets/competencia_03_fe_v07.parquet...\n",
      "- [1 files][  5.7 GiB/  5.7 GiB]                                                \n",
      "Operation completed over 1 objects/5.7 GiB.                                      \n"
     ]
    }
   ],
   "source": [
    "!gsutil cp /home/eanegrin/datasets/competencia_03_fe_v07.parquet /home/eanegrin/buckets/b1/datasets/"
   ]
  },
  {
   "cell_type": "code",
   "execution_count": 18,
   "metadata": {},
   "outputs": [],
   "source": [
    "# Dataset con solo periodo de test y de prediccion para que nos de la RAM para levantarlo localmente\n",
    "df = df.filter(pl.col(\"foto_mes\").is_in([202107,202109]))\n",
    "\n",
    "df.write_parquet(dataset_path + 'competencia_03_fe_v07_predict.parquet')"
   ]
  },
  {
   "cell_type": "code",
   "execution_count": 19,
   "metadata": {},
   "outputs": [
    {
     "name": "stdout",
     "output_type": "stream",
     "text": [
      "Copying file:///home/eanegrin/datasets/competencia_03_fe_v07_predict.parquet...\n",
      "- [1 files][440.5 MiB/440.5 MiB]                                                \n",
      "Operation completed over 1 objects/440.5 MiB.                                    \n"
     ]
    }
   ],
   "source": [
    "!gsutil cp /home/eanegrin/datasets/competencia_03_fe_v07_predict.parquet /home/eanegrin/buckets/b1/datasets/"
   ]
  },
  {
   "cell_type": "code",
   "execution_count": null,
   "metadata": {},
   "outputs": [],
   "source": []
  }
 ],
 "metadata": {
  "kernelspec": {
   "display_name": "Python 3 (ipykernel)",
   "language": "python",
   "name": "python3"
  },
  "language_info": {
   "codemirror_mode": {
    "name": "ipython",
    "version": 3
   },
   "file_extension": ".py",
   "mimetype": "text/x-python",
   "name": "python",
   "nbconvert_exporter": "python",
   "pygments_lexer": "ipython3",
   "version": "3.12.3"
  }
 },
 "nbformat": 4,
 "nbformat_minor": 4
}

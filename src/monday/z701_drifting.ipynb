{
  "cells": [
    {
      "cell_type": "markdown",
      "metadata": {
        "id": "K1bf7Ly5uwVM"
      },
      "source": [
        "# Drifting y Quality"
      ]
    },
    {
      "cell_type": "markdown",
      "metadata": {
        "id": "VwF2ofYu5ing"
      },
      "source": [
        "Un desafío común para los **data scientists** en el mundo real es que, a diferencia de las competencia de **Kaggle**, los datos cambian con el tiempo. Esto significa que los datos que recibiremos en el futuro no necesariamente reflejarán los que usamos para entrenar nuestros modelos. Esta homogeneidad es esencial, ya que los algoritmos aprenden patrones en función de las distribuciones observadas durante el entrenamiento. Si esas distribuciones cambian, la capacidad predictiva del modelo se deteriora.\n",
        "\n",
        "Podemos identificar dos tipos principales de problemáticas asociadas a estos cambios:\n",
        "\n",
        "- **Data Quality (DQ)**\n",
        "- **Data Drift (DF)**\n",
        "\n",
        "Comencemos con el primero: **Data Quality (DQ)**. Hay mucho que decir sobre este tema, pero mencionaremos brevemente que los datos provienen de procesos creados por seres humanos, quienes son propensos a cometer errores y hacer modificaciones. A lo largo del ciclo de vida de los modelos, es común que se enfrenten a este tipo de situaciones. Por ello, es fundamental implementar controles que garanticen que los datos a los que se aplican los modelos mantienen la misma estructura que los datos usados en el entrenamiento.\n",
        "\n",
        "A continuación, veremos dos indicadores clave para monitorear la calidad de los datos, aunque no son los únicos a considerar.\n"
      ]
    },
    {
      "cell_type": "code",
      "execution_count": 1,
      "metadata": {
        "colab": {
          "base_uri": "https://localhost:8080/"
        },
        "id": "1W1UDW74_PoT",
        "outputId": "e5ddd17b-d27f-465b-ed9b-eb2da22d9589"
      },
      "outputs": [],
      "source": [
        "import pandas as pd\n",
        "import numpy as np\n",
        "import seaborn as sns\n",
        "import matplotlib.pyplot as plt\n",
        "import lightgbm as lgb\n",
        "\n",
        "from os import path"
      ]
    },
    {
      "cell_type": "code",
      "execution_count": 2,
      "metadata": {
        "id": "GqPMUcTkvBko"
      },
      "outputs": [],
      "source": [
        "base_path = 'C:/Eugenio/Maestria/DMEyF/'\n",
        "dataset_path = base_path + 'datasets/'\n",
        "dataset_file = 'competencia_01.csv'\n",
        "\n",
        "data = pd.read_csv(path.join(dataset_path,dataset_file))"
      ]
    },
    {
      "cell_type": "markdown",
      "metadata": {
        "id": "aq4kh13U8ZKX"
      },
      "source": [
        "Trabajaremos con un mes de entrenamiento, pero pueden ser muchos más y el mes donde finalmente haremos la predicción."
      ]
    },
    {
      "cell_type": "code",
      "execution_count": 3,
      "metadata": {
        "id": "Gf3NEXh4vhHH"
      },
      "outputs": [],
      "source": [
        "mes_train = 202104\n",
        "mes_score = 202106\n"
      ]
    },
    {
      "cell_type": "markdown",
      "metadata": {
        "id": "Q_GKw4zo8uUU"
      },
      "source": [
        "El primer control es la cantidad de **valores nulos** por variable. Cuando ocurre un error en el proceso de generación de datos, es común que se manifieste un aumento en la cantidad de valores nulos.\n"
      ]
    },
    {
      "cell_type": "code",
      "execution_count": 4,
      "metadata": {
        "colab": {
          "base_uri": "https://localhost:8080/",
          "height": 423
        },
        "id": "8OwNK3-7v_tb",
        "outputId": "c0abb7e0-d142-4a87-d885-f4133c960aa3"
      },
      "outputs": [
        {
          "data": {
            "text/html": [
              "<div>\n",
              "<style scoped>\n",
              "    .dataframe tbody tr th:only-of-type {\n",
              "        vertical-align: middle;\n",
              "    }\n",
              "\n",
              "    .dataframe tbody tr th {\n",
              "        vertical-align: top;\n",
              "    }\n",
              "\n",
              "    .dataframe thead th {\n",
              "        text-align: right;\n",
              "    }\n",
              "</style>\n",
              "<table border=\"1\" class=\"dataframe\">\n",
              "  <thead>\n",
              "    <tr style=\"text-align: right;\">\n",
              "      <th></th>\n",
              "      <th>Train Null Percentage</th>\n",
              "      <th>Score Null Percentage</th>\n",
              "      <th>diff</th>\n",
              "    </tr>\n",
              "  </thead>\n",
              "  <tbody>\n",
              "    <tr>\n",
              "      <th>clase_ternaria</th>\n",
              "      <td>0.000000</td>\n",
              "      <td>100.000000</td>\n",
              "      <td>100.000000</td>\n",
              "    </tr>\n",
              "    <tr>\n",
              "      <th>Master_mconsumototal</th>\n",
              "      <td>59.780608</td>\n",
              "      <td>58.459691</td>\n",
              "      <td>1.320917</td>\n",
              "    </tr>\n",
              "    <tr>\n",
              "      <th>Master_cconsumos</th>\n",
              "      <td>59.780608</td>\n",
              "      <td>58.459691</td>\n",
              "      <td>1.320917</td>\n",
              "    </tr>\n",
              "    <tr>\n",
              "      <th>Master_mpagospesos</th>\n",
              "      <td>59.780608</td>\n",
              "      <td>58.459691</td>\n",
              "      <td>1.320917</td>\n",
              "    </tr>\n",
              "    <tr>\n",
              "      <th>Master_cadelantosefectivo</th>\n",
              "      <td>59.780608</td>\n",
              "      <td>58.459691</td>\n",
              "      <td>1.320917</td>\n",
              "    </tr>\n",
              "    <tr>\n",
              "      <th>...</th>\n",
              "      <td>...</td>\n",
              "      <td>...</td>\n",
              "      <td>...</td>\n",
              "    </tr>\n",
              "    <tr>\n",
              "      <th>ccajas_otras</th>\n",
              "      <td>0.000000</td>\n",
              "      <td>0.000000</td>\n",
              "      <td>0.000000</td>\n",
              "    </tr>\n",
              "    <tr>\n",
              "      <th>catm_trx</th>\n",
              "      <td>0.000000</td>\n",
              "      <td>0.000000</td>\n",
              "      <td>0.000000</td>\n",
              "    </tr>\n",
              "    <tr>\n",
              "      <th>matm</th>\n",
              "      <td>0.000000</td>\n",
              "      <td>0.000000</td>\n",
              "      <td>0.000000</td>\n",
              "    </tr>\n",
              "    <tr>\n",
              "      <th>catm_trx_other</th>\n",
              "      <td>0.000000</td>\n",
              "      <td>0.000000</td>\n",
              "      <td>0.000000</td>\n",
              "    </tr>\n",
              "    <tr>\n",
              "      <th>matm_other</th>\n",
              "      <td>0.000000</td>\n",
              "      <td>0.000000</td>\n",
              "      <td>0.000000</td>\n",
              "    </tr>\n",
              "  </tbody>\n",
              "</table>\n",
              "<p>155 rows × 3 columns</p>\n",
              "</div>"
            ],
            "text/plain": [
              "                           Train Null Percentage  Score Null Percentage  \\\n",
              "clase_ternaria                          0.000000             100.000000   \n",
              "Master_mconsumototal                   59.780608              58.459691   \n",
              "Master_cconsumos                       59.780608              58.459691   \n",
              "Master_mpagospesos                     59.780608              58.459691   \n",
              "Master_cadelantosefectivo              59.780608              58.459691   \n",
              "...                                          ...                    ...   \n",
              "ccajas_otras                            0.000000               0.000000   \n",
              "catm_trx                                0.000000               0.000000   \n",
              "matm                                    0.000000               0.000000   \n",
              "catm_trx_other                          0.000000               0.000000   \n",
              "matm_other                              0.000000               0.000000   \n",
              "\n",
              "                                 diff  \n",
              "clase_ternaria             100.000000  \n",
              "Master_mconsumototal         1.320917  \n",
              "Master_cconsumos             1.320917  \n",
              "Master_mpagospesos           1.320917  \n",
              "Master_cadelantosefectivo    1.320917  \n",
              "...                               ...  \n",
              "ccajas_otras                 0.000000  \n",
              "catm_trx                     0.000000  \n",
              "matm                         0.000000  \n",
              "catm_trx_other               0.000000  \n",
              "matm_other                   0.000000  \n",
              "\n",
              "[155 rows x 3 columns]"
            ]
          },
          "execution_count": 4,
          "metadata": {},
          "output_type": "execute_result"
        }
      ],
      "source": [
        "train_data = data[data['foto_mes'] == mes_train]\n",
        "score_data = data[data['foto_mes'] == mes_score] # este va a ser siempre un solo mes pero de entrenamiento puedo usar varios meses.\n",
        "\n",
        "train_null_percentage = train_data.isnull().mean() * 100\n",
        "score_null_percentage = score_data.isnull().mean() * 100\n",
        "\n",
        "comparison_df = pd.DataFrame({'Train Null Percentage': train_null_percentage, 'Score Null Percentage': score_null_percentage})\n",
        "comparison_df['diff'] = (comparison_df['Score Null Percentage'] - comparison_df['Train Null Percentage']).abs()\n",
        "\n",
        "comparison_df_sorted = comparison_df.sort_values('diff', ascending=False)\n",
        "\n",
        "comparison_df_sorted"
      ]
    },
    {
      "cell_type": "markdown",
      "metadata": {
        "id": "lfULFQ1W9q2k"
      },
      "source": [
        "Un problema similar es la sobrerrepresentación de ceros en los datos, ya que este valor se utiliza comúnmente para la imputación. La acumulación excesiva de ceros puede ser indicativa de un error o de un proceso de imputación inadecuado."
      ]
    },
    {
      "cell_type": "code",
      "execution_count": 5,
      "metadata": {
        "colab": {
          "base_uri": "https://localhost:8080/",
          "height": 423
        },
        "id": "lluVLJw4xCbz",
        "outputId": "4c61f607-1b61-475c-c814-96d10ceb06b3"
      },
      "outputs": [
        {
          "data": {
            "text/html": [
              "<div>\n",
              "<style scoped>\n",
              "    .dataframe tbody tr th:only-of-type {\n",
              "        vertical-align: middle;\n",
              "    }\n",
              "\n",
              "    .dataframe tbody tr th {\n",
              "        vertical-align: top;\n",
              "    }\n",
              "\n",
              "    .dataframe thead th {\n",
              "        text-align: right;\n",
              "    }\n",
              "</style>\n",
              "<table border=\"1\" class=\"dataframe\">\n",
              "  <thead>\n",
              "    <tr style=\"text-align: right;\">\n",
              "      <th></th>\n",
              "      <th>Train Zero Percentage</th>\n",
              "      <th>Score Zero Percentage</th>\n",
              "      <th>diff_zero_percentage</th>\n",
              "    </tr>\n",
              "  </thead>\n",
              "  <tbody>\n",
              "    <tr>\n",
              "      <th>Master_fultimo_cierre</th>\n",
              "      <td>0.000000</td>\n",
              "      <td>68.891773</td>\n",
              "      <td>68.891773</td>\n",
              "    </tr>\n",
              "    <tr>\n",
              "      <th>Visa_fultimo_cierre</th>\n",
              "      <td>0.000000</td>\n",
              "      <td>68.829909</td>\n",
              "      <td>68.829909</td>\n",
              "    </tr>\n",
              "    <tr>\n",
              "      <th>cmobile_app_trx</th>\n",
              "      <td>28.197331</td>\n",
              "      <td>23.683859</td>\n",
              "      <td>4.513471</td>\n",
              "    </tr>\n",
              "    <tr>\n",
              "      <th>mcuenta_corriente</th>\n",
              "      <td>47.169236</td>\n",
              "      <td>49.692496</td>\n",
              "      <td>2.523260</td>\n",
              "    </tr>\n",
              "    <tr>\n",
              "      <th>mtransferencias_recibidas</th>\n",
              "      <td>26.395880</td>\n",
              "      <td>24.303719</td>\n",
              "      <td>2.092161</td>\n",
              "    </tr>\n",
              "    <tr>\n",
              "      <th>...</th>\n",
              "      <td>...</td>\n",
              "      <td>...</td>\n",
              "      <td>...</td>\n",
              "    </tr>\n",
              "    <tr>\n",
              "      <th>Visa_Finiciomora</th>\n",
              "      <td>0.000000</td>\n",
              "      <td>0.000000</td>\n",
              "      <td>0.000000</td>\n",
              "    </tr>\n",
              "    <tr>\n",
              "      <th>Visa_Fvencimiento</th>\n",
              "      <td>0.000000</td>\n",
              "      <td>0.000000</td>\n",
              "      <td>0.000000</td>\n",
              "    </tr>\n",
              "    <tr>\n",
              "      <th>Visa_mlimitecompra</th>\n",
              "      <td>0.000000</td>\n",
              "      <td>0.000000</td>\n",
              "      <td>0.000000</td>\n",
              "    </tr>\n",
              "    <tr>\n",
              "      <th>Visa_fechaalta</th>\n",
              "      <td>0.000000</td>\n",
              "      <td>0.000000</td>\n",
              "      <td>0.000000</td>\n",
              "    </tr>\n",
              "    <tr>\n",
              "      <th>clase_ternaria</th>\n",
              "      <td>0.000000</td>\n",
              "      <td>0.000000</td>\n",
              "      <td>0.000000</td>\n",
              "    </tr>\n",
              "  </tbody>\n",
              "</table>\n",
              "<p>155 rows × 3 columns</p>\n",
              "</div>"
            ],
            "text/plain": [
              "                           Train Zero Percentage  Score Zero Percentage  \\\n",
              "Master_fultimo_cierre                   0.000000              68.891773   \n",
              "Visa_fultimo_cierre                     0.000000              68.829909   \n",
              "cmobile_app_trx                        28.197331              23.683859   \n",
              "mcuenta_corriente                      47.169236              49.692496   \n",
              "mtransferencias_recibidas              26.395880              24.303719   \n",
              "...                                          ...                    ...   \n",
              "Visa_Finiciomora                        0.000000               0.000000   \n",
              "Visa_Fvencimiento                       0.000000               0.000000   \n",
              "Visa_mlimitecompra                      0.000000               0.000000   \n",
              "Visa_fechaalta                          0.000000               0.000000   \n",
              "clase_ternaria                          0.000000               0.000000   \n",
              "\n",
              "                           diff_zero_percentage  \n",
              "Master_fultimo_cierre                 68.891773  \n",
              "Visa_fultimo_cierre                   68.829909  \n",
              "cmobile_app_trx                        4.513471  \n",
              "mcuenta_corriente                      2.523260  \n",
              "mtransferencias_recibidas              2.092161  \n",
              "...                                         ...  \n",
              "Visa_Finiciomora                       0.000000  \n",
              "Visa_Fvencimiento                      0.000000  \n",
              "Visa_mlimitecompra                     0.000000  \n",
              "Visa_fechaalta                         0.000000  \n",
              "clase_ternaria                         0.000000  \n",
              "\n",
              "[155 rows x 3 columns]"
            ]
          },
          "execution_count": 5,
          "metadata": {},
          "output_type": "execute_result"
        }
      ],
      "source": [
        "train_zero_percentage = (train_data == 0).mean() * 100\n",
        "score_zero_percentage = (score_data == 0).mean() * 100\n",
        "\n",
        "comparison_df_zero = pd.DataFrame({'Train Zero Percentage': train_zero_percentage, 'Score Zero Percentage': score_zero_percentage})\n",
        "\n",
        "comparison_df_zero['diff_zero_percentage'] = (comparison_df_zero['Score Zero Percentage'] - comparison_df_zero['Train Zero Percentage']).abs()\n",
        "diff_zero_percentage_sorted = comparison_df_zero.sort_values('diff_zero_percentage',ascending=False)\n",
        "diff_zero_percentage_sorted\n"
      ]
    },
    {
      "cell_type": "markdown",
      "metadata": {},
      "source": [
        "Nota: Que hacer en el caso de que una variable pasa a tener muchos 0s como el caso de visa_fultimo_cierre. Una opcion es eliminar la varibable, incluso si es una variable importante los modelos son bastante recilientes y no deberia cambiar mucho. Otra opcion es imputar esos 0s con un valor razonable."
      ]
    },
    {
      "cell_type": "markdown",
      "metadata": {
        "id": "53Vnnh4--XBZ"
      },
      "source": [
        "La segunda problemática es el **data drifting**, que es un fenómeno que ocurre cuando la distribución de los datos cambia con el tiempo.\n",
        "\n",
        "Hay varios tipos de drifting:\n",
        "\n",
        "1. **Feature Drift**: Este tipo de deriva se da cuando cambia la distribución de una feature del modelo.\n",
        "\n",
        "2. **Concept Drift**: Ocurre cuando cambia la relación entre las features y la variable target. Por ejemplo, en un modelo de predicción de fraude, la forma en que los fraudes ocurren puede cambiar con el tiempo, lo que significa que el modelo necesitaría ser ajustado para reconocer nuevos patrones.\n",
        "\n",
        "Para detectar el drifting utilizaremos el **PSI (Population Stability Index)** que es una métrica utilizada para medir los cambios en la distribución de una variable a lo largo del tiempo. Funciona cuantificando las diferencias entre dos distribuciones, generalmente comparando los datos de entrenamiento con los datos actuales.\n",
        "\n",
        "* **Cómo funciona el PSI**:\n",
        " 1. **División en intervalos (bins)**: Tanto los datos históricos como los datos actuales se dividen en una serie de intervalos o bins.\n",
        "   \n",
        " 2. **Cálculo de frecuencias**: Se calcula la proporción de observaciones que caen en cada bin tanto para la distribución original (entrenamiento) como para la nueva (actual).\n",
        "\n",
        " 3. **Fórmula del PSI**: Para cada bin, se calcula la diferencia entre las frecuencias observadas en ambas distribuciones mediante la siguiente fórmula:\n",
        "\n",
        "   $\n",
        "   PSI = \\sum \\left( (P_{actual} - P_{esperado}) \\times \\log \\left( \\frac{P_{actual}}{P_{esperado}} \\right) \\right)\n",
        "   $\n",
        "   Donde:\n",
        "   - $P_{actual}$ es la proporción de la nueva muestra en un bin.\n",
        "   - $P_{esperado}$ es la proporción de la muestra original en el mismo bin.\n",
        "\n"
      ]
    },
    {
      "cell_type": "markdown",
      "metadata": {},
      "source": [
        "Lo que se puede hacer si hay data drifting es ir reentrenando en una nueva ventana de tiempo, antes se hacian y se dejaban correr por 3 o 4 años lo que era un monton, hoy en dia se van reentrenando seguido para que no pierda la performance."
      ]
    },
    {
      "cell_type": "code",
      "execution_count": 6,
      "metadata": {
        "id": "_DzUn0-RBVzU"
      },
      "outputs": [],
      "source": [
        "def psi(expected, actual, buckets=10):\n",
        "\n",
        "    def psi_formula(expected_prop, actual_prop):\n",
        "        result = (actual_prop - expected_prop) * np.log(actual_prop / expected_prop)\n",
        "        return result\n",
        "\n",
        "    expected_not_null = expected.dropna()\n",
        "    actual_not_null = actual.dropna()\n",
        "\n",
        "    bin_edges = pd.qcut(expected_not_null, q=buckets, duplicates='drop').unique()\n",
        "    bin_edges2 = [edge.left for edge in bin_edges] + [edge.right for edge in bin_edges]\n",
        "    breakpoints = sorted(list(set(bin_edges2)))\n",
        "\n",
        "    expected_counts, _ = np.histogram(expected_not_null, bins=breakpoints)\n",
        "    actual_counts, _ = np.histogram(actual_not_null, bins=breakpoints)\n",
        "\n",
        "    expected_prop = expected_counts / len(expected_not_null)\n",
        "    actual_prop = actual_counts / len(actual_not_null)\n",
        "\n",
        "    psi_not_null = psi_formula(expected_prop, actual_prop).sum()\n",
        "\n",
        "    psi_null = 0\n",
        "\n",
        "    if expected.isnull().sum() > 0 and actual.isnull().sum() > 0 :\n",
        "      expected_null_percentage = expected.isnull().mean()\n",
        "      actual_null_percentage = actual.isnull().mean()\n",
        "      psi_null = psi_formula(expected_null_percentage, actual_null_percentage)\n",
        "\n",
        "    return psi_not_null + psi_null\n"
      ]
    },
    {
      "cell_type": "markdown",
      "metadata": {
        "id": "TnKeZyXfLrKX"
      },
      "source": [
        "Y aplicamos el análisis a (casi) todos los **features**"
      ]
    },
    {
      "cell_type": "code",
      "execution_count": 7,
      "metadata": {
        "colab": {
          "base_uri": "https://localhost:8080/",
          "height": 513
        },
        "id": "BXUBBsjtIDAC",
        "outputId": "bd398eaa-f49e-47ae-b0de-44992adc5c53"
      },
      "outputs": [
        {
          "name": "stderr",
          "output_type": "stream",
          "text": [
            "C:\\Users\\eaneg\\AppData\\Local\\Temp\\ipykernel_3336\\2860382255.py:4: RuntimeWarning: divide by zero encountered in log\n",
            "  result = (actual_prop - expected_prop) * np.log(actual_prop / expected_prop)\n",
            "C:\\Users\\eaneg\\AppData\\Local\\Temp\\ipykernel_3336\\2860382255.py:4: RuntimeWarning: divide by zero encountered in log\n",
            "  result = (actual_prop - expected_prop) * np.log(actual_prop / expected_prop)\n"
          ]
        },
        {
          "data": {
            "text/html": [
              "<div>\n",
              "<style scoped>\n",
              "    .dataframe tbody tr th:only-of-type {\n",
              "        vertical-align: middle;\n",
              "    }\n",
              "\n",
              "    .dataframe tbody tr th {\n",
              "        vertical-align: top;\n",
              "    }\n",
              "\n",
              "    .dataframe thead th {\n",
              "        text-align: right;\n",
              "    }\n",
              "</style>\n",
              "<table border=\"1\" class=\"dataframe\">\n",
              "  <thead>\n",
              "    <tr style=\"text-align: right;\">\n",
              "      <th></th>\n",
              "      <th>feature</th>\n",
              "      <th>psi</th>\n",
              "    </tr>\n",
              "  </thead>\n",
              "  <tbody>\n",
              "    <tr>\n",
              "      <th>135</th>\n",
              "      <td>Visa_Finiciomora</td>\n",
              "      <td>inf</td>\n",
              "    </tr>\n",
              "    <tr>\n",
              "      <th>113</th>\n",
              "      <td>Master_Finiciomora</td>\n",
              "      <td>inf</td>\n",
              "    </tr>\n",
              "    <tr>\n",
              "      <th>122</th>\n",
              "      <td>Master_fultimo_cierre</td>\n",
              "      <td>1.129066</td>\n",
              "    </tr>\n",
              "    <tr>\n",
              "      <th>144</th>\n",
              "      <td>Visa_fultimo_cierre</td>\n",
              "      <td>0.937571</td>\n",
              "    </tr>\n",
              "    <tr>\n",
              "      <th>50</th>\n",
              "      <td>cpayroll_trx</td>\n",
              "      <td>0.241274</td>\n",
              "    </tr>\n",
              "    <tr>\n",
              "      <th>...</th>\n",
              "      <td>...</td>\n",
              "      <td>...</td>\n",
              "    </tr>\n",
              "    <tr>\n",
              "      <th>97</th>\n",
              "      <td>ccajas_transacciones</td>\n",
              "      <td>0.000000</td>\n",
              "    </tr>\n",
              "    <tr>\n",
              "      <th>100</th>\n",
              "      <td>ccajas_extracciones</td>\n",
              "      <td>0.000000</td>\n",
              "    </tr>\n",
              "    <tr>\n",
              "      <th>99</th>\n",
              "      <td>ccajas_depositos</td>\n",
              "      <td>0.000000</td>\n",
              "    </tr>\n",
              "    <tr>\n",
              "      <th>98</th>\n",
              "      <td>ccajas_consultas</td>\n",
              "      <td>0.000000</td>\n",
              "    </tr>\n",
              "    <tr>\n",
              "      <th>91</th>\n",
              "      <td>ccheques_emitidos_rechazados</td>\n",
              "      <td>0.000000</td>\n",
              "    </tr>\n",
              "  </tbody>\n",
              "</table>\n",
              "<p>153 rows × 2 columns</p>\n",
              "</div>"
            ],
            "text/plain": [
              "                          feature       psi\n",
              "135              Visa_Finiciomora       inf\n",
              "113            Master_Finiciomora       inf\n",
              "122         Master_fultimo_cierre  1.129066\n",
              "144           Visa_fultimo_cierre  0.937571\n",
              "50                   cpayroll_trx  0.241274\n",
              "..                            ...       ...\n",
              "97           ccajas_transacciones  0.000000\n",
              "100           ccajas_extracciones  0.000000\n",
              "99               ccajas_depositos  0.000000\n",
              "98               ccajas_consultas  0.000000\n",
              "91   ccheques_emitidos_rechazados  0.000000\n",
              "\n",
              "[153 rows x 2 columns]"
            ]
          },
          "execution_count": 7,
          "metadata": {},
          "output_type": "execute_result"
        }
      ],
      "source": [
        "psi_results = []\n",
        "for column in train_data.columns:\n",
        "  if column not in ['foto_mes', 'clase_ternaria']:\n",
        "    train_variable = train_data[column]\n",
        "    score_variable = score_data[column]\n",
        "    psi_value = psi(train_variable, score_variable)\n",
        "    psi_results.append({'feature': column, 'psi': psi_value})\n",
        "\n",
        "psi_df = pd.DataFrame(psi_results)\n",
        "psi_df = psi_df.sort_values('psi', ascending=False)\n",
        "psi_df\n"
      ]
    },
    {
      "cell_type": "markdown",
      "metadata": {
        "id": "PMF2d1bXL26t"
      },
      "source": [
        "Encontramos un par de variables conflictivas **Master_Finiciomora** y **Visa_Finiciomora** que nos dan que hay infinito cambio. Vamos a ver que sucedio, haciendo un poco de **deep dive**."
      ]
    },
    {
      "cell_type": "code",
      "execution_count": 8,
      "metadata": {
        "colab": {
          "base_uri": "https://localhost:8080/"
        },
        "id": "IlIW-JFsZWTY",
        "outputId": "ea024cd3-45da-4ff6-d9ff-3bd77dfdc2d5"
      },
      "outputs": [
        {
          "name": "stdout",
          "output_type": "stream",
          "text": [
            "Cortes en Master_Finiciomora: [np.float64(1.999), np.float64(11.0), np.float64(18.0), np.float64(36.2), np.float64(46.0), np.float64(207.0)]\n",
            "Frecuencia Esperada: [ 44 103 573  27 282]\n",
            "Frecuencia Actual: [ 69   0 338   7 245]\n"
          ]
        }
      ],
      "source": [
        "variable_name = 'Master_Finiciomora'\n",
        "expected = train_data[variable_name]\n",
        "actual = score_data[variable_name]\n",
        "\n",
        "expected_not_null = expected.dropna()\n",
        "actual_not_null = actual.dropna()\n",
        "\n",
        "bin_edges = pd.qcut(expected_not_null, q=10, duplicates='drop').unique()\n",
        "bin_edges2 = [edge.left for edge in bin_edges] + [edge.right for edge in bin_edges]\n",
        "breakpoints = sorted(list(set(bin_edges2)))\n",
        "\n",
        "print(f'Cortes en {variable_name}: {breakpoints}')\n",
        "expected_counts, _ = np.histogram(expected_not_null, bins=breakpoints)\n",
        "actual_counts, _ = np.histogram(actual_not_null, bins=breakpoints)\n",
        "\n",
        "print(f'Frecuencia Esperada: {expected_counts}')\n",
        "print(f'Frecuencia Actual: {actual_counts}')\n"
      ]
    },
    {
      "cell_type": "markdown",
      "metadata": {
        "id": "Z4fjZe87M0WK"
      },
      "source": [
        "* Qué paso? y cómo podría arreglarse?\n",
        "\n",
        "El resto de las variables que vemos son casos ya detectados. Observamos también que hay un cambio en las variables de **payroll**\n"
      ]
    },
    {
      "cell_type": "code",
      "execution_count": 9,
      "metadata": {
        "colab": {
          "base_uri": "https://localhost:8080/"
        },
        "id": "klS433JvOth1",
        "outputId": "78cbd401-6736-4af7-f2fe-67fb5c7c9e99"
      },
      "outputs": [
        {
          "name": "stdout",
          "output_type": "stream",
          "text": [
            "Cortes en cpayroll_trx: [np.float64(-0.001), np.float64(1.0), np.float64(2.0), np.float64(3.0), np.float64(251.0)]\n",
            "Frecuencia Esperada: [75458 54661 22952 11019]\n",
            "Frecuencia Actual: [73677 26686 39300 25212]\n"
          ]
        }
      ],
      "source": [
        "variable_name = 'cpayroll_trx'\n",
        "expected = train_data[variable_name]\n",
        "actual = score_data[variable_name]\n",
        "\n",
        "expected_not_null = expected.dropna()\n",
        "actual_not_null = actual.dropna()\n",
        "\n",
        "bin_edges = pd.qcut(expected_not_null, q=20, duplicates='drop').unique()\n",
        "bin_edges2 = [edge.left for edge in bin_edges] + [edge.right for edge in bin_edges]\n",
        "breakpoints = sorted(list(set(bin_edges2)))\n",
        "\n",
        "print(f'Cortes en {variable_name}: {breakpoints}')\n",
        "expected_counts, _ = np.histogram(expected_not_null, bins=breakpoints)\n",
        "actual_counts, _ = np.histogram(actual_not_null, bins=breakpoints)\n",
        "\n",
        "print(f'Frecuencia Esperada: {expected_counts}')\n",
        "print(f'Frecuencia Actual: {actual_counts}')"
      ]
    },
    {
      "cell_type": "markdown",
      "metadata": {
        "id": "LRl92xOGQklV"
      },
      "source": [
        "Pero antes de tomar una decisión, vamos a analizar como los **lgbm** cortan esa variable, para esto importamos nuestro modelo y analizamos sus puntos de corte por cada variable"
      ]
    },
    {
      "cell_type": "code",
      "execution_count": 12,
      "metadata": {
        "id": "JnS_8ccbXTKj"
      },
      "outputs": [],
      "source": [
        "model = lgb.Booster(model_file='C:/Eugenio/Maestria/DMEyF/modelos/lgb_first.txt')\n"
      ]
    },
    {
      "cell_type": "code",
      "execution_count": 16,
      "metadata": {
        "id": "qAOqnRGhZD-X"
      },
      "outputs": [],
      "source": [
        "model_df = model.trees_to_dataframe()"
      ]
    },
    {
      "cell_type": "code",
      "execution_count": 17,
      "metadata": {
        "colab": {
          "base_uri": "https://localhost:8080/",
          "height": 634
        },
        "id": "sFd4c1juaFZZ",
        "outputId": "d0568b2c-15ed-4a60-9798-5507525e4f00"
      },
      "outputs": [
        {
          "data": {
            "text/html": [
              "<div>\n",
              "<style scoped>\n",
              "    .dataframe tbody tr th:only-of-type {\n",
              "        vertical-align: middle;\n",
              "    }\n",
              "\n",
              "    .dataframe tbody tr th {\n",
              "        vertical-align: top;\n",
              "    }\n",
              "\n",
              "    .dataframe thead th {\n",
              "        text-align: right;\n",
              "    }\n",
              "</style>\n",
              "<table border=\"1\" class=\"dataframe\">\n",
              "  <thead>\n",
              "    <tr style=\"text-align: right;\">\n",
              "      <th></th>\n",
              "      <th>tree_index</th>\n",
              "      <th>node_depth</th>\n",
              "      <th>node_index</th>\n",
              "      <th>left_child</th>\n",
              "      <th>right_child</th>\n",
              "      <th>parent_index</th>\n",
              "      <th>split_feature</th>\n",
              "      <th>split_gain</th>\n",
              "      <th>threshold</th>\n",
              "      <th>decision_type</th>\n",
              "      <th>missing_direction</th>\n",
              "      <th>missing_type</th>\n",
              "      <th>value</th>\n",
              "      <th>weight</th>\n",
              "      <th>count</th>\n",
              "    </tr>\n",
              "  </thead>\n",
              "  <tbody>\n",
              "    <tr>\n",
              "      <th>946</th>\n",
              "      <td>7</td>\n",
              "      <td>2</td>\n",
              "      <td>7-S1</td>\n",
              "      <td>7-S4</td>\n",
              "      <td>7-S9</td>\n",
              "      <td>7-S0</td>\n",
              "      <td>cpayroll_trx</td>\n",
              "      <td>229.067993</td>\n",
              "      <td>1.000000e-35</td>\n",
              "      <td>&lt;=</td>\n",
              "      <td>left</td>\n",
              "      <td>None</td>\n",
              "      <td>0.058128</td>\n",
              "      <td>610.172</td>\n",
              "      <td>25138</td>\n",
              "    </tr>\n",
              "    <tr>\n",
              "      <th>981</th>\n",
              "      <td>7</td>\n",
              "      <td>2</td>\n",
              "      <td>7-S2</td>\n",
              "      <td>7-S3</td>\n",
              "      <td>7-S39</td>\n",
              "      <td>7-S0</td>\n",
              "      <td>cpayroll_trx</td>\n",
              "      <td>196.725006</td>\n",
              "      <td>1.000000e-35</td>\n",
              "      <td>&lt;=</td>\n",
              "      <td>left</td>\n",
              "      <td>None</td>\n",
              "      <td>-0.032981</td>\n",
              "      <td>1206.340</td>\n",
              "      <td>137508</td>\n",
              "    </tr>\n",
              "    <tr>\n",
              "      <th>1265</th>\n",
              "      <td>9</td>\n",
              "      <td>2</td>\n",
              "      <td>9-S2</td>\n",
              "      <td>9-S4</td>\n",
              "      <td>9-S25</td>\n",
              "      <td>9-S0</td>\n",
              "      <td>cpayroll_trx</td>\n",
              "      <td>134.231995</td>\n",
              "      <td>1.000000e-35</td>\n",
              "      <td>&lt;=</td>\n",
              "      <td>left</td>\n",
              "      <td>None</td>\n",
              "      <td>-0.035770</td>\n",
              "      <td>1030.990</td>\n",
              "      <td>130095</td>\n",
              "    </tr>\n",
              "    <tr>\n",
              "      <th>2160</th>\n",
              "      <td>16</td>\n",
              "      <td>1</td>\n",
              "      <td>16-S0</td>\n",
              "      <td>16-S1</td>\n",
              "      <td>16-S10</td>\n",
              "      <td>None</td>\n",
              "      <td>cpayroll_trx</td>\n",
              "      <td>314.158997</td>\n",
              "      <td>1.000000e-35</td>\n",
              "      <td>&lt;=</td>\n",
              "      <td>left</td>\n",
              "      <td>None</td>\n",
              "      <td>0.000000</td>\n",
              "      <td>0.000</td>\n",
              "      <td>162646</td>\n",
              "    </tr>\n",
              "    <tr>\n",
              "      <th>2295</th>\n",
              "      <td>17</td>\n",
              "      <td>1</td>\n",
              "      <td>17-S0</td>\n",
              "      <td>17-S1</td>\n",
              "      <td>17-S4</td>\n",
              "      <td>None</td>\n",
              "      <td>cpayroll_trx</td>\n",
              "      <td>285.696991</td>\n",
              "      <td>1.000000e-35</td>\n",
              "      <td>&lt;=</td>\n",
              "      <td>left</td>\n",
              "      <td>None</td>\n",
              "      <td>0.000000</td>\n",
              "      <td>0.000</td>\n",
              "      <td>162646</td>\n",
              "    </tr>\n",
              "    <tr>\n",
              "      <th>3915</th>\n",
              "      <td>29</td>\n",
              "      <td>1</td>\n",
              "      <td>29-S0</td>\n",
              "      <td>29-S1</td>\n",
              "      <td>29-S3</td>\n",
              "      <td>None</td>\n",
              "      <td>cpayroll_trx</td>\n",
              "      <td>101.253998</td>\n",
              "      <td>1.000000e-35</td>\n",
              "      <td>&lt;=</td>\n",
              "      <td>left</td>\n",
              "      <td>None</td>\n",
              "      <td>0.000000</td>\n",
              "      <td>0.000</td>\n",
              "      <td>162646</td>\n",
              "    </tr>\n",
              "    <tr>\n",
              "      <th>4186</th>\n",
              "      <td>31</td>\n",
              "      <td>2</td>\n",
              "      <td>31-S1</td>\n",
              "      <td>31-S2</td>\n",
              "      <td>31-S5</td>\n",
              "      <td>31-S0</td>\n",
              "      <td>cpayroll_trx</td>\n",
              "      <td>83.286598</td>\n",
              "      <td>1.000000e-35</td>\n",
              "      <td>&lt;=</td>\n",
              "      <td>left</td>\n",
              "      <td>None</td>\n",
              "      <td>-0.002646</td>\n",
              "      <td>1640.440</td>\n",
              "      <td>162527</td>\n",
              "    </tr>\n",
              "    <tr>\n",
              "      <th>5535</th>\n",
              "      <td>41</td>\n",
              "      <td>1</td>\n",
              "      <td>41-S0</td>\n",
              "      <td>41-S2</td>\n",
              "      <td>41-S1</td>\n",
              "      <td>None</td>\n",
              "      <td>cpayroll_trx</td>\n",
              "      <td>34.423100</td>\n",
              "      <td>1.000000e-35</td>\n",
              "      <td>&lt;=</td>\n",
              "      <td>left</td>\n",
              "      <td>None</td>\n",
              "      <td>0.000000</td>\n",
              "      <td>0.000</td>\n",
              "      <td>162646</td>\n",
              "    </tr>\n",
              "    <tr>\n",
              "      <th>5670</th>\n",
              "      <td>42</td>\n",
              "      <td>1</td>\n",
              "      <td>42-S0</td>\n",
              "      <td>42-S2</td>\n",
              "      <td>42-S1</td>\n",
              "      <td>None</td>\n",
              "      <td>cpayroll_trx</td>\n",
              "      <td>31.052401</td>\n",
              "      <td>1.000000e-35</td>\n",
              "      <td>&lt;=</td>\n",
              "      <td>left</td>\n",
              "      <td>None</td>\n",
              "      <td>0.000000</td>\n",
              "      <td>0.000</td>\n",
              "      <td>162646</td>\n",
              "    </tr>\n",
              "    <tr>\n",
              "      <th>5940</th>\n",
              "      <td>44</td>\n",
              "      <td>1</td>\n",
              "      <td>44-S0</td>\n",
              "      <td>44-S2</td>\n",
              "      <td>44-S1</td>\n",
              "      <td>None</td>\n",
              "      <td>cpayroll_trx</td>\n",
              "      <td>25.402201</td>\n",
              "      <td>1.000000e-35</td>\n",
              "      <td>&lt;=</td>\n",
              "      <td>left</td>\n",
              "      <td>None</td>\n",
              "      <td>0.000000</td>\n",
              "      <td>0.000</td>\n",
              "      <td>162646</td>\n",
              "    </tr>\n",
              "    <tr>\n",
              "      <th>6345</th>\n",
              "      <td>47</td>\n",
              "      <td>1</td>\n",
              "      <td>47-S0</td>\n",
              "      <td>47-S2</td>\n",
              "      <td>47-S1</td>\n",
              "      <td>None</td>\n",
              "      <td>cpayroll_trx</td>\n",
              "      <td>19.601801</td>\n",
              "      <td>1.000000e-35</td>\n",
              "      <td>&lt;=</td>\n",
              "      <td>left</td>\n",
              "      <td>None</td>\n",
              "      <td>0.000000</td>\n",
              "      <td>0.000</td>\n",
              "      <td>162646</td>\n",
              "    </tr>\n",
              "  </tbody>\n",
              "</table>\n",
              "</div>"
            ],
            "text/plain": [
              "      tree_index  node_depth node_index left_child right_child parent_index  \\\n",
              "946            7           2       7-S1       7-S4        7-S9         7-S0   \n",
              "981            7           2       7-S2       7-S3       7-S39         7-S0   \n",
              "1265           9           2       9-S2       9-S4       9-S25         9-S0   \n",
              "2160          16           1      16-S0      16-S1      16-S10         None   \n",
              "2295          17           1      17-S0      17-S1       17-S4         None   \n",
              "3915          29           1      29-S0      29-S1       29-S3         None   \n",
              "4186          31           2      31-S1      31-S2       31-S5        31-S0   \n",
              "5535          41           1      41-S0      41-S2       41-S1         None   \n",
              "5670          42           1      42-S0      42-S2       42-S1         None   \n",
              "5940          44           1      44-S0      44-S2       44-S1         None   \n",
              "6345          47           1      47-S0      47-S2       47-S1         None   \n",
              "\n",
              "     split_feature  split_gain     threshold decision_type missing_direction  \\\n",
              "946   cpayroll_trx  229.067993  1.000000e-35            <=              left   \n",
              "981   cpayroll_trx  196.725006  1.000000e-35            <=              left   \n",
              "1265  cpayroll_trx  134.231995  1.000000e-35            <=              left   \n",
              "2160  cpayroll_trx  314.158997  1.000000e-35            <=              left   \n",
              "2295  cpayroll_trx  285.696991  1.000000e-35            <=              left   \n",
              "3915  cpayroll_trx  101.253998  1.000000e-35            <=              left   \n",
              "4186  cpayroll_trx   83.286598  1.000000e-35            <=              left   \n",
              "5535  cpayroll_trx   34.423100  1.000000e-35            <=              left   \n",
              "5670  cpayroll_trx   31.052401  1.000000e-35            <=              left   \n",
              "5940  cpayroll_trx   25.402201  1.000000e-35            <=              left   \n",
              "6345  cpayroll_trx   19.601801  1.000000e-35            <=              left   \n",
              "\n",
              "     missing_type     value    weight   count  \n",
              "946          None  0.058128   610.172   25138  \n",
              "981          None -0.032981  1206.340  137508  \n",
              "1265         None -0.035770  1030.990  130095  \n",
              "2160         None  0.000000     0.000  162646  \n",
              "2295         None  0.000000     0.000  162646  \n",
              "3915         None  0.000000     0.000  162646  \n",
              "4186         None -0.002646  1640.440  162527  \n",
              "5535         None  0.000000     0.000  162646  \n",
              "5670         None  0.000000     0.000  162646  \n",
              "5940         None  0.000000     0.000  162646  \n",
              "6345         None  0.000000     0.000  162646  "
            ]
          },
          "execution_count": 17,
          "metadata": {},
          "output_type": "execute_result"
        }
      ],
      "source": [
        "model_df[model_df['split_feature'] == 'cpayroll_trx'].sort_values('threshold')"
      ]
    },
    {
      "cell_type": "markdown",
      "metadata": {
        "id": "Z9z1rK02RT3H"
      },
      "source": [
        "* En que valores corta la variable **cpayroll_trx**?\n",
        "\n",
        "Estos análisis fueron hechos entre **Abril** y **Junio**.\n",
        "+ Qué sucederá con si **Enero** está en el mismo dataset?\n",
        "+ Cómo puede corregir el drifting si este está presente en una **feature** importante?"
      ]
    }
  ],
  "metadata": {
    "colab": {
      "provenance": []
    },
    "kernelspec": {
      "display_name": "Python 3",
      "name": "python3"
    },
    "language_info": {
      "codemirror_mode": {
        "name": "ipython",
        "version": 3
      },
      "file_extension": ".py",
      "mimetype": "text/x-python",
      "name": "python",
      "nbconvert_exporter": "python",
      "pygments_lexer": "ipython3",
      "version": "3.12.5"
    }
  },
  "nbformat": 4,
  "nbformat_minor": 0
}

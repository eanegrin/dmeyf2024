{
 "cells": [
  {
   "cell_type": "code",
   "execution_count": 1,
   "metadata": {},
   "outputs": [],
   "source": [
    "import pandas as pd\n",
    "import numpy as np\n",
    "import seaborn as sns\n",
    "import matplotlib.pyplot as plt\n",
    "\n",
    "from sklearn.model_selection import train_test_split\n",
    "from sklearn.model_selection import ShuffleSplit, StratifiedShuffleSplit\n",
    "from sklearn.ensemble import RandomForestClassifier\n",
    "from sklearn.impute import SimpleImputer\n",
    "\n",
    "from joblib import Parallel, delayed\n",
    "\n",
    "from time import time\n",
    "\n",
    "import plotly\n",
    "\n",
    "import optuna\n",
    "from optuna.visualization import plot_param_importances, plot_contour,  plot_slice, plot_optimization_history"
   ]
  },
  {
   "cell_type": "code",
   "execution_count": 2,
   "metadata": {},
   "outputs": [],
   "source": [
    "dataset_path = 'C:/Eugenio/Maestria/DMEyF/datasets/'\n",
    "dataset_file = 'competencia_01_fe.csv'\n",
    "\n",
    "modelos_path = 'C:/Eugenio/Maestria/DMEyF/modelos/' # para guardar los modelos y no tener que volver a correrlos\n",
    "db_path = 'C:/Eugenio/Maestria/DMEyF/db/'\n",
    "\n",
    "semillas = [122219, 109279, 400391, 401537, 999961]\n",
    "\n",
    "data = pd.read_csv(dataset_path+dataset_file)"
   ]
  },
  {
   "cell_type": "code",
   "execution_count": 3,
   "metadata": {},
   "outputs": [],
   "source": [
    "mes_train = 202102\n",
    "mes_test = 202104"
   ]
  },
  {
   "cell_type": "code",
   "execution_count": 5,
   "metadata": {},
   "outputs": [],
   "source": [
    "# conjunto de train\n",
    "X = data[data['foto_mes'] == mes_train]\n",
    "y = X['clase_ternaria']\n",
    "X = X.drop(columns=['clase_ternaria'])\n",
    "\n",
    "# conjunto de test\n",
    "X_futuro = data[data['foto_mes'] == mes_test]\n",
    "y_futuro = X_futuro['clase_ternaria']\n",
    "X_futuro = X_futuro.drop(columns=['clase_ternaria'])"
   ]
  },
  {
   "cell_type": "code",
   "execution_count": 7,
   "metadata": {},
   "outputs": [],
   "source": [
    "ganancia_acierto = 273000\n",
    "costo_estimulo = 7000"
   ]
  },
  {
   "cell_type": "code",
   "execution_count": 8,
   "metadata": {},
   "outputs": [],
   "source": [
    "# variamos la funcion de ganancia para poder usarla de manera mas generica\n",
    "\n",
    "def ganancia_prob(y_hat, y, prop=1, class_index=1, threshold=0.025):\n",
    "  @np.vectorize\n",
    "  def ganancia_row(predicted, actual, threshold=0.025):\n",
    "    return  (predicted >= threshold) * (ganancia_acierto if actual == \"BAJA+2\" else -costo_estimulo)\n",
    "\n",
    "  return ganancia_row(y_hat[:,class_index], y).sum() / prop"
   ]
  },
  {
   "cell_type": "markdown",
   "metadata": {},
   "source": [
    "## Random Forest"
   ]
  },
  {
   "cell_type": "markdown",
   "metadata": {},
   "source": [
    "Los parámetros que se pueden ajustar en el **rf** son\n",
    "\n",
    "1. **n_estimators**: Número de árboles en el bosque.\n",
    "2. **max_depth**: Profundidad máxima de los árboles.\n",
    "3. **min_samples_split**: Número mínimo de muestras requeridas para dividir un nodo interno.\n",
    "4. **min_samples_leaf**: Número mínimo de muestras requeridas para estar en un nodo hoja.\n",
    "5. **max_features**: Número de features a usar en cada árbol. **sqrt** es una elección histórica.\n",
    "6. **max_leaf_nodes**: Número máximo de nodos hoja en cada árbol.\n",
    "7. **oob_score**: Indica si se usa la muestra fuera de bolsa (out-of-bag) para estimar la calidad del modelo. Para evitar hacer un **montecarlo-cross-validation** que se toma su tiempo, usaremos esta opción para buscar el mejor modelo. No es la mejor opción. Pero no es tan mala.\n",
    "8. **n_jobs**: Siempre -1, para que use todos los cores presentes en 9. **max_samples**: Fracción de los samples.\n",
    "\n",
    "Finalmente nuestra función de optimización queda la siguiente forma:"
   ]
  },
  {
   "cell_type": "markdown",
   "metadata": {},
   "source": [
    "### Optimizacion"
   ]
  },
  {
   "cell_type": "code",
   "execution_count": 9,
   "metadata": {},
   "outputs": [
    {
     "name": "stderr",
     "output_type": "stream",
     "text": [
      "[I 2024-09-29 16:57:56,969] Using an existing study with name 'exp_206_random-forest-opt' instead of creating a new one.\n"
     ]
    }
   ],
   "source": [
    "def objective(trial):\n",
    "    \n",
    "    max_depth = trial.suggest_int('max_depth', 2, 32)\n",
    "    min_samples_split = trial.suggest_int('min_samples_split', 2, 2000)\n",
    "    min_samples_leaf = trial.suggest_int('min_samples_leaf', 1, 200)\n",
    "    max_features = trial.suggest_float('max_features', 0.05, 0.7)\n",
    "\n",
    "    model = RandomForestClassifier(\n",
    "        n_estimators=100,\n",
    "        max_depth=max_depth,\n",
    "        min_samples_split=min_samples_split,\n",
    "        min_samples_leaf=min_samples_leaf,\n",
    "        max_features=max_features,\n",
    "        max_samples=0.7,\n",
    "        random_state=semillas[0],\n",
    "        n_jobs=-1,\n",
    "        oob_score=True\n",
    "    )\n",
    "\n",
    "    model.fit(X, y)\n",
    "\n",
    "    return ganancia_prob(model.oob_decision_function_, y)\n"
   ]
  },
  {
   "cell_type": "code",
   "execution_count": null,
   "metadata": {},
   "outputs": [],
   "source": [
    "storage_name = \"sqlite:///\" + db_path + \"optimization_forest.db\" # mmm no se si hacia falta cambiar el nombre de la base, creo que se puede usar la misma base y lo que hay que cambiar es el nombre del estudio\n",
    "study_name = \"exp_206_random-forest-opt\"\n",
    "\n",
    "study = optuna.create_study(\n",
    "    direction=\"maximize\",\n",
    "    study_name=study_name,\n",
    "    storage=storage_name,\n",
    "    load_if_exists=True,\n",
    ")"
   ]
  },
  {
   "cell_type": "code",
   "execution_count": 86,
   "metadata": {},
   "outputs": [
    {
     "name": "stderr",
     "output_type": "stream",
     "text": [
      "[I 2024-09-21 20:49:23,138] Trial 0 finished with value: 98987000.0 and parameters: {'max_depth': 9, 'min_samples_split': 85, 'min_samples_leaf': 27, 'max_features': 0.3490297402571165}. Best is trial 0 with value: 98987000.0.\n",
      "[I 2024-09-21 20:56:18,995] Trial 1 finished with value: 94850000.0 and parameters: {'max_depth': 26, 'min_samples_split': 888, 'min_samples_leaf': 71, 'max_features': 0.6338603400919427}. Best is trial 0 with value: 98987000.0.\n",
      "[I 2024-09-21 21:03:58,897] Trial 2 finished with value: 97790000.0 and parameters: {'max_depth': 24, 'min_samples_split': 2, 'min_samples_leaf': 56, 'max_features': 0.6717375095431893}. Best is trial 0 with value: 98987000.0.\n",
      "[I 2024-09-21 21:05:14,947] Trial 3 finished with value: 98266000.0 and parameters: {'max_depth': 32, 'min_samples_split': 123, 'min_samples_leaf': 153, 'max_features': 0.13875635509093515}. Best is trial 0 with value: 98987000.0.\n",
      "[I 2024-09-21 21:06:15,570] Trial 4 finished with value: 86037000.0 and parameters: {'max_depth': 4, 'min_samples_split': 1765, 'min_samples_leaf': 61, 'max_features': 0.31385778433447614}. Best is trial 0 with value: 98987000.0.\n",
      "[I 2024-09-21 21:14:02,130] Trial 5 finished with value: 95382000.0 and parameters: {'max_depth': 27, 'min_samples_split': 882, 'min_samples_leaf': 38, 'max_features': 0.6432452753933727}. Best is trial 0 with value: 98987000.0.\n",
      "[I 2024-09-21 21:15:15,517] Trial 6 finished with value: 89131000.0 and parameters: {'max_depth': 4, 'min_samples_split': 661, 'min_samples_leaf': 159, 'max_features': 0.4087040299638366}. Best is trial 0 with value: 98987000.0.\n",
      "[I 2024-09-21 21:18:38,901] Trial 7 finished with value: 96873000.0 and parameters: {'max_depth': 30, 'min_samples_split': 1063, 'min_samples_leaf': 110, 'max_features': 0.36911389846118986}. Best is trial 0 with value: 98987000.0.\n",
      "[I 2024-09-21 21:23:19,690] Trial 8 finished with value: 98308000.0 and parameters: {'max_depth': 15, 'min_samples_split': 7, 'min_samples_leaf': 102, 'max_features': 0.5330248284151426}. Best is trial 0 with value: 98987000.0.\n",
      "[I 2024-09-21 21:26:03,458] Trial 9 finished with value: 95830000.0 and parameters: {'max_depth': 26, 'min_samples_split': 1050, 'min_samples_leaf': 79, 'max_features': 0.2727473515664601}. Best is trial 0 with value: 98987000.0.\n",
      "[I 2024-09-21 21:27:37,305] Trial 10 finished with value: 94899000.0 and parameters: {'max_depth': 12, 'min_samples_split': 456, 'min_samples_leaf': 2, 'max_features': 0.17583272271281566}. Best is trial 0 with value: 98987000.0.\n",
      "[I 2024-09-21 21:31:47,041] Trial 11 finished with value: 101850000.0 and parameters: {'max_depth': 14, 'min_samples_split': 352, 'min_samples_leaf': 121, 'max_features': 0.5057600327868395}. Best is trial 11 with value: 101850000.0.\n",
      "[I 2024-09-21 21:34:41,793] Trial 12 finished with value: 97734000.0 and parameters: {'max_depth': 9, 'min_samples_split': 316, 'min_samples_leaf': 197, 'max_features': 0.4963074681127669}. Best is trial 11 with value: 101850000.0.\n",
      "[I 2024-09-21 21:39:17,727] Trial 13 finished with value: 99841000.0 and parameters: {'max_depth': 20, 'min_samples_split': 489, 'min_samples_leaf': 128, 'max_features': 0.5106385698563423}. Best is trial 11 with value: 101850000.0.\n",
      "[I 2024-09-21 21:43:43,217] Trial 14 finished with value: 99260000.0 and parameters: {'max_depth': 20, 'min_samples_split': 544, 'min_samples_leaf': 134, 'max_features': 0.48987113271383464}. Best is trial 11 with value: 101850000.0.\n",
      "[I 2024-09-21 21:48:43,152] Trial 15 finished with value: 95459000.0 and parameters: {'max_depth': 19, 'min_samples_split': 1360, 'min_samples_leaf': 128, 'max_features': 0.559523975774557}. Best is trial 11 with value: 101850000.0.\n",
      "[I 2024-09-21 21:52:20,386] Trial 16 finished with value: 98147000.0 and parameters: {'max_depth': 16, 'min_samples_split': 334, 'min_samples_leaf': 184, 'max_features': 0.4448585548318823}. Best is trial 11 with value: 101850000.0.\n",
      "[I 2024-09-21 21:57:28,691] Trial 17 finished with value: 94885000.0 and parameters: {'max_depth': 20, 'min_samples_split': 688, 'min_samples_leaf': 132, 'max_features': 0.5812709189095707}. Best is trial 11 with value: 101850000.0.\n",
      "[I 2024-09-21 22:00:56,061] Trial 18 finished with value: 96278000.0 and parameters: {'max_depth': 13, 'min_samples_split': 1352, 'min_samples_leaf': 86, 'max_features': 0.4350871167092939}. Best is trial 11 with value: 101850000.0.\n",
      "[I 2024-09-21 22:03:00,460] Trial 19 finished with value: 100814000.0 and parameters: {'max_depth': 22, 'min_samples_split': 289, 'min_samples_leaf': 164, 'max_features': 0.24147531928212512}. Best is trial 11 with value: 101850000.0.\n",
      "[I 2024-09-21 22:03:36,443] Trial 20 finished with value: 95991000.0 and parameters: {'max_depth': 23, 'min_samples_split': 245, 'min_samples_leaf': 169, 'max_features': 0.05921341344851144}. Best is trial 11 with value: 101850000.0.\n",
      "[I 2024-09-21 22:05:52,845] Trial 21 finished with value: 101339000.0 and parameters: {'max_depth': 22, 'min_samples_split': 533, 'min_samples_leaf': 120, 'max_features': 0.2454013544843525}. Best is trial 11 with value: 101850000.0.\n",
      "[I 2024-09-21 22:07:37,081] Trial 22 finished with value: 99995000.0 and parameters: {'max_depth': 23, 'min_samples_split': 703, 'min_samples_leaf': 147, 'max_features': 0.20025097826720228}. Best is trial 11 with value: 101850000.0.\n",
      "[I 2024-09-21 22:09:55,951] Trial 23 finished with value: 102109000.0 and parameters: {'max_depth': 17, 'min_samples_split': 255, 'min_samples_leaf': 109, 'max_features': 0.2565215707259581}. Best is trial 23 with value: 102109000.0.\n",
      "[I 2024-09-21 22:12:16,129] Trial 24 finished with value: 99988000.0 and parameters: {'max_depth': 13, 'min_samples_split': 448, 'min_samples_leaf': 112, 'max_features': 0.2850571392644344}. Best is trial 23 with value: 102109000.0.\n",
      "[I 2024-09-21 22:13:18,933] Trial 25 finished with value: 98574000.0 and parameters: {'max_depth': 18, 'min_samples_split': 196, 'min_samples_leaf': 92, 'max_features': 0.10291170446807502}. Best is trial 23 with value: 102109000.0.\n",
      "[I 2024-09-21 22:14:51,483] Trial 26 finished with value: 99904000.0 and parameters: {'max_depth': 10, 'min_samples_split': 626, 'min_samples_leaf': 111, 'max_features': 0.22566360196962343}. Best is trial 23 with value: 102109000.0.\n",
      "[I 2024-09-21 22:17:28,349] Trial 27 finished with value: 98280000.0 and parameters: {'max_depth': 16, 'min_samples_split': 830, 'min_samples_leaf': 121, 'max_features': 0.30091419893743643}. Best is trial 23 with value: 102109000.0.\n",
      "[I 2024-09-21 22:18:48,250] Trial 28 finished with value: 90930000.0 and parameters: {'max_depth': 14, 'min_samples_split': 1955, 'min_samples_leaf': 144, 'max_features': 0.16186734206210976}. Best is trial 23 with value: 102109000.0.\n",
      "[I 2024-09-21 22:20:32,398] Trial 29 finished with value: 100429000.0 and parameters: {'max_depth': 7, 'min_samples_split': 386, 'min_samples_leaf': 100, 'max_features': 0.34283603169975174}. Best is trial 23 with value: 102109000.0.\n",
      "[I 2024-09-21 22:23:23,868] Trial 30 finished with value: 93611000.0 and parameters: {'max_depth': 11, 'min_samples_split': 1183, 'min_samples_leaf': 44, 'max_features': 0.3945784606908354}. Best is trial 23 with value: 102109000.0.\n",
      "[I 2024-09-21 22:25:22,334] Trial 31 finished with value: 99190000.0 and parameters: {'max_depth': 22, 'min_samples_split': 131, 'min_samples_leaf': 172, 'max_features': 0.2397960032427165}. Best is trial 23 with value: 102109000.0.\n",
      "[I 2024-09-21 22:27:22,405] Trial 32 finished with value: 100569000.0 and parameters: {'max_depth': 18, 'min_samples_split': 267, 'min_samples_leaf': 167, 'max_features': 0.23716239189512228}. Best is trial 23 with value: 102109000.0.\n",
      "[I 2024-09-21 22:30:16,924] Trial 33 finished with value: 102200000.0 and parameters: {'max_depth': 28, 'min_samples_split': 181, 'min_samples_leaf': 142, 'max_features': 0.33085028742910944}. Best is trial 33 with value: 102200000.0.\n",
      "[I 2024-09-21 22:33:16,427] Trial 34 finished with value: 98315000.0 and parameters: {'max_depth': 25, 'min_samples_split': 69, 'min_samples_leaf': 139, 'max_features': 0.340451046990374}. Best is trial 33 with value: 102200000.0.\n",
      "[I 2024-09-21 22:37:25,810] Trial 35 finished with value: 101423000.0 and parameters: {'max_depth': 29, 'min_samples_split': 185, 'min_samples_leaf': 120, 'max_features': 0.43712047487113964}. Best is trial 33 with value: 102200000.0.\n",
      "[I 2024-09-21 22:42:12,795] Trial 36 finished with value: 101325000.0 and parameters: {'max_depth': 27, 'min_samples_split': 124, 'min_samples_leaf': 65, 'max_features': 0.44105210219671176}. Best is trial 33 with value: 102200000.0.\n",
      "[I 2024-09-21 22:46:47,771] Trial 37 finished with value: 99750000.0 and parameters: {'max_depth': 29, 'min_samples_split': 187, 'min_samples_leaf': 97, 'max_features': 0.46855897478282227}. Best is trial 33 with value: 102200000.0.\n",
      "[I 2024-09-21 22:53:10,350] Trial 38 finished with value: 97195000.0 and parameters: {'max_depth': 32, 'min_samples_split': 12, 'min_samples_leaf': 75, 'max_features': 0.5992479409181068}. Best is trial 33 with value: 102200000.0.\n",
      "[I 2024-09-21 22:59:05,038] Trial 39 finished with value: 100709000.0 and parameters: {'max_depth': 29, 'min_samples_split': 402, 'min_samples_leaf': 150, 'max_features': 0.6876238008356294}. Best is trial 33 with value: 102200000.0.\n",
      "[I 2024-09-21 23:01:00,456] Trial 40 finished with value: 95683000.0 and parameters: {'max_depth': 7, 'min_samples_split': 829, 'min_samples_leaf': 115, 'max_features': 0.39319437101911897}. Best is trial 33 with value: 102200000.0.\n",
      "[I 2024-09-21 23:03:48,775] Trial 41 finished with value: 100471000.0 and parameters: {'max_depth': 30, 'min_samples_split': 579, 'min_samples_leaf': 120, 'max_features': 0.3105946595182458}. Best is trial 33 with value: 102200000.0.\n",
      "[I 2024-09-21 23:07:18,818] Trial 42 finished with value: 100590000.0 and parameters: {'max_depth': 28, 'min_samples_split': 182, 'min_samples_leaf': 106, 'max_features': 0.3594112234549808}. Best is trial 33 with value: 102200000.0.\n",
      "[I 2024-09-21 23:10:10,974] Trial 43 finished with value: 100758000.0 and parameters: {'max_depth': 31, 'min_samples_split': 361, 'min_samples_leaf': 91, 'max_features': 0.27265704451684764}. Best is trial 33 with value: 102200000.0.\n",
      "[I 2024-09-21 23:12:05,660] Trial 44 finished with value: 102165000.0 and parameters: {'max_depth': 26, 'min_samples_split': 106, 'min_samples_leaf': 122, 'max_features': 0.2027795049543079}. Best is trial 33 with value: 102200000.0.\n",
      "[I 2024-09-21 23:13:47,979] Trial 45 finished with value: 98322000.0 and parameters: {'max_depth': 25, 'min_samples_split': 93, 'min_samples_leaf': 155, 'max_features': 0.13107157106154282}. Best is trial 33 with value: 102200000.0.\n",
      "[I 2024-09-21 23:19:38,792] Trial 46 finished with value: 98868000.0 and parameters: {'max_depth': 27, 'min_samples_split': 60, 'min_samples_leaf': 137, 'max_features': 0.5286220252276095}. Best is trial 33 with value: 102200000.0.\n",
      "[I 2024-09-21 23:23:06,610] Trial 47 finished with value: 102879000.0 and parameters: {'max_depth': 15, 'min_samples_split': 229, 'min_samples_leaf': 125, 'max_features': 0.4203303529416884}. Best is trial 47 with value: 102879000.0.\n",
      "[I 2024-09-21 23:24:49,502] Trial 48 finished with value: 100387000.0 and parameters: {'max_depth': 15, 'min_samples_split': 286, 'min_samples_leaf': 127, 'max_features': 0.20743035548482475}. Best is trial 47 with value: 102879000.0.\n",
      "[I 2024-09-21 23:27:10,427] Trial 49 finished with value: 94899000.0 and parameters: {'max_depth': 8, 'min_samples_split': 1573, 'min_samples_leaf': 140, 'max_features': 0.4137209793914854}. Best is trial 47 with value: 102879000.0.\n",
      "[I 2024-09-21 23:27:58,738] Trial 50 finished with value: 71974000.0 and parameters: {'max_depth': 2, 'min_samples_split': 463, 'min_samples_leaf': 2, 'max_features': 0.3776268852428855}. Best is trial 47 with value: 102879000.0.\n",
      "[I 2024-09-21 23:32:42,467] Trial 51 finished with value: 98994000.0 and parameters: {'max_depth': 17, 'min_samples_split': 220, 'min_samples_leaf': 83, 'max_features': 0.4770081864931074}. Best is trial 47 with value: 102879000.0.\n",
      "[I 2024-09-21 23:36:37,854] Trial 52 finished with value: 100373000.0 and parameters: {'max_depth': 31, 'min_samples_split': 156, 'min_samples_leaf': 125, 'max_features': 0.41910776408768297}. Best is trial 47 with value: 102879000.0.\n",
      "[I 2024-09-21 23:39:41,940] Trial 53 finished with value: 102998000.0 and parameters: {'max_depth': 26, 'min_samples_split': 308, 'min_samples_leaf': 114, 'max_features': 0.3268897935218681}. Best is trial 53 with value: 102998000.0.\n",
      "[I 2024-09-21 23:43:05,804] Trial 54 finished with value: 100366000.0 and parameters: {'max_depth': 26, 'min_samples_split': 344, 'min_samples_leaf': 105, 'max_features': 0.3304183287944372}. Best is trial 53 with value: 102998000.0.\n",
      "[I 2024-09-21 23:45:32,573] Trial 55 finished with value: 100464000.0 and parameters: {'max_depth': 13, 'min_samples_split': 14, 'min_samples_leaf': 134, 'max_features': 0.2841955405414585}. Best is trial 53 with value: 102998000.0.\n",
      "[I 2024-09-21 23:48:03,822] Trial 56 finished with value: 100814000.0 and parameters: {'max_depth': 21, 'min_samples_split': 280, 'min_samples_leaf': 158, 'max_features': 0.26800775188533155}. Best is trial 53 with value: 102998000.0.\n",
      "[I 2024-09-21 23:51:32,639] Trial 57 finished with value: 101577000.0 and parameters: {'max_depth': 24, 'min_samples_split': 417, 'min_samples_leaf': 97, 'max_features': 0.32006995525440973}. Best is trial 53 with value: 102998000.0.\n",
      "[I 2024-09-21 23:53:07,300] Trial 58 finished with value: 98098000.0 and parameters: {'max_depth': 11, 'min_samples_split': 735, 'min_samples_leaf': 114, 'max_features': 0.17946838878638613}. Best is trial 53 with value: 102998000.0.\n",
      "[I 2024-09-21 23:56:32,774] Trial 59 finished with value: 100023000.0 and parameters: {'max_depth': 15, 'min_samples_split': 505, 'min_samples_leaf': 108, 'max_features': 0.36690747301722454}. Best is trial 53 with value: 102998000.0.\n",
      "[I 2024-09-22 00:01:39,361] Trial 60 finished with value: 102459000.0 and parameters: {'max_depth': 18, 'min_samples_split': 351, 'min_samples_leaf': 131, 'max_features': 0.5610828877051205}. Best is trial 53 with value: 102998000.0.\n",
      "[I 2024-09-22 00:07:19,700] Trial 61 finished with value: 97811000.0 and parameters: {'max_depth': 17, 'min_samples_split': 242, 'min_samples_leaf': 129, 'max_features': 0.6230229963136276}. Best is trial 53 with value: 102998000.0.\n",
      "[I 2024-09-22 00:12:11,557] Trial 62 finished with value: 98623000.0 and parameters: {'max_depth': 19, 'min_samples_split': 337, 'min_samples_leaf': 146, 'max_features': 0.5566637942750008}. Best is trial 53 with value: 102998000.0.\n",
      "[I 2024-09-22 00:16:40,126] Trial 63 finished with value: 99379000.0 and parameters: {'max_depth': 14, 'min_samples_split': 617, 'min_samples_leaf': 117, 'max_features': 0.5096172582780324}. Best is trial 53 with value: 102998000.0.\n",
      "[I 2024-09-22 00:21:39,355] Trial 64 finished with value: 99946000.0 and parameters: {'max_depth': 16, 'min_samples_split': 94, 'min_samples_leaf': 133, 'max_features': 0.559180946507064}. Best is trial 53 with value: 102998000.0.\n",
      "[I 2024-09-22 00:28:01,445] Trial 65 finished with value: 98196000.0 and parameters: {'max_depth': 19, 'min_samples_split': 461, 'min_samples_leaf': 125, 'max_features': 0.6549647965109238}. Best is trial 53 with value: 102998000.0.\n",
      "[I 2024-09-22 00:32:11,237] Trial 66 finished with value: 95543000.0 and parameters: {'max_depth': 24, 'min_samples_split': 301, 'min_samples_leaf': 181, 'max_features': 0.4644115285110132}. Best is trial 53 with value: 102998000.0.\n",
      "[I 2024-09-22 00:34:55,999] Trial 67 finished with value: 97034000.0 and parameters: {'max_depth': 18, 'min_samples_split': 963, 'min_samples_leaf': 141, 'max_features': 0.2979392829129778}. Best is trial 53 with value: 102998000.0.\n",
      "[I 2024-09-22 00:41:18,298] Trial 68 finished with value: 99155000.0 and parameters: {'max_depth': 21, 'min_samples_split': 238, 'min_samples_leaf': 90, 'max_features': 0.5835623454233725}. Best is trial 53 with value: 102998000.0.\n",
      "[I 2024-09-22 00:43:28,526] Trial 69 finished with value: 100226000.0 and parameters: {'max_depth': 12, 'min_samples_split': 545, 'min_samples_leaf': 102, 'max_features': 0.2597252134018188}. Best is trial 53 with value: 102998000.0.\n",
      "[I 2024-09-22 00:48:30,514] Trial 70 finished with value: 101136000.0 and parameters: {'max_depth': 28, 'min_samples_split': 393, 'min_samples_leaf': 110, 'max_features': 0.5372630102997845}. Best is trial 53 with value: 102998000.0.\n",
      "[I 2024-09-22 00:51:48,691] Trial 71 finished with value: 101514000.0 and parameters: {'max_depth': 25, 'min_samples_split': 420, 'min_samples_leaf': 100, 'max_features': 0.3263426389151797}. Best is trial 53 with value: 102998000.0.\n",
      "[I 2024-09-22 00:53:47,394] Trial 72 finished with value: 96796000.0 and parameters: {'max_depth': 14, 'min_samples_split': 330, 'min_samples_leaf': 97, 'max_features': 0.22107891496569473}. Best is trial 53 with value: 102998000.0.\n",
      "[I 2024-09-22 00:57:22,958] Trial 73 finished with value: 98588000.0 and parameters: {'max_depth': 24, 'min_samples_split': 121, 'min_samples_leaf': 121, 'max_features': 0.3836864160017478}. Best is trial 53 with value: 102998000.0.\n",
      "[I 2024-09-22 01:00:24,491] Trial 74 finished with value: 99624000.0 and parameters: {'max_depth': 27, 'min_samples_split': 159, 'min_samples_leaf': 149, 'max_features': 0.3187321937457965}. Best is trial 53 with value: 102998000.0.\n",
      "[I 2024-09-22 01:03:47,639] Trial 75 finished with value: 102018000.0 and parameters: {'max_depth': 23, 'min_samples_split': 51, 'min_samples_leaf': 114, 'max_features': 0.35107985833553507}. Best is trial 53 with value: 102998000.0.\n",
      "[I 2024-09-22 01:05:34,447] Trial 76 finished with value: 100863000.0 and parameters: {'max_depth': 23, 'min_samples_split': 34, 'min_samples_leaf': 115, 'max_features': 0.18351462828462092}. Best is trial 53 with value: 102998000.0.\n",
      "[I 2024-09-22 01:09:13,378] Trial 77 finished with value: 100639000.0 and parameters: {'max_depth': 26, 'min_samples_split': 231, 'min_samples_leaf': 132, 'max_features': 0.35311543748461677}. Best is trial 53 with value: 102998000.0.\n",
      "[I 2024-09-22 01:15:15,135] Trial 78 finished with value: 97853000.0 and parameters: {'max_depth': 17, 'min_samples_split': 80, 'min_samples_leaf': 122, 'max_features': 0.6144538494775331}. Best is trial 53 with value: 102998000.0.\n",
      "[I 2024-09-22 01:16:37,558] Trial 79 finished with value: 100086000.0 and parameters: {'max_depth': 16, 'min_samples_split': 151, 'min_samples_leaf': 129, 'max_features': 0.13907327300070982}. Best is trial 53 with value: 102998000.0.\n",
      "[I 2024-09-22 01:19:06,350] Trial 80 finished with value: 96922000.0 and parameters: {'max_depth': 21, 'min_samples_split': 1221, 'min_samples_leaf': 144, 'max_features': 0.25629073107850076}. Best is trial 53 with value: 102998000.0.\n",
      "[I 2024-09-22 01:22:01,632] Trial 81 finished with value: 101486000.0 and parameters: {'max_depth': 25, 'min_samples_split': 409, 'min_samples_leaf': 104, 'max_features': 0.29588069238845627}. Best is trial 53 with value: 102998000.0.\n",
      "[I 2024-09-22 01:25:40,648] Trial 82 finished with value: 103306000.0 and parameters: {'max_depth': 28, 'min_samples_split': 199, 'min_samples_leaf': 95, 'max_features': 0.3417383653875462}. Best is trial 82 with value: 103306000.0.\n",
      "[I 2024-09-22 01:29:11,063] Trial 83 finished with value: 100625000.0 and parameters: {'max_depth': 28, 'min_samples_split': 222, 'min_samples_leaf': 87, 'max_features': 0.3485218144245123}. Best is trial 82 with value: 103306000.0.\n",
      "[I 2024-09-22 01:33:05,227] Trial 84 finished with value: 100940000.0 and parameters: {'max_depth': 30, 'min_samples_split': 50, 'min_samples_leaf': 111, 'max_features': 0.39265021219809365}. Best is trial 82 with value: 103306000.0.\n",
      "[I 2024-09-22 01:36:48,388] Trial 85 finished with value: 99729000.0 and parameters: {'max_depth': 27, 'min_samples_split': 272, 'min_samples_leaf': 137, 'max_features': 0.42649034323637375}. Best is trial 82 with value: 103306000.0.\n",
      "[I 2024-09-22 01:40:11,917] Trial 86 finished with value: 99169000.0 and parameters: {'max_depth': 26, 'min_samples_split': 123, 'min_samples_leaf': 82, 'max_features': 0.33850439245147135}. Best is trial 82 with value: 103306000.0.\n",
      "[I 2024-09-22 01:43:59,071] Trial 87 finished with value: 102991000.0 and parameters: {'max_depth': 29, 'min_samples_split': 6, 'min_samples_leaf': 118, 'max_features': 0.37309675688375554}. Best is trial 82 with value: 103306000.0.\n",
      "[I 2024-09-22 01:47:59,441] Trial 88 finished with value: 98217000.0 and parameters: {'max_depth': 29, 'min_samples_split': 180, 'min_samples_leaf': 77, 'max_features': 0.36892023956801034}. Best is trial 82 with value: 103306000.0.\n",
      "[I 2024-09-22 01:51:45,440] Trial 89 finished with value: 102312000.0 and parameters: {'max_depth': 31, 'min_samples_split': 7, 'min_samples_leaf': 117, 'max_features': 0.39858947304540565}. Best is trial 82 with value: 103306000.0.\n",
      "[I 2024-09-22 01:55:41,796] Trial 90 finished with value: 99512000.0 and parameters: {'max_depth': 32, 'min_samples_split': 6, 'min_samples_leaf': 95, 'max_features': 0.40679966613809115}. Best is trial 82 with value: 103306000.0.\n",
      "[I 2024-09-22 01:59:52,633] Trial 91 finished with value: 99267000.0 and parameters: {'max_depth': 31, 'min_samples_split': 79, 'min_samples_leaf': 116, 'max_features': 0.454600879967495}. Best is trial 82 with value: 103306000.0.\n",
      "[I 2024-09-22 02:02:46,418] Trial 92 finished with value: 102662000.0 and parameters: {'max_depth': 30, 'min_samples_split': 102, 'min_samples_leaf': 107, 'max_features': 0.3082970332021676}. Best is trial 82 with value: 103306000.0.\n",
      "[I 2024-09-22 02:05:39,613] Trial 93 finished with value: 102452000.0 and parameters: {'max_depth': 30, 'min_samples_split': 109, 'min_samples_leaf': 108, 'max_features': 0.30738600501350977}. Best is trial 82 with value: 103306000.0.\n",
      "[I 2024-09-22 02:09:23,911] Trial 94 finished with value: 102060000.0 and parameters: {'max_depth': 30, 'min_samples_split': 128, 'min_samples_leaf': 106, 'max_features': 0.40180798524109756}. Best is trial 82 with value: 103306000.0.\n",
      "[I 2024-09-22 02:12:13,524] Trial 95 finished with value: 103089000.0 and parameters: {'max_depth': 31, 'min_samples_split': 211, 'min_samples_leaf': 124, 'max_features': 0.3071008962299903}. Best is trial 82 with value: 103306000.0.\n",
      "[I 2024-09-22 02:14:52,118] Trial 96 finished with value: 100891000.0 and parameters: {'max_depth': 31, 'min_samples_split': 203, 'min_samples_leaf': 153, 'max_features': 0.308674737075466}. Best is trial 82 with value: 103306000.0.\n",
      "[I 2024-09-22 02:17:42,217] Trial 97 finished with value: 100548000.0 and parameters: {'max_depth': 30, 'min_samples_split': 165, 'min_samples_leaf': 125, 'max_features': 0.2896658012984556}. Best is trial 82 with value: 103306000.0.\n",
      "[I 2024-09-22 02:20:46,808] Trial 98 finished with value: 102991000.0 and parameters: {'max_depth': 32, 'min_samples_split': 7, 'min_samples_leaf': 118, 'max_features': 0.33072899222286795}. Best is trial 82 with value: 103306000.0.\n",
      "[I 2024-09-22 02:23:20,641] Trial 99 finished with value: 101367000.0 and parameters: {'max_depth': 31, 'min_samples_split': 10, 'min_samples_leaf': 119, 'max_features': 0.27906254825103083}. Best is trial 82 with value: 103306000.0.\n"
     ]
    }
   ],
   "source": [
    "# study.optimize(objective, n_trials=100)"
   ]
  },
  {
   "cell_type": "code",
   "execution_count": 87,
   "metadata": {},
   "outputs": [
    {
     "data": {
      "application/vnd.plotly.v1+json": {
       "config": {
        "plotlyServerURL": "https://plot.ly"
       },
       "data": [
        {
         "mode": "markers",
         "name": "Objective Value",
         "type": "scatter",
         "x": [
          0,
          1,
          2,
          3,
          4,
          5,
          6,
          7,
          8,
          9,
          10,
          11,
          12,
          13,
          14,
          15,
          16,
          17,
          18,
          19,
          20,
          21,
          22,
          23,
          24,
          25,
          26,
          27,
          28,
          29,
          30,
          31,
          32,
          33,
          34,
          35,
          36,
          37,
          38,
          39,
          40,
          41,
          42,
          43,
          44,
          45,
          46,
          47,
          48,
          49,
          50,
          51,
          52,
          53,
          54,
          55,
          56,
          57,
          58,
          59,
          60,
          61,
          62,
          63,
          64,
          65,
          66,
          67,
          68,
          69,
          70,
          71,
          72,
          73,
          74,
          75,
          76,
          77,
          78,
          79,
          80,
          81,
          82,
          83,
          84,
          85,
          86,
          87,
          88,
          89,
          90,
          91,
          92,
          93,
          94,
          95,
          96,
          97,
          98,
          99
         ],
         "y": [
          98987000,
          94850000,
          97790000,
          98266000,
          86037000,
          95382000,
          89131000,
          96873000,
          98308000,
          95830000,
          94899000,
          101850000,
          97734000,
          99841000,
          99260000,
          95459000,
          98147000,
          94885000,
          96278000,
          100814000,
          95991000,
          101339000,
          99995000,
          102109000,
          99988000,
          98574000,
          99904000,
          98280000,
          90930000,
          100429000,
          93611000,
          99190000,
          100569000,
          102200000,
          98315000,
          101423000,
          101325000,
          99750000,
          97195000,
          100709000,
          95683000,
          100471000,
          100590000,
          100758000,
          102165000,
          98322000,
          98868000,
          102879000,
          100387000,
          94899000,
          71974000,
          98994000,
          100373000,
          102998000,
          100366000,
          100464000,
          100814000,
          101577000,
          98098000,
          100023000,
          102459000,
          97811000,
          98623000,
          99379000,
          99946000,
          98196000,
          95543000,
          97034000,
          99155000,
          100226000,
          101136000,
          101514000,
          96796000,
          98588000,
          99624000,
          102018000,
          100863000,
          100639000,
          97853000,
          100086000,
          96922000,
          101486000,
          103306000,
          100625000,
          100940000,
          99729000,
          99169000,
          102991000,
          98217000,
          102312000,
          99512000,
          99267000,
          102662000,
          102452000,
          102060000,
          103089000,
          100891000,
          100548000,
          102991000,
          101367000
         ]
        },
        {
         "mode": "lines",
         "name": "Best Value",
         "type": "scatter",
         "x": [
          0,
          1,
          2,
          3,
          4,
          5,
          6,
          7,
          8,
          9,
          10,
          11,
          12,
          13,
          14,
          15,
          16,
          17,
          18,
          19,
          20,
          21,
          22,
          23,
          24,
          25,
          26,
          27,
          28,
          29,
          30,
          31,
          32,
          33,
          34,
          35,
          36,
          37,
          38,
          39,
          40,
          41,
          42,
          43,
          44,
          45,
          46,
          47,
          48,
          49,
          50,
          51,
          52,
          53,
          54,
          55,
          56,
          57,
          58,
          59,
          60,
          61,
          62,
          63,
          64,
          65,
          66,
          67,
          68,
          69,
          70,
          71,
          72,
          73,
          74,
          75,
          76,
          77,
          78,
          79,
          80,
          81,
          82,
          83,
          84,
          85,
          86,
          87,
          88,
          89,
          90,
          91,
          92,
          93,
          94,
          95,
          96,
          97,
          98,
          99
         ],
         "y": [
          98987000,
          98987000,
          98987000,
          98987000,
          98987000,
          98987000,
          98987000,
          98987000,
          98987000,
          98987000,
          98987000,
          101850000,
          101850000,
          101850000,
          101850000,
          101850000,
          101850000,
          101850000,
          101850000,
          101850000,
          101850000,
          101850000,
          101850000,
          102109000,
          102109000,
          102109000,
          102109000,
          102109000,
          102109000,
          102109000,
          102109000,
          102109000,
          102109000,
          102200000,
          102200000,
          102200000,
          102200000,
          102200000,
          102200000,
          102200000,
          102200000,
          102200000,
          102200000,
          102200000,
          102200000,
          102200000,
          102200000,
          102879000,
          102879000,
          102879000,
          102879000,
          102879000,
          102879000,
          102998000,
          102998000,
          102998000,
          102998000,
          102998000,
          102998000,
          102998000,
          102998000,
          102998000,
          102998000,
          102998000,
          102998000,
          102998000,
          102998000,
          102998000,
          102998000,
          102998000,
          102998000,
          102998000,
          102998000,
          102998000,
          102998000,
          102998000,
          102998000,
          102998000,
          102998000,
          102998000,
          102998000,
          102998000,
          103306000,
          103306000,
          103306000,
          103306000,
          103306000,
          103306000,
          103306000,
          103306000,
          103306000,
          103306000,
          103306000,
          103306000,
          103306000,
          103306000,
          103306000,
          103306000,
          103306000,
          103306000
         ]
        },
        {
         "marker": {
          "color": "#cccccc"
         },
         "mode": "markers",
         "name": "Infeasible Trial",
         "showlegend": false,
         "type": "scatter",
         "x": [],
         "y": []
        }
       ],
       "layout": {
        "template": {
         "data": {
          "bar": [
           {
            "error_x": {
             "color": "#2a3f5f"
            },
            "error_y": {
             "color": "#2a3f5f"
            },
            "marker": {
             "line": {
              "color": "#E5ECF6",
              "width": 0.5
             },
             "pattern": {
              "fillmode": "overlay",
              "size": 10,
              "solidity": 0.2
             }
            },
            "type": "bar"
           }
          ],
          "barpolar": [
           {
            "marker": {
             "line": {
              "color": "#E5ECF6",
              "width": 0.5
             },
             "pattern": {
              "fillmode": "overlay",
              "size": 10,
              "solidity": 0.2
             }
            },
            "type": "barpolar"
           }
          ],
          "carpet": [
           {
            "aaxis": {
             "endlinecolor": "#2a3f5f",
             "gridcolor": "white",
             "linecolor": "white",
             "minorgridcolor": "white",
             "startlinecolor": "#2a3f5f"
            },
            "baxis": {
             "endlinecolor": "#2a3f5f",
             "gridcolor": "white",
             "linecolor": "white",
             "minorgridcolor": "white",
             "startlinecolor": "#2a3f5f"
            },
            "type": "carpet"
           }
          ],
          "choropleth": [
           {
            "colorbar": {
             "outlinewidth": 0,
             "ticks": ""
            },
            "type": "choropleth"
           }
          ],
          "contour": [
           {
            "colorbar": {
             "outlinewidth": 0,
             "ticks": ""
            },
            "colorscale": [
             [
              0,
              "#0d0887"
             ],
             [
              0.1111111111111111,
              "#46039f"
             ],
             [
              0.2222222222222222,
              "#7201a8"
             ],
             [
              0.3333333333333333,
              "#9c179e"
             ],
             [
              0.4444444444444444,
              "#bd3786"
             ],
             [
              0.5555555555555556,
              "#d8576b"
             ],
             [
              0.6666666666666666,
              "#ed7953"
             ],
             [
              0.7777777777777778,
              "#fb9f3a"
             ],
             [
              0.8888888888888888,
              "#fdca26"
             ],
             [
              1,
              "#f0f921"
             ]
            ],
            "type": "contour"
           }
          ],
          "contourcarpet": [
           {
            "colorbar": {
             "outlinewidth": 0,
             "ticks": ""
            },
            "type": "contourcarpet"
           }
          ],
          "heatmap": [
           {
            "colorbar": {
             "outlinewidth": 0,
             "ticks": ""
            },
            "colorscale": [
             [
              0,
              "#0d0887"
             ],
             [
              0.1111111111111111,
              "#46039f"
             ],
             [
              0.2222222222222222,
              "#7201a8"
             ],
             [
              0.3333333333333333,
              "#9c179e"
             ],
             [
              0.4444444444444444,
              "#bd3786"
             ],
             [
              0.5555555555555556,
              "#d8576b"
             ],
             [
              0.6666666666666666,
              "#ed7953"
             ],
             [
              0.7777777777777778,
              "#fb9f3a"
             ],
             [
              0.8888888888888888,
              "#fdca26"
             ],
             [
              1,
              "#f0f921"
             ]
            ],
            "type": "heatmap"
           }
          ],
          "heatmapgl": [
           {
            "colorbar": {
             "outlinewidth": 0,
             "ticks": ""
            },
            "colorscale": [
             [
              0,
              "#0d0887"
             ],
             [
              0.1111111111111111,
              "#46039f"
             ],
             [
              0.2222222222222222,
              "#7201a8"
             ],
             [
              0.3333333333333333,
              "#9c179e"
             ],
             [
              0.4444444444444444,
              "#bd3786"
             ],
             [
              0.5555555555555556,
              "#d8576b"
             ],
             [
              0.6666666666666666,
              "#ed7953"
             ],
             [
              0.7777777777777778,
              "#fb9f3a"
             ],
             [
              0.8888888888888888,
              "#fdca26"
             ],
             [
              1,
              "#f0f921"
             ]
            ],
            "type": "heatmapgl"
           }
          ],
          "histogram": [
           {
            "marker": {
             "pattern": {
              "fillmode": "overlay",
              "size": 10,
              "solidity": 0.2
             }
            },
            "type": "histogram"
           }
          ],
          "histogram2d": [
           {
            "colorbar": {
             "outlinewidth": 0,
             "ticks": ""
            },
            "colorscale": [
             [
              0,
              "#0d0887"
             ],
             [
              0.1111111111111111,
              "#46039f"
             ],
             [
              0.2222222222222222,
              "#7201a8"
             ],
             [
              0.3333333333333333,
              "#9c179e"
             ],
             [
              0.4444444444444444,
              "#bd3786"
             ],
             [
              0.5555555555555556,
              "#d8576b"
             ],
             [
              0.6666666666666666,
              "#ed7953"
             ],
             [
              0.7777777777777778,
              "#fb9f3a"
             ],
             [
              0.8888888888888888,
              "#fdca26"
             ],
             [
              1,
              "#f0f921"
             ]
            ],
            "type": "histogram2d"
           }
          ],
          "histogram2dcontour": [
           {
            "colorbar": {
             "outlinewidth": 0,
             "ticks": ""
            },
            "colorscale": [
             [
              0,
              "#0d0887"
             ],
             [
              0.1111111111111111,
              "#46039f"
             ],
             [
              0.2222222222222222,
              "#7201a8"
             ],
             [
              0.3333333333333333,
              "#9c179e"
             ],
             [
              0.4444444444444444,
              "#bd3786"
             ],
             [
              0.5555555555555556,
              "#d8576b"
             ],
             [
              0.6666666666666666,
              "#ed7953"
             ],
             [
              0.7777777777777778,
              "#fb9f3a"
             ],
             [
              0.8888888888888888,
              "#fdca26"
             ],
             [
              1,
              "#f0f921"
             ]
            ],
            "type": "histogram2dcontour"
           }
          ],
          "mesh3d": [
           {
            "colorbar": {
             "outlinewidth": 0,
             "ticks": ""
            },
            "type": "mesh3d"
           }
          ],
          "parcoords": [
           {
            "line": {
             "colorbar": {
              "outlinewidth": 0,
              "ticks": ""
             }
            },
            "type": "parcoords"
           }
          ],
          "pie": [
           {
            "automargin": true,
            "type": "pie"
           }
          ],
          "scatter": [
           {
            "fillpattern": {
             "fillmode": "overlay",
             "size": 10,
             "solidity": 0.2
            },
            "type": "scatter"
           }
          ],
          "scatter3d": [
           {
            "line": {
             "colorbar": {
              "outlinewidth": 0,
              "ticks": ""
             }
            },
            "marker": {
             "colorbar": {
              "outlinewidth": 0,
              "ticks": ""
             }
            },
            "type": "scatter3d"
           }
          ],
          "scattercarpet": [
           {
            "marker": {
             "colorbar": {
              "outlinewidth": 0,
              "ticks": ""
             }
            },
            "type": "scattercarpet"
           }
          ],
          "scattergeo": [
           {
            "marker": {
             "colorbar": {
              "outlinewidth": 0,
              "ticks": ""
             }
            },
            "type": "scattergeo"
           }
          ],
          "scattergl": [
           {
            "marker": {
             "colorbar": {
              "outlinewidth": 0,
              "ticks": ""
             }
            },
            "type": "scattergl"
           }
          ],
          "scattermapbox": [
           {
            "marker": {
             "colorbar": {
              "outlinewidth": 0,
              "ticks": ""
             }
            },
            "type": "scattermapbox"
           }
          ],
          "scatterpolar": [
           {
            "marker": {
             "colorbar": {
              "outlinewidth": 0,
              "ticks": ""
             }
            },
            "type": "scatterpolar"
           }
          ],
          "scatterpolargl": [
           {
            "marker": {
             "colorbar": {
              "outlinewidth": 0,
              "ticks": ""
             }
            },
            "type": "scatterpolargl"
           }
          ],
          "scatterternary": [
           {
            "marker": {
             "colorbar": {
              "outlinewidth": 0,
              "ticks": ""
             }
            },
            "type": "scatterternary"
           }
          ],
          "surface": [
           {
            "colorbar": {
             "outlinewidth": 0,
             "ticks": ""
            },
            "colorscale": [
             [
              0,
              "#0d0887"
             ],
             [
              0.1111111111111111,
              "#46039f"
             ],
             [
              0.2222222222222222,
              "#7201a8"
             ],
             [
              0.3333333333333333,
              "#9c179e"
             ],
             [
              0.4444444444444444,
              "#bd3786"
             ],
             [
              0.5555555555555556,
              "#d8576b"
             ],
             [
              0.6666666666666666,
              "#ed7953"
             ],
             [
              0.7777777777777778,
              "#fb9f3a"
             ],
             [
              0.8888888888888888,
              "#fdca26"
             ],
             [
              1,
              "#f0f921"
             ]
            ],
            "type": "surface"
           }
          ],
          "table": [
           {
            "cells": {
             "fill": {
              "color": "#EBF0F8"
             },
             "line": {
              "color": "white"
             }
            },
            "header": {
             "fill": {
              "color": "#C8D4E3"
             },
             "line": {
              "color": "white"
             }
            },
            "type": "table"
           }
          ]
         },
         "layout": {
          "annotationdefaults": {
           "arrowcolor": "#2a3f5f",
           "arrowhead": 0,
           "arrowwidth": 1
          },
          "autotypenumbers": "strict",
          "coloraxis": {
           "colorbar": {
            "outlinewidth": 0,
            "ticks": ""
           }
          },
          "colorscale": {
           "diverging": [
            [
             0,
             "#8e0152"
            ],
            [
             0.1,
             "#c51b7d"
            ],
            [
             0.2,
             "#de77ae"
            ],
            [
             0.3,
             "#f1b6da"
            ],
            [
             0.4,
             "#fde0ef"
            ],
            [
             0.5,
             "#f7f7f7"
            ],
            [
             0.6,
             "#e6f5d0"
            ],
            [
             0.7,
             "#b8e186"
            ],
            [
             0.8,
             "#7fbc41"
            ],
            [
             0.9,
             "#4d9221"
            ],
            [
             1,
             "#276419"
            ]
           ],
           "sequential": [
            [
             0,
             "#0d0887"
            ],
            [
             0.1111111111111111,
             "#46039f"
            ],
            [
             0.2222222222222222,
             "#7201a8"
            ],
            [
             0.3333333333333333,
             "#9c179e"
            ],
            [
             0.4444444444444444,
             "#bd3786"
            ],
            [
             0.5555555555555556,
             "#d8576b"
            ],
            [
             0.6666666666666666,
             "#ed7953"
            ],
            [
             0.7777777777777778,
             "#fb9f3a"
            ],
            [
             0.8888888888888888,
             "#fdca26"
            ],
            [
             1,
             "#f0f921"
            ]
           ],
           "sequentialminus": [
            [
             0,
             "#0d0887"
            ],
            [
             0.1111111111111111,
             "#46039f"
            ],
            [
             0.2222222222222222,
             "#7201a8"
            ],
            [
             0.3333333333333333,
             "#9c179e"
            ],
            [
             0.4444444444444444,
             "#bd3786"
            ],
            [
             0.5555555555555556,
             "#d8576b"
            ],
            [
             0.6666666666666666,
             "#ed7953"
            ],
            [
             0.7777777777777778,
             "#fb9f3a"
            ],
            [
             0.8888888888888888,
             "#fdca26"
            ],
            [
             1,
             "#f0f921"
            ]
           ]
          },
          "colorway": [
           "#636efa",
           "#EF553B",
           "#00cc96",
           "#ab63fa",
           "#FFA15A",
           "#19d3f3",
           "#FF6692",
           "#B6E880",
           "#FF97FF",
           "#FECB52"
          ],
          "font": {
           "color": "#2a3f5f"
          },
          "geo": {
           "bgcolor": "white",
           "lakecolor": "white",
           "landcolor": "#E5ECF6",
           "showlakes": true,
           "showland": true,
           "subunitcolor": "white"
          },
          "hoverlabel": {
           "align": "left"
          },
          "hovermode": "closest",
          "mapbox": {
           "style": "light"
          },
          "paper_bgcolor": "white",
          "plot_bgcolor": "#E5ECF6",
          "polar": {
           "angularaxis": {
            "gridcolor": "white",
            "linecolor": "white",
            "ticks": ""
           },
           "bgcolor": "#E5ECF6",
           "radialaxis": {
            "gridcolor": "white",
            "linecolor": "white",
            "ticks": ""
           }
          },
          "scene": {
           "xaxis": {
            "backgroundcolor": "#E5ECF6",
            "gridcolor": "white",
            "gridwidth": 2,
            "linecolor": "white",
            "showbackground": true,
            "ticks": "",
            "zerolinecolor": "white"
           },
           "yaxis": {
            "backgroundcolor": "#E5ECF6",
            "gridcolor": "white",
            "gridwidth": 2,
            "linecolor": "white",
            "showbackground": true,
            "ticks": "",
            "zerolinecolor": "white"
           },
           "zaxis": {
            "backgroundcolor": "#E5ECF6",
            "gridcolor": "white",
            "gridwidth": 2,
            "linecolor": "white",
            "showbackground": true,
            "ticks": "",
            "zerolinecolor": "white"
           }
          },
          "shapedefaults": {
           "line": {
            "color": "#2a3f5f"
           }
          },
          "ternary": {
           "aaxis": {
            "gridcolor": "white",
            "linecolor": "white",
            "ticks": ""
           },
           "baxis": {
            "gridcolor": "white",
            "linecolor": "white",
            "ticks": ""
           },
           "bgcolor": "#E5ECF6",
           "caxis": {
            "gridcolor": "white",
            "linecolor": "white",
            "ticks": ""
           }
          },
          "title": {
           "x": 0.05
          },
          "xaxis": {
           "automargin": true,
           "gridcolor": "white",
           "linecolor": "white",
           "ticks": "",
           "title": {
            "standoff": 15
           },
           "zerolinecolor": "white",
           "zerolinewidth": 2
          },
          "yaxis": {
           "automargin": true,
           "gridcolor": "white",
           "linecolor": "white",
           "ticks": "",
           "title": {
            "standoff": 15
           },
           "zerolinecolor": "white",
           "zerolinewidth": 2
          }
         }
        },
        "title": {
         "text": "Optimization History Plot"
        },
        "xaxis": {
         "title": {
          "text": "Trial"
         }
        },
        "yaxis": {
         "title": {
          "text": "Objective Value"
         }
        }
       }
      }
     },
     "metadata": {},
     "output_type": "display_data"
    }
   ],
   "source": [
    "optuna.visualization.plot_optimization_history(study)"
   ]
  },
  {
   "cell_type": "code",
   "execution_count": 10,
   "metadata": {},
   "outputs": [
    {
     "data": {
      "application/vnd.plotly.v1+json": {
       "config": {
        "plotlyServerURL": "https://plot.ly"
       },
       "data": [
        {
         "cliponaxis": false,
         "hovertemplate": [
          "max_features (FloatDistribution): 0.04416605478315071<extra></extra>",
          "min_samples_leaf (IntDistribution): 0.09773529280047995<extra></extra>",
          "min_samples_split (IntDistribution): 0.3388114342063437<extra></extra>",
          "max_depth (IntDistribution): 0.5192872182100258<extra></extra>"
         ],
         "name": "Objective Value",
         "orientation": "h",
         "text": [
          "0.04",
          "0.10",
          "0.34",
          "0.52"
         ],
         "textposition": "outside",
         "type": "bar",
         "x": [
          0.04416605478315071,
          0.09773529280047995,
          0.3388114342063437,
          0.5192872182100258
         ],
         "y": [
          "max_features",
          "min_samples_leaf",
          "min_samples_split",
          "max_depth"
         ]
        }
       ],
       "layout": {
        "template": {
         "data": {
          "bar": [
           {
            "error_x": {
             "color": "#2a3f5f"
            },
            "error_y": {
             "color": "#2a3f5f"
            },
            "marker": {
             "line": {
              "color": "#E5ECF6",
              "width": 0.5
             },
             "pattern": {
              "fillmode": "overlay",
              "size": 10,
              "solidity": 0.2
             }
            },
            "type": "bar"
           }
          ],
          "barpolar": [
           {
            "marker": {
             "line": {
              "color": "#E5ECF6",
              "width": 0.5
             },
             "pattern": {
              "fillmode": "overlay",
              "size": 10,
              "solidity": 0.2
             }
            },
            "type": "barpolar"
           }
          ],
          "carpet": [
           {
            "aaxis": {
             "endlinecolor": "#2a3f5f",
             "gridcolor": "white",
             "linecolor": "white",
             "minorgridcolor": "white",
             "startlinecolor": "#2a3f5f"
            },
            "baxis": {
             "endlinecolor": "#2a3f5f",
             "gridcolor": "white",
             "linecolor": "white",
             "minorgridcolor": "white",
             "startlinecolor": "#2a3f5f"
            },
            "type": "carpet"
           }
          ],
          "choropleth": [
           {
            "colorbar": {
             "outlinewidth": 0,
             "ticks": ""
            },
            "type": "choropleth"
           }
          ],
          "contour": [
           {
            "colorbar": {
             "outlinewidth": 0,
             "ticks": ""
            },
            "colorscale": [
             [
              0,
              "#0d0887"
             ],
             [
              0.1111111111111111,
              "#46039f"
             ],
             [
              0.2222222222222222,
              "#7201a8"
             ],
             [
              0.3333333333333333,
              "#9c179e"
             ],
             [
              0.4444444444444444,
              "#bd3786"
             ],
             [
              0.5555555555555556,
              "#d8576b"
             ],
             [
              0.6666666666666666,
              "#ed7953"
             ],
             [
              0.7777777777777778,
              "#fb9f3a"
             ],
             [
              0.8888888888888888,
              "#fdca26"
             ],
             [
              1,
              "#f0f921"
             ]
            ],
            "type": "contour"
           }
          ],
          "contourcarpet": [
           {
            "colorbar": {
             "outlinewidth": 0,
             "ticks": ""
            },
            "type": "contourcarpet"
           }
          ],
          "heatmap": [
           {
            "colorbar": {
             "outlinewidth": 0,
             "ticks": ""
            },
            "colorscale": [
             [
              0,
              "#0d0887"
             ],
             [
              0.1111111111111111,
              "#46039f"
             ],
             [
              0.2222222222222222,
              "#7201a8"
             ],
             [
              0.3333333333333333,
              "#9c179e"
             ],
             [
              0.4444444444444444,
              "#bd3786"
             ],
             [
              0.5555555555555556,
              "#d8576b"
             ],
             [
              0.6666666666666666,
              "#ed7953"
             ],
             [
              0.7777777777777778,
              "#fb9f3a"
             ],
             [
              0.8888888888888888,
              "#fdca26"
             ],
             [
              1,
              "#f0f921"
             ]
            ],
            "type": "heatmap"
           }
          ],
          "heatmapgl": [
           {
            "colorbar": {
             "outlinewidth": 0,
             "ticks": ""
            },
            "colorscale": [
             [
              0,
              "#0d0887"
             ],
             [
              0.1111111111111111,
              "#46039f"
             ],
             [
              0.2222222222222222,
              "#7201a8"
             ],
             [
              0.3333333333333333,
              "#9c179e"
             ],
             [
              0.4444444444444444,
              "#bd3786"
             ],
             [
              0.5555555555555556,
              "#d8576b"
             ],
             [
              0.6666666666666666,
              "#ed7953"
             ],
             [
              0.7777777777777778,
              "#fb9f3a"
             ],
             [
              0.8888888888888888,
              "#fdca26"
             ],
             [
              1,
              "#f0f921"
             ]
            ],
            "type": "heatmapgl"
           }
          ],
          "histogram": [
           {
            "marker": {
             "pattern": {
              "fillmode": "overlay",
              "size": 10,
              "solidity": 0.2
             }
            },
            "type": "histogram"
           }
          ],
          "histogram2d": [
           {
            "colorbar": {
             "outlinewidth": 0,
             "ticks": ""
            },
            "colorscale": [
             [
              0,
              "#0d0887"
             ],
             [
              0.1111111111111111,
              "#46039f"
             ],
             [
              0.2222222222222222,
              "#7201a8"
             ],
             [
              0.3333333333333333,
              "#9c179e"
             ],
             [
              0.4444444444444444,
              "#bd3786"
             ],
             [
              0.5555555555555556,
              "#d8576b"
             ],
             [
              0.6666666666666666,
              "#ed7953"
             ],
             [
              0.7777777777777778,
              "#fb9f3a"
             ],
             [
              0.8888888888888888,
              "#fdca26"
             ],
             [
              1,
              "#f0f921"
             ]
            ],
            "type": "histogram2d"
           }
          ],
          "histogram2dcontour": [
           {
            "colorbar": {
             "outlinewidth": 0,
             "ticks": ""
            },
            "colorscale": [
             [
              0,
              "#0d0887"
             ],
             [
              0.1111111111111111,
              "#46039f"
             ],
             [
              0.2222222222222222,
              "#7201a8"
             ],
             [
              0.3333333333333333,
              "#9c179e"
             ],
             [
              0.4444444444444444,
              "#bd3786"
             ],
             [
              0.5555555555555556,
              "#d8576b"
             ],
             [
              0.6666666666666666,
              "#ed7953"
             ],
             [
              0.7777777777777778,
              "#fb9f3a"
             ],
             [
              0.8888888888888888,
              "#fdca26"
             ],
             [
              1,
              "#f0f921"
             ]
            ],
            "type": "histogram2dcontour"
           }
          ],
          "mesh3d": [
           {
            "colorbar": {
             "outlinewidth": 0,
             "ticks": ""
            },
            "type": "mesh3d"
           }
          ],
          "parcoords": [
           {
            "line": {
             "colorbar": {
              "outlinewidth": 0,
              "ticks": ""
             }
            },
            "type": "parcoords"
           }
          ],
          "pie": [
           {
            "automargin": true,
            "type": "pie"
           }
          ],
          "scatter": [
           {
            "fillpattern": {
             "fillmode": "overlay",
             "size": 10,
             "solidity": 0.2
            },
            "type": "scatter"
           }
          ],
          "scatter3d": [
           {
            "line": {
             "colorbar": {
              "outlinewidth": 0,
              "ticks": ""
             }
            },
            "marker": {
             "colorbar": {
              "outlinewidth": 0,
              "ticks": ""
             }
            },
            "type": "scatter3d"
           }
          ],
          "scattercarpet": [
           {
            "marker": {
             "colorbar": {
              "outlinewidth": 0,
              "ticks": ""
             }
            },
            "type": "scattercarpet"
           }
          ],
          "scattergeo": [
           {
            "marker": {
             "colorbar": {
              "outlinewidth": 0,
              "ticks": ""
             }
            },
            "type": "scattergeo"
           }
          ],
          "scattergl": [
           {
            "marker": {
             "colorbar": {
              "outlinewidth": 0,
              "ticks": ""
             }
            },
            "type": "scattergl"
           }
          ],
          "scattermapbox": [
           {
            "marker": {
             "colorbar": {
              "outlinewidth": 0,
              "ticks": ""
             }
            },
            "type": "scattermapbox"
           }
          ],
          "scatterpolar": [
           {
            "marker": {
             "colorbar": {
              "outlinewidth": 0,
              "ticks": ""
             }
            },
            "type": "scatterpolar"
           }
          ],
          "scatterpolargl": [
           {
            "marker": {
             "colorbar": {
              "outlinewidth": 0,
              "ticks": ""
             }
            },
            "type": "scatterpolargl"
           }
          ],
          "scatterternary": [
           {
            "marker": {
             "colorbar": {
              "outlinewidth": 0,
              "ticks": ""
             }
            },
            "type": "scatterternary"
           }
          ],
          "surface": [
           {
            "colorbar": {
             "outlinewidth": 0,
             "ticks": ""
            },
            "colorscale": [
             [
              0,
              "#0d0887"
             ],
             [
              0.1111111111111111,
              "#46039f"
             ],
             [
              0.2222222222222222,
              "#7201a8"
             ],
             [
              0.3333333333333333,
              "#9c179e"
             ],
             [
              0.4444444444444444,
              "#bd3786"
             ],
             [
              0.5555555555555556,
              "#d8576b"
             ],
             [
              0.6666666666666666,
              "#ed7953"
             ],
             [
              0.7777777777777778,
              "#fb9f3a"
             ],
             [
              0.8888888888888888,
              "#fdca26"
             ],
             [
              1,
              "#f0f921"
             ]
            ],
            "type": "surface"
           }
          ],
          "table": [
           {
            "cells": {
             "fill": {
              "color": "#EBF0F8"
             },
             "line": {
              "color": "white"
             }
            },
            "header": {
             "fill": {
              "color": "#C8D4E3"
             },
             "line": {
              "color": "white"
             }
            },
            "type": "table"
           }
          ]
         },
         "layout": {
          "annotationdefaults": {
           "arrowcolor": "#2a3f5f",
           "arrowhead": 0,
           "arrowwidth": 1
          },
          "autotypenumbers": "strict",
          "coloraxis": {
           "colorbar": {
            "outlinewidth": 0,
            "ticks": ""
           }
          },
          "colorscale": {
           "diverging": [
            [
             0,
             "#8e0152"
            ],
            [
             0.1,
             "#c51b7d"
            ],
            [
             0.2,
             "#de77ae"
            ],
            [
             0.3,
             "#f1b6da"
            ],
            [
             0.4,
             "#fde0ef"
            ],
            [
             0.5,
             "#f7f7f7"
            ],
            [
             0.6,
             "#e6f5d0"
            ],
            [
             0.7,
             "#b8e186"
            ],
            [
             0.8,
             "#7fbc41"
            ],
            [
             0.9,
             "#4d9221"
            ],
            [
             1,
             "#276419"
            ]
           ],
           "sequential": [
            [
             0,
             "#0d0887"
            ],
            [
             0.1111111111111111,
             "#46039f"
            ],
            [
             0.2222222222222222,
             "#7201a8"
            ],
            [
             0.3333333333333333,
             "#9c179e"
            ],
            [
             0.4444444444444444,
             "#bd3786"
            ],
            [
             0.5555555555555556,
             "#d8576b"
            ],
            [
             0.6666666666666666,
             "#ed7953"
            ],
            [
             0.7777777777777778,
             "#fb9f3a"
            ],
            [
             0.8888888888888888,
             "#fdca26"
            ],
            [
             1,
             "#f0f921"
            ]
           ],
           "sequentialminus": [
            [
             0,
             "#0d0887"
            ],
            [
             0.1111111111111111,
             "#46039f"
            ],
            [
             0.2222222222222222,
             "#7201a8"
            ],
            [
             0.3333333333333333,
             "#9c179e"
            ],
            [
             0.4444444444444444,
             "#bd3786"
            ],
            [
             0.5555555555555556,
             "#d8576b"
            ],
            [
             0.6666666666666666,
             "#ed7953"
            ],
            [
             0.7777777777777778,
             "#fb9f3a"
            ],
            [
             0.8888888888888888,
             "#fdca26"
            ],
            [
             1,
             "#f0f921"
            ]
           ]
          },
          "colorway": [
           "#636efa",
           "#EF553B",
           "#00cc96",
           "#ab63fa",
           "#FFA15A",
           "#19d3f3",
           "#FF6692",
           "#B6E880",
           "#FF97FF",
           "#FECB52"
          ],
          "font": {
           "color": "#2a3f5f"
          },
          "geo": {
           "bgcolor": "white",
           "lakecolor": "white",
           "landcolor": "#E5ECF6",
           "showlakes": true,
           "showland": true,
           "subunitcolor": "white"
          },
          "hoverlabel": {
           "align": "left"
          },
          "hovermode": "closest",
          "mapbox": {
           "style": "light"
          },
          "paper_bgcolor": "white",
          "plot_bgcolor": "#E5ECF6",
          "polar": {
           "angularaxis": {
            "gridcolor": "white",
            "linecolor": "white",
            "ticks": ""
           },
           "bgcolor": "#E5ECF6",
           "radialaxis": {
            "gridcolor": "white",
            "linecolor": "white",
            "ticks": ""
           }
          },
          "scene": {
           "xaxis": {
            "backgroundcolor": "#E5ECF6",
            "gridcolor": "white",
            "gridwidth": 2,
            "linecolor": "white",
            "showbackground": true,
            "ticks": "",
            "zerolinecolor": "white"
           },
           "yaxis": {
            "backgroundcolor": "#E5ECF6",
            "gridcolor": "white",
            "gridwidth": 2,
            "linecolor": "white",
            "showbackground": true,
            "ticks": "",
            "zerolinecolor": "white"
           },
           "zaxis": {
            "backgroundcolor": "#E5ECF6",
            "gridcolor": "white",
            "gridwidth": 2,
            "linecolor": "white",
            "showbackground": true,
            "ticks": "",
            "zerolinecolor": "white"
           }
          },
          "shapedefaults": {
           "line": {
            "color": "#2a3f5f"
           }
          },
          "ternary": {
           "aaxis": {
            "gridcolor": "white",
            "linecolor": "white",
            "ticks": ""
           },
           "baxis": {
            "gridcolor": "white",
            "linecolor": "white",
            "ticks": ""
           },
           "bgcolor": "#E5ECF6",
           "caxis": {
            "gridcolor": "white",
            "linecolor": "white",
            "ticks": ""
           }
          },
          "title": {
           "x": 0.05
          },
          "xaxis": {
           "automargin": true,
           "gridcolor": "white",
           "linecolor": "white",
           "ticks": "",
           "title": {
            "standoff": 15
           },
           "zerolinecolor": "white",
           "zerolinewidth": 2
          },
          "yaxis": {
           "automargin": true,
           "gridcolor": "white",
           "linecolor": "white",
           "ticks": "",
           "title": {
            "standoff": 15
           },
           "zerolinecolor": "white",
           "zerolinewidth": 2
          }
         }
        },
        "title": {
         "text": "Hyperparameter Importances"
        },
        "xaxis": {
         "title": {
          "text": "Hyperparameter Importance"
         }
        },
        "yaxis": {
         "title": {
          "text": "Hyperparameter"
         }
        }
       }
      }
     },
     "metadata": {},
     "output_type": "display_data"
    }
   ],
   "source": [
    "plot_param_importances(study)"
   ]
  },
  {
   "cell_type": "code",
   "execution_count": 11,
   "metadata": {},
   "outputs": [
    {
     "data": {
      "application/vnd.plotly.v1+json": {
       "config": {
        "plotlyServerURL": "https://plot.ly"
       },
       "data": [
        {
         "marker": {
          "color": [
           0,
           1,
           2,
           3,
           4,
           5,
           6,
           7,
           8,
           9,
           10,
           11,
           12,
           13,
           14,
           15,
           16,
           17,
           18,
           19,
           20,
           21,
           22,
           23,
           24,
           25,
           26,
           27,
           28,
           29,
           30,
           31,
           32,
           33,
           34,
           35,
           36,
           37,
           38,
           39,
           40,
           41,
           42,
           43,
           44,
           45,
           46,
           47,
           48,
           49,
           50,
           51,
           52,
           53,
           54,
           55,
           56,
           57,
           58,
           59,
           60,
           61,
           62,
           63,
           64,
           65,
           66,
           67,
           68,
           69,
           70,
           71,
           72,
           73,
           74,
           75,
           76,
           77,
           78,
           79,
           80,
           81,
           82,
           83,
           84,
           85,
           86,
           87,
           88,
           89,
           90,
           91,
           92,
           93,
           94,
           95,
           96,
           97,
           98,
           99
          ],
          "colorbar": {
           "title": {
            "text": "Trial"
           },
           "x": 1,
           "xpad": 40
          },
          "colorscale": [
           [
            0,
            "rgb(247,251,255)"
           ],
           [
            0.125,
            "rgb(222,235,247)"
           ],
           [
            0.25,
            "rgb(198,219,239)"
           ],
           [
            0.375,
            "rgb(158,202,225)"
           ],
           [
            0.5,
            "rgb(107,174,214)"
           ],
           [
            0.625,
            "rgb(66,146,198)"
           ],
           [
            0.75,
            "rgb(33,113,181)"
           ],
           [
            0.875,
            "rgb(8,81,156)"
           ],
           [
            1,
            "rgb(8,48,107)"
           ]
          ],
          "line": {
           "color": "Grey",
           "width": 0.5
          },
          "showscale": true
         },
         "mode": "markers",
         "name": "Feasible Trial",
         "showlegend": false,
         "type": "scatter",
         "x": [
          9,
          26,
          24,
          32,
          4,
          27,
          4,
          30,
          15,
          26,
          12,
          14,
          9,
          20,
          20,
          19,
          16,
          20,
          13,
          22,
          23,
          22,
          23,
          17,
          13,
          18,
          10,
          16,
          14,
          7,
          11,
          22,
          18,
          28,
          25,
          29,
          27,
          29,
          32,
          29,
          7,
          30,
          28,
          31,
          26,
          25,
          27,
          15,
          15,
          8,
          2,
          17,
          31,
          26,
          26,
          13,
          21,
          24,
          11,
          15,
          18,
          17,
          19,
          14,
          16,
          19,
          24,
          18,
          21,
          12,
          28,
          25,
          14,
          24,
          27,
          23,
          23,
          26,
          17,
          16,
          21,
          25,
          28,
          28,
          30,
          27,
          26,
          29,
          29,
          31,
          32,
          31,
          30,
          30,
          30,
          31,
          31,
          30,
          32,
          31
         ],
         "xaxis": "x",
         "y": [
          98987000,
          94850000,
          97790000,
          98266000,
          86037000,
          95382000,
          89131000,
          96873000,
          98308000,
          95830000,
          94899000,
          101850000,
          97734000,
          99841000,
          99260000,
          95459000,
          98147000,
          94885000,
          96278000,
          100814000,
          95991000,
          101339000,
          99995000,
          102109000,
          99988000,
          98574000,
          99904000,
          98280000,
          90930000,
          100429000,
          93611000,
          99190000,
          100569000,
          102200000,
          98315000,
          101423000,
          101325000,
          99750000,
          97195000,
          100709000,
          95683000,
          100471000,
          100590000,
          100758000,
          102165000,
          98322000,
          98868000,
          102879000,
          100387000,
          94899000,
          71974000,
          98994000,
          100373000,
          102998000,
          100366000,
          100464000,
          100814000,
          101577000,
          98098000,
          100023000,
          102459000,
          97811000,
          98623000,
          99379000,
          99946000,
          98196000,
          95543000,
          97034000,
          99155000,
          100226000,
          101136000,
          101514000,
          96796000,
          98588000,
          99624000,
          102018000,
          100863000,
          100639000,
          97853000,
          100086000,
          96922000,
          101486000,
          103306000,
          100625000,
          100940000,
          99729000,
          99169000,
          102991000,
          98217000,
          102312000,
          99512000,
          99267000,
          102662000,
          102452000,
          102060000,
          103089000,
          100891000,
          100548000,
          102991000,
          101367000
         ],
         "yaxis": "y"
        },
        {
         "marker": {
          "color": [
           0,
           1,
           2,
           3,
           4,
           5,
           6,
           7,
           8,
           9,
           10,
           11,
           12,
           13,
           14,
           15,
           16,
           17,
           18,
           19,
           20,
           21,
           22,
           23,
           24,
           25,
           26,
           27,
           28,
           29,
           30,
           31,
           32,
           33,
           34,
           35,
           36,
           37,
           38,
           39,
           40,
           41,
           42,
           43,
           44,
           45,
           46,
           47,
           48,
           49,
           50,
           51,
           52,
           53,
           54,
           55,
           56,
           57,
           58,
           59,
           60,
           61,
           62,
           63,
           64,
           65,
           66,
           67,
           68,
           69,
           70,
           71,
           72,
           73,
           74,
           75,
           76,
           77,
           78,
           79,
           80,
           81,
           82,
           83,
           84,
           85,
           86,
           87,
           88,
           89,
           90,
           91,
           92,
           93,
           94,
           95,
           96,
           97,
           98,
           99
          ],
          "colorbar": {
           "title": {
            "text": "Trial"
           },
           "x": 1,
           "xpad": 40
          },
          "colorscale": [
           [
            0,
            "rgb(247,251,255)"
           ],
           [
            0.125,
            "rgb(222,235,247)"
           ],
           [
            0.25,
            "rgb(198,219,239)"
           ],
           [
            0.375,
            "rgb(158,202,225)"
           ],
           [
            0.5,
            "rgb(107,174,214)"
           ],
           [
            0.625,
            "rgb(66,146,198)"
           ],
           [
            0.75,
            "rgb(33,113,181)"
           ],
           [
            0.875,
            "rgb(8,81,156)"
           ],
           [
            1,
            "rgb(8,48,107)"
           ]
          ],
          "line": {
           "color": "Grey",
           "width": 0.5
          },
          "showscale": false
         },
         "mode": "markers",
         "name": "Feasible Trial",
         "showlegend": false,
         "type": "scatter",
         "x": [
          0.3490297402571165,
          0.6338603400919427,
          0.6717375095431893,
          0.13875635509093515,
          0.31385778433447614,
          0.6432452753933727,
          0.4087040299638366,
          0.36911389846118986,
          0.5330248284151426,
          0.2727473515664601,
          0.17583272271281566,
          0.5057600327868395,
          0.4963074681127669,
          0.5106385698563423,
          0.48987113271383464,
          0.559523975774557,
          0.4448585548318823,
          0.5812709189095707,
          0.4350871167092939,
          0.24147531928212512,
          0.05921341344851144,
          0.2454013544843525,
          0.20025097826720228,
          0.2565215707259581,
          0.2850571392644344,
          0.10291170446807502,
          0.22566360196962343,
          0.30091419893743643,
          0.16186734206210976,
          0.34283603169975174,
          0.3945784606908354,
          0.2397960032427165,
          0.23716239189512228,
          0.33085028742910944,
          0.340451046990374,
          0.43712047487113964,
          0.44105210219671176,
          0.46855897478282227,
          0.5992479409181068,
          0.6876238008356294,
          0.39319437101911897,
          0.3105946595182458,
          0.3594112234549808,
          0.27265704451684764,
          0.2027795049543079,
          0.13107157106154282,
          0.5286220252276095,
          0.4203303529416884,
          0.20743035548482475,
          0.4137209793914854,
          0.3776268852428855,
          0.4770081864931074,
          0.41910776408768297,
          0.3268897935218681,
          0.3304183287944372,
          0.2841955405414585,
          0.26800775188533155,
          0.32006995525440973,
          0.17946838878638613,
          0.36690747301722454,
          0.5610828877051205,
          0.6230229963136276,
          0.5566637942750008,
          0.5096172582780324,
          0.559180946507064,
          0.6549647965109238,
          0.4644115285110132,
          0.2979392829129778,
          0.5835623454233725,
          0.2597252134018188,
          0.5372630102997845,
          0.3263426389151797,
          0.22107891496569473,
          0.3836864160017478,
          0.3187321937457965,
          0.35107985833553507,
          0.18351462828462092,
          0.35311543748461677,
          0.6144538494775331,
          0.13907327300070982,
          0.25629073107850076,
          0.29588069238845627,
          0.3417383653875462,
          0.3485218144245123,
          0.39265021219809365,
          0.42649034323637375,
          0.33850439245147135,
          0.37309675688375554,
          0.36892023956801034,
          0.39858947304540565,
          0.40679966613809115,
          0.454600879967495,
          0.3082970332021676,
          0.30738600501350977,
          0.40180798524109756,
          0.3071008962299903,
          0.308674737075466,
          0.2896658012984556,
          0.33072899222286795,
          0.27906254825103083
         ],
         "xaxis": "x2",
         "y": [
          98987000,
          94850000,
          97790000,
          98266000,
          86037000,
          95382000,
          89131000,
          96873000,
          98308000,
          95830000,
          94899000,
          101850000,
          97734000,
          99841000,
          99260000,
          95459000,
          98147000,
          94885000,
          96278000,
          100814000,
          95991000,
          101339000,
          99995000,
          102109000,
          99988000,
          98574000,
          99904000,
          98280000,
          90930000,
          100429000,
          93611000,
          99190000,
          100569000,
          102200000,
          98315000,
          101423000,
          101325000,
          99750000,
          97195000,
          100709000,
          95683000,
          100471000,
          100590000,
          100758000,
          102165000,
          98322000,
          98868000,
          102879000,
          100387000,
          94899000,
          71974000,
          98994000,
          100373000,
          102998000,
          100366000,
          100464000,
          100814000,
          101577000,
          98098000,
          100023000,
          102459000,
          97811000,
          98623000,
          99379000,
          99946000,
          98196000,
          95543000,
          97034000,
          99155000,
          100226000,
          101136000,
          101514000,
          96796000,
          98588000,
          99624000,
          102018000,
          100863000,
          100639000,
          97853000,
          100086000,
          96922000,
          101486000,
          103306000,
          100625000,
          100940000,
          99729000,
          99169000,
          102991000,
          98217000,
          102312000,
          99512000,
          99267000,
          102662000,
          102452000,
          102060000,
          103089000,
          100891000,
          100548000,
          102991000,
          101367000
         ],
         "yaxis": "y2"
        },
        {
         "marker": {
          "color": [
           0,
           1,
           2,
           3,
           4,
           5,
           6,
           7,
           8,
           9,
           10,
           11,
           12,
           13,
           14,
           15,
           16,
           17,
           18,
           19,
           20,
           21,
           22,
           23,
           24,
           25,
           26,
           27,
           28,
           29,
           30,
           31,
           32,
           33,
           34,
           35,
           36,
           37,
           38,
           39,
           40,
           41,
           42,
           43,
           44,
           45,
           46,
           47,
           48,
           49,
           50,
           51,
           52,
           53,
           54,
           55,
           56,
           57,
           58,
           59,
           60,
           61,
           62,
           63,
           64,
           65,
           66,
           67,
           68,
           69,
           70,
           71,
           72,
           73,
           74,
           75,
           76,
           77,
           78,
           79,
           80,
           81,
           82,
           83,
           84,
           85,
           86,
           87,
           88,
           89,
           90,
           91,
           92,
           93,
           94,
           95,
           96,
           97,
           98,
           99
          ],
          "colorbar": {
           "title": {
            "text": "Trial"
           },
           "x": 1,
           "xpad": 40
          },
          "colorscale": [
           [
            0,
            "rgb(247,251,255)"
           ],
           [
            0.125,
            "rgb(222,235,247)"
           ],
           [
            0.25,
            "rgb(198,219,239)"
           ],
           [
            0.375,
            "rgb(158,202,225)"
           ],
           [
            0.5,
            "rgb(107,174,214)"
           ],
           [
            0.625,
            "rgb(66,146,198)"
           ],
           [
            0.75,
            "rgb(33,113,181)"
           ],
           [
            0.875,
            "rgb(8,81,156)"
           ],
           [
            1,
            "rgb(8,48,107)"
           ]
          ],
          "line": {
           "color": "Grey",
           "width": 0.5
          },
          "showscale": false
         },
         "mode": "markers",
         "name": "Feasible Trial",
         "showlegend": false,
         "type": "scatter",
         "x": [
          27,
          71,
          56,
          153,
          61,
          38,
          159,
          110,
          102,
          79,
          2,
          121,
          197,
          128,
          134,
          128,
          184,
          132,
          86,
          164,
          169,
          120,
          147,
          109,
          112,
          92,
          111,
          121,
          144,
          100,
          44,
          172,
          167,
          142,
          139,
          120,
          65,
          97,
          75,
          150,
          115,
          120,
          106,
          91,
          122,
          155,
          137,
          125,
          127,
          140,
          2,
          83,
          125,
          114,
          105,
          134,
          158,
          97,
          114,
          108,
          131,
          129,
          146,
          117,
          133,
          125,
          181,
          141,
          90,
          102,
          110,
          100,
          97,
          121,
          149,
          114,
          115,
          132,
          122,
          129,
          144,
          104,
          95,
          87,
          111,
          137,
          82,
          118,
          77,
          117,
          95,
          116,
          107,
          108,
          106,
          124,
          153,
          125,
          118,
          119
         ],
         "xaxis": "x3",
         "y": [
          98987000,
          94850000,
          97790000,
          98266000,
          86037000,
          95382000,
          89131000,
          96873000,
          98308000,
          95830000,
          94899000,
          101850000,
          97734000,
          99841000,
          99260000,
          95459000,
          98147000,
          94885000,
          96278000,
          100814000,
          95991000,
          101339000,
          99995000,
          102109000,
          99988000,
          98574000,
          99904000,
          98280000,
          90930000,
          100429000,
          93611000,
          99190000,
          100569000,
          102200000,
          98315000,
          101423000,
          101325000,
          99750000,
          97195000,
          100709000,
          95683000,
          100471000,
          100590000,
          100758000,
          102165000,
          98322000,
          98868000,
          102879000,
          100387000,
          94899000,
          71974000,
          98994000,
          100373000,
          102998000,
          100366000,
          100464000,
          100814000,
          101577000,
          98098000,
          100023000,
          102459000,
          97811000,
          98623000,
          99379000,
          99946000,
          98196000,
          95543000,
          97034000,
          99155000,
          100226000,
          101136000,
          101514000,
          96796000,
          98588000,
          99624000,
          102018000,
          100863000,
          100639000,
          97853000,
          100086000,
          96922000,
          101486000,
          103306000,
          100625000,
          100940000,
          99729000,
          99169000,
          102991000,
          98217000,
          102312000,
          99512000,
          99267000,
          102662000,
          102452000,
          102060000,
          103089000,
          100891000,
          100548000,
          102991000,
          101367000
         ],
         "yaxis": "y3"
        },
        {
         "marker": {
          "color": [
           0,
           1,
           2,
           3,
           4,
           5,
           6,
           7,
           8,
           9,
           10,
           11,
           12,
           13,
           14,
           15,
           16,
           17,
           18,
           19,
           20,
           21,
           22,
           23,
           24,
           25,
           26,
           27,
           28,
           29,
           30,
           31,
           32,
           33,
           34,
           35,
           36,
           37,
           38,
           39,
           40,
           41,
           42,
           43,
           44,
           45,
           46,
           47,
           48,
           49,
           50,
           51,
           52,
           53,
           54,
           55,
           56,
           57,
           58,
           59,
           60,
           61,
           62,
           63,
           64,
           65,
           66,
           67,
           68,
           69,
           70,
           71,
           72,
           73,
           74,
           75,
           76,
           77,
           78,
           79,
           80,
           81,
           82,
           83,
           84,
           85,
           86,
           87,
           88,
           89,
           90,
           91,
           92,
           93,
           94,
           95,
           96,
           97,
           98,
           99
          ],
          "colorbar": {
           "title": {
            "text": "Trial"
           },
           "x": 1,
           "xpad": 40
          },
          "colorscale": [
           [
            0,
            "rgb(247,251,255)"
           ],
           [
            0.125,
            "rgb(222,235,247)"
           ],
           [
            0.25,
            "rgb(198,219,239)"
           ],
           [
            0.375,
            "rgb(158,202,225)"
           ],
           [
            0.5,
            "rgb(107,174,214)"
           ],
           [
            0.625,
            "rgb(66,146,198)"
           ],
           [
            0.75,
            "rgb(33,113,181)"
           ],
           [
            0.875,
            "rgb(8,81,156)"
           ],
           [
            1,
            "rgb(8,48,107)"
           ]
          ],
          "line": {
           "color": "Grey",
           "width": 0.5
          },
          "showscale": false
         },
         "mode": "markers",
         "name": "Feasible Trial",
         "showlegend": false,
         "type": "scatter",
         "x": [
          85,
          888,
          2,
          123,
          1765,
          882,
          661,
          1063,
          7,
          1050,
          456,
          352,
          316,
          489,
          544,
          1360,
          334,
          688,
          1352,
          289,
          245,
          533,
          703,
          255,
          448,
          196,
          626,
          830,
          1955,
          386,
          1183,
          131,
          267,
          181,
          69,
          185,
          124,
          187,
          12,
          402,
          829,
          579,
          182,
          361,
          106,
          93,
          60,
          229,
          286,
          1573,
          463,
          220,
          156,
          308,
          344,
          14,
          280,
          417,
          735,
          505,
          351,
          242,
          337,
          617,
          94,
          461,
          301,
          963,
          238,
          545,
          393,
          420,
          330,
          121,
          159,
          51,
          34,
          231,
          80,
          151,
          1221,
          409,
          199,
          222,
          50,
          272,
          123,
          6,
          180,
          7,
          6,
          79,
          102,
          109,
          128,
          211,
          203,
          165,
          7,
          10
         ],
         "xaxis": "x4",
         "y": [
          98987000,
          94850000,
          97790000,
          98266000,
          86037000,
          95382000,
          89131000,
          96873000,
          98308000,
          95830000,
          94899000,
          101850000,
          97734000,
          99841000,
          99260000,
          95459000,
          98147000,
          94885000,
          96278000,
          100814000,
          95991000,
          101339000,
          99995000,
          102109000,
          99988000,
          98574000,
          99904000,
          98280000,
          90930000,
          100429000,
          93611000,
          99190000,
          100569000,
          102200000,
          98315000,
          101423000,
          101325000,
          99750000,
          97195000,
          100709000,
          95683000,
          100471000,
          100590000,
          100758000,
          102165000,
          98322000,
          98868000,
          102879000,
          100387000,
          94899000,
          71974000,
          98994000,
          100373000,
          102998000,
          100366000,
          100464000,
          100814000,
          101577000,
          98098000,
          100023000,
          102459000,
          97811000,
          98623000,
          99379000,
          99946000,
          98196000,
          95543000,
          97034000,
          99155000,
          100226000,
          101136000,
          101514000,
          96796000,
          98588000,
          99624000,
          102018000,
          100863000,
          100639000,
          97853000,
          100086000,
          96922000,
          101486000,
          103306000,
          100625000,
          100940000,
          99729000,
          99169000,
          102991000,
          98217000,
          102312000,
          99512000,
          99267000,
          102662000,
          102452000,
          102060000,
          103089000,
          100891000,
          100548000,
          102991000,
          101367000
         ],
         "yaxis": "y4"
        }
       ],
       "layout": {
        "template": {
         "data": {
          "bar": [
           {
            "error_x": {
             "color": "#2a3f5f"
            },
            "error_y": {
             "color": "#2a3f5f"
            },
            "marker": {
             "line": {
              "color": "#E5ECF6",
              "width": 0.5
             },
             "pattern": {
              "fillmode": "overlay",
              "size": 10,
              "solidity": 0.2
             }
            },
            "type": "bar"
           }
          ],
          "barpolar": [
           {
            "marker": {
             "line": {
              "color": "#E5ECF6",
              "width": 0.5
             },
             "pattern": {
              "fillmode": "overlay",
              "size": 10,
              "solidity": 0.2
             }
            },
            "type": "barpolar"
           }
          ],
          "carpet": [
           {
            "aaxis": {
             "endlinecolor": "#2a3f5f",
             "gridcolor": "white",
             "linecolor": "white",
             "minorgridcolor": "white",
             "startlinecolor": "#2a3f5f"
            },
            "baxis": {
             "endlinecolor": "#2a3f5f",
             "gridcolor": "white",
             "linecolor": "white",
             "minorgridcolor": "white",
             "startlinecolor": "#2a3f5f"
            },
            "type": "carpet"
           }
          ],
          "choropleth": [
           {
            "colorbar": {
             "outlinewidth": 0,
             "ticks": ""
            },
            "type": "choropleth"
           }
          ],
          "contour": [
           {
            "colorbar": {
             "outlinewidth": 0,
             "ticks": ""
            },
            "colorscale": [
             [
              0,
              "#0d0887"
             ],
             [
              0.1111111111111111,
              "#46039f"
             ],
             [
              0.2222222222222222,
              "#7201a8"
             ],
             [
              0.3333333333333333,
              "#9c179e"
             ],
             [
              0.4444444444444444,
              "#bd3786"
             ],
             [
              0.5555555555555556,
              "#d8576b"
             ],
             [
              0.6666666666666666,
              "#ed7953"
             ],
             [
              0.7777777777777778,
              "#fb9f3a"
             ],
             [
              0.8888888888888888,
              "#fdca26"
             ],
             [
              1,
              "#f0f921"
             ]
            ],
            "type": "contour"
           }
          ],
          "contourcarpet": [
           {
            "colorbar": {
             "outlinewidth": 0,
             "ticks": ""
            },
            "type": "contourcarpet"
           }
          ],
          "heatmap": [
           {
            "colorbar": {
             "outlinewidth": 0,
             "ticks": ""
            },
            "colorscale": [
             [
              0,
              "#0d0887"
             ],
             [
              0.1111111111111111,
              "#46039f"
             ],
             [
              0.2222222222222222,
              "#7201a8"
             ],
             [
              0.3333333333333333,
              "#9c179e"
             ],
             [
              0.4444444444444444,
              "#bd3786"
             ],
             [
              0.5555555555555556,
              "#d8576b"
             ],
             [
              0.6666666666666666,
              "#ed7953"
             ],
             [
              0.7777777777777778,
              "#fb9f3a"
             ],
             [
              0.8888888888888888,
              "#fdca26"
             ],
             [
              1,
              "#f0f921"
             ]
            ],
            "type": "heatmap"
           }
          ],
          "heatmapgl": [
           {
            "colorbar": {
             "outlinewidth": 0,
             "ticks": ""
            },
            "colorscale": [
             [
              0,
              "#0d0887"
             ],
             [
              0.1111111111111111,
              "#46039f"
             ],
             [
              0.2222222222222222,
              "#7201a8"
             ],
             [
              0.3333333333333333,
              "#9c179e"
             ],
             [
              0.4444444444444444,
              "#bd3786"
             ],
             [
              0.5555555555555556,
              "#d8576b"
             ],
             [
              0.6666666666666666,
              "#ed7953"
             ],
             [
              0.7777777777777778,
              "#fb9f3a"
             ],
             [
              0.8888888888888888,
              "#fdca26"
             ],
             [
              1,
              "#f0f921"
             ]
            ],
            "type": "heatmapgl"
           }
          ],
          "histogram": [
           {
            "marker": {
             "pattern": {
              "fillmode": "overlay",
              "size": 10,
              "solidity": 0.2
             }
            },
            "type": "histogram"
           }
          ],
          "histogram2d": [
           {
            "colorbar": {
             "outlinewidth": 0,
             "ticks": ""
            },
            "colorscale": [
             [
              0,
              "#0d0887"
             ],
             [
              0.1111111111111111,
              "#46039f"
             ],
             [
              0.2222222222222222,
              "#7201a8"
             ],
             [
              0.3333333333333333,
              "#9c179e"
             ],
             [
              0.4444444444444444,
              "#bd3786"
             ],
             [
              0.5555555555555556,
              "#d8576b"
             ],
             [
              0.6666666666666666,
              "#ed7953"
             ],
             [
              0.7777777777777778,
              "#fb9f3a"
             ],
             [
              0.8888888888888888,
              "#fdca26"
             ],
             [
              1,
              "#f0f921"
             ]
            ],
            "type": "histogram2d"
           }
          ],
          "histogram2dcontour": [
           {
            "colorbar": {
             "outlinewidth": 0,
             "ticks": ""
            },
            "colorscale": [
             [
              0,
              "#0d0887"
             ],
             [
              0.1111111111111111,
              "#46039f"
             ],
             [
              0.2222222222222222,
              "#7201a8"
             ],
             [
              0.3333333333333333,
              "#9c179e"
             ],
             [
              0.4444444444444444,
              "#bd3786"
             ],
             [
              0.5555555555555556,
              "#d8576b"
             ],
             [
              0.6666666666666666,
              "#ed7953"
             ],
             [
              0.7777777777777778,
              "#fb9f3a"
             ],
             [
              0.8888888888888888,
              "#fdca26"
             ],
             [
              1,
              "#f0f921"
             ]
            ],
            "type": "histogram2dcontour"
           }
          ],
          "mesh3d": [
           {
            "colorbar": {
             "outlinewidth": 0,
             "ticks": ""
            },
            "type": "mesh3d"
           }
          ],
          "parcoords": [
           {
            "line": {
             "colorbar": {
              "outlinewidth": 0,
              "ticks": ""
             }
            },
            "type": "parcoords"
           }
          ],
          "pie": [
           {
            "automargin": true,
            "type": "pie"
           }
          ],
          "scatter": [
           {
            "fillpattern": {
             "fillmode": "overlay",
             "size": 10,
             "solidity": 0.2
            },
            "type": "scatter"
           }
          ],
          "scatter3d": [
           {
            "line": {
             "colorbar": {
              "outlinewidth": 0,
              "ticks": ""
             }
            },
            "marker": {
             "colorbar": {
              "outlinewidth": 0,
              "ticks": ""
             }
            },
            "type": "scatter3d"
           }
          ],
          "scattercarpet": [
           {
            "marker": {
             "colorbar": {
              "outlinewidth": 0,
              "ticks": ""
             }
            },
            "type": "scattercarpet"
           }
          ],
          "scattergeo": [
           {
            "marker": {
             "colorbar": {
              "outlinewidth": 0,
              "ticks": ""
             }
            },
            "type": "scattergeo"
           }
          ],
          "scattergl": [
           {
            "marker": {
             "colorbar": {
              "outlinewidth": 0,
              "ticks": ""
             }
            },
            "type": "scattergl"
           }
          ],
          "scattermapbox": [
           {
            "marker": {
             "colorbar": {
              "outlinewidth": 0,
              "ticks": ""
             }
            },
            "type": "scattermapbox"
           }
          ],
          "scatterpolar": [
           {
            "marker": {
             "colorbar": {
              "outlinewidth": 0,
              "ticks": ""
             }
            },
            "type": "scatterpolar"
           }
          ],
          "scatterpolargl": [
           {
            "marker": {
             "colorbar": {
              "outlinewidth": 0,
              "ticks": ""
             }
            },
            "type": "scatterpolargl"
           }
          ],
          "scatterternary": [
           {
            "marker": {
             "colorbar": {
              "outlinewidth": 0,
              "ticks": ""
             }
            },
            "type": "scatterternary"
           }
          ],
          "surface": [
           {
            "colorbar": {
             "outlinewidth": 0,
             "ticks": ""
            },
            "colorscale": [
             [
              0,
              "#0d0887"
             ],
             [
              0.1111111111111111,
              "#46039f"
             ],
             [
              0.2222222222222222,
              "#7201a8"
             ],
             [
              0.3333333333333333,
              "#9c179e"
             ],
             [
              0.4444444444444444,
              "#bd3786"
             ],
             [
              0.5555555555555556,
              "#d8576b"
             ],
             [
              0.6666666666666666,
              "#ed7953"
             ],
             [
              0.7777777777777778,
              "#fb9f3a"
             ],
             [
              0.8888888888888888,
              "#fdca26"
             ],
             [
              1,
              "#f0f921"
             ]
            ],
            "type": "surface"
           }
          ],
          "table": [
           {
            "cells": {
             "fill": {
              "color": "#EBF0F8"
             },
             "line": {
              "color": "white"
             }
            },
            "header": {
             "fill": {
              "color": "#C8D4E3"
             },
             "line": {
              "color": "white"
             }
            },
            "type": "table"
           }
          ]
         },
         "layout": {
          "annotationdefaults": {
           "arrowcolor": "#2a3f5f",
           "arrowhead": 0,
           "arrowwidth": 1
          },
          "autotypenumbers": "strict",
          "coloraxis": {
           "colorbar": {
            "outlinewidth": 0,
            "ticks": ""
           }
          },
          "colorscale": {
           "diverging": [
            [
             0,
             "#8e0152"
            ],
            [
             0.1,
             "#c51b7d"
            ],
            [
             0.2,
             "#de77ae"
            ],
            [
             0.3,
             "#f1b6da"
            ],
            [
             0.4,
             "#fde0ef"
            ],
            [
             0.5,
             "#f7f7f7"
            ],
            [
             0.6,
             "#e6f5d0"
            ],
            [
             0.7,
             "#b8e186"
            ],
            [
             0.8,
             "#7fbc41"
            ],
            [
             0.9,
             "#4d9221"
            ],
            [
             1,
             "#276419"
            ]
           ],
           "sequential": [
            [
             0,
             "#0d0887"
            ],
            [
             0.1111111111111111,
             "#46039f"
            ],
            [
             0.2222222222222222,
             "#7201a8"
            ],
            [
             0.3333333333333333,
             "#9c179e"
            ],
            [
             0.4444444444444444,
             "#bd3786"
            ],
            [
             0.5555555555555556,
             "#d8576b"
            ],
            [
             0.6666666666666666,
             "#ed7953"
            ],
            [
             0.7777777777777778,
             "#fb9f3a"
            ],
            [
             0.8888888888888888,
             "#fdca26"
            ],
            [
             1,
             "#f0f921"
            ]
           ],
           "sequentialminus": [
            [
             0,
             "#0d0887"
            ],
            [
             0.1111111111111111,
             "#46039f"
            ],
            [
             0.2222222222222222,
             "#7201a8"
            ],
            [
             0.3333333333333333,
             "#9c179e"
            ],
            [
             0.4444444444444444,
             "#bd3786"
            ],
            [
             0.5555555555555556,
             "#d8576b"
            ],
            [
             0.6666666666666666,
             "#ed7953"
            ],
            [
             0.7777777777777778,
             "#fb9f3a"
            ],
            [
             0.8888888888888888,
             "#fdca26"
            ],
            [
             1,
             "#f0f921"
            ]
           ]
          },
          "colorway": [
           "#636efa",
           "#EF553B",
           "#00cc96",
           "#ab63fa",
           "#FFA15A",
           "#19d3f3",
           "#FF6692",
           "#B6E880",
           "#FF97FF",
           "#FECB52"
          ],
          "font": {
           "color": "#2a3f5f"
          },
          "geo": {
           "bgcolor": "white",
           "lakecolor": "white",
           "landcolor": "#E5ECF6",
           "showlakes": true,
           "showland": true,
           "subunitcolor": "white"
          },
          "hoverlabel": {
           "align": "left"
          },
          "hovermode": "closest",
          "mapbox": {
           "style": "light"
          },
          "paper_bgcolor": "white",
          "plot_bgcolor": "#E5ECF6",
          "polar": {
           "angularaxis": {
            "gridcolor": "white",
            "linecolor": "white",
            "ticks": ""
           },
           "bgcolor": "#E5ECF6",
           "radialaxis": {
            "gridcolor": "white",
            "linecolor": "white",
            "ticks": ""
           }
          },
          "scene": {
           "xaxis": {
            "backgroundcolor": "#E5ECF6",
            "gridcolor": "white",
            "gridwidth": 2,
            "linecolor": "white",
            "showbackground": true,
            "ticks": "",
            "zerolinecolor": "white"
           },
           "yaxis": {
            "backgroundcolor": "#E5ECF6",
            "gridcolor": "white",
            "gridwidth": 2,
            "linecolor": "white",
            "showbackground": true,
            "ticks": "",
            "zerolinecolor": "white"
           },
           "zaxis": {
            "backgroundcolor": "#E5ECF6",
            "gridcolor": "white",
            "gridwidth": 2,
            "linecolor": "white",
            "showbackground": true,
            "ticks": "",
            "zerolinecolor": "white"
           }
          },
          "shapedefaults": {
           "line": {
            "color": "#2a3f5f"
           }
          },
          "ternary": {
           "aaxis": {
            "gridcolor": "white",
            "linecolor": "white",
            "ticks": ""
           },
           "baxis": {
            "gridcolor": "white",
            "linecolor": "white",
            "ticks": ""
           },
           "bgcolor": "#E5ECF6",
           "caxis": {
            "gridcolor": "white",
            "linecolor": "white",
            "ticks": ""
           }
          },
          "title": {
           "x": 0.05
          },
          "xaxis": {
           "automargin": true,
           "gridcolor": "white",
           "linecolor": "white",
           "ticks": "",
           "title": {
            "standoff": 15
           },
           "zerolinecolor": "white",
           "zerolinewidth": 2
          },
          "yaxis": {
           "automargin": true,
           "gridcolor": "white",
           "linecolor": "white",
           "ticks": "",
           "title": {
            "standoff": 15
           },
           "zerolinecolor": "white",
           "zerolinewidth": 2
          }
         }
        },
        "title": {
         "text": "Slice Plot"
        },
        "width": 1200,
        "xaxis": {
         "anchor": "y",
         "domain": [
          0,
          0.2125
         ],
         "title": {
          "text": "max_depth"
         }
        },
        "xaxis2": {
         "anchor": "y2",
         "domain": [
          0.2625,
          0.475
         ],
         "title": {
          "text": "max_features"
         }
        },
        "xaxis3": {
         "anchor": "y3",
         "domain": [
          0.525,
          0.7375
         ],
         "title": {
          "text": "min_samples_leaf"
         }
        },
        "xaxis4": {
         "anchor": "y4",
         "domain": [
          0.7875,
          1
         ],
         "title": {
          "text": "min_samples_split"
         }
        },
        "yaxis": {
         "anchor": "x",
         "domain": [
          0,
          1
         ],
         "title": {
          "text": "Objective Value"
         }
        },
        "yaxis2": {
         "anchor": "x2",
         "domain": [
          0,
          1
         ],
         "matches": "y",
         "showticklabels": false
        },
        "yaxis3": {
         "anchor": "x3",
         "domain": [
          0,
          1
         ],
         "matches": "y",
         "showticklabels": false
        },
        "yaxis4": {
         "anchor": "x4",
         "domain": [
          0,
          1
         ],
         "matches": "y",
         "showticklabels": false
        }
       }
      }
     },
     "metadata": {},
     "output_type": "display_data"
    }
   ],
   "source": [
    "plot_slice(study)"
   ]
  },
  {
   "cell_type": "code",
   "execution_count": null,
   "metadata": {},
   "outputs": [],
   "source": [
    "study.best_trial.params"
   ]
  },
  {
   "cell_type": "markdown",
   "metadata": {},
   "source": [
    "### Modelo"
   ]
  },
  {
   "cell_type": "code",
   "execution_count": 12,
   "metadata": {},
   "outputs": [
    {
     "data": {
      "text/html": [
       "<style>#sk-container-id-1 {\n",
       "  /* Definition of color scheme common for light and dark mode */\n",
       "  --sklearn-color-text: black;\n",
       "  --sklearn-color-line: gray;\n",
       "  /* Definition of color scheme for unfitted estimators */\n",
       "  --sklearn-color-unfitted-level-0: #fff5e6;\n",
       "  --sklearn-color-unfitted-level-1: #f6e4d2;\n",
       "  --sklearn-color-unfitted-level-2: #ffe0b3;\n",
       "  --sklearn-color-unfitted-level-3: chocolate;\n",
       "  /* Definition of color scheme for fitted estimators */\n",
       "  --sklearn-color-fitted-level-0: #f0f8ff;\n",
       "  --sklearn-color-fitted-level-1: #d4ebff;\n",
       "  --sklearn-color-fitted-level-2: #b3dbfd;\n",
       "  --sklearn-color-fitted-level-3: cornflowerblue;\n",
       "\n",
       "  /* Specific color for light theme */\n",
       "  --sklearn-color-text-on-default-background: var(--sg-text-color, var(--theme-code-foreground, var(--jp-content-font-color1, black)));\n",
       "  --sklearn-color-background: var(--sg-background-color, var(--theme-background, var(--jp-layout-color0, white)));\n",
       "  --sklearn-color-border-box: var(--sg-text-color, var(--theme-code-foreground, var(--jp-content-font-color1, black)));\n",
       "  --sklearn-color-icon: #696969;\n",
       "\n",
       "  @media (prefers-color-scheme: dark) {\n",
       "    /* Redefinition of color scheme for dark theme */\n",
       "    --sklearn-color-text-on-default-background: var(--sg-text-color, var(--theme-code-foreground, var(--jp-content-font-color1, white)));\n",
       "    --sklearn-color-background: var(--sg-background-color, var(--theme-background, var(--jp-layout-color0, #111)));\n",
       "    --sklearn-color-border-box: var(--sg-text-color, var(--theme-code-foreground, var(--jp-content-font-color1, white)));\n",
       "    --sklearn-color-icon: #878787;\n",
       "  }\n",
       "}\n",
       "\n",
       "#sk-container-id-1 {\n",
       "  color: var(--sklearn-color-text);\n",
       "}\n",
       "\n",
       "#sk-container-id-1 pre {\n",
       "  padding: 0;\n",
       "}\n",
       "\n",
       "#sk-container-id-1 input.sk-hidden--visually {\n",
       "  border: 0;\n",
       "  clip: rect(1px 1px 1px 1px);\n",
       "  clip: rect(1px, 1px, 1px, 1px);\n",
       "  height: 1px;\n",
       "  margin: -1px;\n",
       "  overflow: hidden;\n",
       "  padding: 0;\n",
       "  position: absolute;\n",
       "  width: 1px;\n",
       "}\n",
       "\n",
       "#sk-container-id-1 div.sk-dashed-wrapped {\n",
       "  border: 1px dashed var(--sklearn-color-line);\n",
       "  margin: 0 0.4em 0.5em 0.4em;\n",
       "  box-sizing: border-box;\n",
       "  padding-bottom: 0.4em;\n",
       "  background-color: var(--sklearn-color-background);\n",
       "}\n",
       "\n",
       "#sk-container-id-1 div.sk-container {\n",
       "  /* jupyter's `normalize.less` sets `[hidden] { display: none; }`\n",
       "     but bootstrap.min.css set `[hidden] { display: none !important; }`\n",
       "     so we also need the `!important` here to be able to override the\n",
       "     default hidden behavior on the sphinx rendered scikit-learn.org.\n",
       "     See: https://github.com/scikit-learn/scikit-learn/issues/21755 */\n",
       "  display: inline-block !important;\n",
       "  position: relative;\n",
       "}\n",
       "\n",
       "#sk-container-id-1 div.sk-text-repr-fallback {\n",
       "  display: none;\n",
       "}\n",
       "\n",
       "div.sk-parallel-item,\n",
       "div.sk-serial,\n",
       "div.sk-item {\n",
       "  /* draw centered vertical line to link estimators */\n",
       "  background-image: linear-gradient(var(--sklearn-color-text-on-default-background), var(--sklearn-color-text-on-default-background));\n",
       "  background-size: 2px 100%;\n",
       "  background-repeat: no-repeat;\n",
       "  background-position: center center;\n",
       "}\n",
       "\n",
       "/* Parallel-specific style estimator block */\n",
       "\n",
       "#sk-container-id-1 div.sk-parallel-item::after {\n",
       "  content: \"\";\n",
       "  width: 100%;\n",
       "  border-bottom: 2px solid var(--sklearn-color-text-on-default-background);\n",
       "  flex-grow: 1;\n",
       "}\n",
       "\n",
       "#sk-container-id-1 div.sk-parallel {\n",
       "  display: flex;\n",
       "  align-items: stretch;\n",
       "  justify-content: center;\n",
       "  background-color: var(--sklearn-color-background);\n",
       "  position: relative;\n",
       "}\n",
       "\n",
       "#sk-container-id-1 div.sk-parallel-item {\n",
       "  display: flex;\n",
       "  flex-direction: column;\n",
       "}\n",
       "\n",
       "#sk-container-id-1 div.sk-parallel-item:first-child::after {\n",
       "  align-self: flex-end;\n",
       "  width: 50%;\n",
       "}\n",
       "\n",
       "#sk-container-id-1 div.sk-parallel-item:last-child::after {\n",
       "  align-self: flex-start;\n",
       "  width: 50%;\n",
       "}\n",
       "\n",
       "#sk-container-id-1 div.sk-parallel-item:only-child::after {\n",
       "  width: 0;\n",
       "}\n",
       "\n",
       "/* Serial-specific style estimator block */\n",
       "\n",
       "#sk-container-id-1 div.sk-serial {\n",
       "  display: flex;\n",
       "  flex-direction: column;\n",
       "  align-items: center;\n",
       "  background-color: var(--sklearn-color-background);\n",
       "  padding-right: 1em;\n",
       "  padding-left: 1em;\n",
       "}\n",
       "\n",
       "\n",
       "/* Toggleable style: style used for estimator/Pipeline/ColumnTransformer box that is\n",
       "clickable and can be expanded/collapsed.\n",
       "- Pipeline and ColumnTransformer use this feature and define the default style\n",
       "- Estimators will overwrite some part of the style using the `sk-estimator` class\n",
       "*/\n",
       "\n",
       "/* Pipeline and ColumnTransformer style (default) */\n",
       "\n",
       "#sk-container-id-1 div.sk-toggleable {\n",
       "  /* Default theme specific background. It is overwritten whether we have a\n",
       "  specific estimator or a Pipeline/ColumnTransformer */\n",
       "  background-color: var(--sklearn-color-background);\n",
       "}\n",
       "\n",
       "/* Toggleable label */\n",
       "#sk-container-id-1 label.sk-toggleable__label {\n",
       "  cursor: pointer;\n",
       "  display: block;\n",
       "  width: 100%;\n",
       "  margin-bottom: 0;\n",
       "  padding: 0.5em;\n",
       "  box-sizing: border-box;\n",
       "  text-align: center;\n",
       "}\n",
       "\n",
       "#sk-container-id-1 label.sk-toggleable__label-arrow:before {\n",
       "  /* Arrow on the left of the label */\n",
       "  content: \"▸\";\n",
       "  float: left;\n",
       "  margin-right: 0.25em;\n",
       "  color: var(--sklearn-color-icon);\n",
       "}\n",
       "\n",
       "#sk-container-id-1 label.sk-toggleable__label-arrow:hover:before {\n",
       "  color: var(--sklearn-color-text);\n",
       "}\n",
       "\n",
       "/* Toggleable content - dropdown */\n",
       "\n",
       "#sk-container-id-1 div.sk-toggleable__content {\n",
       "  max-height: 0;\n",
       "  max-width: 0;\n",
       "  overflow: hidden;\n",
       "  text-align: left;\n",
       "  /* unfitted */\n",
       "  background-color: var(--sklearn-color-unfitted-level-0);\n",
       "}\n",
       "\n",
       "#sk-container-id-1 div.sk-toggleable__content.fitted {\n",
       "  /* fitted */\n",
       "  background-color: var(--sklearn-color-fitted-level-0);\n",
       "}\n",
       "\n",
       "#sk-container-id-1 div.sk-toggleable__content pre {\n",
       "  margin: 0.2em;\n",
       "  border-radius: 0.25em;\n",
       "  color: var(--sklearn-color-text);\n",
       "  /* unfitted */\n",
       "  background-color: var(--sklearn-color-unfitted-level-0);\n",
       "}\n",
       "\n",
       "#sk-container-id-1 div.sk-toggleable__content.fitted pre {\n",
       "  /* unfitted */\n",
       "  background-color: var(--sklearn-color-fitted-level-0);\n",
       "}\n",
       "\n",
       "#sk-container-id-1 input.sk-toggleable__control:checked~div.sk-toggleable__content {\n",
       "  /* Expand drop-down */\n",
       "  max-height: 200px;\n",
       "  max-width: 100%;\n",
       "  overflow: auto;\n",
       "}\n",
       "\n",
       "#sk-container-id-1 input.sk-toggleable__control:checked~label.sk-toggleable__label-arrow:before {\n",
       "  content: \"▾\";\n",
       "}\n",
       "\n",
       "/* Pipeline/ColumnTransformer-specific style */\n",
       "\n",
       "#sk-container-id-1 div.sk-label input.sk-toggleable__control:checked~label.sk-toggleable__label {\n",
       "  color: var(--sklearn-color-text);\n",
       "  background-color: var(--sklearn-color-unfitted-level-2);\n",
       "}\n",
       "\n",
       "#sk-container-id-1 div.sk-label.fitted input.sk-toggleable__control:checked~label.sk-toggleable__label {\n",
       "  background-color: var(--sklearn-color-fitted-level-2);\n",
       "}\n",
       "\n",
       "/* Estimator-specific style */\n",
       "\n",
       "/* Colorize estimator box */\n",
       "#sk-container-id-1 div.sk-estimator input.sk-toggleable__control:checked~label.sk-toggleable__label {\n",
       "  /* unfitted */\n",
       "  background-color: var(--sklearn-color-unfitted-level-2);\n",
       "}\n",
       "\n",
       "#sk-container-id-1 div.sk-estimator.fitted input.sk-toggleable__control:checked~label.sk-toggleable__label {\n",
       "  /* fitted */\n",
       "  background-color: var(--sklearn-color-fitted-level-2);\n",
       "}\n",
       "\n",
       "#sk-container-id-1 div.sk-label label.sk-toggleable__label,\n",
       "#sk-container-id-1 div.sk-label label {\n",
       "  /* The background is the default theme color */\n",
       "  color: var(--sklearn-color-text-on-default-background);\n",
       "}\n",
       "\n",
       "/* On hover, darken the color of the background */\n",
       "#sk-container-id-1 div.sk-label:hover label.sk-toggleable__label {\n",
       "  color: var(--sklearn-color-text);\n",
       "  background-color: var(--sklearn-color-unfitted-level-2);\n",
       "}\n",
       "\n",
       "/* Label box, darken color on hover, fitted */\n",
       "#sk-container-id-1 div.sk-label.fitted:hover label.sk-toggleable__label.fitted {\n",
       "  color: var(--sklearn-color-text);\n",
       "  background-color: var(--sklearn-color-fitted-level-2);\n",
       "}\n",
       "\n",
       "/* Estimator label */\n",
       "\n",
       "#sk-container-id-1 div.sk-label label {\n",
       "  font-family: monospace;\n",
       "  font-weight: bold;\n",
       "  display: inline-block;\n",
       "  line-height: 1.2em;\n",
       "}\n",
       "\n",
       "#sk-container-id-1 div.sk-label-container {\n",
       "  text-align: center;\n",
       "}\n",
       "\n",
       "/* Estimator-specific */\n",
       "#sk-container-id-1 div.sk-estimator {\n",
       "  font-family: monospace;\n",
       "  border: 1px dotted var(--sklearn-color-border-box);\n",
       "  border-radius: 0.25em;\n",
       "  box-sizing: border-box;\n",
       "  margin-bottom: 0.5em;\n",
       "  /* unfitted */\n",
       "  background-color: var(--sklearn-color-unfitted-level-0);\n",
       "}\n",
       "\n",
       "#sk-container-id-1 div.sk-estimator.fitted {\n",
       "  /* fitted */\n",
       "  background-color: var(--sklearn-color-fitted-level-0);\n",
       "}\n",
       "\n",
       "/* on hover */\n",
       "#sk-container-id-1 div.sk-estimator:hover {\n",
       "  /* unfitted */\n",
       "  background-color: var(--sklearn-color-unfitted-level-2);\n",
       "}\n",
       "\n",
       "#sk-container-id-1 div.sk-estimator.fitted:hover {\n",
       "  /* fitted */\n",
       "  background-color: var(--sklearn-color-fitted-level-2);\n",
       "}\n",
       "\n",
       "/* Specification for estimator info (e.g. \"i\" and \"?\") */\n",
       "\n",
       "/* Common style for \"i\" and \"?\" */\n",
       "\n",
       ".sk-estimator-doc-link,\n",
       "a:link.sk-estimator-doc-link,\n",
       "a:visited.sk-estimator-doc-link {\n",
       "  float: right;\n",
       "  font-size: smaller;\n",
       "  line-height: 1em;\n",
       "  font-family: monospace;\n",
       "  background-color: var(--sklearn-color-background);\n",
       "  border-radius: 1em;\n",
       "  height: 1em;\n",
       "  width: 1em;\n",
       "  text-decoration: none !important;\n",
       "  margin-left: 1ex;\n",
       "  /* unfitted */\n",
       "  border: var(--sklearn-color-unfitted-level-1) 1pt solid;\n",
       "  color: var(--sklearn-color-unfitted-level-1);\n",
       "}\n",
       "\n",
       ".sk-estimator-doc-link.fitted,\n",
       "a:link.sk-estimator-doc-link.fitted,\n",
       "a:visited.sk-estimator-doc-link.fitted {\n",
       "  /* fitted */\n",
       "  border: var(--sklearn-color-fitted-level-1) 1pt solid;\n",
       "  color: var(--sklearn-color-fitted-level-1);\n",
       "}\n",
       "\n",
       "/* On hover */\n",
       "div.sk-estimator:hover .sk-estimator-doc-link:hover,\n",
       ".sk-estimator-doc-link:hover,\n",
       "div.sk-label-container:hover .sk-estimator-doc-link:hover,\n",
       ".sk-estimator-doc-link:hover {\n",
       "  /* unfitted */\n",
       "  background-color: var(--sklearn-color-unfitted-level-3);\n",
       "  color: var(--sklearn-color-background);\n",
       "  text-decoration: none;\n",
       "}\n",
       "\n",
       "div.sk-estimator.fitted:hover .sk-estimator-doc-link.fitted:hover,\n",
       ".sk-estimator-doc-link.fitted:hover,\n",
       "div.sk-label-container:hover .sk-estimator-doc-link.fitted:hover,\n",
       ".sk-estimator-doc-link.fitted:hover {\n",
       "  /* fitted */\n",
       "  background-color: var(--sklearn-color-fitted-level-3);\n",
       "  color: var(--sklearn-color-background);\n",
       "  text-decoration: none;\n",
       "}\n",
       "\n",
       "/* Span, style for the box shown on hovering the info icon */\n",
       ".sk-estimator-doc-link span {\n",
       "  display: none;\n",
       "  z-index: 9999;\n",
       "  position: relative;\n",
       "  font-weight: normal;\n",
       "  right: .2ex;\n",
       "  padding: .5ex;\n",
       "  margin: .5ex;\n",
       "  width: min-content;\n",
       "  min-width: 20ex;\n",
       "  max-width: 50ex;\n",
       "  color: var(--sklearn-color-text);\n",
       "  box-shadow: 2pt 2pt 4pt #999;\n",
       "  /* unfitted */\n",
       "  background: var(--sklearn-color-unfitted-level-0);\n",
       "  border: .5pt solid var(--sklearn-color-unfitted-level-3);\n",
       "}\n",
       "\n",
       ".sk-estimator-doc-link.fitted span {\n",
       "  /* fitted */\n",
       "  background: var(--sklearn-color-fitted-level-0);\n",
       "  border: var(--sklearn-color-fitted-level-3);\n",
       "}\n",
       "\n",
       ".sk-estimator-doc-link:hover span {\n",
       "  display: block;\n",
       "}\n",
       "\n",
       "/* \"?\"-specific style due to the `<a>` HTML tag */\n",
       "\n",
       "#sk-container-id-1 a.estimator_doc_link {\n",
       "  float: right;\n",
       "  font-size: 1rem;\n",
       "  line-height: 1em;\n",
       "  font-family: monospace;\n",
       "  background-color: var(--sklearn-color-background);\n",
       "  border-radius: 1rem;\n",
       "  height: 1rem;\n",
       "  width: 1rem;\n",
       "  text-decoration: none;\n",
       "  /* unfitted */\n",
       "  color: var(--sklearn-color-unfitted-level-1);\n",
       "  border: var(--sklearn-color-unfitted-level-1) 1pt solid;\n",
       "}\n",
       "\n",
       "#sk-container-id-1 a.estimator_doc_link.fitted {\n",
       "  /* fitted */\n",
       "  border: var(--sklearn-color-fitted-level-1) 1pt solid;\n",
       "  color: var(--sklearn-color-fitted-level-1);\n",
       "}\n",
       "\n",
       "/* On hover */\n",
       "#sk-container-id-1 a.estimator_doc_link:hover {\n",
       "  /* unfitted */\n",
       "  background-color: var(--sklearn-color-unfitted-level-3);\n",
       "  color: var(--sklearn-color-background);\n",
       "  text-decoration: none;\n",
       "}\n",
       "\n",
       "#sk-container-id-1 a.estimator_doc_link.fitted:hover {\n",
       "  /* fitted */\n",
       "  background-color: var(--sklearn-color-fitted-level-3);\n",
       "}\n",
       "</style><div id=\"sk-container-id-1\" class=\"sk-top-container\"><div class=\"sk-text-repr-fallback\"><pre>RandomForestClassifier(max_depth=28, max_features=0.35, min_samples_leaf=95,\n",
       "                       min_samples_split=199, random_state=401537)</pre><b>In a Jupyter environment, please rerun this cell to show the HTML representation or trust the notebook. <br />On GitHub, the HTML representation is unable to render, please try loading this page with nbviewer.org.</b></div><div class=\"sk-container\" hidden><div class=\"sk-item\"><div class=\"sk-estimator fitted sk-toggleable\"><input class=\"sk-toggleable__control sk-hidden--visually\" id=\"sk-estimator-id-1\" type=\"checkbox\" checked><label for=\"sk-estimator-id-1\" class=\"sk-toggleable__label fitted sk-toggleable__label-arrow fitted\">&nbsp;&nbsp;RandomForestClassifier<a class=\"sk-estimator-doc-link fitted\" rel=\"noreferrer\" target=\"_blank\" href=\"https://scikit-learn.org/1.5/modules/generated/sklearn.ensemble.RandomForestClassifier.html\">?<span>Documentation for RandomForestClassifier</span></a><span class=\"sk-estimator-doc-link fitted\">i<span>Fitted</span></span></label><div class=\"sk-toggleable__content fitted\"><pre>RandomForestClassifier(max_depth=28, max_features=0.35, min_samples_leaf=95,\n",
       "                       min_samples_split=199, random_state=401537)</pre></div> </div></div></div></div>"
      ],
      "text/plain": [
       "RandomForestClassifier(max_depth=28, max_features=0.35, min_samples_leaf=95,\n",
       "                       min_samples_split=199, random_state=401537)"
      ]
     },
     "execution_count": 12,
     "metadata": {},
     "output_type": "execute_result"
    }
   ],
   "source": [
    "model = RandomForestClassifier(n_estimators=100,\n",
    "                               max_features=0.35,\n",
    "                               max_depth=28,\n",
    "                               min_samples_split = 199,\n",
    "                               min_samples_leaf=95,\n",
    "                               random_state=semillas[3])\n",
    "\n",
    "model.fit(X, y)"
   ]
  },
  {
   "cell_type": "code",
   "execution_count": 15,
   "metadata": {},
   "outputs": [
    {
     "name": "stdout",
     "output_type": "stream",
     "text": [
      "Ganancia de modelo Base: 176225000.0\n"
     ]
    }
   ],
   "source": [
    "print(f\"Ganancia de modelo Base: {ganancia(model, X, y)}\") # lo podes verificar en la tabla de arriba"
   ]
  },
  {
   "cell_type": "code",
   "execution_count": 16,
   "metadata": {},
   "outputs": [
    {
     "data": {
      "text/html": [
       "<div>\n",
       "<style scoped>\n",
       "    .dataframe tbody tr th:only-of-type {\n",
       "        vertical-align: middle;\n",
       "    }\n",
       "\n",
       "    .dataframe tbody tr th {\n",
       "        vertical-align: top;\n",
       "    }\n",
       "\n",
       "    .dataframe thead th {\n",
       "        text-align: right;\n",
       "    }\n",
       "</style>\n",
       "<table border=\"1\" class=\"dataframe\">\n",
       "  <thead>\n",
       "    <tr style=\"text-align: right;\">\n",
       "      <th></th>\n",
       "      <th>feature</th>\n",
       "      <th>importance</th>\n",
       "    </tr>\n",
       "  </thead>\n",
       "  <tbody>\n",
       "    <tr>\n",
       "      <th>107</th>\n",
       "      <td>ctrx_quarter</td>\n",
       "      <td>0.095718</td>\n",
       "    </tr>\n",
       "    <tr>\n",
       "      <th>286</th>\n",
       "      <td>avg3_ctrx_quarter</td>\n",
       "      <td>0.095591</td>\n",
       "    </tr>\n",
       "    <tr>\n",
       "      <th>2</th>\n",
       "      <td>active_quarter</td>\n",
       "      <td>0.058121</td>\n",
       "    </tr>\n",
       "    <tr>\n",
       "      <th>201</th>\n",
       "      <td>avg3_mcaja_ahorro</td>\n",
       "      <td>0.036834</td>\n",
       "    </tr>\n",
       "    <tr>\n",
       "      <th>166</th>\n",
       "      <td>consumos_mas_DA</td>\n",
       "      <td>0.034722</td>\n",
       "    </tr>\n",
       "    <tr>\n",
       "      <th>33</th>\n",
       "      <td>mprestamos_personales</td>\n",
       "      <td>0.030956</td>\n",
       "    </tr>\n",
       "    <tr>\n",
       "      <th>204</th>\n",
       "      <td>avg3_mcuentas_saldo</td>\n",
       "      <td>0.030820</td>\n",
       "    </tr>\n",
       "    <tr>\n",
       "      <th>22</th>\n",
       "      <td>mcuentas_saldo</td>\n",
       "      <td>0.030752</td>\n",
       "    </tr>\n",
       "    <tr>\n",
       "      <th>154</th>\n",
       "      <td>suma_alt</td>\n",
       "      <td>0.030239</td>\n",
       "    </tr>\n",
       "    <tr>\n",
       "      <th>18</th>\n",
       "      <td>mcaja_ahorro</td>\n",
       "      <td>0.029581</td>\n",
       "    </tr>\n",
       "    <tr>\n",
       "      <th>215</th>\n",
       "      <td>avg3_mprestamos_personales</td>\n",
       "      <td>0.018278</td>\n",
       "    </tr>\n",
       "    <tr>\n",
       "      <th>194</th>\n",
       "      <td>avg3_mpasivos_margen</td>\n",
       "      <td>0.017151</td>\n",
       "    </tr>\n",
       "    <tr>\n",
       "      <th>199</th>\n",
       "      <td>avg3_mcuenta_corriente</td>\n",
       "      <td>0.016605</td>\n",
       "    </tr>\n",
       "    <tr>\n",
       "      <th>21</th>\n",
       "      <td>cdescubierto_preacordado</td>\n",
       "      <td>0.016329</td>\n",
       "    </tr>\n",
       "    <tr>\n",
       "      <th>16</th>\n",
       "      <td>mcuenta_corriente</td>\n",
       "      <td>0.015239</td>\n",
       "    </tr>\n",
       "    <tr>\n",
       "      <th>127</th>\n",
       "      <td>Master_fechaalta</td>\n",
       "      <td>0.013034</td>\n",
       "    </tr>\n",
       "    <tr>\n",
       "      <th>11</th>\n",
       "      <td>mpasivos_margen</td>\n",
       "      <td>0.012028</td>\n",
       "    </tr>\n",
       "    <tr>\n",
       "      <th>214</th>\n",
       "      <td>avg3_cprestamos_personales</td>\n",
       "      <td>0.011369</td>\n",
       "    </tr>\n",
       "    <tr>\n",
       "      <th>32</th>\n",
       "      <td>cprestamos_personales</td>\n",
       "      <td>0.010782</td>\n",
       "    </tr>\n",
       "    <tr>\n",
       "      <th>113</th>\n",
       "      <td>Master_Fvencimiento</td>\n",
       "      <td>0.010124</td>\n",
       "    </tr>\n",
       "  </tbody>\n",
       "</table>\n",
       "</div>"
      ],
      "text/plain": [
       "                        feature  importance\n",
       "107                ctrx_quarter    0.095718\n",
       "286           avg3_ctrx_quarter    0.095591\n",
       "2                active_quarter    0.058121\n",
       "201           avg3_mcaja_ahorro    0.036834\n",
       "166             consumos_mas_DA    0.034722\n",
       "33        mprestamos_personales    0.030956\n",
       "204         avg3_mcuentas_saldo    0.030820\n",
       "22               mcuentas_saldo    0.030752\n",
       "154                    suma_alt    0.030239\n",
       "18                 mcaja_ahorro    0.029581\n",
       "215  avg3_mprestamos_personales    0.018278\n",
       "194        avg3_mpasivos_margen    0.017151\n",
       "199      avg3_mcuenta_corriente    0.016605\n",
       "21     cdescubierto_preacordado    0.016329\n",
       "16            mcuenta_corriente    0.015239\n",
       "127            Master_fechaalta    0.013034\n",
       "11              mpasivos_margen    0.012028\n",
       "214  avg3_cprestamos_personales    0.011369\n",
       "32        cprestamos_personales    0.010782\n",
       "113         Master_Fvencimiento    0.010124"
      ]
     },
     "execution_count": 16,
     "metadata": {},
     "output_type": "execute_result"
    }
   ],
   "source": [
    "feature_importances = pd.DataFrame({'feature': X.columns, 'importance': model.feature_importances_})\n",
    "feature_importances.sort_values('importance', ascending=False).head(20)"
   ]
  },
  {
   "cell_type": "code",
   "execution_count": null,
   "metadata": {},
   "outputs": [],
   "source": []
  }
 ],
 "metadata": {
  "kernelspec": {
   "display_name": "Python 3",
   "language": "python",
   "name": "python3"
  },
  "language_info": {
   "codemirror_mode": {
    "name": "ipython",
    "version": 3
   },
   "file_extension": ".py",
   "mimetype": "text/x-python",
   "name": "python",
   "nbconvert_exporter": "python",
   "pygments_lexer": "ipython3",
   "version": "3.12.5"
  }
 },
 "nbformat": 4,
 "nbformat_minor": 2
}
